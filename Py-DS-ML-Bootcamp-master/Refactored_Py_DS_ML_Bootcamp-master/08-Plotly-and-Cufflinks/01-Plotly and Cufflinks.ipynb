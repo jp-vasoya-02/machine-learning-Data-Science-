{
 "cells": [
  {
   "cell_type": "markdown",
   "metadata": {},
   "source": [
    "___\n",
    "\n",
    "<a href='http://www.pieriandata.com'> <img src='../Pierian_Data_Logo.png' /></a>\n",
    "___\n",
    "# Plotly and Cufflinks"
   ]
  },
  {
   "cell_type": "markdown",
   "metadata": {},
   "source": [
    "Plotly is a library that allows you to create interactive plots that you can use in dashboards or websites (you can save them as html files or static images).\n",
    "\n",
    "## Installation\n",
    "\n",
    "In order for this all to work, you'll need to install plotly and cufflinks to call plots directly off of a pandas dataframe. These libraries are not currently available through **conda** but are available through **pip**. Install the libraries at your command line/terminal using:\n",
    "\n",
    "    pip install plotly\n",
    "    pip install cufflinks\n",
    "\n",
    "** NOTE: Make sure you only have one installation of Python on your computer when you do this, otherwise the installation may not work. **\n",
    "\n",
    "## Imports and Set-up"
   ]
  },
  {
   "cell_type": "code",
   "execution_count": 1,
   "metadata": {},
   "outputs": [],
   "source": [
    "import pandas as pd\n",
    "import numpy as np\n",
    "%matplotlib inline"
   ]
  },
  {
   "cell_type": "code",
   "execution_count": 2,
   "metadata": {},
   "outputs": [
    {
     "name": "stdout",
     "output_type": "stream",
     "text": [
      "5.11.0\n"
     ]
    }
   ],
   "source": [
    "from plotly import __version__\n",
    "from plotly.offline import download_plotlyjs, init_notebook_mode, plot, iplot\n",
    "\n",
    "print(__version__) # requires version >= 1.9.0"
   ]
  },
  {
   "cell_type": "code",
   "execution_count": 3,
   "metadata": {},
   "outputs": [],
   "source": [
    "import cufflinks as cf"
   ]
  },
  {
   "cell_type": "code",
   "execution_count": 4,
   "metadata": {},
   "outputs": [
    {
     "data": {
      "text/html": [
       "        <script type=\"text/javascript\">\n",
       "        window.PlotlyConfig = {MathJaxConfig: 'local'};\n",
       "        if (window.MathJax && window.MathJax.Hub && window.MathJax.Hub.Config) {window.MathJax.Hub.Config({SVG: {font: \"STIX-Web\"}});}\n",
       "        if (typeof require !== 'undefined') {\n",
       "        require.undef(\"plotly\");\n",
       "        requirejs.config({\n",
       "            paths: {\n",
       "                'plotly': ['https://cdn.plot.ly/plotly-2.16.1.min']\n",
       "            }\n",
       "        });\n",
       "        require(['plotly'], function(Plotly) {\n",
       "            window._Plotly = Plotly;\n",
       "        });\n",
       "        }\n",
       "        </script>\n",
       "        "
      ]
     },
     "metadata": {},
     "output_type": "display_data"
    }
   ],
   "source": [
    "# For Notebooks\n",
    "init_notebook_mode(connected=True)"
   ]
  },
  {
   "cell_type": "code",
   "execution_count": 5,
   "metadata": {},
   "outputs": [
    {
     "data": {
      "text/html": [
       "        <script type=\"text/javascript\">\n",
       "        window.PlotlyConfig = {MathJaxConfig: 'local'};\n",
       "        if (window.MathJax && window.MathJax.Hub && window.MathJax.Hub.Config) {window.MathJax.Hub.Config({SVG: {font: \"STIX-Web\"}});}\n",
       "        if (typeof require !== 'undefined') {\n",
       "        require.undef(\"plotly\");\n",
       "        requirejs.config({\n",
       "            paths: {\n",
       "                'plotly': ['https://cdn.plot.ly/plotly-2.16.1.min']\n",
       "            }\n",
       "        });\n",
       "        require(['plotly'], function(Plotly) {\n",
       "            window._Plotly = Plotly;\n",
       "        });\n",
       "        }\n",
       "        </script>\n",
       "        "
      ]
     },
     "metadata": {},
     "output_type": "display_data"
    }
   ],
   "source": [
    "# For offline use\n",
    "cf.go_offline()"
   ]
  },
  {
   "cell_type": "markdown",
   "metadata": {},
   "source": [
    "### Fake Data"
   ]
  },
  {
   "cell_type": "code",
   "execution_count": 7,
   "metadata": {},
   "outputs": [],
   "source": [
    "df = pd.DataFrame(np.random.randn(100,4),columns='A B C D'.split())"
   ]
  },
  {
   "cell_type": "code",
   "execution_count": 8,
   "metadata": {},
   "outputs": [
    {
     "data": {
      "text/html": [
       "<div>\n",
       "<style scoped>\n",
       "    .dataframe tbody tr th:only-of-type {\n",
       "        vertical-align: middle;\n",
       "    }\n",
       "\n",
       "    .dataframe tbody tr th {\n",
       "        vertical-align: top;\n",
       "    }\n",
       "\n",
       "    .dataframe thead th {\n",
       "        text-align: right;\n",
       "    }\n",
       "</style>\n",
       "<table border=\"1\" class=\"dataframe\">\n",
       "  <thead>\n",
       "    <tr style=\"text-align: right;\">\n",
       "      <th></th>\n",
       "      <th>A</th>\n",
       "      <th>B</th>\n",
       "      <th>C</th>\n",
       "      <th>D</th>\n",
       "    </tr>\n",
       "  </thead>\n",
       "  <tbody>\n",
       "    <tr>\n",
       "      <th>0</th>\n",
       "      <td>0.112105</td>\n",
       "      <td>0.348776</td>\n",
       "      <td>-1.121133</td>\n",
       "      <td>2.156951</td>\n",
       "    </tr>\n",
       "    <tr>\n",
       "      <th>1</th>\n",
       "      <td>-1.212565</td>\n",
       "      <td>0.477658</td>\n",
       "      <td>-0.726176</td>\n",
       "      <td>0.113786</td>\n",
       "    </tr>\n",
       "    <tr>\n",
       "      <th>2</th>\n",
       "      <td>0.740911</td>\n",
       "      <td>-0.626391</td>\n",
       "      <td>-1.243809</td>\n",
       "      <td>0.703792</td>\n",
       "    </tr>\n",
       "    <tr>\n",
       "      <th>3</th>\n",
       "      <td>0.885202</td>\n",
       "      <td>0.180703</td>\n",
       "      <td>-0.619032</td>\n",
       "      <td>0.042226</td>\n",
       "    </tr>\n",
       "    <tr>\n",
       "      <th>4</th>\n",
       "      <td>0.649572</td>\n",
       "      <td>1.259462</td>\n",
       "      <td>-1.943849</td>\n",
       "      <td>1.440067</td>\n",
       "    </tr>\n",
       "  </tbody>\n",
       "</table>\n",
       "</div>"
      ],
      "text/plain": [
       "          A         B         C         D\n",
       "0  0.112105  0.348776 -1.121133  2.156951\n",
       "1 -1.212565  0.477658 -0.726176  0.113786\n",
       "2  0.740911 -0.626391 -1.243809  0.703792\n",
       "3  0.885202  0.180703 -0.619032  0.042226\n",
       "4  0.649572  1.259462 -1.943849  1.440067"
      ]
     },
     "execution_count": 8,
     "metadata": {},
     "output_type": "execute_result"
    }
   ],
   "source": [
    "df.head()"
   ]
  },
  {
   "cell_type": "code",
   "execution_count": 9,
   "metadata": {},
   "outputs": [],
   "source": [
    "df2 = pd.DataFrame({'Category':['A','B','C'],'Values':[32,43,50]})"
   ]
  },
  {
   "cell_type": "code",
   "execution_count": 10,
   "metadata": {},
   "outputs": [
    {
     "data": {
      "text/html": [
       "<div>\n",
       "<style scoped>\n",
       "    .dataframe tbody tr th:only-of-type {\n",
       "        vertical-align: middle;\n",
       "    }\n",
       "\n",
       "    .dataframe tbody tr th {\n",
       "        vertical-align: top;\n",
       "    }\n",
       "\n",
       "    .dataframe thead th {\n",
       "        text-align: right;\n",
       "    }\n",
       "</style>\n",
       "<table border=\"1\" class=\"dataframe\">\n",
       "  <thead>\n",
       "    <tr style=\"text-align: right;\">\n",
       "      <th></th>\n",
       "      <th>Category</th>\n",
       "      <th>Values</th>\n",
       "    </tr>\n",
       "  </thead>\n",
       "  <tbody>\n",
       "    <tr>\n",
       "      <th>0</th>\n",
       "      <td>A</td>\n",
       "      <td>32</td>\n",
       "    </tr>\n",
       "    <tr>\n",
       "      <th>1</th>\n",
       "      <td>B</td>\n",
       "      <td>43</td>\n",
       "    </tr>\n",
       "    <tr>\n",
       "      <th>2</th>\n",
       "      <td>C</td>\n",
       "      <td>50</td>\n",
       "    </tr>\n",
       "  </tbody>\n",
       "</table>\n",
       "</div>"
      ],
      "text/plain": [
       "  Category  Values\n",
       "0        A      32\n",
       "1        B      43\n",
       "2        C      50"
      ]
     },
     "execution_count": 10,
     "metadata": {},
     "output_type": "execute_result"
    }
   ],
   "source": [
    "df2.head()"
   ]
  },
  {
   "cell_type": "markdown",
   "metadata": {},
   "source": [
    "## Using Cufflinks and iplot()\n",
    "\n",
    "* scatter\n",
    "* bar\n",
    "* box\n",
    "* spread\n",
    "* ratio\n",
    "* heatmap\n",
    "* surface\n",
    "* histogram\n",
    "* bubble"
   ]
  },
  {
   "cell_type": "markdown",
   "metadata": {},
   "source": [
    "## Scatter"
   ]
  },
  {
   "cell_type": "code",
   "execution_count": 11,
   "metadata": {},
   "outputs": [
    {
     "data": {
      "application/vnd.plotly.v1+json": {
       "config": {
        "linkText": "Export to plot.ly",
        "plotlyServerURL": "https://plot.ly",
        "showLink": true
       },
       "data": [
        {
         "line": {
          "color": "rgba(255, 153, 51, 1.0)",
          "dash": "solid",
          "shape": "linear",
          "width": 1.3
         },
         "marker": {
          "size": 10,
          "symbol": "circle"
         },
         "mode": "markers",
         "name": "B",
         "text": "",
         "type": "scatter",
         "x": [
          0.11210520528287181,
          -1.2125651027444957,
          0.7409111312981095,
          0.885201543319391,
          0.6495720102447006,
          0.4497318430524437,
          -0.8227725625609245,
          -1.294165762002869,
          0.9855697981173399,
          -0.5377520046761172,
          -0.3031172198371253,
          -0.1500255993360721,
          -0.15110610248577538,
          -0.2090964311017719,
          -0.07585730009648514,
          -1.3996739953678186,
          -0.7808096785422856,
          0.7804823868457346,
          -0.4726179318216493,
          0.8075332916145921,
          0.8265765498071171,
          -0.40051686205745285,
          0.2461563372526162,
          1.642512774461098,
          0.8653929900395896,
          1.2025276873281612,
          0.29563577123790996,
          0.6699092364237134,
          -0.5452923695273253,
          -0.4642660511261456,
          1.2203389016594837,
          -0.6832499857349542,
          0.8492085633334253,
          0.23052258600709793,
          1.5445264866072617,
          -1.1329467423665456,
          -0.67232546831398,
          0.876560071944188,
          -0.27424172669120317,
          -0.07151448482552263,
          1.5063628674267997,
          1.2944560448535178,
          -1.0392861894092036,
          -0.5090093904636998,
          -0.7318138881133566,
          -0.46620502273403186,
          0.5228787071414007,
          1.23838969008501,
          -0.6297993877243587,
          -0.7479504258438041,
          -0.4495593740548306,
          0.7398152476833297,
          0.7255842573345948,
          0.003347148807160973,
          -0.4329333913030693,
          0.4586954881696664,
          0.036666042643426836,
          -0.1339361513503816,
          -0.6362684884385781,
          0.2146499988328602,
          -0.4655225437157507,
          0.1529032725538335,
          -0.3540066262700726,
          -0.4141644630330249,
          1.05343191356596,
          -0.677841097495419,
          0.19873599249106602,
          -0.20490582376094724,
          1.0222387046982089,
          -1.3989681544131,
          -1.2203626816923638,
          0.672749421487676,
          -0.501519404356596,
          2.139174899771941,
          -0.43515901640307103,
          -0.683545675539224,
          -1.0331252694832604,
          -0.07990366076929867,
          1.0958374389814922,
          -0.69702643893847,
          -0.7236655629149418,
          -0.9769212273077479,
          0.23059071690166782,
          1.55850667803002,
          -1.0206168953256678,
          -0.36320589787435276,
          2.077857583290241,
          0.24666320714680753,
          0.7042456517611484,
          -0.5840047538610852,
          2.3134196985855597,
          0.7827394356659747,
          -0.16747308355262033,
          2.2615019778134346,
          0.33822024810572665,
          -0.14314982279753402,
          -1.1387194880336158,
          0.8329827995371789,
          1.6834976572725173,
          -0.6138378805656016
         ],
         "y": [
          0.34877639929304477,
          0.47765838860761517,
          -0.6263905875973632,
          0.1807027854947827,
          1.2594615767283213,
          2.061675068831658,
          -0.03731021947626286,
          1.7329781417734145,
          1.4333130813951505,
          0.9890506764267799,
          -1.1001617423787067,
          -1.8425241553298872,
          0.12647381880286843,
          -0.5667278395663506,
          1.0765047790528184,
          -0.072187928899968,
          -1.4939821526414747,
          1.2250226052736675,
          -0.5627956916404978,
          -1.6253699343440684,
          -0.37390199280900366,
          -0.6988185633546334,
          -1.1809630572804546,
          -0.5261183173161714,
          -0.08483998434967485,
          0.18397446574770657,
          -1.4020526622338747,
          -0.9872052448225611,
          -1.2602997742322197,
          1.4158630293339085,
          1.1127916502637767,
          -0.5066832717598071,
          -0.13284209176116912,
          -0.6061971921148425,
          -1.238221468967239,
          -0.5061225446605018,
          -0.4096323118303564,
          1.2167027519421492,
          -0.5102071701182289,
          0.28262182391342544,
          -0.3765981294368762,
          0.04718398099843374,
          0.05680342464168321,
          -0.6005266438272082,
          -1.8831852841927446,
          -0.1711241484689935,
          -1.5186505364155414,
          -2.337338947803129,
          -0.43173258591565306,
          0.39462380711175676,
          0.8427369707294584,
          1.508091700619213,
          0.2641263148842725,
          -0.42026973874239537,
          -0.07702487444973369,
          0.9439105595970312,
          0.2857049807385942,
          -0.14837882491603224,
          1.604875764248128,
          -0.4243919363715126,
          -0.8234329625172128,
          -0.1684256938792784,
          -0.2832599679287647,
          -0.44014972721508755,
          0.34387113719813567,
          1.4616498923500858,
          -1.2953836162942385,
          -1.4225765018916163,
          0.6740954409511553,
          0.5280663485164603,
          0.008574824129091541,
          -0.3936975898119114,
          -0.1656412725355856,
          1.060920834100708,
          0.5619611732578766,
          -0.32141143247707743,
          0.5204048885335,
          -0.2141654435103684,
          1.8096046094913567,
          0.8648679031283714,
          1.2335563328361652,
          1.487910251127614,
          0.5811363913129524,
          -0.4630649106528774,
          1.402913102256703,
          -0.724008863995739,
          -0.8271466432358756,
          1.8422943874063789,
          1.3184986675534738,
          0.4184235058743894,
          2.002491545005831,
          -0.5144366697315794,
          -1.2755498394658389,
          -1.0337236869460253,
          0.8715878530582845,
          0.7468346959663863,
          -0.4687072125790365,
          0.667070725780239,
          -0.9693651544841688,
          0.46823699499309474
         ]
        }
       ],
       "layout": {
        "legend": {
         "bgcolor": "#F5F6F9",
         "font": {
          "color": "#4D5663"
         }
        },
        "paper_bgcolor": "#F5F6F9",
        "plot_bgcolor": "#F5F6F9",
        "template": {
         "data": {
          "bar": [
           {
            "error_x": {
             "color": "#2a3f5f"
            },
            "error_y": {
             "color": "#2a3f5f"
            },
            "marker": {
             "line": {
              "color": "#E5ECF6",
              "width": 0.5
             },
             "pattern": {
              "fillmode": "overlay",
              "size": 10,
              "solidity": 0.2
             }
            },
            "type": "bar"
           }
          ],
          "barpolar": [
           {
            "marker": {
             "line": {
              "color": "#E5ECF6",
              "width": 0.5
             },
             "pattern": {
              "fillmode": "overlay",
              "size": 10,
              "solidity": 0.2
             }
            },
            "type": "barpolar"
           }
          ],
          "carpet": [
           {
            "aaxis": {
             "endlinecolor": "#2a3f5f",
             "gridcolor": "white",
             "linecolor": "white",
             "minorgridcolor": "white",
             "startlinecolor": "#2a3f5f"
            },
            "baxis": {
             "endlinecolor": "#2a3f5f",
             "gridcolor": "white",
             "linecolor": "white",
             "minorgridcolor": "white",
             "startlinecolor": "#2a3f5f"
            },
            "type": "carpet"
           }
          ],
          "choropleth": [
           {
            "colorbar": {
             "outlinewidth": 0,
             "ticks": ""
            },
            "type": "choropleth"
           }
          ],
          "contour": [
           {
            "colorbar": {
             "outlinewidth": 0,
             "ticks": ""
            },
            "colorscale": [
             [
              0,
              "#0d0887"
             ],
             [
              0.1111111111111111,
              "#46039f"
             ],
             [
              0.2222222222222222,
              "#7201a8"
             ],
             [
              0.3333333333333333,
              "#9c179e"
             ],
             [
              0.4444444444444444,
              "#bd3786"
             ],
             [
              0.5555555555555556,
              "#d8576b"
             ],
             [
              0.6666666666666666,
              "#ed7953"
             ],
             [
              0.7777777777777778,
              "#fb9f3a"
             ],
             [
              0.8888888888888888,
              "#fdca26"
             ],
             [
              1,
              "#f0f921"
             ]
            ],
            "type": "contour"
           }
          ],
          "contourcarpet": [
           {
            "colorbar": {
             "outlinewidth": 0,
             "ticks": ""
            },
            "type": "contourcarpet"
           }
          ],
          "heatmap": [
           {
            "colorbar": {
             "outlinewidth": 0,
             "ticks": ""
            },
            "colorscale": [
             [
              0,
              "#0d0887"
             ],
             [
              0.1111111111111111,
              "#46039f"
             ],
             [
              0.2222222222222222,
              "#7201a8"
             ],
             [
              0.3333333333333333,
              "#9c179e"
             ],
             [
              0.4444444444444444,
              "#bd3786"
             ],
             [
              0.5555555555555556,
              "#d8576b"
             ],
             [
              0.6666666666666666,
              "#ed7953"
             ],
             [
              0.7777777777777778,
              "#fb9f3a"
             ],
             [
              0.8888888888888888,
              "#fdca26"
             ],
             [
              1,
              "#f0f921"
             ]
            ],
            "type": "heatmap"
           }
          ],
          "heatmapgl": [
           {
            "colorbar": {
             "outlinewidth": 0,
             "ticks": ""
            },
            "colorscale": [
             [
              0,
              "#0d0887"
             ],
             [
              0.1111111111111111,
              "#46039f"
             ],
             [
              0.2222222222222222,
              "#7201a8"
             ],
             [
              0.3333333333333333,
              "#9c179e"
             ],
             [
              0.4444444444444444,
              "#bd3786"
             ],
             [
              0.5555555555555556,
              "#d8576b"
             ],
             [
              0.6666666666666666,
              "#ed7953"
             ],
             [
              0.7777777777777778,
              "#fb9f3a"
             ],
             [
              0.8888888888888888,
              "#fdca26"
             ],
             [
              1,
              "#f0f921"
             ]
            ],
            "type": "heatmapgl"
           }
          ],
          "histogram": [
           {
            "marker": {
             "pattern": {
              "fillmode": "overlay",
              "size": 10,
              "solidity": 0.2
             }
            },
            "type": "histogram"
           }
          ],
          "histogram2d": [
           {
            "colorbar": {
             "outlinewidth": 0,
             "ticks": ""
            },
            "colorscale": [
             [
              0,
              "#0d0887"
             ],
             [
              0.1111111111111111,
              "#46039f"
             ],
             [
              0.2222222222222222,
              "#7201a8"
             ],
             [
              0.3333333333333333,
              "#9c179e"
             ],
             [
              0.4444444444444444,
              "#bd3786"
             ],
             [
              0.5555555555555556,
              "#d8576b"
             ],
             [
              0.6666666666666666,
              "#ed7953"
             ],
             [
              0.7777777777777778,
              "#fb9f3a"
             ],
             [
              0.8888888888888888,
              "#fdca26"
             ],
             [
              1,
              "#f0f921"
             ]
            ],
            "type": "histogram2d"
           }
          ],
          "histogram2dcontour": [
           {
            "colorbar": {
             "outlinewidth": 0,
             "ticks": ""
            },
            "colorscale": [
             [
              0,
              "#0d0887"
             ],
             [
              0.1111111111111111,
              "#46039f"
             ],
             [
              0.2222222222222222,
              "#7201a8"
             ],
             [
              0.3333333333333333,
              "#9c179e"
             ],
             [
              0.4444444444444444,
              "#bd3786"
             ],
             [
              0.5555555555555556,
              "#d8576b"
             ],
             [
              0.6666666666666666,
              "#ed7953"
             ],
             [
              0.7777777777777778,
              "#fb9f3a"
             ],
             [
              0.8888888888888888,
              "#fdca26"
             ],
             [
              1,
              "#f0f921"
             ]
            ],
            "type": "histogram2dcontour"
           }
          ],
          "mesh3d": [
           {
            "colorbar": {
             "outlinewidth": 0,
             "ticks": ""
            },
            "type": "mesh3d"
           }
          ],
          "parcoords": [
           {
            "line": {
             "colorbar": {
              "outlinewidth": 0,
              "ticks": ""
             }
            },
            "type": "parcoords"
           }
          ],
          "pie": [
           {
            "automargin": true,
            "type": "pie"
           }
          ],
          "scatter": [
           {
            "fillpattern": {
             "fillmode": "overlay",
             "size": 10,
             "solidity": 0.2
            },
            "type": "scatter"
           }
          ],
          "scatter3d": [
           {
            "line": {
             "colorbar": {
              "outlinewidth": 0,
              "ticks": ""
             }
            },
            "marker": {
             "colorbar": {
              "outlinewidth": 0,
              "ticks": ""
             }
            },
            "type": "scatter3d"
           }
          ],
          "scattercarpet": [
           {
            "marker": {
             "colorbar": {
              "outlinewidth": 0,
              "ticks": ""
             }
            },
            "type": "scattercarpet"
           }
          ],
          "scattergeo": [
           {
            "marker": {
             "colorbar": {
              "outlinewidth": 0,
              "ticks": ""
             }
            },
            "type": "scattergeo"
           }
          ],
          "scattergl": [
           {
            "marker": {
             "colorbar": {
              "outlinewidth": 0,
              "ticks": ""
             }
            },
            "type": "scattergl"
           }
          ],
          "scattermapbox": [
           {
            "marker": {
             "colorbar": {
              "outlinewidth": 0,
              "ticks": ""
             }
            },
            "type": "scattermapbox"
           }
          ],
          "scatterpolar": [
           {
            "marker": {
             "colorbar": {
              "outlinewidth": 0,
              "ticks": ""
             }
            },
            "type": "scatterpolar"
           }
          ],
          "scatterpolargl": [
           {
            "marker": {
             "colorbar": {
              "outlinewidth": 0,
              "ticks": ""
             }
            },
            "type": "scatterpolargl"
           }
          ],
          "scatterternary": [
           {
            "marker": {
             "colorbar": {
              "outlinewidth": 0,
              "ticks": ""
             }
            },
            "type": "scatterternary"
           }
          ],
          "surface": [
           {
            "colorbar": {
             "outlinewidth": 0,
             "ticks": ""
            },
            "colorscale": [
             [
              0,
              "#0d0887"
             ],
             [
              0.1111111111111111,
              "#46039f"
             ],
             [
              0.2222222222222222,
              "#7201a8"
             ],
             [
              0.3333333333333333,
              "#9c179e"
             ],
             [
              0.4444444444444444,
              "#bd3786"
             ],
             [
              0.5555555555555556,
              "#d8576b"
             ],
             [
              0.6666666666666666,
              "#ed7953"
             ],
             [
              0.7777777777777778,
              "#fb9f3a"
             ],
             [
              0.8888888888888888,
              "#fdca26"
             ],
             [
              1,
              "#f0f921"
             ]
            ],
            "type": "surface"
           }
          ],
          "table": [
           {
            "cells": {
             "fill": {
              "color": "#EBF0F8"
             },
             "line": {
              "color": "white"
             }
            },
            "header": {
             "fill": {
              "color": "#C8D4E3"
             },
             "line": {
              "color": "white"
             }
            },
            "type": "table"
           }
          ]
         },
         "layout": {
          "annotationdefaults": {
           "arrowcolor": "#2a3f5f",
           "arrowhead": 0,
           "arrowwidth": 1
          },
          "autotypenumbers": "strict",
          "coloraxis": {
           "colorbar": {
            "outlinewidth": 0,
            "ticks": ""
           }
          },
          "colorscale": {
           "diverging": [
            [
             0,
             "#8e0152"
            ],
            [
             0.1,
             "#c51b7d"
            ],
            [
             0.2,
             "#de77ae"
            ],
            [
             0.3,
             "#f1b6da"
            ],
            [
             0.4,
             "#fde0ef"
            ],
            [
             0.5,
             "#f7f7f7"
            ],
            [
             0.6,
             "#e6f5d0"
            ],
            [
             0.7,
             "#b8e186"
            ],
            [
             0.8,
             "#7fbc41"
            ],
            [
             0.9,
             "#4d9221"
            ],
            [
             1,
             "#276419"
            ]
           ],
           "sequential": [
            [
             0,
             "#0d0887"
            ],
            [
             0.1111111111111111,
             "#46039f"
            ],
            [
             0.2222222222222222,
             "#7201a8"
            ],
            [
             0.3333333333333333,
             "#9c179e"
            ],
            [
             0.4444444444444444,
             "#bd3786"
            ],
            [
             0.5555555555555556,
             "#d8576b"
            ],
            [
             0.6666666666666666,
             "#ed7953"
            ],
            [
             0.7777777777777778,
             "#fb9f3a"
            ],
            [
             0.8888888888888888,
             "#fdca26"
            ],
            [
             1,
             "#f0f921"
            ]
           ],
           "sequentialminus": [
            [
             0,
             "#0d0887"
            ],
            [
             0.1111111111111111,
             "#46039f"
            ],
            [
             0.2222222222222222,
             "#7201a8"
            ],
            [
             0.3333333333333333,
             "#9c179e"
            ],
            [
             0.4444444444444444,
             "#bd3786"
            ],
            [
             0.5555555555555556,
             "#d8576b"
            ],
            [
             0.6666666666666666,
             "#ed7953"
            ],
            [
             0.7777777777777778,
             "#fb9f3a"
            ],
            [
             0.8888888888888888,
             "#fdca26"
            ],
            [
             1,
             "#f0f921"
            ]
           ]
          },
          "colorway": [
           "#636efa",
           "#EF553B",
           "#00cc96",
           "#ab63fa",
           "#FFA15A",
           "#19d3f3",
           "#FF6692",
           "#B6E880",
           "#FF97FF",
           "#FECB52"
          ],
          "font": {
           "color": "#2a3f5f"
          },
          "geo": {
           "bgcolor": "white",
           "lakecolor": "white",
           "landcolor": "#E5ECF6",
           "showlakes": true,
           "showland": true,
           "subunitcolor": "white"
          },
          "hoverlabel": {
           "align": "left"
          },
          "hovermode": "closest",
          "mapbox": {
           "style": "light"
          },
          "paper_bgcolor": "white",
          "plot_bgcolor": "#E5ECF6",
          "polar": {
           "angularaxis": {
            "gridcolor": "white",
            "linecolor": "white",
            "ticks": ""
           },
           "bgcolor": "#E5ECF6",
           "radialaxis": {
            "gridcolor": "white",
            "linecolor": "white",
            "ticks": ""
           }
          },
          "scene": {
           "xaxis": {
            "backgroundcolor": "#E5ECF6",
            "gridcolor": "white",
            "gridwidth": 2,
            "linecolor": "white",
            "showbackground": true,
            "ticks": "",
            "zerolinecolor": "white"
           },
           "yaxis": {
            "backgroundcolor": "#E5ECF6",
            "gridcolor": "white",
            "gridwidth": 2,
            "linecolor": "white",
            "showbackground": true,
            "ticks": "",
            "zerolinecolor": "white"
           },
           "zaxis": {
            "backgroundcolor": "#E5ECF6",
            "gridcolor": "white",
            "gridwidth": 2,
            "linecolor": "white",
            "showbackground": true,
            "ticks": "",
            "zerolinecolor": "white"
           }
          },
          "shapedefaults": {
           "line": {
            "color": "#2a3f5f"
           }
          },
          "ternary": {
           "aaxis": {
            "gridcolor": "white",
            "linecolor": "white",
            "ticks": ""
           },
           "baxis": {
            "gridcolor": "white",
            "linecolor": "white",
            "ticks": ""
           },
           "bgcolor": "#E5ECF6",
           "caxis": {
            "gridcolor": "white",
            "linecolor": "white",
            "ticks": ""
           }
          },
          "title": {
           "x": 0.05
          },
          "xaxis": {
           "automargin": true,
           "gridcolor": "white",
           "linecolor": "white",
           "ticks": "",
           "title": {
            "standoff": 15
           },
           "zerolinecolor": "white",
           "zerolinewidth": 2
          },
          "yaxis": {
           "automargin": true,
           "gridcolor": "white",
           "linecolor": "white",
           "ticks": "",
           "title": {
            "standoff": 15
           },
           "zerolinecolor": "white",
           "zerolinewidth": 2
          }
         }
        },
        "title": {
         "font": {
          "color": "#4D5663"
         }
        },
        "xaxis": {
         "gridcolor": "#E1E5ED",
         "showgrid": true,
         "tickfont": {
          "color": "#4D5663"
         },
         "title": {
          "font": {
           "color": "#4D5663"
          },
          "text": ""
         },
         "zerolinecolor": "#E1E5ED"
        },
        "yaxis": {
         "gridcolor": "#E1E5ED",
         "showgrid": true,
         "tickfont": {
          "color": "#4D5663"
         },
         "title": {
          "font": {
           "color": "#4D5663"
          },
          "text": ""
         },
         "zerolinecolor": "#E1E5ED"
        }
       }
      },
      "text/html": [
       "<div>                            <div id=\"be1a5e2f-0e60-4886-8d20-0a0837b4efef\" class=\"plotly-graph-div\" style=\"height:525px; width:100%;\"></div>            <script type=\"text/javascript\">                require([\"plotly\"], function(Plotly) {                    window.PLOTLYENV=window.PLOTLYENV || {};\n",
       "                    window.PLOTLYENV.BASE_URL='https://plot.ly';                                    if (document.getElementById(\"be1a5e2f-0e60-4886-8d20-0a0837b4efef\")) {                    Plotly.newPlot(                        \"be1a5e2f-0e60-4886-8d20-0a0837b4efef\",                        [{\"line\":{\"color\":\"rgba(255, 153, 51, 1.0)\",\"dash\":\"solid\",\"shape\":\"linear\",\"width\":1.3},\"marker\":{\"size\":10,\"symbol\":\"circle\"},\"mode\":\"markers\",\"name\":\"B\",\"text\":\"\",\"x\":[0.11210520528287181,-1.2125651027444957,0.7409111312981095,0.885201543319391,0.6495720102447006,0.4497318430524437,-0.8227725625609245,-1.294165762002869,0.9855697981173399,-0.5377520046761172,-0.3031172198371253,-0.1500255993360721,-0.15110610248577538,-0.2090964311017719,-0.07585730009648514,-1.3996739953678186,-0.7808096785422856,0.7804823868457346,-0.4726179318216493,0.8075332916145921,0.8265765498071171,-0.40051686205745285,0.2461563372526162,1.642512774461098,0.8653929900395896,1.2025276873281612,0.29563577123790996,0.6699092364237134,-0.5452923695273253,-0.4642660511261456,1.2203389016594837,-0.6832499857349542,0.8492085633334253,0.23052258600709793,1.5445264866072617,-1.1329467423665456,-0.67232546831398,0.876560071944188,-0.27424172669120317,-0.07151448482552263,1.5063628674267997,1.2944560448535178,-1.0392861894092036,-0.5090093904636998,-0.7318138881133566,-0.46620502273403186,0.5228787071414007,1.23838969008501,-0.6297993877243587,-0.7479504258438041,-0.4495593740548306,0.7398152476833297,0.7255842573345948,0.003347148807160973,-0.4329333913030693,0.4586954881696664,0.036666042643426836,-0.1339361513503816,-0.6362684884385781,0.2146499988328602,-0.4655225437157507,0.1529032725538335,-0.3540066262700726,-0.4141644630330249,1.05343191356596,-0.677841097495419,0.19873599249106602,-0.20490582376094724,1.0222387046982089,-1.3989681544131,-1.2203626816923638,0.672749421487676,-0.501519404356596,2.139174899771941,-0.43515901640307103,-0.683545675539224,-1.0331252694832604,-0.07990366076929867,1.0958374389814922,-0.69702643893847,-0.7236655629149418,-0.9769212273077479,0.23059071690166782,1.55850667803002,-1.0206168953256678,-0.36320589787435276,2.077857583290241,0.24666320714680753,0.7042456517611484,-0.5840047538610852,2.3134196985855597,0.7827394356659747,-0.16747308355262033,2.2615019778134346,0.33822024810572665,-0.14314982279753402,-1.1387194880336158,0.8329827995371789,1.6834976572725173,-0.6138378805656016],\"y\":[0.34877639929304477,0.47765838860761517,-0.6263905875973632,0.1807027854947827,1.2594615767283213,2.061675068831658,-0.03731021947626286,1.7329781417734145,1.4333130813951505,0.9890506764267799,-1.1001617423787067,-1.8425241553298872,0.12647381880286843,-0.5667278395663506,1.0765047790528184,-0.072187928899968,-1.4939821526414747,1.2250226052736675,-0.5627956916404978,-1.6253699343440684,-0.37390199280900366,-0.6988185633546334,-1.1809630572804546,-0.5261183173161714,-0.08483998434967485,0.18397446574770657,-1.4020526622338747,-0.9872052448225611,-1.2602997742322197,1.4158630293339085,1.1127916502637767,-0.5066832717598071,-0.13284209176116912,-0.6061971921148425,-1.238221468967239,-0.5061225446605018,-0.4096323118303564,1.2167027519421492,-0.5102071701182289,0.28262182391342544,-0.3765981294368762,0.04718398099843374,0.05680342464168321,-0.6005266438272082,-1.8831852841927446,-0.1711241484689935,-1.5186505364155414,-2.337338947803129,-0.43173258591565306,0.39462380711175676,0.8427369707294584,1.508091700619213,0.2641263148842725,-0.42026973874239537,-0.07702487444973369,0.9439105595970312,0.2857049807385942,-0.14837882491603224,1.604875764248128,-0.4243919363715126,-0.8234329625172128,-0.1684256938792784,-0.2832599679287647,-0.44014972721508755,0.34387113719813567,1.4616498923500858,-1.2953836162942385,-1.4225765018916163,0.6740954409511553,0.5280663485164603,0.008574824129091541,-0.3936975898119114,-0.1656412725355856,1.060920834100708,0.5619611732578766,-0.32141143247707743,0.5204048885335,-0.2141654435103684,1.8096046094913567,0.8648679031283714,1.2335563328361652,1.487910251127614,0.5811363913129524,-0.4630649106528774,1.402913102256703,-0.724008863995739,-0.8271466432358756,1.8422943874063789,1.3184986675534738,0.4184235058743894,2.002491545005831,-0.5144366697315794,-1.2755498394658389,-1.0337236869460253,0.8715878530582845,0.7468346959663863,-0.4687072125790365,0.667070725780239,-0.9693651544841688,0.46823699499309474],\"type\":\"scatter\"}],                        {\"legend\":{\"bgcolor\":\"#F5F6F9\",\"font\":{\"color\":\"#4D5663\"}},\"paper_bgcolor\":\"#F5F6F9\",\"plot_bgcolor\":\"#F5F6F9\",\"template\":{\"data\":{\"barpolar\":[{\"marker\":{\"line\":{\"color\":\"#E5ECF6\",\"width\":0.5},\"pattern\":{\"fillmode\":\"overlay\",\"size\":10,\"solidity\":0.2}},\"type\":\"barpolar\"}],\"bar\":[{\"error_x\":{\"color\":\"#2a3f5f\"},\"error_y\":{\"color\":\"#2a3f5f\"},\"marker\":{\"line\":{\"color\":\"#E5ECF6\",\"width\":0.5},\"pattern\":{\"fillmode\":\"overlay\",\"size\":10,\"solidity\":0.2}},\"type\":\"bar\"}],\"carpet\":[{\"aaxis\":{\"endlinecolor\":\"#2a3f5f\",\"gridcolor\":\"white\",\"linecolor\":\"white\",\"minorgridcolor\":\"white\",\"startlinecolor\":\"#2a3f5f\"},\"baxis\":{\"endlinecolor\":\"#2a3f5f\",\"gridcolor\":\"white\",\"linecolor\":\"white\",\"minorgridcolor\":\"white\",\"startlinecolor\":\"#2a3f5f\"},\"type\":\"carpet\"}],\"choropleth\":[{\"colorbar\":{\"outlinewidth\":0,\"ticks\":\"\"},\"type\":\"choropleth\"}],\"contourcarpet\":[{\"colorbar\":{\"outlinewidth\":0,\"ticks\":\"\"},\"type\":\"contourcarpet\"}],\"contour\":[{\"colorbar\":{\"outlinewidth\":0,\"ticks\":\"\"},\"colorscale\":[[0.0,\"#0d0887\"],[0.1111111111111111,\"#46039f\"],[0.2222222222222222,\"#7201a8\"],[0.3333333333333333,\"#9c179e\"],[0.4444444444444444,\"#bd3786\"],[0.5555555555555556,\"#d8576b\"],[0.6666666666666666,\"#ed7953\"],[0.7777777777777778,\"#fb9f3a\"],[0.8888888888888888,\"#fdca26\"],[1.0,\"#f0f921\"]],\"type\":\"contour\"}],\"heatmapgl\":[{\"colorbar\":{\"outlinewidth\":0,\"ticks\":\"\"},\"colorscale\":[[0.0,\"#0d0887\"],[0.1111111111111111,\"#46039f\"],[0.2222222222222222,\"#7201a8\"],[0.3333333333333333,\"#9c179e\"],[0.4444444444444444,\"#bd3786\"],[0.5555555555555556,\"#d8576b\"],[0.6666666666666666,\"#ed7953\"],[0.7777777777777778,\"#fb9f3a\"],[0.8888888888888888,\"#fdca26\"],[1.0,\"#f0f921\"]],\"type\":\"heatmapgl\"}],\"heatmap\":[{\"colorbar\":{\"outlinewidth\":0,\"ticks\":\"\"},\"colorscale\":[[0.0,\"#0d0887\"],[0.1111111111111111,\"#46039f\"],[0.2222222222222222,\"#7201a8\"],[0.3333333333333333,\"#9c179e\"],[0.4444444444444444,\"#bd3786\"],[0.5555555555555556,\"#d8576b\"],[0.6666666666666666,\"#ed7953\"],[0.7777777777777778,\"#fb9f3a\"],[0.8888888888888888,\"#fdca26\"],[1.0,\"#f0f921\"]],\"type\":\"heatmap\"}],\"histogram2dcontour\":[{\"colorbar\":{\"outlinewidth\":0,\"ticks\":\"\"},\"colorscale\":[[0.0,\"#0d0887\"],[0.1111111111111111,\"#46039f\"],[0.2222222222222222,\"#7201a8\"],[0.3333333333333333,\"#9c179e\"],[0.4444444444444444,\"#bd3786\"],[0.5555555555555556,\"#d8576b\"],[0.6666666666666666,\"#ed7953\"],[0.7777777777777778,\"#fb9f3a\"],[0.8888888888888888,\"#fdca26\"],[1.0,\"#f0f921\"]],\"type\":\"histogram2dcontour\"}],\"histogram2d\":[{\"colorbar\":{\"outlinewidth\":0,\"ticks\":\"\"},\"colorscale\":[[0.0,\"#0d0887\"],[0.1111111111111111,\"#46039f\"],[0.2222222222222222,\"#7201a8\"],[0.3333333333333333,\"#9c179e\"],[0.4444444444444444,\"#bd3786\"],[0.5555555555555556,\"#d8576b\"],[0.6666666666666666,\"#ed7953\"],[0.7777777777777778,\"#fb9f3a\"],[0.8888888888888888,\"#fdca26\"],[1.0,\"#f0f921\"]],\"type\":\"histogram2d\"}],\"histogram\":[{\"marker\":{\"pattern\":{\"fillmode\":\"overlay\",\"size\":10,\"solidity\":0.2}},\"type\":\"histogram\"}],\"mesh3d\":[{\"colorbar\":{\"outlinewidth\":0,\"ticks\":\"\"},\"type\":\"mesh3d\"}],\"parcoords\":[{\"line\":{\"colorbar\":{\"outlinewidth\":0,\"ticks\":\"\"}},\"type\":\"parcoords\"}],\"pie\":[{\"automargin\":true,\"type\":\"pie\"}],\"scatter3d\":[{\"line\":{\"colorbar\":{\"outlinewidth\":0,\"ticks\":\"\"}},\"marker\":{\"colorbar\":{\"outlinewidth\":0,\"ticks\":\"\"}},\"type\":\"scatter3d\"}],\"scattercarpet\":[{\"marker\":{\"colorbar\":{\"outlinewidth\":0,\"ticks\":\"\"}},\"type\":\"scattercarpet\"}],\"scattergeo\":[{\"marker\":{\"colorbar\":{\"outlinewidth\":0,\"ticks\":\"\"}},\"type\":\"scattergeo\"}],\"scattergl\":[{\"marker\":{\"colorbar\":{\"outlinewidth\":0,\"ticks\":\"\"}},\"type\":\"scattergl\"}],\"scattermapbox\":[{\"marker\":{\"colorbar\":{\"outlinewidth\":0,\"ticks\":\"\"}},\"type\":\"scattermapbox\"}],\"scatterpolargl\":[{\"marker\":{\"colorbar\":{\"outlinewidth\":0,\"ticks\":\"\"}},\"type\":\"scatterpolargl\"}],\"scatterpolar\":[{\"marker\":{\"colorbar\":{\"outlinewidth\":0,\"ticks\":\"\"}},\"type\":\"scatterpolar\"}],\"scatter\":[{\"fillpattern\":{\"fillmode\":\"overlay\",\"size\":10,\"solidity\":0.2},\"type\":\"scatter\"}],\"scatterternary\":[{\"marker\":{\"colorbar\":{\"outlinewidth\":0,\"ticks\":\"\"}},\"type\":\"scatterternary\"}],\"surface\":[{\"colorbar\":{\"outlinewidth\":0,\"ticks\":\"\"},\"colorscale\":[[0.0,\"#0d0887\"],[0.1111111111111111,\"#46039f\"],[0.2222222222222222,\"#7201a8\"],[0.3333333333333333,\"#9c179e\"],[0.4444444444444444,\"#bd3786\"],[0.5555555555555556,\"#d8576b\"],[0.6666666666666666,\"#ed7953\"],[0.7777777777777778,\"#fb9f3a\"],[0.8888888888888888,\"#fdca26\"],[1.0,\"#f0f921\"]],\"type\":\"surface\"}],\"table\":[{\"cells\":{\"fill\":{\"color\":\"#EBF0F8\"},\"line\":{\"color\":\"white\"}},\"header\":{\"fill\":{\"color\":\"#C8D4E3\"},\"line\":{\"color\":\"white\"}},\"type\":\"table\"}]},\"layout\":{\"annotationdefaults\":{\"arrowcolor\":\"#2a3f5f\",\"arrowhead\":0,\"arrowwidth\":1},\"autotypenumbers\":\"strict\",\"coloraxis\":{\"colorbar\":{\"outlinewidth\":0,\"ticks\":\"\"}},\"colorscale\":{\"diverging\":[[0,\"#8e0152\"],[0.1,\"#c51b7d\"],[0.2,\"#de77ae\"],[0.3,\"#f1b6da\"],[0.4,\"#fde0ef\"],[0.5,\"#f7f7f7\"],[0.6,\"#e6f5d0\"],[0.7,\"#b8e186\"],[0.8,\"#7fbc41\"],[0.9,\"#4d9221\"],[1,\"#276419\"]],\"sequential\":[[0.0,\"#0d0887\"],[0.1111111111111111,\"#46039f\"],[0.2222222222222222,\"#7201a8\"],[0.3333333333333333,\"#9c179e\"],[0.4444444444444444,\"#bd3786\"],[0.5555555555555556,\"#d8576b\"],[0.6666666666666666,\"#ed7953\"],[0.7777777777777778,\"#fb9f3a\"],[0.8888888888888888,\"#fdca26\"],[1.0,\"#f0f921\"]],\"sequentialminus\":[[0.0,\"#0d0887\"],[0.1111111111111111,\"#46039f\"],[0.2222222222222222,\"#7201a8\"],[0.3333333333333333,\"#9c179e\"],[0.4444444444444444,\"#bd3786\"],[0.5555555555555556,\"#d8576b\"],[0.6666666666666666,\"#ed7953\"],[0.7777777777777778,\"#fb9f3a\"],[0.8888888888888888,\"#fdca26\"],[1.0,\"#f0f921\"]]},\"colorway\":[\"#636efa\",\"#EF553B\",\"#00cc96\",\"#ab63fa\",\"#FFA15A\",\"#19d3f3\",\"#FF6692\",\"#B6E880\",\"#FF97FF\",\"#FECB52\"],\"font\":{\"color\":\"#2a3f5f\"},\"geo\":{\"bgcolor\":\"white\",\"lakecolor\":\"white\",\"landcolor\":\"#E5ECF6\",\"showlakes\":true,\"showland\":true,\"subunitcolor\":\"white\"},\"hoverlabel\":{\"align\":\"left\"},\"hovermode\":\"closest\",\"mapbox\":{\"style\":\"light\"},\"paper_bgcolor\":\"white\",\"plot_bgcolor\":\"#E5ECF6\",\"polar\":{\"angularaxis\":{\"gridcolor\":\"white\",\"linecolor\":\"white\",\"ticks\":\"\"},\"bgcolor\":\"#E5ECF6\",\"radialaxis\":{\"gridcolor\":\"white\",\"linecolor\":\"white\",\"ticks\":\"\"}},\"scene\":{\"xaxis\":{\"backgroundcolor\":\"#E5ECF6\",\"gridcolor\":\"white\",\"gridwidth\":2,\"linecolor\":\"white\",\"showbackground\":true,\"ticks\":\"\",\"zerolinecolor\":\"white\"},\"yaxis\":{\"backgroundcolor\":\"#E5ECF6\",\"gridcolor\":\"white\",\"gridwidth\":2,\"linecolor\":\"white\",\"showbackground\":true,\"ticks\":\"\",\"zerolinecolor\":\"white\"},\"zaxis\":{\"backgroundcolor\":\"#E5ECF6\",\"gridcolor\":\"white\",\"gridwidth\":2,\"linecolor\":\"white\",\"showbackground\":true,\"ticks\":\"\",\"zerolinecolor\":\"white\"}},\"shapedefaults\":{\"line\":{\"color\":\"#2a3f5f\"}},\"ternary\":{\"aaxis\":{\"gridcolor\":\"white\",\"linecolor\":\"white\",\"ticks\":\"\"},\"baxis\":{\"gridcolor\":\"white\",\"linecolor\":\"white\",\"ticks\":\"\"},\"bgcolor\":\"#E5ECF6\",\"caxis\":{\"gridcolor\":\"white\",\"linecolor\":\"white\",\"ticks\":\"\"}},\"title\":{\"x\":0.05},\"xaxis\":{\"automargin\":true,\"gridcolor\":\"white\",\"linecolor\":\"white\",\"ticks\":\"\",\"title\":{\"standoff\":15},\"zerolinecolor\":\"white\",\"zerolinewidth\":2},\"yaxis\":{\"automargin\":true,\"gridcolor\":\"white\",\"linecolor\":\"white\",\"ticks\":\"\",\"title\":{\"standoff\":15},\"zerolinecolor\":\"white\",\"zerolinewidth\":2}}},\"title\":{\"font\":{\"color\":\"#4D5663\"}},\"xaxis\":{\"gridcolor\":\"#E1E5ED\",\"showgrid\":true,\"tickfont\":{\"color\":\"#4D5663\"},\"title\":{\"font\":{\"color\":\"#4D5663\"},\"text\":\"\"},\"zerolinecolor\":\"#E1E5ED\"},\"yaxis\":{\"gridcolor\":\"#E1E5ED\",\"showgrid\":true,\"tickfont\":{\"color\":\"#4D5663\"},\"title\":{\"font\":{\"color\":\"#4D5663\"},\"text\":\"\"},\"zerolinecolor\":\"#E1E5ED\"}},                        {\"showLink\": true, \"linkText\": \"Export to plot.ly\", \"plotlyServerURL\": \"https://plot.ly\", \"responsive\": true}                    ).then(function(){\n",
       "                            \n",
       "var gd = document.getElementById('be1a5e2f-0e60-4886-8d20-0a0837b4efef');\n",
       "var x = new MutationObserver(function (mutations, observer) {{\n",
       "        var display = window.getComputedStyle(gd).display;\n",
       "        if (!display || display === 'none') {{\n",
       "            console.log([gd, 'removed!']);\n",
       "            Plotly.purge(gd);\n",
       "            observer.disconnect();\n",
       "        }}\n",
       "}});\n",
       "\n",
       "// Listen for the removal of the full notebook cells\n",
       "var notebookContainer = gd.closest('#notebook-container');\n",
       "if (notebookContainer) {{\n",
       "    x.observe(notebookContainer, {childList: true});\n",
       "}}\n",
       "\n",
       "// Listen for the clearing of the current output cell\n",
       "var outputEl = gd.closest('.output');\n",
       "if (outputEl) {{\n",
       "    x.observe(outputEl, {childList: true});\n",
       "}}\n",
       "\n",
       "                        })                };                });            </script>        </div>"
      ]
     },
     "metadata": {},
     "output_type": "display_data"
    }
   ],
   "source": [
    "df.iplot(kind='scatter',x='A',y='B',mode='markers',size=10)"
   ]
  },
  {
   "cell_type": "markdown",
   "metadata": {},
   "source": [
    "## Bar Plots"
   ]
  },
  {
   "cell_type": "code",
   "execution_count": 12,
   "metadata": {},
   "outputs": [
    {
     "data": {
      "application/vnd.plotly.v1+json": {
       "config": {
        "linkText": "Export to plot.ly",
        "plotlyServerURL": "https://plot.ly",
        "showLink": true
       },
       "data": [
        {
         "marker": {
          "color": "rgba(255, 153, 51, 0.6)",
          "line": {
           "color": "rgba(255, 153, 51, 1.0)",
           "width": 1
          }
         },
         "name": "Values",
         "orientation": "v",
         "text": "",
         "type": "bar",
         "x": [
          "A",
          "B",
          "C"
         ],
         "y": [
          32,
          43,
          50
         ]
        }
       ],
       "layout": {
        "legend": {
         "bgcolor": "#F5F6F9",
         "font": {
          "color": "#4D5663"
         }
        },
        "paper_bgcolor": "#F5F6F9",
        "plot_bgcolor": "#F5F6F9",
        "template": {
         "data": {
          "bar": [
           {
            "error_x": {
             "color": "#2a3f5f"
            },
            "error_y": {
             "color": "#2a3f5f"
            },
            "marker": {
             "line": {
              "color": "#E5ECF6",
              "width": 0.5
             },
             "pattern": {
              "fillmode": "overlay",
              "size": 10,
              "solidity": 0.2
             }
            },
            "type": "bar"
           }
          ],
          "barpolar": [
           {
            "marker": {
             "line": {
              "color": "#E5ECF6",
              "width": 0.5
             },
             "pattern": {
              "fillmode": "overlay",
              "size": 10,
              "solidity": 0.2
             }
            },
            "type": "barpolar"
           }
          ],
          "carpet": [
           {
            "aaxis": {
             "endlinecolor": "#2a3f5f",
             "gridcolor": "white",
             "linecolor": "white",
             "minorgridcolor": "white",
             "startlinecolor": "#2a3f5f"
            },
            "baxis": {
             "endlinecolor": "#2a3f5f",
             "gridcolor": "white",
             "linecolor": "white",
             "minorgridcolor": "white",
             "startlinecolor": "#2a3f5f"
            },
            "type": "carpet"
           }
          ],
          "choropleth": [
           {
            "colorbar": {
             "outlinewidth": 0,
             "ticks": ""
            },
            "type": "choropleth"
           }
          ],
          "contour": [
           {
            "colorbar": {
             "outlinewidth": 0,
             "ticks": ""
            },
            "colorscale": [
             [
              0,
              "#0d0887"
             ],
             [
              0.1111111111111111,
              "#46039f"
             ],
             [
              0.2222222222222222,
              "#7201a8"
             ],
             [
              0.3333333333333333,
              "#9c179e"
             ],
             [
              0.4444444444444444,
              "#bd3786"
             ],
             [
              0.5555555555555556,
              "#d8576b"
             ],
             [
              0.6666666666666666,
              "#ed7953"
             ],
             [
              0.7777777777777778,
              "#fb9f3a"
             ],
             [
              0.8888888888888888,
              "#fdca26"
             ],
             [
              1,
              "#f0f921"
             ]
            ],
            "type": "contour"
           }
          ],
          "contourcarpet": [
           {
            "colorbar": {
             "outlinewidth": 0,
             "ticks": ""
            },
            "type": "contourcarpet"
           }
          ],
          "heatmap": [
           {
            "colorbar": {
             "outlinewidth": 0,
             "ticks": ""
            },
            "colorscale": [
             [
              0,
              "#0d0887"
             ],
             [
              0.1111111111111111,
              "#46039f"
             ],
             [
              0.2222222222222222,
              "#7201a8"
             ],
             [
              0.3333333333333333,
              "#9c179e"
             ],
             [
              0.4444444444444444,
              "#bd3786"
             ],
             [
              0.5555555555555556,
              "#d8576b"
             ],
             [
              0.6666666666666666,
              "#ed7953"
             ],
             [
              0.7777777777777778,
              "#fb9f3a"
             ],
             [
              0.8888888888888888,
              "#fdca26"
             ],
             [
              1,
              "#f0f921"
             ]
            ],
            "type": "heatmap"
           }
          ],
          "heatmapgl": [
           {
            "colorbar": {
             "outlinewidth": 0,
             "ticks": ""
            },
            "colorscale": [
             [
              0,
              "#0d0887"
             ],
             [
              0.1111111111111111,
              "#46039f"
             ],
             [
              0.2222222222222222,
              "#7201a8"
             ],
             [
              0.3333333333333333,
              "#9c179e"
             ],
             [
              0.4444444444444444,
              "#bd3786"
             ],
             [
              0.5555555555555556,
              "#d8576b"
             ],
             [
              0.6666666666666666,
              "#ed7953"
             ],
             [
              0.7777777777777778,
              "#fb9f3a"
             ],
             [
              0.8888888888888888,
              "#fdca26"
             ],
             [
              1,
              "#f0f921"
             ]
            ],
            "type": "heatmapgl"
           }
          ],
          "histogram": [
           {
            "marker": {
             "pattern": {
              "fillmode": "overlay",
              "size": 10,
              "solidity": 0.2
             }
            },
            "type": "histogram"
           }
          ],
          "histogram2d": [
           {
            "colorbar": {
             "outlinewidth": 0,
             "ticks": ""
            },
            "colorscale": [
             [
              0,
              "#0d0887"
             ],
             [
              0.1111111111111111,
              "#46039f"
             ],
             [
              0.2222222222222222,
              "#7201a8"
             ],
             [
              0.3333333333333333,
              "#9c179e"
             ],
             [
              0.4444444444444444,
              "#bd3786"
             ],
             [
              0.5555555555555556,
              "#d8576b"
             ],
             [
              0.6666666666666666,
              "#ed7953"
             ],
             [
              0.7777777777777778,
              "#fb9f3a"
             ],
             [
              0.8888888888888888,
              "#fdca26"
             ],
             [
              1,
              "#f0f921"
             ]
            ],
            "type": "histogram2d"
           }
          ],
          "histogram2dcontour": [
           {
            "colorbar": {
             "outlinewidth": 0,
             "ticks": ""
            },
            "colorscale": [
             [
              0,
              "#0d0887"
             ],
             [
              0.1111111111111111,
              "#46039f"
             ],
             [
              0.2222222222222222,
              "#7201a8"
             ],
             [
              0.3333333333333333,
              "#9c179e"
             ],
             [
              0.4444444444444444,
              "#bd3786"
             ],
             [
              0.5555555555555556,
              "#d8576b"
             ],
             [
              0.6666666666666666,
              "#ed7953"
             ],
             [
              0.7777777777777778,
              "#fb9f3a"
             ],
             [
              0.8888888888888888,
              "#fdca26"
             ],
             [
              1,
              "#f0f921"
             ]
            ],
            "type": "histogram2dcontour"
           }
          ],
          "mesh3d": [
           {
            "colorbar": {
             "outlinewidth": 0,
             "ticks": ""
            },
            "type": "mesh3d"
           }
          ],
          "parcoords": [
           {
            "line": {
             "colorbar": {
              "outlinewidth": 0,
              "ticks": ""
             }
            },
            "type": "parcoords"
           }
          ],
          "pie": [
           {
            "automargin": true,
            "type": "pie"
           }
          ],
          "scatter": [
           {
            "fillpattern": {
             "fillmode": "overlay",
             "size": 10,
             "solidity": 0.2
            },
            "type": "scatter"
           }
          ],
          "scatter3d": [
           {
            "line": {
             "colorbar": {
              "outlinewidth": 0,
              "ticks": ""
             }
            },
            "marker": {
             "colorbar": {
              "outlinewidth": 0,
              "ticks": ""
             }
            },
            "type": "scatter3d"
           }
          ],
          "scattercarpet": [
           {
            "marker": {
             "colorbar": {
              "outlinewidth": 0,
              "ticks": ""
             }
            },
            "type": "scattercarpet"
           }
          ],
          "scattergeo": [
           {
            "marker": {
             "colorbar": {
              "outlinewidth": 0,
              "ticks": ""
             }
            },
            "type": "scattergeo"
           }
          ],
          "scattergl": [
           {
            "marker": {
             "colorbar": {
              "outlinewidth": 0,
              "ticks": ""
             }
            },
            "type": "scattergl"
           }
          ],
          "scattermapbox": [
           {
            "marker": {
             "colorbar": {
              "outlinewidth": 0,
              "ticks": ""
             }
            },
            "type": "scattermapbox"
           }
          ],
          "scatterpolar": [
           {
            "marker": {
             "colorbar": {
              "outlinewidth": 0,
              "ticks": ""
             }
            },
            "type": "scatterpolar"
           }
          ],
          "scatterpolargl": [
           {
            "marker": {
             "colorbar": {
              "outlinewidth": 0,
              "ticks": ""
             }
            },
            "type": "scatterpolargl"
           }
          ],
          "scatterternary": [
           {
            "marker": {
             "colorbar": {
              "outlinewidth": 0,
              "ticks": ""
             }
            },
            "type": "scatterternary"
           }
          ],
          "surface": [
           {
            "colorbar": {
             "outlinewidth": 0,
             "ticks": ""
            },
            "colorscale": [
             [
              0,
              "#0d0887"
             ],
             [
              0.1111111111111111,
              "#46039f"
             ],
             [
              0.2222222222222222,
              "#7201a8"
             ],
             [
              0.3333333333333333,
              "#9c179e"
             ],
             [
              0.4444444444444444,
              "#bd3786"
             ],
             [
              0.5555555555555556,
              "#d8576b"
             ],
             [
              0.6666666666666666,
              "#ed7953"
             ],
             [
              0.7777777777777778,
              "#fb9f3a"
             ],
             [
              0.8888888888888888,
              "#fdca26"
             ],
             [
              1,
              "#f0f921"
             ]
            ],
            "type": "surface"
           }
          ],
          "table": [
           {
            "cells": {
             "fill": {
              "color": "#EBF0F8"
             },
             "line": {
              "color": "white"
             }
            },
            "header": {
             "fill": {
              "color": "#C8D4E3"
             },
             "line": {
              "color": "white"
             }
            },
            "type": "table"
           }
          ]
         },
         "layout": {
          "annotationdefaults": {
           "arrowcolor": "#2a3f5f",
           "arrowhead": 0,
           "arrowwidth": 1
          },
          "autotypenumbers": "strict",
          "coloraxis": {
           "colorbar": {
            "outlinewidth": 0,
            "ticks": ""
           }
          },
          "colorscale": {
           "diverging": [
            [
             0,
             "#8e0152"
            ],
            [
             0.1,
             "#c51b7d"
            ],
            [
             0.2,
             "#de77ae"
            ],
            [
             0.3,
             "#f1b6da"
            ],
            [
             0.4,
             "#fde0ef"
            ],
            [
             0.5,
             "#f7f7f7"
            ],
            [
             0.6,
             "#e6f5d0"
            ],
            [
             0.7,
             "#b8e186"
            ],
            [
             0.8,
             "#7fbc41"
            ],
            [
             0.9,
             "#4d9221"
            ],
            [
             1,
             "#276419"
            ]
           ],
           "sequential": [
            [
             0,
             "#0d0887"
            ],
            [
             0.1111111111111111,
             "#46039f"
            ],
            [
             0.2222222222222222,
             "#7201a8"
            ],
            [
             0.3333333333333333,
             "#9c179e"
            ],
            [
             0.4444444444444444,
             "#bd3786"
            ],
            [
             0.5555555555555556,
             "#d8576b"
            ],
            [
             0.6666666666666666,
             "#ed7953"
            ],
            [
             0.7777777777777778,
             "#fb9f3a"
            ],
            [
             0.8888888888888888,
             "#fdca26"
            ],
            [
             1,
             "#f0f921"
            ]
           ],
           "sequentialminus": [
            [
             0,
             "#0d0887"
            ],
            [
             0.1111111111111111,
             "#46039f"
            ],
            [
             0.2222222222222222,
             "#7201a8"
            ],
            [
             0.3333333333333333,
             "#9c179e"
            ],
            [
             0.4444444444444444,
             "#bd3786"
            ],
            [
             0.5555555555555556,
             "#d8576b"
            ],
            [
             0.6666666666666666,
             "#ed7953"
            ],
            [
             0.7777777777777778,
             "#fb9f3a"
            ],
            [
             0.8888888888888888,
             "#fdca26"
            ],
            [
             1,
             "#f0f921"
            ]
           ]
          },
          "colorway": [
           "#636efa",
           "#EF553B",
           "#00cc96",
           "#ab63fa",
           "#FFA15A",
           "#19d3f3",
           "#FF6692",
           "#B6E880",
           "#FF97FF",
           "#FECB52"
          ],
          "font": {
           "color": "#2a3f5f"
          },
          "geo": {
           "bgcolor": "white",
           "lakecolor": "white",
           "landcolor": "#E5ECF6",
           "showlakes": true,
           "showland": true,
           "subunitcolor": "white"
          },
          "hoverlabel": {
           "align": "left"
          },
          "hovermode": "closest",
          "mapbox": {
           "style": "light"
          },
          "paper_bgcolor": "white",
          "plot_bgcolor": "#E5ECF6",
          "polar": {
           "angularaxis": {
            "gridcolor": "white",
            "linecolor": "white",
            "ticks": ""
           },
           "bgcolor": "#E5ECF6",
           "radialaxis": {
            "gridcolor": "white",
            "linecolor": "white",
            "ticks": ""
           }
          },
          "scene": {
           "xaxis": {
            "backgroundcolor": "#E5ECF6",
            "gridcolor": "white",
            "gridwidth": 2,
            "linecolor": "white",
            "showbackground": true,
            "ticks": "",
            "zerolinecolor": "white"
           },
           "yaxis": {
            "backgroundcolor": "#E5ECF6",
            "gridcolor": "white",
            "gridwidth": 2,
            "linecolor": "white",
            "showbackground": true,
            "ticks": "",
            "zerolinecolor": "white"
           },
           "zaxis": {
            "backgroundcolor": "#E5ECF6",
            "gridcolor": "white",
            "gridwidth": 2,
            "linecolor": "white",
            "showbackground": true,
            "ticks": "",
            "zerolinecolor": "white"
           }
          },
          "shapedefaults": {
           "line": {
            "color": "#2a3f5f"
           }
          },
          "ternary": {
           "aaxis": {
            "gridcolor": "white",
            "linecolor": "white",
            "ticks": ""
           },
           "baxis": {
            "gridcolor": "white",
            "linecolor": "white",
            "ticks": ""
           },
           "bgcolor": "#E5ECF6",
           "caxis": {
            "gridcolor": "white",
            "linecolor": "white",
            "ticks": ""
           }
          },
          "title": {
           "x": 0.05
          },
          "xaxis": {
           "automargin": true,
           "gridcolor": "white",
           "linecolor": "white",
           "ticks": "",
           "title": {
            "standoff": 15
           },
           "zerolinecolor": "white",
           "zerolinewidth": 2
          },
          "yaxis": {
           "automargin": true,
           "gridcolor": "white",
           "linecolor": "white",
           "ticks": "",
           "title": {
            "standoff": 15
           },
           "zerolinecolor": "white",
           "zerolinewidth": 2
          }
         }
        },
        "title": {
         "font": {
          "color": "#4D5663"
         }
        },
        "xaxis": {
         "gridcolor": "#E1E5ED",
         "showgrid": true,
         "tickfont": {
          "color": "#4D5663"
         },
         "title": {
          "font": {
           "color": "#4D5663"
          },
          "text": ""
         },
         "zerolinecolor": "#E1E5ED"
        },
        "yaxis": {
         "gridcolor": "#E1E5ED",
         "showgrid": true,
         "tickfont": {
          "color": "#4D5663"
         },
         "title": {
          "font": {
           "color": "#4D5663"
          },
          "text": ""
         },
         "zerolinecolor": "#E1E5ED"
        }
       }
      },
      "text/html": [
       "<div>                            <div id=\"d021b0c2-62f2-4ff0-9927-d349b882858e\" class=\"plotly-graph-div\" style=\"height:525px; width:100%;\"></div>            <script type=\"text/javascript\">                require([\"plotly\"], function(Plotly) {                    window.PLOTLYENV=window.PLOTLYENV || {};\n",
       "                    window.PLOTLYENV.BASE_URL='https://plot.ly';                                    if (document.getElementById(\"d021b0c2-62f2-4ff0-9927-d349b882858e\")) {                    Plotly.newPlot(                        \"d021b0c2-62f2-4ff0-9927-d349b882858e\",                        [{\"marker\":{\"color\":\"rgba(255, 153, 51, 0.6)\",\"line\":{\"color\":\"rgba(255, 153, 51, 1.0)\",\"width\":1}},\"name\":\"Values\",\"orientation\":\"v\",\"text\":\"\",\"x\":[\"A\",\"B\",\"C\"],\"y\":[32,43,50],\"type\":\"bar\"}],                        {\"legend\":{\"bgcolor\":\"#F5F6F9\",\"font\":{\"color\":\"#4D5663\"}},\"paper_bgcolor\":\"#F5F6F9\",\"plot_bgcolor\":\"#F5F6F9\",\"template\":{\"data\":{\"barpolar\":[{\"marker\":{\"line\":{\"color\":\"#E5ECF6\",\"width\":0.5},\"pattern\":{\"fillmode\":\"overlay\",\"size\":10,\"solidity\":0.2}},\"type\":\"barpolar\"}],\"bar\":[{\"error_x\":{\"color\":\"#2a3f5f\"},\"error_y\":{\"color\":\"#2a3f5f\"},\"marker\":{\"line\":{\"color\":\"#E5ECF6\",\"width\":0.5},\"pattern\":{\"fillmode\":\"overlay\",\"size\":10,\"solidity\":0.2}},\"type\":\"bar\"}],\"carpet\":[{\"aaxis\":{\"endlinecolor\":\"#2a3f5f\",\"gridcolor\":\"white\",\"linecolor\":\"white\",\"minorgridcolor\":\"white\",\"startlinecolor\":\"#2a3f5f\"},\"baxis\":{\"endlinecolor\":\"#2a3f5f\",\"gridcolor\":\"white\",\"linecolor\":\"white\",\"minorgridcolor\":\"white\",\"startlinecolor\":\"#2a3f5f\"},\"type\":\"carpet\"}],\"choropleth\":[{\"colorbar\":{\"outlinewidth\":0,\"ticks\":\"\"},\"type\":\"choropleth\"}],\"contourcarpet\":[{\"colorbar\":{\"outlinewidth\":0,\"ticks\":\"\"},\"type\":\"contourcarpet\"}],\"contour\":[{\"colorbar\":{\"outlinewidth\":0,\"ticks\":\"\"},\"colorscale\":[[0.0,\"#0d0887\"],[0.1111111111111111,\"#46039f\"],[0.2222222222222222,\"#7201a8\"],[0.3333333333333333,\"#9c179e\"],[0.4444444444444444,\"#bd3786\"],[0.5555555555555556,\"#d8576b\"],[0.6666666666666666,\"#ed7953\"],[0.7777777777777778,\"#fb9f3a\"],[0.8888888888888888,\"#fdca26\"],[1.0,\"#f0f921\"]],\"type\":\"contour\"}],\"heatmapgl\":[{\"colorbar\":{\"outlinewidth\":0,\"ticks\":\"\"},\"colorscale\":[[0.0,\"#0d0887\"],[0.1111111111111111,\"#46039f\"],[0.2222222222222222,\"#7201a8\"],[0.3333333333333333,\"#9c179e\"],[0.4444444444444444,\"#bd3786\"],[0.5555555555555556,\"#d8576b\"],[0.6666666666666666,\"#ed7953\"],[0.7777777777777778,\"#fb9f3a\"],[0.8888888888888888,\"#fdca26\"],[1.0,\"#f0f921\"]],\"type\":\"heatmapgl\"}],\"heatmap\":[{\"colorbar\":{\"outlinewidth\":0,\"ticks\":\"\"},\"colorscale\":[[0.0,\"#0d0887\"],[0.1111111111111111,\"#46039f\"],[0.2222222222222222,\"#7201a8\"],[0.3333333333333333,\"#9c179e\"],[0.4444444444444444,\"#bd3786\"],[0.5555555555555556,\"#d8576b\"],[0.6666666666666666,\"#ed7953\"],[0.7777777777777778,\"#fb9f3a\"],[0.8888888888888888,\"#fdca26\"],[1.0,\"#f0f921\"]],\"type\":\"heatmap\"}],\"histogram2dcontour\":[{\"colorbar\":{\"outlinewidth\":0,\"ticks\":\"\"},\"colorscale\":[[0.0,\"#0d0887\"],[0.1111111111111111,\"#46039f\"],[0.2222222222222222,\"#7201a8\"],[0.3333333333333333,\"#9c179e\"],[0.4444444444444444,\"#bd3786\"],[0.5555555555555556,\"#d8576b\"],[0.6666666666666666,\"#ed7953\"],[0.7777777777777778,\"#fb9f3a\"],[0.8888888888888888,\"#fdca26\"],[1.0,\"#f0f921\"]],\"type\":\"histogram2dcontour\"}],\"histogram2d\":[{\"colorbar\":{\"outlinewidth\":0,\"ticks\":\"\"},\"colorscale\":[[0.0,\"#0d0887\"],[0.1111111111111111,\"#46039f\"],[0.2222222222222222,\"#7201a8\"],[0.3333333333333333,\"#9c179e\"],[0.4444444444444444,\"#bd3786\"],[0.5555555555555556,\"#d8576b\"],[0.6666666666666666,\"#ed7953\"],[0.7777777777777778,\"#fb9f3a\"],[0.8888888888888888,\"#fdca26\"],[1.0,\"#f0f921\"]],\"type\":\"histogram2d\"}],\"histogram\":[{\"marker\":{\"pattern\":{\"fillmode\":\"overlay\",\"size\":10,\"solidity\":0.2}},\"type\":\"histogram\"}],\"mesh3d\":[{\"colorbar\":{\"outlinewidth\":0,\"ticks\":\"\"},\"type\":\"mesh3d\"}],\"parcoords\":[{\"line\":{\"colorbar\":{\"outlinewidth\":0,\"ticks\":\"\"}},\"type\":\"parcoords\"}],\"pie\":[{\"automargin\":true,\"type\":\"pie\"}],\"scatter3d\":[{\"line\":{\"colorbar\":{\"outlinewidth\":0,\"ticks\":\"\"}},\"marker\":{\"colorbar\":{\"outlinewidth\":0,\"ticks\":\"\"}},\"type\":\"scatter3d\"}],\"scattercarpet\":[{\"marker\":{\"colorbar\":{\"outlinewidth\":0,\"ticks\":\"\"}},\"type\":\"scattercarpet\"}],\"scattergeo\":[{\"marker\":{\"colorbar\":{\"outlinewidth\":0,\"ticks\":\"\"}},\"type\":\"scattergeo\"}],\"scattergl\":[{\"marker\":{\"colorbar\":{\"outlinewidth\":0,\"ticks\":\"\"}},\"type\":\"scattergl\"}],\"scattermapbox\":[{\"marker\":{\"colorbar\":{\"outlinewidth\":0,\"ticks\":\"\"}},\"type\":\"scattermapbox\"}],\"scatterpolargl\":[{\"marker\":{\"colorbar\":{\"outlinewidth\":0,\"ticks\":\"\"}},\"type\":\"scatterpolargl\"}],\"scatterpolar\":[{\"marker\":{\"colorbar\":{\"outlinewidth\":0,\"ticks\":\"\"}},\"type\":\"scatterpolar\"}],\"scatter\":[{\"fillpattern\":{\"fillmode\":\"overlay\",\"size\":10,\"solidity\":0.2},\"type\":\"scatter\"}],\"scatterternary\":[{\"marker\":{\"colorbar\":{\"outlinewidth\":0,\"ticks\":\"\"}},\"type\":\"scatterternary\"}],\"surface\":[{\"colorbar\":{\"outlinewidth\":0,\"ticks\":\"\"},\"colorscale\":[[0.0,\"#0d0887\"],[0.1111111111111111,\"#46039f\"],[0.2222222222222222,\"#7201a8\"],[0.3333333333333333,\"#9c179e\"],[0.4444444444444444,\"#bd3786\"],[0.5555555555555556,\"#d8576b\"],[0.6666666666666666,\"#ed7953\"],[0.7777777777777778,\"#fb9f3a\"],[0.8888888888888888,\"#fdca26\"],[1.0,\"#f0f921\"]],\"type\":\"surface\"}],\"table\":[{\"cells\":{\"fill\":{\"color\":\"#EBF0F8\"},\"line\":{\"color\":\"white\"}},\"header\":{\"fill\":{\"color\":\"#C8D4E3\"},\"line\":{\"color\":\"white\"}},\"type\":\"table\"}]},\"layout\":{\"annotationdefaults\":{\"arrowcolor\":\"#2a3f5f\",\"arrowhead\":0,\"arrowwidth\":1},\"autotypenumbers\":\"strict\",\"coloraxis\":{\"colorbar\":{\"outlinewidth\":0,\"ticks\":\"\"}},\"colorscale\":{\"diverging\":[[0,\"#8e0152\"],[0.1,\"#c51b7d\"],[0.2,\"#de77ae\"],[0.3,\"#f1b6da\"],[0.4,\"#fde0ef\"],[0.5,\"#f7f7f7\"],[0.6,\"#e6f5d0\"],[0.7,\"#b8e186\"],[0.8,\"#7fbc41\"],[0.9,\"#4d9221\"],[1,\"#276419\"]],\"sequential\":[[0.0,\"#0d0887\"],[0.1111111111111111,\"#46039f\"],[0.2222222222222222,\"#7201a8\"],[0.3333333333333333,\"#9c179e\"],[0.4444444444444444,\"#bd3786\"],[0.5555555555555556,\"#d8576b\"],[0.6666666666666666,\"#ed7953\"],[0.7777777777777778,\"#fb9f3a\"],[0.8888888888888888,\"#fdca26\"],[1.0,\"#f0f921\"]],\"sequentialminus\":[[0.0,\"#0d0887\"],[0.1111111111111111,\"#46039f\"],[0.2222222222222222,\"#7201a8\"],[0.3333333333333333,\"#9c179e\"],[0.4444444444444444,\"#bd3786\"],[0.5555555555555556,\"#d8576b\"],[0.6666666666666666,\"#ed7953\"],[0.7777777777777778,\"#fb9f3a\"],[0.8888888888888888,\"#fdca26\"],[1.0,\"#f0f921\"]]},\"colorway\":[\"#636efa\",\"#EF553B\",\"#00cc96\",\"#ab63fa\",\"#FFA15A\",\"#19d3f3\",\"#FF6692\",\"#B6E880\",\"#FF97FF\",\"#FECB52\"],\"font\":{\"color\":\"#2a3f5f\"},\"geo\":{\"bgcolor\":\"white\",\"lakecolor\":\"white\",\"landcolor\":\"#E5ECF6\",\"showlakes\":true,\"showland\":true,\"subunitcolor\":\"white\"},\"hoverlabel\":{\"align\":\"left\"},\"hovermode\":\"closest\",\"mapbox\":{\"style\":\"light\"},\"paper_bgcolor\":\"white\",\"plot_bgcolor\":\"#E5ECF6\",\"polar\":{\"angularaxis\":{\"gridcolor\":\"white\",\"linecolor\":\"white\",\"ticks\":\"\"},\"bgcolor\":\"#E5ECF6\",\"radialaxis\":{\"gridcolor\":\"white\",\"linecolor\":\"white\",\"ticks\":\"\"}},\"scene\":{\"xaxis\":{\"backgroundcolor\":\"#E5ECF6\",\"gridcolor\":\"white\",\"gridwidth\":2,\"linecolor\":\"white\",\"showbackground\":true,\"ticks\":\"\",\"zerolinecolor\":\"white\"},\"yaxis\":{\"backgroundcolor\":\"#E5ECF6\",\"gridcolor\":\"white\",\"gridwidth\":2,\"linecolor\":\"white\",\"showbackground\":true,\"ticks\":\"\",\"zerolinecolor\":\"white\"},\"zaxis\":{\"backgroundcolor\":\"#E5ECF6\",\"gridcolor\":\"white\",\"gridwidth\":2,\"linecolor\":\"white\",\"showbackground\":true,\"ticks\":\"\",\"zerolinecolor\":\"white\"}},\"shapedefaults\":{\"line\":{\"color\":\"#2a3f5f\"}},\"ternary\":{\"aaxis\":{\"gridcolor\":\"white\",\"linecolor\":\"white\",\"ticks\":\"\"},\"baxis\":{\"gridcolor\":\"white\",\"linecolor\":\"white\",\"ticks\":\"\"},\"bgcolor\":\"#E5ECF6\",\"caxis\":{\"gridcolor\":\"white\",\"linecolor\":\"white\",\"ticks\":\"\"}},\"title\":{\"x\":0.05},\"xaxis\":{\"automargin\":true,\"gridcolor\":\"white\",\"linecolor\":\"white\",\"ticks\":\"\",\"title\":{\"standoff\":15},\"zerolinecolor\":\"white\",\"zerolinewidth\":2},\"yaxis\":{\"automargin\":true,\"gridcolor\":\"white\",\"linecolor\":\"white\",\"ticks\":\"\",\"title\":{\"standoff\":15},\"zerolinecolor\":\"white\",\"zerolinewidth\":2}}},\"title\":{\"font\":{\"color\":\"#4D5663\"}},\"xaxis\":{\"gridcolor\":\"#E1E5ED\",\"showgrid\":true,\"tickfont\":{\"color\":\"#4D5663\"},\"title\":{\"font\":{\"color\":\"#4D5663\"},\"text\":\"\"},\"zerolinecolor\":\"#E1E5ED\"},\"yaxis\":{\"gridcolor\":\"#E1E5ED\",\"showgrid\":true,\"tickfont\":{\"color\":\"#4D5663\"},\"title\":{\"font\":{\"color\":\"#4D5663\"},\"text\":\"\"},\"zerolinecolor\":\"#E1E5ED\"}},                        {\"showLink\": true, \"linkText\": \"Export to plot.ly\", \"plotlyServerURL\": \"https://plot.ly\", \"responsive\": true}                    ).then(function(){\n",
       "                            \n",
       "var gd = document.getElementById('d021b0c2-62f2-4ff0-9927-d349b882858e');\n",
       "var x = new MutationObserver(function (mutations, observer) {{\n",
       "        var display = window.getComputedStyle(gd).display;\n",
       "        if (!display || display === 'none') {{\n",
       "            console.log([gd, 'removed!']);\n",
       "            Plotly.purge(gd);\n",
       "            observer.disconnect();\n",
       "        }}\n",
       "}});\n",
       "\n",
       "// Listen for the removal of the full notebook cells\n",
       "var notebookContainer = gd.closest('#notebook-container');\n",
       "if (notebookContainer) {{\n",
       "    x.observe(notebookContainer, {childList: true});\n",
       "}}\n",
       "\n",
       "// Listen for the clearing of the current output cell\n",
       "var outputEl = gd.closest('.output');\n",
       "if (outputEl) {{\n",
       "    x.observe(outputEl, {childList: true});\n",
       "}}\n",
       "\n",
       "                        })                };                });            </script>        </div>"
      ]
     },
     "metadata": {},
     "output_type": "display_data"
    }
   ],
   "source": [
    "df2.iplot(kind='bar',x='Category',y='Values')"
   ]
  },
  {
   "cell_type": "code",
   "execution_count": 33,
   "metadata": {},
   "outputs": [
    {
     "data": {
      "text/html": [
       "<div id=\"0f3d8847-73f9-4d83-a41a-ea5e36c6d128\" style=\"height: 525px; width: 100%;\" class=\"plotly-graph-div\"></div><script type=\"text/javascript\">require([\"plotly\"], function(Plotly) { window.PLOTLYENV=window.PLOTLYENV || {};window.PLOTLYENV.BASE_URL=\"https://plot.ly\";Plotly.newPlot(\"0f3d8847-73f9-4d83-a41a-ea5e36c6d128\", [{\"x\": [\"A\", \"B\", \"C\", \"D\"], \"text\": \"\", \"orientation\": \"v\", \"name\": \"None\", \"type\": \"bar\", \"marker\": {\"line\": {\"width\": 1, \"color\": \"rgba(226, 74, 51, 1.0)\"}, \"color\": \"rgba(226, 74, 51, 0.6)\"}, \"y\": [100, 100, 100, 100]}], {\"legend\": {\"font\": {\"color\": \"#666666\"}, \"bgcolor\": \"#FFFFFF\"}, \"titlefont\": {\"color\": \"#151516\"}, \"xaxis1\": {\"titlefont\": {\"color\": \"#666666\"}, \"zerolinecolor\": \"#F6F6F6\", \"title\": \"\", \"tickfont\": {\"color\": \"#666666\"}, \"showgrid\": true, \"gridcolor\": \"#F6F6F6\"}, \"paper_bgcolor\": \"#FFFFFF\", \"plot_bgcolor\": \"#E5E5E5\", \"yaxis1\": {\"titlefont\": {\"color\": \"#666666\"}, \"zerolinecolor\": \"#F6F6F6\", \"title\": \"\", \"tickfont\": {\"color\": \"#666666\"}, \"showgrid\": true, \"gridcolor\": \"#F6F6F6\"}}, {\"showLink\": true, \"linkText\": \"Export to plot.ly\"})});</script>"
      ],
      "text/plain": [
       "<IPython.core.display.HTML object>"
      ]
     },
     "metadata": {},
     "output_type": "display_data"
    }
   ],
   "source": [
    "df.count().iplot(kind='bar')"
   ]
  },
  {
   "cell_type": "markdown",
   "metadata": {},
   "source": [
    "## Boxplots"
   ]
  },
  {
   "cell_type": "code",
   "execution_count": 13,
   "metadata": {},
   "outputs": [
    {
     "data": {
      "application/vnd.plotly.v1+json": {
       "config": {
        "linkText": "Export to plot.ly",
        "plotlyServerURL": "https://plot.ly",
        "showLink": true
       },
       "data": [
        {
         "boxpoints": false,
         "line": {
          "width": 1.3
         },
         "marker": {
          "color": "rgba(255, 153, 51, 1.0)"
         },
         "name": "A",
         "orientation": "v",
         "type": "box",
         "y": [
          0.11210520528287181,
          -1.2125651027444957,
          0.7409111312981095,
          0.885201543319391,
          0.6495720102447006,
          0.4497318430524437,
          -0.8227725625609245,
          -1.294165762002869,
          0.9855697981173399,
          -0.5377520046761172,
          -0.3031172198371253,
          -0.1500255993360721,
          -0.15110610248577538,
          -0.2090964311017719,
          -0.07585730009648514,
          -1.3996739953678186,
          -0.7808096785422856,
          0.7804823868457346,
          -0.4726179318216493,
          0.8075332916145921,
          0.8265765498071171,
          -0.40051686205745285,
          0.2461563372526162,
          1.642512774461098,
          0.8653929900395896,
          1.2025276873281612,
          0.29563577123790996,
          0.6699092364237134,
          -0.5452923695273253,
          -0.4642660511261456,
          1.2203389016594837,
          -0.6832499857349542,
          0.8492085633334253,
          0.23052258600709793,
          1.5445264866072617,
          -1.1329467423665456,
          -0.67232546831398,
          0.876560071944188,
          -0.27424172669120317,
          -0.07151448482552263,
          1.5063628674267997,
          1.2944560448535178,
          -1.0392861894092036,
          -0.5090093904636998,
          -0.7318138881133566,
          -0.46620502273403186,
          0.5228787071414007,
          1.23838969008501,
          -0.6297993877243587,
          -0.7479504258438041,
          -0.4495593740548306,
          0.7398152476833297,
          0.7255842573345948,
          0.003347148807160973,
          -0.4329333913030693,
          0.4586954881696664,
          0.036666042643426836,
          -0.1339361513503816,
          -0.6362684884385781,
          0.2146499988328602,
          -0.4655225437157507,
          0.1529032725538335,
          -0.3540066262700726,
          -0.4141644630330249,
          1.05343191356596,
          -0.677841097495419,
          0.19873599249106602,
          -0.20490582376094724,
          1.0222387046982089,
          -1.3989681544131,
          -1.2203626816923638,
          0.672749421487676,
          -0.501519404356596,
          2.139174899771941,
          -0.43515901640307103,
          -0.683545675539224,
          -1.0331252694832604,
          -0.07990366076929867,
          1.0958374389814922,
          -0.69702643893847,
          -0.7236655629149418,
          -0.9769212273077479,
          0.23059071690166782,
          1.55850667803002,
          -1.0206168953256678,
          -0.36320589787435276,
          2.077857583290241,
          0.24666320714680753,
          0.7042456517611484,
          -0.5840047538610852,
          2.3134196985855597,
          0.7827394356659747,
          -0.16747308355262033,
          2.2615019778134346,
          0.33822024810572665,
          -0.14314982279753402,
          -1.1387194880336158,
          0.8329827995371789,
          1.6834976572725173,
          -0.6138378805656016
         ]
        },
        {
         "boxpoints": false,
         "line": {
          "width": 1.3
         },
         "marker": {
          "color": "rgba(55, 128, 191, 1.0)"
         },
         "name": "B",
         "orientation": "v",
         "type": "box",
         "y": [
          0.34877639929304477,
          0.47765838860761517,
          -0.6263905875973632,
          0.1807027854947827,
          1.2594615767283213,
          2.061675068831658,
          -0.03731021947626286,
          1.7329781417734145,
          1.4333130813951505,
          0.9890506764267799,
          -1.1001617423787067,
          -1.8425241553298872,
          0.12647381880286843,
          -0.5667278395663506,
          1.0765047790528184,
          -0.072187928899968,
          -1.4939821526414747,
          1.2250226052736675,
          -0.5627956916404978,
          -1.6253699343440684,
          -0.37390199280900366,
          -0.6988185633546334,
          -1.1809630572804546,
          -0.5261183173161714,
          -0.08483998434967485,
          0.18397446574770657,
          -1.4020526622338747,
          -0.9872052448225611,
          -1.2602997742322197,
          1.4158630293339085,
          1.1127916502637767,
          -0.5066832717598071,
          -0.13284209176116912,
          -0.6061971921148425,
          -1.238221468967239,
          -0.5061225446605018,
          -0.4096323118303564,
          1.2167027519421492,
          -0.5102071701182289,
          0.28262182391342544,
          -0.3765981294368762,
          0.04718398099843374,
          0.05680342464168321,
          -0.6005266438272082,
          -1.8831852841927446,
          -0.1711241484689935,
          -1.5186505364155414,
          -2.337338947803129,
          -0.43173258591565306,
          0.39462380711175676,
          0.8427369707294584,
          1.508091700619213,
          0.2641263148842725,
          -0.42026973874239537,
          -0.07702487444973369,
          0.9439105595970312,
          0.2857049807385942,
          -0.14837882491603224,
          1.604875764248128,
          -0.4243919363715126,
          -0.8234329625172128,
          -0.1684256938792784,
          -0.2832599679287647,
          -0.44014972721508755,
          0.34387113719813567,
          1.4616498923500858,
          -1.2953836162942385,
          -1.4225765018916163,
          0.6740954409511553,
          0.5280663485164603,
          0.008574824129091541,
          -0.3936975898119114,
          -0.1656412725355856,
          1.060920834100708,
          0.5619611732578766,
          -0.32141143247707743,
          0.5204048885335,
          -0.2141654435103684,
          1.8096046094913567,
          0.8648679031283714,
          1.2335563328361652,
          1.487910251127614,
          0.5811363913129524,
          -0.4630649106528774,
          1.402913102256703,
          -0.724008863995739,
          -0.8271466432358756,
          1.8422943874063789,
          1.3184986675534738,
          0.4184235058743894,
          2.002491545005831,
          -0.5144366697315794,
          -1.2755498394658389,
          -1.0337236869460253,
          0.8715878530582845,
          0.7468346959663863,
          -0.4687072125790365,
          0.667070725780239,
          -0.9693651544841688,
          0.46823699499309474
         ]
        },
        {
         "boxpoints": false,
         "line": {
          "width": 1.3
         },
         "marker": {
          "color": "rgba(50, 171, 96, 1.0)"
         },
         "name": "C",
         "orientation": "v",
         "type": "box",
         "y": [
          -1.1211331025175668,
          -0.7261762388252994,
          -1.2438085323718588,
          -0.6190321616326958,
          -1.9438488507496778,
          0.832562470750774,
          -1.0170613764003906,
          1.2873824039505335,
          -0.1482711888413955,
          -0.7266035459129176,
          0.27200960572773253,
          -1.0255850046160957,
          0.11772888238898713,
          -0.02231609837412165,
          1.554251011828754,
          -0.8592817381016843,
          0.4176194934055473,
          -1.1881377957979329,
          -0.697129146713574,
          -1.245637958270208,
          -0.23836913771397847,
          0.3791928530912932,
          0.9938098483355025,
          1.547488835689764,
          1.2732304242359873,
          -0.9968286361062502,
          -0.26972758190073537,
          -0.20976385454083696,
          -0.01579307930739997,
          1.050169318138185,
          0.2402759013315607,
          0.007394744425599799,
          0.13609258886305312,
          0.9976250944965989,
          0.3226802229815181,
          -0.41730270368941813,
          -0.3292086361870174,
          0.5427285803407195,
          -1.0507569634304434,
          0.7919028868869887,
          1.219598692220043,
          -0.7411779250443291,
          -0.7942910635446948,
          0.33392202140758553,
          1.1691376867722687,
          0.879253657761465,
          -1.1369197800014754,
          -0.5941563679217342,
          1.0594510376155917,
          0.5706328163008199,
          0.8490610231806268,
          -0.29218180241556335,
          -1.4342244086892253,
          0.6133840053399411,
          -0.05475678253185107,
          -0.5143146733073986,
          0.7574339549789404,
          0.8717732160922348,
          2.3384599548717957,
          0.5927168682368055,
          -1.5027726466070535,
          -1.1844405249507508,
          -0.3650321215956685,
          0.17168934363041033,
          -0.12764624092108845,
          0.37755645992308523,
          0.20821583460213083,
          0.7491393591136202,
          -1.107178191229706,
          -0.2447329542638256,
          -1.345995945434097,
          0.9623088045033491,
          0.2301913131792505,
          -1.3986623919713788,
          0.8088355463716537,
          0.3434734580150389,
          -0.7511800570674204,
          -0.06097009960590071,
          -0.5374066968472037,
          -0.6438759288601867,
          0.17925875563887067,
          2.1515336845805058,
          0.5121097030568134,
          -0.3179743347441989,
          1.4556731915128707,
          1.1845669886385128,
          0.01546990615056539,
          0.3237910425363089,
          0.3968360445393282,
          0.9416027576052989,
          -1.290447163047456,
          -0.6205125275646477,
          0.21452875086814324,
          0.7457696284687445,
          -0.00851458514332476,
          0.31434109804891813,
          -0.5729165292757157,
          0.13023011474506455,
          1.2163290208755997,
          -0.8945876363498282
         ]
        },
        {
         "boxpoints": false,
         "line": {
          "width": 1.3
         },
         "marker": {
          "color": "rgba(128, 0, 128, 1.0)"
         },
         "name": "D",
         "orientation": "v",
         "type": "box",
         "y": [
          2.156950813602235,
          0.11378645616820725,
          0.7037921761475658,
          0.042225867130420265,
          1.4400669874552414,
          -0.31897721511155447,
          -0.831390509247544,
          0.4494721838126546,
          0.7474434740901021,
          1.6030071615403456,
          -1.557541654630139,
          -0.44345005109650865,
          -0.2771640666867262,
          0.8238429887923545,
          0.7348930590532228,
          -0.9578339660875196,
          2.097840729691086,
          0.6264957038776572,
          -0.7052031997376692,
          0.00572170439209791,
          -0.939677030404423,
          0.9691285599363695,
          -0.3235186972548601,
          0.5688476689965231,
          -0.473797963597531,
          0.37326501668982803,
          0.7938014330054607,
          -0.007574678895425695,
          -0.25592482076449125,
          -0.5567657605486981,
          0.6151917258381199,
          1.5502758310747535,
          1.2087981434297093,
          0.5305234314458622,
          0.9775520154862789,
          -0.5014218419641729,
          -1.3834681058020304,
          -0.19612876373145385,
          -0.00024411970205643802,
          -0.15888407032471244,
          -0.2711551838022481,
          0.3965956888007911,
          -0.9402156938489229,
          0.8731192034005153,
          0.9524445999351169,
          -1.331818386061884,
          -0.15452586127733342,
          -1.2986069531814386,
          0.28185919251712527,
          -0.15876616072929536,
          1.6280441602610007,
          -1.0931129887689939,
          -0.9299535608994248,
          1.0542560493971744,
          -0.7919080144806729,
          -0.06890805259918124,
          -1.347554240611548,
          0.0537671277458208,
          0.14594298113481366,
          0.34072095083261067,
          1.431317729194986,
          1.0038789522292986,
          0.07277961988271907,
          3.1404897651077954,
          -0.765925404973094,
          0.7522455351534968,
          -0.1513929843945055,
          1.0190564098220085,
          0.11883469366750704,
          0.6247916774135364,
          -1.390359946444874,
          1.1427926094326617,
          0.49871016681860175,
          -1.3545545411569602,
          -0.056169053138795444,
          -1.6133086357452207,
          -0.5364460138217012,
          -0.4186483998075414,
          -0.23274018481473174,
          3.187229996232726,
          -1.084322428595103,
          2.2200757629063657,
          1.6940353038669425,
          1.9514123800069385,
          0.5884598217039522,
          -0.1705398192674961,
          0.09609244023082661,
          -1.0595090373348741,
          1.5197386654256932,
          0.4377827077963493,
          0.5383014544046524,
          -0.47045746748025574,
          -1.6105233646816908,
          -0.44069268650121796,
          2.3899559875095684,
          0.7592961299427361,
          -0.4215752896824788,
          -0.9209612450433411,
          -0.8715047999946479,
          -0.5112144418994965
         ]
        }
       ],
       "layout": {
        "legend": {
         "bgcolor": "#F5F6F9",
         "font": {
          "color": "#4D5663"
         }
        },
        "paper_bgcolor": "#F5F6F9",
        "plot_bgcolor": "#F5F6F9",
        "template": {
         "data": {
          "bar": [
           {
            "error_x": {
             "color": "#2a3f5f"
            },
            "error_y": {
             "color": "#2a3f5f"
            },
            "marker": {
             "line": {
              "color": "#E5ECF6",
              "width": 0.5
             },
             "pattern": {
              "fillmode": "overlay",
              "size": 10,
              "solidity": 0.2
             }
            },
            "type": "bar"
           }
          ],
          "barpolar": [
           {
            "marker": {
             "line": {
              "color": "#E5ECF6",
              "width": 0.5
             },
             "pattern": {
              "fillmode": "overlay",
              "size": 10,
              "solidity": 0.2
             }
            },
            "type": "barpolar"
           }
          ],
          "carpet": [
           {
            "aaxis": {
             "endlinecolor": "#2a3f5f",
             "gridcolor": "white",
             "linecolor": "white",
             "minorgridcolor": "white",
             "startlinecolor": "#2a3f5f"
            },
            "baxis": {
             "endlinecolor": "#2a3f5f",
             "gridcolor": "white",
             "linecolor": "white",
             "minorgridcolor": "white",
             "startlinecolor": "#2a3f5f"
            },
            "type": "carpet"
           }
          ],
          "choropleth": [
           {
            "colorbar": {
             "outlinewidth": 0,
             "ticks": ""
            },
            "type": "choropleth"
           }
          ],
          "contour": [
           {
            "colorbar": {
             "outlinewidth": 0,
             "ticks": ""
            },
            "colorscale": [
             [
              0,
              "#0d0887"
             ],
             [
              0.1111111111111111,
              "#46039f"
             ],
             [
              0.2222222222222222,
              "#7201a8"
             ],
             [
              0.3333333333333333,
              "#9c179e"
             ],
             [
              0.4444444444444444,
              "#bd3786"
             ],
             [
              0.5555555555555556,
              "#d8576b"
             ],
             [
              0.6666666666666666,
              "#ed7953"
             ],
             [
              0.7777777777777778,
              "#fb9f3a"
             ],
             [
              0.8888888888888888,
              "#fdca26"
             ],
             [
              1,
              "#f0f921"
             ]
            ],
            "type": "contour"
           }
          ],
          "contourcarpet": [
           {
            "colorbar": {
             "outlinewidth": 0,
             "ticks": ""
            },
            "type": "contourcarpet"
           }
          ],
          "heatmap": [
           {
            "colorbar": {
             "outlinewidth": 0,
             "ticks": ""
            },
            "colorscale": [
             [
              0,
              "#0d0887"
             ],
             [
              0.1111111111111111,
              "#46039f"
             ],
             [
              0.2222222222222222,
              "#7201a8"
             ],
             [
              0.3333333333333333,
              "#9c179e"
             ],
             [
              0.4444444444444444,
              "#bd3786"
             ],
             [
              0.5555555555555556,
              "#d8576b"
             ],
             [
              0.6666666666666666,
              "#ed7953"
             ],
             [
              0.7777777777777778,
              "#fb9f3a"
             ],
             [
              0.8888888888888888,
              "#fdca26"
             ],
             [
              1,
              "#f0f921"
             ]
            ],
            "type": "heatmap"
           }
          ],
          "heatmapgl": [
           {
            "colorbar": {
             "outlinewidth": 0,
             "ticks": ""
            },
            "colorscale": [
             [
              0,
              "#0d0887"
             ],
             [
              0.1111111111111111,
              "#46039f"
             ],
             [
              0.2222222222222222,
              "#7201a8"
             ],
             [
              0.3333333333333333,
              "#9c179e"
             ],
             [
              0.4444444444444444,
              "#bd3786"
             ],
             [
              0.5555555555555556,
              "#d8576b"
             ],
             [
              0.6666666666666666,
              "#ed7953"
             ],
             [
              0.7777777777777778,
              "#fb9f3a"
             ],
             [
              0.8888888888888888,
              "#fdca26"
             ],
             [
              1,
              "#f0f921"
             ]
            ],
            "type": "heatmapgl"
           }
          ],
          "histogram": [
           {
            "marker": {
             "pattern": {
              "fillmode": "overlay",
              "size": 10,
              "solidity": 0.2
             }
            },
            "type": "histogram"
           }
          ],
          "histogram2d": [
           {
            "colorbar": {
             "outlinewidth": 0,
             "ticks": ""
            },
            "colorscale": [
             [
              0,
              "#0d0887"
             ],
             [
              0.1111111111111111,
              "#46039f"
             ],
             [
              0.2222222222222222,
              "#7201a8"
             ],
             [
              0.3333333333333333,
              "#9c179e"
             ],
             [
              0.4444444444444444,
              "#bd3786"
             ],
             [
              0.5555555555555556,
              "#d8576b"
             ],
             [
              0.6666666666666666,
              "#ed7953"
             ],
             [
              0.7777777777777778,
              "#fb9f3a"
             ],
             [
              0.8888888888888888,
              "#fdca26"
             ],
             [
              1,
              "#f0f921"
             ]
            ],
            "type": "histogram2d"
           }
          ],
          "histogram2dcontour": [
           {
            "colorbar": {
             "outlinewidth": 0,
             "ticks": ""
            },
            "colorscale": [
             [
              0,
              "#0d0887"
             ],
             [
              0.1111111111111111,
              "#46039f"
             ],
             [
              0.2222222222222222,
              "#7201a8"
             ],
             [
              0.3333333333333333,
              "#9c179e"
             ],
             [
              0.4444444444444444,
              "#bd3786"
             ],
             [
              0.5555555555555556,
              "#d8576b"
             ],
             [
              0.6666666666666666,
              "#ed7953"
             ],
             [
              0.7777777777777778,
              "#fb9f3a"
             ],
             [
              0.8888888888888888,
              "#fdca26"
             ],
             [
              1,
              "#f0f921"
             ]
            ],
            "type": "histogram2dcontour"
           }
          ],
          "mesh3d": [
           {
            "colorbar": {
             "outlinewidth": 0,
             "ticks": ""
            },
            "type": "mesh3d"
           }
          ],
          "parcoords": [
           {
            "line": {
             "colorbar": {
              "outlinewidth": 0,
              "ticks": ""
             }
            },
            "type": "parcoords"
           }
          ],
          "pie": [
           {
            "automargin": true,
            "type": "pie"
           }
          ],
          "scatter": [
           {
            "fillpattern": {
             "fillmode": "overlay",
             "size": 10,
             "solidity": 0.2
            },
            "type": "scatter"
           }
          ],
          "scatter3d": [
           {
            "line": {
             "colorbar": {
              "outlinewidth": 0,
              "ticks": ""
             }
            },
            "marker": {
             "colorbar": {
              "outlinewidth": 0,
              "ticks": ""
             }
            },
            "type": "scatter3d"
           }
          ],
          "scattercarpet": [
           {
            "marker": {
             "colorbar": {
              "outlinewidth": 0,
              "ticks": ""
             }
            },
            "type": "scattercarpet"
           }
          ],
          "scattergeo": [
           {
            "marker": {
             "colorbar": {
              "outlinewidth": 0,
              "ticks": ""
             }
            },
            "type": "scattergeo"
           }
          ],
          "scattergl": [
           {
            "marker": {
             "colorbar": {
              "outlinewidth": 0,
              "ticks": ""
             }
            },
            "type": "scattergl"
           }
          ],
          "scattermapbox": [
           {
            "marker": {
             "colorbar": {
              "outlinewidth": 0,
              "ticks": ""
             }
            },
            "type": "scattermapbox"
           }
          ],
          "scatterpolar": [
           {
            "marker": {
             "colorbar": {
              "outlinewidth": 0,
              "ticks": ""
             }
            },
            "type": "scatterpolar"
           }
          ],
          "scatterpolargl": [
           {
            "marker": {
             "colorbar": {
              "outlinewidth": 0,
              "ticks": ""
             }
            },
            "type": "scatterpolargl"
           }
          ],
          "scatterternary": [
           {
            "marker": {
             "colorbar": {
              "outlinewidth": 0,
              "ticks": ""
             }
            },
            "type": "scatterternary"
           }
          ],
          "surface": [
           {
            "colorbar": {
             "outlinewidth": 0,
             "ticks": ""
            },
            "colorscale": [
             [
              0,
              "#0d0887"
             ],
             [
              0.1111111111111111,
              "#46039f"
             ],
             [
              0.2222222222222222,
              "#7201a8"
             ],
             [
              0.3333333333333333,
              "#9c179e"
             ],
             [
              0.4444444444444444,
              "#bd3786"
             ],
             [
              0.5555555555555556,
              "#d8576b"
             ],
             [
              0.6666666666666666,
              "#ed7953"
             ],
             [
              0.7777777777777778,
              "#fb9f3a"
             ],
             [
              0.8888888888888888,
              "#fdca26"
             ],
             [
              1,
              "#f0f921"
             ]
            ],
            "type": "surface"
           }
          ],
          "table": [
           {
            "cells": {
             "fill": {
              "color": "#EBF0F8"
             },
             "line": {
              "color": "white"
             }
            },
            "header": {
             "fill": {
              "color": "#C8D4E3"
             },
             "line": {
              "color": "white"
             }
            },
            "type": "table"
           }
          ]
         },
         "layout": {
          "annotationdefaults": {
           "arrowcolor": "#2a3f5f",
           "arrowhead": 0,
           "arrowwidth": 1
          },
          "autotypenumbers": "strict",
          "coloraxis": {
           "colorbar": {
            "outlinewidth": 0,
            "ticks": ""
           }
          },
          "colorscale": {
           "diverging": [
            [
             0,
             "#8e0152"
            ],
            [
             0.1,
             "#c51b7d"
            ],
            [
             0.2,
             "#de77ae"
            ],
            [
             0.3,
             "#f1b6da"
            ],
            [
             0.4,
             "#fde0ef"
            ],
            [
             0.5,
             "#f7f7f7"
            ],
            [
             0.6,
             "#e6f5d0"
            ],
            [
             0.7,
             "#b8e186"
            ],
            [
             0.8,
             "#7fbc41"
            ],
            [
             0.9,
             "#4d9221"
            ],
            [
             1,
             "#276419"
            ]
           ],
           "sequential": [
            [
             0,
             "#0d0887"
            ],
            [
             0.1111111111111111,
             "#46039f"
            ],
            [
             0.2222222222222222,
             "#7201a8"
            ],
            [
             0.3333333333333333,
             "#9c179e"
            ],
            [
             0.4444444444444444,
             "#bd3786"
            ],
            [
             0.5555555555555556,
             "#d8576b"
            ],
            [
             0.6666666666666666,
             "#ed7953"
            ],
            [
             0.7777777777777778,
             "#fb9f3a"
            ],
            [
             0.8888888888888888,
             "#fdca26"
            ],
            [
             1,
             "#f0f921"
            ]
           ],
           "sequentialminus": [
            [
             0,
             "#0d0887"
            ],
            [
             0.1111111111111111,
             "#46039f"
            ],
            [
             0.2222222222222222,
             "#7201a8"
            ],
            [
             0.3333333333333333,
             "#9c179e"
            ],
            [
             0.4444444444444444,
             "#bd3786"
            ],
            [
             0.5555555555555556,
             "#d8576b"
            ],
            [
             0.6666666666666666,
             "#ed7953"
            ],
            [
             0.7777777777777778,
             "#fb9f3a"
            ],
            [
             0.8888888888888888,
             "#fdca26"
            ],
            [
             1,
             "#f0f921"
            ]
           ]
          },
          "colorway": [
           "#636efa",
           "#EF553B",
           "#00cc96",
           "#ab63fa",
           "#FFA15A",
           "#19d3f3",
           "#FF6692",
           "#B6E880",
           "#FF97FF",
           "#FECB52"
          ],
          "font": {
           "color": "#2a3f5f"
          },
          "geo": {
           "bgcolor": "white",
           "lakecolor": "white",
           "landcolor": "#E5ECF6",
           "showlakes": true,
           "showland": true,
           "subunitcolor": "white"
          },
          "hoverlabel": {
           "align": "left"
          },
          "hovermode": "closest",
          "mapbox": {
           "style": "light"
          },
          "paper_bgcolor": "white",
          "plot_bgcolor": "#E5ECF6",
          "polar": {
           "angularaxis": {
            "gridcolor": "white",
            "linecolor": "white",
            "ticks": ""
           },
           "bgcolor": "#E5ECF6",
           "radialaxis": {
            "gridcolor": "white",
            "linecolor": "white",
            "ticks": ""
           }
          },
          "scene": {
           "xaxis": {
            "backgroundcolor": "#E5ECF6",
            "gridcolor": "white",
            "gridwidth": 2,
            "linecolor": "white",
            "showbackground": true,
            "ticks": "",
            "zerolinecolor": "white"
           },
           "yaxis": {
            "backgroundcolor": "#E5ECF6",
            "gridcolor": "white",
            "gridwidth": 2,
            "linecolor": "white",
            "showbackground": true,
            "ticks": "",
            "zerolinecolor": "white"
           },
           "zaxis": {
            "backgroundcolor": "#E5ECF6",
            "gridcolor": "white",
            "gridwidth": 2,
            "linecolor": "white",
            "showbackground": true,
            "ticks": "",
            "zerolinecolor": "white"
           }
          },
          "shapedefaults": {
           "line": {
            "color": "#2a3f5f"
           }
          },
          "ternary": {
           "aaxis": {
            "gridcolor": "white",
            "linecolor": "white",
            "ticks": ""
           },
           "baxis": {
            "gridcolor": "white",
            "linecolor": "white",
            "ticks": ""
           },
           "bgcolor": "#E5ECF6",
           "caxis": {
            "gridcolor": "white",
            "linecolor": "white",
            "ticks": ""
           }
          },
          "title": {
           "x": 0.05
          },
          "xaxis": {
           "automargin": true,
           "gridcolor": "white",
           "linecolor": "white",
           "ticks": "",
           "title": {
            "standoff": 15
           },
           "zerolinecolor": "white",
           "zerolinewidth": 2
          },
          "yaxis": {
           "automargin": true,
           "gridcolor": "white",
           "linecolor": "white",
           "ticks": "",
           "title": {
            "standoff": 15
           },
           "zerolinecolor": "white",
           "zerolinewidth": 2
          }
         }
        },
        "title": {
         "font": {
          "color": "#4D5663"
         }
        },
        "xaxis": {
         "gridcolor": "#E1E5ED",
         "showgrid": true,
         "tickfont": {
          "color": "#4D5663"
         },
         "title": {
          "font": {
           "color": "#4D5663"
          },
          "text": ""
         },
         "zerolinecolor": "#E1E5ED"
        },
        "yaxis": {
         "gridcolor": "#E1E5ED",
         "showgrid": true,
         "tickfont": {
          "color": "#4D5663"
         },
         "title": {
          "font": {
           "color": "#4D5663"
          },
          "text": ""
         },
         "zerolinecolor": "#E1E5ED"
        }
       }
      },
      "text/html": [
       "<div>                            <div id=\"c71b1cde-82c2-4ef9-9df9-fbfa9e98c049\" class=\"plotly-graph-div\" style=\"height:525px; width:100%;\"></div>            <script type=\"text/javascript\">                require([\"plotly\"], function(Plotly) {                    window.PLOTLYENV=window.PLOTLYENV || {};\n",
       "                    window.PLOTLYENV.BASE_URL='https://plot.ly';                                    if (document.getElementById(\"c71b1cde-82c2-4ef9-9df9-fbfa9e98c049\")) {                    Plotly.newPlot(                        \"c71b1cde-82c2-4ef9-9df9-fbfa9e98c049\",                        [{\"boxpoints\":false,\"line\":{\"width\":1.3},\"marker\":{\"color\":\"rgba(255, 153, 51, 1.0)\"},\"name\":\"A\",\"orientation\":\"v\",\"y\":[0.11210520528287181,-1.2125651027444957,0.7409111312981095,0.885201543319391,0.6495720102447006,0.4497318430524437,-0.8227725625609245,-1.294165762002869,0.9855697981173399,-0.5377520046761172,-0.3031172198371253,-0.1500255993360721,-0.15110610248577538,-0.2090964311017719,-0.07585730009648514,-1.3996739953678186,-0.7808096785422856,0.7804823868457346,-0.4726179318216493,0.8075332916145921,0.8265765498071171,-0.40051686205745285,0.2461563372526162,1.642512774461098,0.8653929900395896,1.2025276873281612,0.29563577123790996,0.6699092364237134,-0.5452923695273253,-0.4642660511261456,1.2203389016594837,-0.6832499857349542,0.8492085633334253,0.23052258600709793,1.5445264866072617,-1.1329467423665456,-0.67232546831398,0.876560071944188,-0.27424172669120317,-0.07151448482552263,1.5063628674267997,1.2944560448535178,-1.0392861894092036,-0.5090093904636998,-0.7318138881133566,-0.46620502273403186,0.5228787071414007,1.23838969008501,-0.6297993877243587,-0.7479504258438041,-0.4495593740548306,0.7398152476833297,0.7255842573345948,0.003347148807160973,-0.4329333913030693,0.4586954881696664,0.036666042643426836,-0.1339361513503816,-0.6362684884385781,0.2146499988328602,-0.4655225437157507,0.1529032725538335,-0.3540066262700726,-0.4141644630330249,1.05343191356596,-0.677841097495419,0.19873599249106602,-0.20490582376094724,1.0222387046982089,-1.3989681544131,-1.2203626816923638,0.672749421487676,-0.501519404356596,2.139174899771941,-0.43515901640307103,-0.683545675539224,-1.0331252694832604,-0.07990366076929867,1.0958374389814922,-0.69702643893847,-0.7236655629149418,-0.9769212273077479,0.23059071690166782,1.55850667803002,-1.0206168953256678,-0.36320589787435276,2.077857583290241,0.24666320714680753,0.7042456517611484,-0.5840047538610852,2.3134196985855597,0.7827394356659747,-0.16747308355262033,2.2615019778134346,0.33822024810572665,-0.14314982279753402,-1.1387194880336158,0.8329827995371789,1.6834976572725173,-0.6138378805656016],\"type\":\"box\"},{\"boxpoints\":false,\"line\":{\"width\":1.3},\"marker\":{\"color\":\"rgba(55, 128, 191, 1.0)\"},\"name\":\"B\",\"orientation\":\"v\",\"y\":[0.34877639929304477,0.47765838860761517,-0.6263905875973632,0.1807027854947827,1.2594615767283213,2.061675068831658,-0.03731021947626286,1.7329781417734145,1.4333130813951505,0.9890506764267799,-1.1001617423787067,-1.8425241553298872,0.12647381880286843,-0.5667278395663506,1.0765047790528184,-0.072187928899968,-1.4939821526414747,1.2250226052736675,-0.5627956916404978,-1.6253699343440684,-0.37390199280900366,-0.6988185633546334,-1.1809630572804546,-0.5261183173161714,-0.08483998434967485,0.18397446574770657,-1.4020526622338747,-0.9872052448225611,-1.2602997742322197,1.4158630293339085,1.1127916502637767,-0.5066832717598071,-0.13284209176116912,-0.6061971921148425,-1.238221468967239,-0.5061225446605018,-0.4096323118303564,1.2167027519421492,-0.5102071701182289,0.28262182391342544,-0.3765981294368762,0.04718398099843374,0.05680342464168321,-0.6005266438272082,-1.8831852841927446,-0.1711241484689935,-1.5186505364155414,-2.337338947803129,-0.43173258591565306,0.39462380711175676,0.8427369707294584,1.508091700619213,0.2641263148842725,-0.42026973874239537,-0.07702487444973369,0.9439105595970312,0.2857049807385942,-0.14837882491603224,1.604875764248128,-0.4243919363715126,-0.8234329625172128,-0.1684256938792784,-0.2832599679287647,-0.44014972721508755,0.34387113719813567,1.4616498923500858,-1.2953836162942385,-1.4225765018916163,0.6740954409511553,0.5280663485164603,0.008574824129091541,-0.3936975898119114,-0.1656412725355856,1.060920834100708,0.5619611732578766,-0.32141143247707743,0.5204048885335,-0.2141654435103684,1.8096046094913567,0.8648679031283714,1.2335563328361652,1.487910251127614,0.5811363913129524,-0.4630649106528774,1.402913102256703,-0.724008863995739,-0.8271466432358756,1.8422943874063789,1.3184986675534738,0.4184235058743894,2.002491545005831,-0.5144366697315794,-1.2755498394658389,-1.0337236869460253,0.8715878530582845,0.7468346959663863,-0.4687072125790365,0.667070725780239,-0.9693651544841688,0.46823699499309474],\"type\":\"box\"},{\"boxpoints\":false,\"line\":{\"width\":1.3},\"marker\":{\"color\":\"rgba(50, 171, 96, 1.0)\"},\"name\":\"C\",\"orientation\":\"v\",\"y\":[-1.1211331025175668,-0.7261762388252994,-1.2438085323718588,-0.6190321616326958,-1.9438488507496778,0.832562470750774,-1.0170613764003906,1.2873824039505335,-0.1482711888413955,-0.7266035459129176,0.27200960572773253,-1.0255850046160957,0.11772888238898713,-0.02231609837412165,1.554251011828754,-0.8592817381016843,0.4176194934055473,-1.1881377957979329,-0.697129146713574,-1.245637958270208,-0.23836913771397847,0.3791928530912932,0.9938098483355025,1.547488835689764,1.2732304242359873,-0.9968286361062502,-0.26972758190073537,-0.20976385454083696,-0.01579307930739997,1.050169318138185,0.2402759013315607,0.007394744425599799,0.13609258886305312,0.9976250944965989,0.3226802229815181,-0.41730270368941813,-0.3292086361870174,0.5427285803407195,-1.0507569634304434,0.7919028868869887,1.219598692220043,-0.7411779250443291,-0.7942910635446948,0.33392202140758553,1.1691376867722687,0.879253657761465,-1.1369197800014754,-0.5941563679217342,1.0594510376155917,0.5706328163008199,0.8490610231806268,-0.29218180241556335,-1.4342244086892253,0.6133840053399411,-0.05475678253185107,-0.5143146733073986,0.7574339549789404,0.8717732160922348,2.3384599548717957,0.5927168682368055,-1.5027726466070535,-1.1844405249507508,-0.3650321215956685,0.17168934363041033,-0.12764624092108845,0.37755645992308523,0.20821583460213083,0.7491393591136202,-1.107178191229706,-0.2447329542638256,-1.345995945434097,0.9623088045033491,0.2301913131792505,-1.3986623919713788,0.8088355463716537,0.3434734580150389,-0.7511800570674204,-0.06097009960590071,-0.5374066968472037,-0.6438759288601867,0.17925875563887067,2.1515336845805058,0.5121097030568134,-0.3179743347441989,1.4556731915128707,1.1845669886385128,0.01546990615056539,0.3237910425363089,0.3968360445393282,0.9416027576052989,-1.290447163047456,-0.6205125275646477,0.21452875086814324,0.7457696284687445,-0.00851458514332476,0.31434109804891813,-0.5729165292757157,0.13023011474506455,1.2163290208755997,-0.8945876363498282],\"type\":\"box\"},{\"boxpoints\":false,\"line\":{\"width\":1.3},\"marker\":{\"color\":\"rgba(128, 0, 128, 1.0)\"},\"name\":\"D\",\"orientation\":\"v\",\"y\":[2.156950813602235,0.11378645616820725,0.7037921761475658,0.042225867130420265,1.4400669874552414,-0.31897721511155447,-0.831390509247544,0.4494721838126546,0.7474434740901021,1.6030071615403456,-1.557541654630139,-0.44345005109650865,-0.2771640666867262,0.8238429887923545,0.7348930590532228,-0.9578339660875196,2.097840729691086,0.6264957038776572,-0.7052031997376692,0.00572170439209791,-0.939677030404423,0.9691285599363695,-0.3235186972548601,0.5688476689965231,-0.473797963597531,0.37326501668982803,0.7938014330054607,-0.007574678895425695,-0.25592482076449125,-0.5567657605486981,0.6151917258381199,1.5502758310747535,1.2087981434297093,0.5305234314458622,0.9775520154862789,-0.5014218419641729,-1.3834681058020304,-0.19612876373145385,-0.00024411970205643802,-0.15888407032471244,-0.2711551838022481,0.3965956888007911,-0.9402156938489229,0.8731192034005153,0.9524445999351169,-1.331818386061884,-0.15452586127733342,-1.2986069531814386,0.28185919251712527,-0.15876616072929536,1.6280441602610007,-1.0931129887689939,-0.9299535608994248,1.0542560493971744,-0.7919080144806729,-0.06890805259918124,-1.347554240611548,0.0537671277458208,0.14594298113481366,0.34072095083261067,1.431317729194986,1.0038789522292986,0.07277961988271907,3.1404897651077954,-0.765925404973094,0.7522455351534968,-0.1513929843945055,1.0190564098220085,0.11883469366750704,0.6247916774135364,-1.390359946444874,1.1427926094326617,0.49871016681860175,-1.3545545411569602,-0.056169053138795444,-1.6133086357452207,-0.5364460138217012,-0.4186483998075414,-0.23274018481473174,3.187229996232726,-1.084322428595103,2.2200757629063657,1.6940353038669425,1.9514123800069385,0.5884598217039522,-0.1705398192674961,0.09609244023082661,-1.0595090373348741,1.5197386654256932,0.4377827077963493,0.5383014544046524,-0.47045746748025574,-1.6105233646816908,-0.44069268650121796,2.3899559875095684,0.7592961299427361,-0.4215752896824788,-0.9209612450433411,-0.8715047999946479,-0.5112144418994965],\"type\":\"box\"}],                        {\"legend\":{\"bgcolor\":\"#F5F6F9\",\"font\":{\"color\":\"#4D5663\"}},\"paper_bgcolor\":\"#F5F6F9\",\"plot_bgcolor\":\"#F5F6F9\",\"template\":{\"data\":{\"barpolar\":[{\"marker\":{\"line\":{\"color\":\"#E5ECF6\",\"width\":0.5},\"pattern\":{\"fillmode\":\"overlay\",\"size\":10,\"solidity\":0.2}},\"type\":\"barpolar\"}],\"bar\":[{\"error_x\":{\"color\":\"#2a3f5f\"},\"error_y\":{\"color\":\"#2a3f5f\"},\"marker\":{\"line\":{\"color\":\"#E5ECF6\",\"width\":0.5},\"pattern\":{\"fillmode\":\"overlay\",\"size\":10,\"solidity\":0.2}},\"type\":\"bar\"}],\"carpet\":[{\"aaxis\":{\"endlinecolor\":\"#2a3f5f\",\"gridcolor\":\"white\",\"linecolor\":\"white\",\"minorgridcolor\":\"white\",\"startlinecolor\":\"#2a3f5f\"},\"baxis\":{\"endlinecolor\":\"#2a3f5f\",\"gridcolor\":\"white\",\"linecolor\":\"white\",\"minorgridcolor\":\"white\",\"startlinecolor\":\"#2a3f5f\"},\"type\":\"carpet\"}],\"choropleth\":[{\"colorbar\":{\"outlinewidth\":0,\"ticks\":\"\"},\"type\":\"choropleth\"}],\"contourcarpet\":[{\"colorbar\":{\"outlinewidth\":0,\"ticks\":\"\"},\"type\":\"contourcarpet\"}],\"contour\":[{\"colorbar\":{\"outlinewidth\":0,\"ticks\":\"\"},\"colorscale\":[[0.0,\"#0d0887\"],[0.1111111111111111,\"#46039f\"],[0.2222222222222222,\"#7201a8\"],[0.3333333333333333,\"#9c179e\"],[0.4444444444444444,\"#bd3786\"],[0.5555555555555556,\"#d8576b\"],[0.6666666666666666,\"#ed7953\"],[0.7777777777777778,\"#fb9f3a\"],[0.8888888888888888,\"#fdca26\"],[1.0,\"#f0f921\"]],\"type\":\"contour\"}],\"heatmapgl\":[{\"colorbar\":{\"outlinewidth\":0,\"ticks\":\"\"},\"colorscale\":[[0.0,\"#0d0887\"],[0.1111111111111111,\"#46039f\"],[0.2222222222222222,\"#7201a8\"],[0.3333333333333333,\"#9c179e\"],[0.4444444444444444,\"#bd3786\"],[0.5555555555555556,\"#d8576b\"],[0.6666666666666666,\"#ed7953\"],[0.7777777777777778,\"#fb9f3a\"],[0.8888888888888888,\"#fdca26\"],[1.0,\"#f0f921\"]],\"type\":\"heatmapgl\"}],\"heatmap\":[{\"colorbar\":{\"outlinewidth\":0,\"ticks\":\"\"},\"colorscale\":[[0.0,\"#0d0887\"],[0.1111111111111111,\"#46039f\"],[0.2222222222222222,\"#7201a8\"],[0.3333333333333333,\"#9c179e\"],[0.4444444444444444,\"#bd3786\"],[0.5555555555555556,\"#d8576b\"],[0.6666666666666666,\"#ed7953\"],[0.7777777777777778,\"#fb9f3a\"],[0.8888888888888888,\"#fdca26\"],[1.0,\"#f0f921\"]],\"type\":\"heatmap\"}],\"histogram2dcontour\":[{\"colorbar\":{\"outlinewidth\":0,\"ticks\":\"\"},\"colorscale\":[[0.0,\"#0d0887\"],[0.1111111111111111,\"#46039f\"],[0.2222222222222222,\"#7201a8\"],[0.3333333333333333,\"#9c179e\"],[0.4444444444444444,\"#bd3786\"],[0.5555555555555556,\"#d8576b\"],[0.6666666666666666,\"#ed7953\"],[0.7777777777777778,\"#fb9f3a\"],[0.8888888888888888,\"#fdca26\"],[1.0,\"#f0f921\"]],\"type\":\"histogram2dcontour\"}],\"histogram2d\":[{\"colorbar\":{\"outlinewidth\":0,\"ticks\":\"\"},\"colorscale\":[[0.0,\"#0d0887\"],[0.1111111111111111,\"#46039f\"],[0.2222222222222222,\"#7201a8\"],[0.3333333333333333,\"#9c179e\"],[0.4444444444444444,\"#bd3786\"],[0.5555555555555556,\"#d8576b\"],[0.6666666666666666,\"#ed7953\"],[0.7777777777777778,\"#fb9f3a\"],[0.8888888888888888,\"#fdca26\"],[1.0,\"#f0f921\"]],\"type\":\"histogram2d\"}],\"histogram\":[{\"marker\":{\"pattern\":{\"fillmode\":\"overlay\",\"size\":10,\"solidity\":0.2}},\"type\":\"histogram\"}],\"mesh3d\":[{\"colorbar\":{\"outlinewidth\":0,\"ticks\":\"\"},\"type\":\"mesh3d\"}],\"parcoords\":[{\"line\":{\"colorbar\":{\"outlinewidth\":0,\"ticks\":\"\"}},\"type\":\"parcoords\"}],\"pie\":[{\"automargin\":true,\"type\":\"pie\"}],\"scatter3d\":[{\"line\":{\"colorbar\":{\"outlinewidth\":0,\"ticks\":\"\"}},\"marker\":{\"colorbar\":{\"outlinewidth\":0,\"ticks\":\"\"}},\"type\":\"scatter3d\"}],\"scattercarpet\":[{\"marker\":{\"colorbar\":{\"outlinewidth\":0,\"ticks\":\"\"}},\"type\":\"scattercarpet\"}],\"scattergeo\":[{\"marker\":{\"colorbar\":{\"outlinewidth\":0,\"ticks\":\"\"}},\"type\":\"scattergeo\"}],\"scattergl\":[{\"marker\":{\"colorbar\":{\"outlinewidth\":0,\"ticks\":\"\"}},\"type\":\"scattergl\"}],\"scattermapbox\":[{\"marker\":{\"colorbar\":{\"outlinewidth\":0,\"ticks\":\"\"}},\"type\":\"scattermapbox\"}],\"scatterpolargl\":[{\"marker\":{\"colorbar\":{\"outlinewidth\":0,\"ticks\":\"\"}},\"type\":\"scatterpolargl\"}],\"scatterpolar\":[{\"marker\":{\"colorbar\":{\"outlinewidth\":0,\"ticks\":\"\"}},\"type\":\"scatterpolar\"}],\"scatter\":[{\"fillpattern\":{\"fillmode\":\"overlay\",\"size\":10,\"solidity\":0.2},\"type\":\"scatter\"}],\"scatterternary\":[{\"marker\":{\"colorbar\":{\"outlinewidth\":0,\"ticks\":\"\"}},\"type\":\"scatterternary\"}],\"surface\":[{\"colorbar\":{\"outlinewidth\":0,\"ticks\":\"\"},\"colorscale\":[[0.0,\"#0d0887\"],[0.1111111111111111,\"#46039f\"],[0.2222222222222222,\"#7201a8\"],[0.3333333333333333,\"#9c179e\"],[0.4444444444444444,\"#bd3786\"],[0.5555555555555556,\"#d8576b\"],[0.6666666666666666,\"#ed7953\"],[0.7777777777777778,\"#fb9f3a\"],[0.8888888888888888,\"#fdca26\"],[1.0,\"#f0f921\"]],\"type\":\"surface\"}],\"table\":[{\"cells\":{\"fill\":{\"color\":\"#EBF0F8\"},\"line\":{\"color\":\"white\"}},\"header\":{\"fill\":{\"color\":\"#C8D4E3\"},\"line\":{\"color\":\"white\"}},\"type\":\"table\"}]},\"layout\":{\"annotationdefaults\":{\"arrowcolor\":\"#2a3f5f\",\"arrowhead\":0,\"arrowwidth\":1},\"autotypenumbers\":\"strict\",\"coloraxis\":{\"colorbar\":{\"outlinewidth\":0,\"ticks\":\"\"}},\"colorscale\":{\"diverging\":[[0,\"#8e0152\"],[0.1,\"#c51b7d\"],[0.2,\"#de77ae\"],[0.3,\"#f1b6da\"],[0.4,\"#fde0ef\"],[0.5,\"#f7f7f7\"],[0.6,\"#e6f5d0\"],[0.7,\"#b8e186\"],[0.8,\"#7fbc41\"],[0.9,\"#4d9221\"],[1,\"#276419\"]],\"sequential\":[[0.0,\"#0d0887\"],[0.1111111111111111,\"#46039f\"],[0.2222222222222222,\"#7201a8\"],[0.3333333333333333,\"#9c179e\"],[0.4444444444444444,\"#bd3786\"],[0.5555555555555556,\"#d8576b\"],[0.6666666666666666,\"#ed7953\"],[0.7777777777777778,\"#fb9f3a\"],[0.8888888888888888,\"#fdca26\"],[1.0,\"#f0f921\"]],\"sequentialminus\":[[0.0,\"#0d0887\"],[0.1111111111111111,\"#46039f\"],[0.2222222222222222,\"#7201a8\"],[0.3333333333333333,\"#9c179e\"],[0.4444444444444444,\"#bd3786\"],[0.5555555555555556,\"#d8576b\"],[0.6666666666666666,\"#ed7953\"],[0.7777777777777778,\"#fb9f3a\"],[0.8888888888888888,\"#fdca26\"],[1.0,\"#f0f921\"]]},\"colorway\":[\"#636efa\",\"#EF553B\",\"#00cc96\",\"#ab63fa\",\"#FFA15A\",\"#19d3f3\",\"#FF6692\",\"#B6E880\",\"#FF97FF\",\"#FECB52\"],\"font\":{\"color\":\"#2a3f5f\"},\"geo\":{\"bgcolor\":\"white\",\"lakecolor\":\"white\",\"landcolor\":\"#E5ECF6\",\"showlakes\":true,\"showland\":true,\"subunitcolor\":\"white\"},\"hoverlabel\":{\"align\":\"left\"},\"hovermode\":\"closest\",\"mapbox\":{\"style\":\"light\"},\"paper_bgcolor\":\"white\",\"plot_bgcolor\":\"#E5ECF6\",\"polar\":{\"angularaxis\":{\"gridcolor\":\"white\",\"linecolor\":\"white\",\"ticks\":\"\"},\"bgcolor\":\"#E5ECF6\",\"radialaxis\":{\"gridcolor\":\"white\",\"linecolor\":\"white\",\"ticks\":\"\"}},\"scene\":{\"xaxis\":{\"backgroundcolor\":\"#E5ECF6\",\"gridcolor\":\"white\",\"gridwidth\":2,\"linecolor\":\"white\",\"showbackground\":true,\"ticks\":\"\",\"zerolinecolor\":\"white\"},\"yaxis\":{\"backgroundcolor\":\"#E5ECF6\",\"gridcolor\":\"white\",\"gridwidth\":2,\"linecolor\":\"white\",\"showbackground\":true,\"ticks\":\"\",\"zerolinecolor\":\"white\"},\"zaxis\":{\"backgroundcolor\":\"#E5ECF6\",\"gridcolor\":\"white\",\"gridwidth\":2,\"linecolor\":\"white\",\"showbackground\":true,\"ticks\":\"\",\"zerolinecolor\":\"white\"}},\"shapedefaults\":{\"line\":{\"color\":\"#2a3f5f\"}},\"ternary\":{\"aaxis\":{\"gridcolor\":\"white\",\"linecolor\":\"white\",\"ticks\":\"\"},\"baxis\":{\"gridcolor\":\"white\",\"linecolor\":\"white\",\"ticks\":\"\"},\"bgcolor\":\"#E5ECF6\",\"caxis\":{\"gridcolor\":\"white\",\"linecolor\":\"white\",\"ticks\":\"\"}},\"title\":{\"x\":0.05},\"xaxis\":{\"automargin\":true,\"gridcolor\":\"white\",\"linecolor\":\"white\",\"ticks\":\"\",\"title\":{\"standoff\":15},\"zerolinecolor\":\"white\",\"zerolinewidth\":2},\"yaxis\":{\"automargin\":true,\"gridcolor\":\"white\",\"linecolor\":\"white\",\"ticks\":\"\",\"title\":{\"standoff\":15},\"zerolinecolor\":\"white\",\"zerolinewidth\":2}}},\"title\":{\"font\":{\"color\":\"#4D5663\"}},\"xaxis\":{\"gridcolor\":\"#E1E5ED\",\"showgrid\":true,\"tickfont\":{\"color\":\"#4D5663\"},\"title\":{\"font\":{\"color\":\"#4D5663\"},\"text\":\"\"},\"zerolinecolor\":\"#E1E5ED\"},\"yaxis\":{\"gridcolor\":\"#E1E5ED\",\"showgrid\":true,\"tickfont\":{\"color\":\"#4D5663\"},\"title\":{\"font\":{\"color\":\"#4D5663\"},\"text\":\"\"},\"zerolinecolor\":\"#E1E5ED\"}},                        {\"showLink\": true, \"linkText\": \"Export to plot.ly\", \"plotlyServerURL\": \"https://plot.ly\", \"responsive\": true}                    ).then(function(){\n",
       "                            \n",
       "var gd = document.getElementById('c71b1cde-82c2-4ef9-9df9-fbfa9e98c049');\n",
       "var x = new MutationObserver(function (mutations, observer) {{\n",
       "        var display = window.getComputedStyle(gd).display;\n",
       "        if (!display || display === 'none') {{\n",
       "            console.log([gd, 'removed!']);\n",
       "            Plotly.purge(gd);\n",
       "            observer.disconnect();\n",
       "        }}\n",
       "}});\n",
       "\n",
       "// Listen for the removal of the full notebook cells\n",
       "var notebookContainer = gd.closest('#notebook-container');\n",
       "if (notebookContainer) {{\n",
       "    x.observe(notebookContainer, {childList: true});\n",
       "}}\n",
       "\n",
       "// Listen for the clearing of the current output cell\n",
       "var outputEl = gd.closest('.output');\n",
       "if (outputEl) {{\n",
       "    x.observe(outputEl, {childList: true});\n",
       "}}\n",
       "\n",
       "                        })                };                });            </script>        </div>"
      ]
     },
     "metadata": {},
     "output_type": "display_data"
    }
   ],
   "source": [
    "df.iplot(kind='box')"
   ]
  },
  {
   "cell_type": "markdown",
   "metadata": {},
   "source": [
    "## 3d Surface"
   ]
  },
  {
   "cell_type": "code",
   "execution_count": 14,
   "metadata": {},
   "outputs": [
    {
     "data": {
      "application/vnd.plotly.v1+json": {
       "config": {
        "linkText": "Export to plot.ly",
        "plotlyServerURL": "https://plot.ly",
        "showLink": true
       },
       "data": [
        {
         "colorscale": [
          [
           0,
           "rgb(165,0,38)"
          ],
          [
           0.1,
           "rgb(215,48,39)"
          ],
          [
           0.2,
           "rgb(244,109,67)"
          ],
          [
           0.3,
           "rgb(253,174,97)"
          ],
          [
           0.4,
           "rgb(254,224,144)"
          ],
          [
           0.5,
           "rgb(255,255,191)"
          ],
          [
           0.6,
           "rgb(224,243,248)"
          ],
          [
           0.7,
           "rgb(171,217,233)"
          ],
          [
           0.8,
           "rgb(116,173,209)"
          ],
          [
           0.9,
           "rgb(69,117,180)"
          ],
          [
           1,
           "rgb(49,54,149)"
          ]
         ],
         "type": "surface",
         "x": [
          0,
          1,
          2,
          3,
          4
         ],
         "y": [
          "x",
          "y",
          "z"
         ],
         "z": [
          [
           1,
           2,
           3,
           4,
           5
          ],
          [
           10,
           20,
           30,
           20,
           10
          ],
          [
           5,
           4,
           3,
           2,
           1
          ]
         ]
        }
       ],
       "layout": {
        "legend": {
         "bgcolor": "#F5F6F9",
         "font": {
          "color": "#4D5663"
         }
        },
        "paper_bgcolor": "#F5F6F9",
        "plot_bgcolor": "#F5F6F9",
        "template": {
         "data": {
          "bar": [
           {
            "error_x": {
             "color": "#2a3f5f"
            },
            "error_y": {
             "color": "#2a3f5f"
            },
            "marker": {
             "line": {
              "color": "#E5ECF6",
              "width": 0.5
             },
             "pattern": {
              "fillmode": "overlay",
              "size": 10,
              "solidity": 0.2
             }
            },
            "type": "bar"
           }
          ],
          "barpolar": [
           {
            "marker": {
             "line": {
              "color": "#E5ECF6",
              "width": 0.5
             },
             "pattern": {
              "fillmode": "overlay",
              "size": 10,
              "solidity": 0.2
             }
            },
            "type": "barpolar"
           }
          ],
          "carpet": [
           {
            "aaxis": {
             "endlinecolor": "#2a3f5f",
             "gridcolor": "white",
             "linecolor": "white",
             "minorgridcolor": "white",
             "startlinecolor": "#2a3f5f"
            },
            "baxis": {
             "endlinecolor": "#2a3f5f",
             "gridcolor": "white",
             "linecolor": "white",
             "minorgridcolor": "white",
             "startlinecolor": "#2a3f5f"
            },
            "type": "carpet"
           }
          ],
          "choropleth": [
           {
            "colorbar": {
             "outlinewidth": 0,
             "ticks": ""
            },
            "type": "choropleth"
           }
          ],
          "contour": [
           {
            "colorbar": {
             "outlinewidth": 0,
             "ticks": ""
            },
            "colorscale": [
             [
              0,
              "#0d0887"
             ],
             [
              0.1111111111111111,
              "#46039f"
             ],
             [
              0.2222222222222222,
              "#7201a8"
             ],
             [
              0.3333333333333333,
              "#9c179e"
             ],
             [
              0.4444444444444444,
              "#bd3786"
             ],
             [
              0.5555555555555556,
              "#d8576b"
             ],
             [
              0.6666666666666666,
              "#ed7953"
             ],
             [
              0.7777777777777778,
              "#fb9f3a"
             ],
             [
              0.8888888888888888,
              "#fdca26"
             ],
             [
              1,
              "#f0f921"
             ]
            ],
            "type": "contour"
           }
          ],
          "contourcarpet": [
           {
            "colorbar": {
             "outlinewidth": 0,
             "ticks": ""
            },
            "type": "contourcarpet"
           }
          ],
          "heatmap": [
           {
            "colorbar": {
             "outlinewidth": 0,
             "ticks": ""
            },
            "colorscale": [
             [
              0,
              "#0d0887"
             ],
             [
              0.1111111111111111,
              "#46039f"
             ],
             [
              0.2222222222222222,
              "#7201a8"
             ],
             [
              0.3333333333333333,
              "#9c179e"
             ],
             [
              0.4444444444444444,
              "#bd3786"
             ],
             [
              0.5555555555555556,
              "#d8576b"
             ],
             [
              0.6666666666666666,
              "#ed7953"
             ],
             [
              0.7777777777777778,
              "#fb9f3a"
             ],
             [
              0.8888888888888888,
              "#fdca26"
             ],
             [
              1,
              "#f0f921"
             ]
            ],
            "type": "heatmap"
           }
          ],
          "heatmapgl": [
           {
            "colorbar": {
             "outlinewidth": 0,
             "ticks": ""
            },
            "colorscale": [
             [
              0,
              "#0d0887"
             ],
             [
              0.1111111111111111,
              "#46039f"
             ],
             [
              0.2222222222222222,
              "#7201a8"
             ],
             [
              0.3333333333333333,
              "#9c179e"
             ],
             [
              0.4444444444444444,
              "#bd3786"
             ],
             [
              0.5555555555555556,
              "#d8576b"
             ],
             [
              0.6666666666666666,
              "#ed7953"
             ],
             [
              0.7777777777777778,
              "#fb9f3a"
             ],
             [
              0.8888888888888888,
              "#fdca26"
             ],
             [
              1,
              "#f0f921"
             ]
            ],
            "type": "heatmapgl"
           }
          ],
          "histogram": [
           {
            "marker": {
             "pattern": {
              "fillmode": "overlay",
              "size": 10,
              "solidity": 0.2
             }
            },
            "type": "histogram"
           }
          ],
          "histogram2d": [
           {
            "colorbar": {
             "outlinewidth": 0,
             "ticks": ""
            },
            "colorscale": [
             [
              0,
              "#0d0887"
             ],
             [
              0.1111111111111111,
              "#46039f"
             ],
             [
              0.2222222222222222,
              "#7201a8"
             ],
             [
              0.3333333333333333,
              "#9c179e"
             ],
             [
              0.4444444444444444,
              "#bd3786"
             ],
             [
              0.5555555555555556,
              "#d8576b"
             ],
             [
              0.6666666666666666,
              "#ed7953"
             ],
             [
              0.7777777777777778,
              "#fb9f3a"
             ],
             [
              0.8888888888888888,
              "#fdca26"
             ],
             [
              1,
              "#f0f921"
             ]
            ],
            "type": "histogram2d"
           }
          ],
          "histogram2dcontour": [
           {
            "colorbar": {
             "outlinewidth": 0,
             "ticks": ""
            },
            "colorscale": [
             [
              0,
              "#0d0887"
             ],
             [
              0.1111111111111111,
              "#46039f"
             ],
             [
              0.2222222222222222,
              "#7201a8"
             ],
             [
              0.3333333333333333,
              "#9c179e"
             ],
             [
              0.4444444444444444,
              "#bd3786"
             ],
             [
              0.5555555555555556,
              "#d8576b"
             ],
             [
              0.6666666666666666,
              "#ed7953"
             ],
             [
              0.7777777777777778,
              "#fb9f3a"
             ],
             [
              0.8888888888888888,
              "#fdca26"
             ],
             [
              1,
              "#f0f921"
             ]
            ],
            "type": "histogram2dcontour"
           }
          ],
          "mesh3d": [
           {
            "colorbar": {
             "outlinewidth": 0,
             "ticks": ""
            },
            "type": "mesh3d"
           }
          ],
          "parcoords": [
           {
            "line": {
             "colorbar": {
              "outlinewidth": 0,
              "ticks": ""
             }
            },
            "type": "parcoords"
           }
          ],
          "pie": [
           {
            "automargin": true,
            "type": "pie"
           }
          ],
          "scatter": [
           {
            "fillpattern": {
             "fillmode": "overlay",
             "size": 10,
             "solidity": 0.2
            },
            "type": "scatter"
           }
          ],
          "scatter3d": [
           {
            "line": {
             "colorbar": {
              "outlinewidth": 0,
              "ticks": ""
             }
            },
            "marker": {
             "colorbar": {
              "outlinewidth": 0,
              "ticks": ""
             }
            },
            "type": "scatter3d"
           }
          ],
          "scattercarpet": [
           {
            "marker": {
             "colorbar": {
              "outlinewidth": 0,
              "ticks": ""
             }
            },
            "type": "scattercarpet"
           }
          ],
          "scattergeo": [
           {
            "marker": {
             "colorbar": {
              "outlinewidth": 0,
              "ticks": ""
             }
            },
            "type": "scattergeo"
           }
          ],
          "scattergl": [
           {
            "marker": {
             "colorbar": {
              "outlinewidth": 0,
              "ticks": ""
             }
            },
            "type": "scattergl"
           }
          ],
          "scattermapbox": [
           {
            "marker": {
             "colorbar": {
              "outlinewidth": 0,
              "ticks": ""
             }
            },
            "type": "scattermapbox"
           }
          ],
          "scatterpolar": [
           {
            "marker": {
             "colorbar": {
              "outlinewidth": 0,
              "ticks": ""
             }
            },
            "type": "scatterpolar"
           }
          ],
          "scatterpolargl": [
           {
            "marker": {
             "colorbar": {
              "outlinewidth": 0,
              "ticks": ""
             }
            },
            "type": "scatterpolargl"
           }
          ],
          "scatterternary": [
           {
            "marker": {
             "colorbar": {
              "outlinewidth": 0,
              "ticks": ""
             }
            },
            "type": "scatterternary"
           }
          ],
          "surface": [
           {
            "colorbar": {
             "outlinewidth": 0,
             "ticks": ""
            },
            "colorscale": [
             [
              0,
              "#0d0887"
             ],
             [
              0.1111111111111111,
              "#46039f"
             ],
             [
              0.2222222222222222,
              "#7201a8"
             ],
             [
              0.3333333333333333,
              "#9c179e"
             ],
             [
              0.4444444444444444,
              "#bd3786"
             ],
             [
              0.5555555555555556,
              "#d8576b"
             ],
             [
              0.6666666666666666,
              "#ed7953"
             ],
             [
              0.7777777777777778,
              "#fb9f3a"
             ],
             [
              0.8888888888888888,
              "#fdca26"
             ],
             [
              1,
              "#f0f921"
             ]
            ],
            "type": "surface"
           }
          ],
          "table": [
           {
            "cells": {
             "fill": {
              "color": "#EBF0F8"
             },
             "line": {
              "color": "white"
             }
            },
            "header": {
             "fill": {
              "color": "#C8D4E3"
             },
             "line": {
              "color": "white"
             }
            },
            "type": "table"
           }
          ]
         },
         "layout": {
          "annotationdefaults": {
           "arrowcolor": "#2a3f5f",
           "arrowhead": 0,
           "arrowwidth": 1
          },
          "autotypenumbers": "strict",
          "coloraxis": {
           "colorbar": {
            "outlinewidth": 0,
            "ticks": ""
           }
          },
          "colorscale": {
           "diverging": [
            [
             0,
             "#8e0152"
            ],
            [
             0.1,
             "#c51b7d"
            ],
            [
             0.2,
             "#de77ae"
            ],
            [
             0.3,
             "#f1b6da"
            ],
            [
             0.4,
             "#fde0ef"
            ],
            [
             0.5,
             "#f7f7f7"
            ],
            [
             0.6,
             "#e6f5d0"
            ],
            [
             0.7,
             "#b8e186"
            ],
            [
             0.8,
             "#7fbc41"
            ],
            [
             0.9,
             "#4d9221"
            ],
            [
             1,
             "#276419"
            ]
           ],
           "sequential": [
            [
             0,
             "#0d0887"
            ],
            [
             0.1111111111111111,
             "#46039f"
            ],
            [
             0.2222222222222222,
             "#7201a8"
            ],
            [
             0.3333333333333333,
             "#9c179e"
            ],
            [
             0.4444444444444444,
             "#bd3786"
            ],
            [
             0.5555555555555556,
             "#d8576b"
            ],
            [
             0.6666666666666666,
             "#ed7953"
            ],
            [
             0.7777777777777778,
             "#fb9f3a"
            ],
            [
             0.8888888888888888,
             "#fdca26"
            ],
            [
             1,
             "#f0f921"
            ]
           ],
           "sequentialminus": [
            [
             0,
             "#0d0887"
            ],
            [
             0.1111111111111111,
             "#46039f"
            ],
            [
             0.2222222222222222,
             "#7201a8"
            ],
            [
             0.3333333333333333,
             "#9c179e"
            ],
            [
             0.4444444444444444,
             "#bd3786"
            ],
            [
             0.5555555555555556,
             "#d8576b"
            ],
            [
             0.6666666666666666,
             "#ed7953"
            ],
            [
             0.7777777777777778,
             "#fb9f3a"
            ],
            [
             0.8888888888888888,
             "#fdca26"
            ],
            [
             1,
             "#f0f921"
            ]
           ]
          },
          "colorway": [
           "#636efa",
           "#EF553B",
           "#00cc96",
           "#ab63fa",
           "#FFA15A",
           "#19d3f3",
           "#FF6692",
           "#B6E880",
           "#FF97FF",
           "#FECB52"
          ],
          "font": {
           "color": "#2a3f5f"
          },
          "geo": {
           "bgcolor": "white",
           "lakecolor": "white",
           "landcolor": "#E5ECF6",
           "showlakes": true,
           "showland": true,
           "subunitcolor": "white"
          },
          "hoverlabel": {
           "align": "left"
          },
          "hovermode": "closest",
          "mapbox": {
           "style": "light"
          },
          "paper_bgcolor": "white",
          "plot_bgcolor": "#E5ECF6",
          "polar": {
           "angularaxis": {
            "gridcolor": "white",
            "linecolor": "white",
            "ticks": ""
           },
           "bgcolor": "#E5ECF6",
           "radialaxis": {
            "gridcolor": "white",
            "linecolor": "white",
            "ticks": ""
           }
          },
          "scene": {
           "xaxis": {
            "backgroundcolor": "#E5ECF6",
            "gridcolor": "white",
            "gridwidth": 2,
            "linecolor": "white",
            "showbackground": true,
            "ticks": "",
            "zerolinecolor": "white"
           },
           "yaxis": {
            "backgroundcolor": "#E5ECF6",
            "gridcolor": "white",
            "gridwidth": 2,
            "linecolor": "white",
            "showbackground": true,
            "ticks": "",
            "zerolinecolor": "white"
           },
           "zaxis": {
            "backgroundcolor": "#E5ECF6",
            "gridcolor": "white",
            "gridwidth": 2,
            "linecolor": "white",
            "showbackground": true,
            "ticks": "",
            "zerolinecolor": "white"
           }
          },
          "shapedefaults": {
           "line": {
            "color": "#2a3f5f"
           }
          },
          "ternary": {
           "aaxis": {
            "gridcolor": "white",
            "linecolor": "white",
            "ticks": ""
           },
           "baxis": {
            "gridcolor": "white",
            "linecolor": "white",
            "ticks": ""
           },
           "bgcolor": "#E5ECF6",
           "caxis": {
            "gridcolor": "white",
            "linecolor": "white",
            "ticks": ""
           }
          },
          "title": {
           "x": 0.05
          },
          "xaxis": {
           "automargin": true,
           "gridcolor": "white",
           "linecolor": "white",
           "ticks": "",
           "title": {
            "standoff": 15
           },
           "zerolinecolor": "white",
           "zerolinewidth": 2
          },
          "yaxis": {
           "automargin": true,
           "gridcolor": "white",
           "linecolor": "white",
           "ticks": "",
           "title": {
            "standoff": 15
           },
           "zerolinecolor": "white",
           "zerolinewidth": 2
          }
         }
        },
        "title": {
         "font": {
          "color": "#4D5663"
         }
        },
        "xaxis": {
         "gridcolor": "#E1E5ED",
         "showgrid": true,
         "tickfont": {
          "color": "#4D5663"
         },
         "title": {
          "font": {
           "color": "#4D5663"
          },
          "text": ""
         },
         "zerolinecolor": "#E1E5ED"
        },
        "yaxis": {
         "gridcolor": "#E1E5ED",
         "showgrid": true,
         "tickfont": {
          "color": "#4D5663"
         },
         "title": {
          "font": {
           "color": "#4D5663"
          },
          "text": ""
         },
         "zerolinecolor": "#E1E5ED"
        }
       }
      },
      "text/html": [
       "<div>                            <div id=\"c018a15e-a822-4490-98b6-8e5a481af720\" class=\"plotly-graph-div\" style=\"height:525px; width:100%;\"></div>            <script type=\"text/javascript\">                require([\"plotly\"], function(Plotly) {                    window.PLOTLYENV=window.PLOTLYENV || {};\n",
       "                    window.PLOTLYENV.BASE_URL='https://plot.ly';                                    if (document.getElementById(\"c018a15e-a822-4490-98b6-8e5a481af720\")) {                    Plotly.newPlot(                        \"c018a15e-a822-4490-98b6-8e5a481af720\",                        [{\"colorscale\":[[0.0,\"rgb(165,0,38)\"],[0.1,\"rgb(215,48,39)\"],[0.2,\"rgb(244,109,67)\"],[0.3,\"rgb(253,174,97)\"],[0.4,\"rgb(254,224,144)\"],[0.5,\"rgb(255,255,191)\"],[0.6,\"rgb(224,243,248)\"],[0.7,\"rgb(171,217,233)\"],[0.8,\"rgb(116,173,209)\"],[0.9,\"rgb(69,117,180)\"],[1.0,\"rgb(49,54,149)\"]],\"x\":[0,1,2,3,4],\"y\":[\"x\",\"y\",\"z\"],\"z\":[[1,2,3,4,5],[10,20,30,20,10],[5,4,3,2,1]],\"type\":\"surface\"}],                        {\"legend\":{\"bgcolor\":\"#F5F6F9\",\"font\":{\"color\":\"#4D5663\"}},\"paper_bgcolor\":\"#F5F6F9\",\"plot_bgcolor\":\"#F5F6F9\",\"template\":{\"data\":{\"barpolar\":[{\"marker\":{\"line\":{\"color\":\"#E5ECF6\",\"width\":0.5},\"pattern\":{\"fillmode\":\"overlay\",\"size\":10,\"solidity\":0.2}},\"type\":\"barpolar\"}],\"bar\":[{\"error_x\":{\"color\":\"#2a3f5f\"},\"error_y\":{\"color\":\"#2a3f5f\"},\"marker\":{\"line\":{\"color\":\"#E5ECF6\",\"width\":0.5},\"pattern\":{\"fillmode\":\"overlay\",\"size\":10,\"solidity\":0.2}},\"type\":\"bar\"}],\"carpet\":[{\"aaxis\":{\"endlinecolor\":\"#2a3f5f\",\"gridcolor\":\"white\",\"linecolor\":\"white\",\"minorgridcolor\":\"white\",\"startlinecolor\":\"#2a3f5f\"},\"baxis\":{\"endlinecolor\":\"#2a3f5f\",\"gridcolor\":\"white\",\"linecolor\":\"white\",\"minorgridcolor\":\"white\",\"startlinecolor\":\"#2a3f5f\"},\"type\":\"carpet\"}],\"choropleth\":[{\"colorbar\":{\"outlinewidth\":0,\"ticks\":\"\"},\"type\":\"choropleth\"}],\"contourcarpet\":[{\"colorbar\":{\"outlinewidth\":0,\"ticks\":\"\"},\"type\":\"contourcarpet\"}],\"contour\":[{\"colorbar\":{\"outlinewidth\":0,\"ticks\":\"\"},\"colorscale\":[[0.0,\"#0d0887\"],[0.1111111111111111,\"#46039f\"],[0.2222222222222222,\"#7201a8\"],[0.3333333333333333,\"#9c179e\"],[0.4444444444444444,\"#bd3786\"],[0.5555555555555556,\"#d8576b\"],[0.6666666666666666,\"#ed7953\"],[0.7777777777777778,\"#fb9f3a\"],[0.8888888888888888,\"#fdca26\"],[1.0,\"#f0f921\"]],\"type\":\"contour\"}],\"heatmapgl\":[{\"colorbar\":{\"outlinewidth\":0,\"ticks\":\"\"},\"colorscale\":[[0.0,\"#0d0887\"],[0.1111111111111111,\"#46039f\"],[0.2222222222222222,\"#7201a8\"],[0.3333333333333333,\"#9c179e\"],[0.4444444444444444,\"#bd3786\"],[0.5555555555555556,\"#d8576b\"],[0.6666666666666666,\"#ed7953\"],[0.7777777777777778,\"#fb9f3a\"],[0.8888888888888888,\"#fdca26\"],[1.0,\"#f0f921\"]],\"type\":\"heatmapgl\"}],\"heatmap\":[{\"colorbar\":{\"outlinewidth\":0,\"ticks\":\"\"},\"colorscale\":[[0.0,\"#0d0887\"],[0.1111111111111111,\"#46039f\"],[0.2222222222222222,\"#7201a8\"],[0.3333333333333333,\"#9c179e\"],[0.4444444444444444,\"#bd3786\"],[0.5555555555555556,\"#d8576b\"],[0.6666666666666666,\"#ed7953\"],[0.7777777777777778,\"#fb9f3a\"],[0.8888888888888888,\"#fdca26\"],[1.0,\"#f0f921\"]],\"type\":\"heatmap\"}],\"histogram2dcontour\":[{\"colorbar\":{\"outlinewidth\":0,\"ticks\":\"\"},\"colorscale\":[[0.0,\"#0d0887\"],[0.1111111111111111,\"#46039f\"],[0.2222222222222222,\"#7201a8\"],[0.3333333333333333,\"#9c179e\"],[0.4444444444444444,\"#bd3786\"],[0.5555555555555556,\"#d8576b\"],[0.6666666666666666,\"#ed7953\"],[0.7777777777777778,\"#fb9f3a\"],[0.8888888888888888,\"#fdca26\"],[1.0,\"#f0f921\"]],\"type\":\"histogram2dcontour\"}],\"histogram2d\":[{\"colorbar\":{\"outlinewidth\":0,\"ticks\":\"\"},\"colorscale\":[[0.0,\"#0d0887\"],[0.1111111111111111,\"#46039f\"],[0.2222222222222222,\"#7201a8\"],[0.3333333333333333,\"#9c179e\"],[0.4444444444444444,\"#bd3786\"],[0.5555555555555556,\"#d8576b\"],[0.6666666666666666,\"#ed7953\"],[0.7777777777777778,\"#fb9f3a\"],[0.8888888888888888,\"#fdca26\"],[1.0,\"#f0f921\"]],\"type\":\"histogram2d\"}],\"histogram\":[{\"marker\":{\"pattern\":{\"fillmode\":\"overlay\",\"size\":10,\"solidity\":0.2}},\"type\":\"histogram\"}],\"mesh3d\":[{\"colorbar\":{\"outlinewidth\":0,\"ticks\":\"\"},\"type\":\"mesh3d\"}],\"parcoords\":[{\"line\":{\"colorbar\":{\"outlinewidth\":0,\"ticks\":\"\"}},\"type\":\"parcoords\"}],\"pie\":[{\"automargin\":true,\"type\":\"pie\"}],\"scatter3d\":[{\"line\":{\"colorbar\":{\"outlinewidth\":0,\"ticks\":\"\"}},\"marker\":{\"colorbar\":{\"outlinewidth\":0,\"ticks\":\"\"}},\"type\":\"scatter3d\"}],\"scattercarpet\":[{\"marker\":{\"colorbar\":{\"outlinewidth\":0,\"ticks\":\"\"}},\"type\":\"scattercarpet\"}],\"scattergeo\":[{\"marker\":{\"colorbar\":{\"outlinewidth\":0,\"ticks\":\"\"}},\"type\":\"scattergeo\"}],\"scattergl\":[{\"marker\":{\"colorbar\":{\"outlinewidth\":0,\"ticks\":\"\"}},\"type\":\"scattergl\"}],\"scattermapbox\":[{\"marker\":{\"colorbar\":{\"outlinewidth\":0,\"ticks\":\"\"}},\"type\":\"scattermapbox\"}],\"scatterpolargl\":[{\"marker\":{\"colorbar\":{\"outlinewidth\":0,\"ticks\":\"\"}},\"type\":\"scatterpolargl\"}],\"scatterpolar\":[{\"marker\":{\"colorbar\":{\"outlinewidth\":0,\"ticks\":\"\"}},\"type\":\"scatterpolar\"}],\"scatter\":[{\"fillpattern\":{\"fillmode\":\"overlay\",\"size\":10,\"solidity\":0.2},\"type\":\"scatter\"}],\"scatterternary\":[{\"marker\":{\"colorbar\":{\"outlinewidth\":0,\"ticks\":\"\"}},\"type\":\"scatterternary\"}],\"surface\":[{\"colorbar\":{\"outlinewidth\":0,\"ticks\":\"\"},\"colorscale\":[[0.0,\"#0d0887\"],[0.1111111111111111,\"#46039f\"],[0.2222222222222222,\"#7201a8\"],[0.3333333333333333,\"#9c179e\"],[0.4444444444444444,\"#bd3786\"],[0.5555555555555556,\"#d8576b\"],[0.6666666666666666,\"#ed7953\"],[0.7777777777777778,\"#fb9f3a\"],[0.8888888888888888,\"#fdca26\"],[1.0,\"#f0f921\"]],\"type\":\"surface\"}],\"table\":[{\"cells\":{\"fill\":{\"color\":\"#EBF0F8\"},\"line\":{\"color\":\"white\"}},\"header\":{\"fill\":{\"color\":\"#C8D4E3\"},\"line\":{\"color\":\"white\"}},\"type\":\"table\"}]},\"layout\":{\"annotationdefaults\":{\"arrowcolor\":\"#2a3f5f\",\"arrowhead\":0,\"arrowwidth\":1},\"autotypenumbers\":\"strict\",\"coloraxis\":{\"colorbar\":{\"outlinewidth\":0,\"ticks\":\"\"}},\"colorscale\":{\"diverging\":[[0,\"#8e0152\"],[0.1,\"#c51b7d\"],[0.2,\"#de77ae\"],[0.3,\"#f1b6da\"],[0.4,\"#fde0ef\"],[0.5,\"#f7f7f7\"],[0.6,\"#e6f5d0\"],[0.7,\"#b8e186\"],[0.8,\"#7fbc41\"],[0.9,\"#4d9221\"],[1,\"#276419\"]],\"sequential\":[[0.0,\"#0d0887\"],[0.1111111111111111,\"#46039f\"],[0.2222222222222222,\"#7201a8\"],[0.3333333333333333,\"#9c179e\"],[0.4444444444444444,\"#bd3786\"],[0.5555555555555556,\"#d8576b\"],[0.6666666666666666,\"#ed7953\"],[0.7777777777777778,\"#fb9f3a\"],[0.8888888888888888,\"#fdca26\"],[1.0,\"#f0f921\"]],\"sequentialminus\":[[0.0,\"#0d0887\"],[0.1111111111111111,\"#46039f\"],[0.2222222222222222,\"#7201a8\"],[0.3333333333333333,\"#9c179e\"],[0.4444444444444444,\"#bd3786\"],[0.5555555555555556,\"#d8576b\"],[0.6666666666666666,\"#ed7953\"],[0.7777777777777778,\"#fb9f3a\"],[0.8888888888888888,\"#fdca26\"],[1.0,\"#f0f921\"]]},\"colorway\":[\"#636efa\",\"#EF553B\",\"#00cc96\",\"#ab63fa\",\"#FFA15A\",\"#19d3f3\",\"#FF6692\",\"#B6E880\",\"#FF97FF\",\"#FECB52\"],\"font\":{\"color\":\"#2a3f5f\"},\"geo\":{\"bgcolor\":\"white\",\"lakecolor\":\"white\",\"landcolor\":\"#E5ECF6\",\"showlakes\":true,\"showland\":true,\"subunitcolor\":\"white\"},\"hoverlabel\":{\"align\":\"left\"},\"hovermode\":\"closest\",\"mapbox\":{\"style\":\"light\"},\"paper_bgcolor\":\"white\",\"plot_bgcolor\":\"#E5ECF6\",\"polar\":{\"angularaxis\":{\"gridcolor\":\"white\",\"linecolor\":\"white\",\"ticks\":\"\"},\"bgcolor\":\"#E5ECF6\",\"radialaxis\":{\"gridcolor\":\"white\",\"linecolor\":\"white\",\"ticks\":\"\"}},\"scene\":{\"xaxis\":{\"backgroundcolor\":\"#E5ECF6\",\"gridcolor\":\"white\",\"gridwidth\":2,\"linecolor\":\"white\",\"showbackground\":true,\"ticks\":\"\",\"zerolinecolor\":\"white\"},\"yaxis\":{\"backgroundcolor\":\"#E5ECF6\",\"gridcolor\":\"white\",\"gridwidth\":2,\"linecolor\":\"white\",\"showbackground\":true,\"ticks\":\"\",\"zerolinecolor\":\"white\"},\"zaxis\":{\"backgroundcolor\":\"#E5ECF6\",\"gridcolor\":\"white\",\"gridwidth\":2,\"linecolor\":\"white\",\"showbackground\":true,\"ticks\":\"\",\"zerolinecolor\":\"white\"}},\"shapedefaults\":{\"line\":{\"color\":\"#2a3f5f\"}},\"ternary\":{\"aaxis\":{\"gridcolor\":\"white\",\"linecolor\":\"white\",\"ticks\":\"\"},\"baxis\":{\"gridcolor\":\"white\",\"linecolor\":\"white\",\"ticks\":\"\"},\"bgcolor\":\"#E5ECF6\",\"caxis\":{\"gridcolor\":\"white\",\"linecolor\":\"white\",\"ticks\":\"\"}},\"title\":{\"x\":0.05},\"xaxis\":{\"automargin\":true,\"gridcolor\":\"white\",\"linecolor\":\"white\",\"ticks\":\"\",\"title\":{\"standoff\":15},\"zerolinecolor\":\"white\",\"zerolinewidth\":2},\"yaxis\":{\"automargin\":true,\"gridcolor\":\"white\",\"linecolor\":\"white\",\"ticks\":\"\",\"title\":{\"standoff\":15},\"zerolinecolor\":\"white\",\"zerolinewidth\":2}}},\"title\":{\"font\":{\"color\":\"#4D5663\"}},\"xaxis\":{\"gridcolor\":\"#E1E5ED\",\"showgrid\":true,\"tickfont\":{\"color\":\"#4D5663\"},\"title\":{\"font\":{\"color\":\"#4D5663\"},\"text\":\"\"},\"zerolinecolor\":\"#E1E5ED\"},\"yaxis\":{\"gridcolor\":\"#E1E5ED\",\"showgrid\":true,\"tickfont\":{\"color\":\"#4D5663\"},\"title\":{\"font\":{\"color\":\"#4D5663\"},\"text\":\"\"},\"zerolinecolor\":\"#E1E5ED\"}},                        {\"showLink\": true, \"linkText\": \"Export to plot.ly\", \"plotlyServerURL\": \"https://plot.ly\", \"responsive\": true}                    ).then(function(){\n",
       "                            \n",
       "var gd = document.getElementById('c018a15e-a822-4490-98b6-8e5a481af720');\n",
       "var x = new MutationObserver(function (mutations, observer) {{\n",
       "        var display = window.getComputedStyle(gd).display;\n",
       "        if (!display || display === 'none') {{\n",
       "            console.log([gd, 'removed!']);\n",
       "            Plotly.purge(gd);\n",
       "            observer.disconnect();\n",
       "        }}\n",
       "}});\n",
       "\n",
       "// Listen for the removal of the full notebook cells\n",
       "var notebookContainer = gd.closest('#notebook-container');\n",
       "if (notebookContainer) {{\n",
       "    x.observe(notebookContainer, {childList: true});\n",
       "}}\n",
       "\n",
       "// Listen for the clearing of the current output cell\n",
       "var outputEl = gd.closest('.output');\n",
       "if (outputEl) {{\n",
       "    x.observe(outputEl, {childList: true});\n",
       "}}\n",
       "\n",
       "                        })                };                });            </script>        </div>"
      ]
     },
     "metadata": {},
     "output_type": "display_data"
    }
   ],
   "source": [
    "df3 = pd.DataFrame({'x':[1,2,3,4,5],'y':[10,20,30,20,10],'z':[5,4,3,2,1]})\n",
    "df3.iplot(kind='surface',colorscale='rdylbu')"
   ]
  },
  {
   "cell_type": "markdown",
   "metadata": {},
   "source": [
    "## Spread"
   ]
  },
  {
   "cell_type": "code",
   "execution_count": 15,
   "metadata": {},
   "outputs": [
    {
     "name": "stderr",
     "output_type": "stream",
     "text": [
      "/home/kuldeep/jaydip/machine-learning/venv/lib/python3.8/site-packages/cufflinks/plotlytools.py:849: FutureWarning:\n",
      "\n",
      "The pandas.np module is deprecated and will be removed from pandas in a future version. Import numpy directly instead.\n",
      "\n",
      "/home/kuldeep/jaydip/machine-learning/venv/lib/python3.8/site-packages/cufflinks/plotlytools.py:850: FutureWarning:\n",
      "\n",
      "The pandas.np module is deprecated and will be removed from pandas in a future version. Import numpy directly instead.\n",
      "\n"
     ]
    },
    {
     "data": {
      "application/vnd.plotly.v1+json": {
       "config": {
        "linkText": "Export to plot.ly",
        "plotlyServerURL": "https://plot.ly",
        "showLink": true
       },
       "data": [
        {
         "line": {
          "color": "rgba(255, 153, 51, 1.0)",
          "dash": "solid",
          "shape": "linear",
          "width": 1.3
         },
         "mode": "lines",
         "name": "A",
         "text": "",
         "type": "scatter",
         "x": [
          0,
          1,
          2,
          3,
          4,
          5,
          6,
          7,
          8,
          9,
          10,
          11,
          12,
          13,
          14,
          15,
          16,
          17,
          18,
          19,
          20,
          21,
          22,
          23,
          24,
          25,
          26,
          27,
          28,
          29,
          30,
          31,
          32,
          33,
          34,
          35,
          36,
          37,
          38,
          39,
          40,
          41,
          42,
          43,
          44,
          45,
          46,
          47,
          48,
          49,
          50,
          51,
          52,
          53,
          54,
          55,
          56,
          57,
          58,
          59,
          60,
          61,
          62,
          63,
          64,
          65,
          66,
          67,
          68,
          69,
          70,
          71,
          72,
          73,
          74,
          75,
          76,
          77,
          78,
          79,
          80,
          81,
          82,
          83,
          84,
          85,
          86,
          87,
          88,
          89,
          90,
          91,
          92,
          93,
          94,
          95,
          96,
          97,
          98,
          99
         ],
         "y": [
          0.11210520528287181,
          -1.2125651027444957,
          0.7409111312981095,
          0.885201543319391,
          0.6495720102447006,
          0.4497318430524437,
          -0.8227725625609245,
          -1.294165762002869,
          0.9855697981173399,
          -0.5377520046761172,
          -0.3031172198371253,
          -0.1500255993360721,
          -0.15110610248577538,
          -0.2090964311017719,
          -0.07585730009648514,
          -1.3996739953678186,
          -0.7808096785422856,
          0.7804823868457346,
          -0.4726179318216493,
          0.8075332916145921,
          0.8265765498071171,
          -0.40051686205745285,
          0.2461563372526162,
          1.642512774461098,
          0.8653929900395896,
          1.2025276873281612,
          0.29563577123790996,
          0.6699092364237134,
          -0.5452923695273253,
          -0.4642660511261456,
          1.2203389016594837,
          -0.6832499857349542,
          0.8492085633334253,
          0.23052258600709793,
          1.5445264866072617,
          -1.1329467423665456,
          -0.67232546831398,
          0.876560071944188,
          -0.27424172669120317,
          -0.07151448482552263,
          1.5063628674267997,
          1.2944560448535178,
          -1.0392861894092036,
          -0.5090093904636998,
          -0.7318138881133566,
          -0.46620502273403186,
          0.5228787071414007,
          1.23838969008501,
          -0.6297993877243587,
          -0.7479504258438041,
          -0.4495593740548306,
          0.7398152476833297,
          0.7255842573345948,
          0.003347148807160973,
          -0.4329333913030693,
          0.4586954881696664,
          0.036666042643426836,
          -0.1339361513503816,
          -0.6362684884385781,
          0.2146499988328602,
          -0.4655225437157507,
          0.1529032725538335,
          -0.3540066262700726,
          -0.4141644630330249,
          1.05343191356596,
          -0.677841097495419,
          0.19873599249106602,
          -0.20490582376094724,
          1.0222387046982089,
          -1.3989681544131,
          -1.2203626816923638,
          0.672749421487676,
          -0.501519404356596,
          2.139174899771941,
          -0.43515901640307103,
          -0.683545675539224,
          -1.0331252694832604,
          -0.07990366076929867,
          1.0958374389814922,
          -0.69702643893847,
          -0.7236655629149418,
          -0.9769212273077479,
          0.23059071690166782,
          1.55850667803002,
          -1.0206168953256678,
          -0.36320589787435276,
          2.077857583290241,
          0.24666320714680753,
          0.7042456517611484,
          -0.5840047538610852,
          2.3134196985855597,
          0.7827394356659747,
          -0.16747308355262033,
          2.2615019778134346,
          0.33822024810572665,
          -0.14314982279753402,
          -1.1387194880336158,
          0.8329827995371789,
          1.6834976572725173,
          -0.6138378805656016
         ]
        },
        {
         "line": {
          "color": "rgba(55, 128, 191, 1.0)",
          "dash": "solid",
          "shape": "linear",
          "width": 1.3
         },
         "mode": "lines",
         "name": "B",
         "text": "",
         "type": "scatter",
         "x": [
          0,
          1,
          2,
          3,
          4,
          5,
          6,
          7,
          8,
          9,
          10,
          11,
          12,
          13,
          14,
          15,
          16,
          17,
          18,
          19,
          20,
          21,
          22,
          23,
          24,
          25,
          26,
          27,
          28,
          29,
          30,
          31,
          32,
          33,
          34,
          35,
          36,
          37,
          38,
          39,
          40,
          41,
          42,
          43,
          44,
          45,
          46,
          47,
          48,
          49,
          50,
          51,
          52,
          53,
          54,
          55,
          56,
          57,
          58,
          59,
          60,
          61,
          62,
          63,
          64,
          65,
          66,
          67,
          68,
          69,
          70,
          71,
          72,
          73,
          74,
          75,
          76,
          77,
          78,
          79,
          80,
          81,
          82,
          83,
          84,
          85,
          86,
          87,
          88,
          89,
          90,
          91,
          92,
          93,
          94,
          95,
          96,
          97,
          98,
          99
         ],
         "y": [
          0.34877639929304477,
          0.47765838860761517,
          -0.6263905875973632,
          0.1807027854947827,
          1.2594615767283213,
          2.061675068831658,
          -0.03731021947626286,
          1.7329781417734145,
          1.4333130813951505,
          0.9890506764267799,
          -1.1001617423787067,
          -1.8425241553298872,
          0.12647381880286843,
          -0.5667278395663506,
          1.0765047790528184,
          -0.072187928899968,
          -1.4939821526414747,
          1.2250226052736675,
          -0.5627956916404978,
          -1.6253699343440684,
          -0.37390199280900366,
          -0.6988185633546334,
          -1.1809630572804546,
          -0.5261183173161714,
          -0.08483998434967485,
          0.18397446574770657,
          -1.4020526622338747,
          -0.9872052448225611,
          -1.2602997742322197,
          1.4158630293339085,
          1.1127916502637767,
          -0.5066832717598071,
          -0.13284209176116912,
          -0.6061971921148425,
          -1.238221468967239,
          -0.5061225446605018,
          -0.4096323118303564,
          1.2167027519421492,
          -0.5102071701182289,
          0.28262182391342544,
          -0.3765981294368762,
          0.04718398099843374,
          0.05680342464168321,
          -0.6005266438272082,
          -1.8831852841927446,
          -0.1711241484689935,
          -1.5186505364155414,
          -2.337338947803129,
          -0.43173258591565306,
          0.39462380711175676,
          0.8427369707294584,
          1.508091700619213,
          0.2641263148842725,
          -0.42026973874239537,
          -0.07702487444973369,
          0.9439105595970312,
          0.2857049807385942,
          -0.14837882491603224,
          1.604875764248128,
          -0.4243919363715126,
          -0.8234329625172128,
          -0.1684256938792784,
          -0.2832599679287647,
          -0.44014972721508755,
          0.34387113719813567,
          1.4616498923500858,
          -1.2953836162942385,
          -1.4225765018916163,
          0.6740954409511553,
          0.5280663485164603,
          0.008574824129091541,
          -0.3936975898119114,
          -0.1656412725355856,
          1.060920834100708,
          0.5619611732578766,
          -0.32141143247707743,
          0.5204048885335,
          -0.2141654435103684,
          1.8096046094913567,
          0.8648679031283714,
          1.2335563328361652,
          1.487910251127614,
          0.5811363913129524,
          -0.4630649106528774,
          1.402913102256703,
          -0.724008863995739,
          -0.8271466432358756,
          1.8422943874063789,
          1.3184986675534738,
          0.4184235058743894,
          2.002491545005831,
          -0.5144366697315794,
          -1.2755498394658389,
          -1.0337236869460253,
          0.8715878530582845,
          0.7468346959663863,
          -0.4687072125790365,
          0.667070725780239,
          -0.9693651544841688,
          0.46823699499309474
         ]
        },
        {
         "connectgaps": false,
         "fill": "tozeroy",
         "line": {
          "color": "green",
          "dash": "solid",
          "shape": "linear",
          "width": 0.5
         },
         "mode": "lines",
         "name": "Spread",
         "showlegend": false,
         "type": "scatter",
         "x": [
          0,
          1,
          2,
          3,
          4,
          5,
          6,
          7,
          8,
          9,
          10,
          11,
          12,
          13,
          14,
          15,
          16,
          17,
          18,
          19,
          20,
          21,
          22,
          23,
          24,
          25,
          26,
          27,
          28,
          29,
          30,
          31,
          32,
          33,
          34,
          35,
          36,
          37,
          38,
          39,
          40,
          41,
          42,
          43,
          44,
          45,
          46,
          47,
          48,
          49,
          50,
          51,
          52,
          53,
          54,
          55,
          56,
          57,
          58,
          59,
          60,
          61,
          62,
          63,
          64,
          65,
          66,
          67,
          68,
          69,
          70,
          71,
          72,
          73,
          74,
          75,
          76,
          77,
          78,
          79,
          80,
          81,
          82,
          83,
          84,
          85,
          86,
          87,
          88,
          89,
          90,
          91,
          92,
          93,
          94,
          95,
          96,
          97,
          98,
          99
         ],
         "xaxis": "x2",
         "y": [
          "",
          "",
          1.3673017188954728,
          0.7044987578246084,
          "",
          "",
          "",
          "",
          "",
          "",
          0.7970445225415814,
          1.692498555993815,
          "",
          0.35763140846457875,
          "",
          "",
          0.7131724740991892,
          "",
          0.09017775981884851,
          2.4329032259586603,
          1.2004785426161209,
          0.2983017012971806,
          1.427119394533071,
          2.1686310917772693,
          0.9502329743892645,
          1.0185532215804547,
          1.6976884334717846,
          1.6571144812462744,
          0.7150074047048944,
          "",
          0.10754725139570698,
          "",
          0.9820506550945944,
          0.8367197781219404,
          2.782747955574501,
          "",
          "",
          "",
          0.23596544342702575,
          "",
          1.8829609968636758,
          1.247272063855084,
          "",
          0.09151725336350847,
          1.151371396079388,
          "",
          2.0415292435569423,
          3.5757286378881386,
          "",
          "",
          "",
          "",
          0.46145794245032223,
          0.42361688754955634,
          "",
          "",
          "",
          0.014442673565650654,
          "",
          0.6390419352043728,
          0.35791041880146207,
          0.32132896643311193,
          "",
          0.02598526418206265,
          0.7095607763678243,
          "",
          1.4941196087853046,
          1.217670678130669,
          0.3481432637470536,
          "",
          "",
          1.0664470112995874,
          "",
          1.0782540656712332,
          "",
          "",
          "",
          0.13426178274106973,
          "",
          "",
          "",
          "",
          "",
          2.0215715886828973,
          "",
          0.3608029661213863,
          2.9050042265261165,
          "",
          "",
          "",
          0.3109281535797286,
          1.2971761053975541,
          1.1080767559132185,
          3.29522566475946,
          "",
          "",
          "",
          0.16591207375693995,
          2.652862811756686,
          ""
         ],
         "yaxis": "y2"
        },
        {
         "connectgaps": false,
         "fill": "tozeroy",
         "line": {
          "color": "red",
          "dash": "solid",
          "shape": "linear",
          "width": 0.5
         },
         "mode": "lines",
         "name": "Spread",
         "showlegend": false,
         "type": "scatter",
         "x": [
          0,
          1,
          2,
          3,
          4,
          5,
          6,
          7,
          8,
          9,
          10,
          11,
          12,
          13,
          14,
          15,
          16,
          17,
          18,
          19,
          20,
          21,
          22,
          23,
          24,
          25,
          26,
          27,
          28,
          29,
          30,
          31,
          32,
          33,
          34,
          35,
          36,
          37,
          38,
          39,
          40,
          41,
          42,
          43,
          44,
          45,
          46,
          47,
          48,
          49,
          50,
          51,
          52,
          53,
          54,
          55,
          56,
          57,
          58,
          59,
          60,
          61,
          62,
          63,
          64,
          65,
          66,
          67,
          68,
          69,
          70,
          71,
          72,
          73,
          74,
          75,
          76,
          77,
          78,
          79,
          80,
          81,
          82,
          83,
          84,
          85,
          86,
          87,
          88,
          89,
          90,
          91,
          92,
          93,
          94,
          95,
          96,
          97,
          98,
          99
         ],
         "xaxis": "x2",
         "y": [
          -0.23667119401017295,
          -1.6902234913521108,
          "",
          "",
          -0.6098895664836207,
          -1.6119432257792141,
          -0.7854623430846616,
          -3.0271439037762837,
          -0.44774328327781054,
          -1.5268026811028972,
          "",
          "",
          -0.27757992128864384,
          "",
          -1.1523620791493034,
          -1.3274860664678505,
          "",
          -0.4445402184279329,
          "",
          "",
          "",
          "",
          "",
          "",
          "",
          "",
          "",
          "",
          "",
          -1.8801290804600541,
          "",
          -0.17656671397514712,
          "",
          "",
          "",
          -0.6268241977060438,
          -0.26269315648362357,
          -0.3401426799979612,
          "",
          -0.3541363087389481,
          "",
          "",
          -1.096089614050887,
          "",
          "",
          -0.2950808742650384,
          "",
          "",
          -0.19806680180870567,
          -1.1425742329555608,
          -1.292296344784289,
          -0.7682764529358832,
          "",
          "",
          -0.3559085168533356,
          -0.4852150714273648,
          -0.24903893809516736,
          "",
          -2.241144252686706,
          "",
          "",
          "",
          -0.07074665834130794,
          "",
          "",
          -2.1394909898455046,
          "",
          "",
          "",
          -1.9270345029295604,
          -1.2289375058214553,
          "",
          -0.33587813182101045,
          "",
          -0.9971201896609476,
          -0.36213424306214653,
          -1.5535301580167604,
          "",
          -0.7137671705098645,
          -1.5618943420668414,
          -1.957221895751107,
          -2.4648314784353618,
          -0.35054567441128454,
          "",
          -2.4235299975823708,
          "",
          "",
          -1.5956311802595713,
          -0.6142530157923254,
          -1.0024282597354746,
          "",
          "",
          "",
          "",
          -0.5333676049525578,
          -0.8899845187639204,
          -0.6700122754545792,
          "",
          "",
          -1.0820748755586964
         ],
         "yaxis": "y2"
        }
       ],
       "layout": {
        "hovermode": "x",
        "legend": {
         "bgcolor": "#F5F6F9",
         "font": {
          "color": "#4D5663"
         }
        },
        "paper_bgcolor": "#F5F6F9",
        "plot_bgcolor": "#F5F6F9",
        "template": {
         "data": {
          "bar": [
           {
            "error_x": {
             "color": "#2a3f5f"
            },
            "error_y": {
             "color": "#2a3f5f"
            },
            "marker": {
             "line": {
              "color": "#E5ECF6",
              "width": 0.5
             },
             "pattern": {
              "fillmode": "overlay",
              "size": 10,
              "solidity": 0.2
             }
            },
            "type": "bar"
           }
          ],
          "barpolar": [
           {
            "marker": {
             "line": {
              "color": "#E5ECF6",
              "width": 0.5
             },
             "pattern": {
              "fillmode": "overlay",
              "size": 10,
              "solidity": 0.2
             }
            },
            "type": "barpolar"
           }
          ],
          "carpet": [
           {
            "aaxis": {
             "endlinecolor": "#2a3f5f",
             "gridcolor": "white",
             "linecolor": "white",
             "minorgridcolor": "white",
             "startlinecolor": "#2a3f5f"
            },
            "baxis": {
             "endlinecolor": "#2a3f5f",
             "gridcolor": "white",
             "linecolor": "white",
             "minorgridcolor": "white",
             "startlinecolor": "#2a3f5f"
            },
            "type": "carpet"
           }
          ],
          "choropleth": [
           {
            "colorbar": {
             "outlinewidth": 0,
             "ticks": ""
            },
            "type": "choropleth"
           }
          ],
          "contour": [
           {
            "colorbar": {
             "outlinewidth": 0,
             "ticks": ""
            },
            "colorscale": [
             [
              0,
              "#0d0887"
             ],
             [
              0.1111111111111111,
              "#46039f"
             ],
             [
              0.2222222222222222,
              "#7201a8"
             ],
             [
              0.3333333333333333,
              "#9c179e"
             ],
             [
              0.4444444444444444,
              "#bd3786"
             ],
             [
              0.5555555555555556,
              "#d8576b"
             ],
             [
              0.6666666666666666,
              "#ed7953"
             ],
             [
              0.7777777777777778,
              "#fb9f3a"
             ],
             [
              0.8888888888888888,
              "#fdca26"
             ],
             [
              1,
              "#f0f921"
             ]
            ],
            "type": "contour"
           }
          ],
          "contourcarpet": [
           {
            "colorbar": {
             "outlinewidth": 0,
             "ticks": ""
            },
            "type": "contourcarpet"
           }
          ],
          "heatmap": [
           {
            "colorbar": {
             "outlinewidth": 0,
             "ticks": ""
            },
            "colorscale": [
             [
              0,
              "#0d0887"
             ],
             [
              0.1111111111111111,
              "#46039f"
             ],
             [
              0.2222222222222222,
              "#7201a8"
             ],
             [
              0.3333333333333333,
              "#9c179e"
             ],
             [
              0.4444444444444444,
              "#bd3786"
             ],
             [
              0.5555555555555556,
              "#d8576b"
             ],
             [
              0.6666666666666666,
              "#ed7953"
             ],
             [
              0.7777777777777778,
              "#fb9f3a"
             ],
             [
              0.8888888888888888,
              "#fdca26"
             ],
             [
              1,
              "#f0f921"
             ]
            ],
            "type": "heatmap"
           }
          ],
          "heatmapgl": [
           {
            "colorbar": {
             "outlinewidth": 0,
             "ticks": ""
            },
            "colorscale": [
             [
              0,
              "#0d0887"
             ],
             [
              0.1111111111111111,
              "#46039f"
             ],
             [
              0.2222222222222222,
              "#7201a8"
             ],
             [
              0.3333333333333333,
              "#9c179e"
             ],
             [
              0.4444444444444444,
              "#bd3786"
             ],
             [
              0.5555555555555556,
              "#d8576b"
             ],
             [
              0.6666666666666666,
              "#ed7953"
             ],
             [
              0.7777777777777778,
              "#fb9f3a"
             ],
             [
              0.8888888888888888,
              "#fdca26"
             ],
             [
              1,
              "#f0f921"
             ]
            ],
            "type": "heatmapgl"
           }
          ],
          "histogram": [
           {
            "marker": {
             "pattern": {
              "fillmode": "overlay",
              "size": 10,
              "solidity": 0.2
             }
            },
            "type": "histogram"
           }
          ],
          "histogram2d": [
           {
            "colorbar": {
             "outlinewidth": 0,
             "ticks": ""
            },
            "colorscale": [
             [
              0,
              "#0d0887"
             ],
             [
              0.1111111111111111,
              "#46039f"
             ],
             [
              0.2222222222222222,
              "#7201a8"
             ],
             [
              0.3333333333333333,
              "#9c179e"
             ],
             [
              0.4444444444444444,
              "#bd3786"
             ],
             [
              0.5555555555555556,
              "#d8576b"
             ],
             [
              0.6666666666666666,
              "#ed7953"
             ],
             [
              0.7777777777777778,
              "#fb9f3a"
             ],
             [
              0.8888888888888888,
              "#fdca26"
             ],
             [
              1,
              "#f0f921"
             ]
            ],
            "type": "histogram2d"
           }
          ],
          "histogram2dcontour": [
           {
            "colorbar": {
             "outlinewidth": 0,
             "ticks": ""
            },
            "colorscale": [
             [
              0,
              "#0d0887"
             ],
             [
              0.1111111111111111,
              "#46039f"
             ],
             [
              0.2222222222222222,
              "#7201a8"
             ],
             [
              0.3333333333333333,
              "#9c179e"
             ],
             [
              0.4444444444444444,
              "#bd3786"
             ],
             [
              0.5555555555555556,
              "#d8576b"
             ],
             [
              0.6666666666666666,
              "#ed7953"
             ],
             [
              0.7777777777777778,
              "#fb9f3a"
             ],
             [
              0.8888888888888888,
              "#fdca26"
             ],
             [
              1,
              "#f0f921"
             ]
            ],
            "type": "histogram2dcontour"
           }
          ],
          "mesh3d": [
           {
            "colorbar": {
             "outlinewidth": 0,
             "ticks": ""
            },
            "type": "mesh3d"
           }
          ],
          "parcoords": [
           {
            "line": {
             "colorbar": {
              "outlinewidth": 0,
              "ticks": ""
             }
            },
            "type": "parcoords"
           }
          ],
          "pie": [
           {
            "automargin": true,
            "type": "pie"
           }
          ],
          "scatter": [
           {
            "fillpattern": {
             "fillmode": "overlay",
             "size": 10,
             "solidity": 0.2
            },
            "type": "scatter"
           }
          ],
          "scatter3d": [
           {
            "line": {
             "colorbar": {
              "outlinewidth": 0,
              "ticks": ""
             }
            },
            "marker": {
             "colorbar": {
              "outlinewidth": 0,
              "ticks": ""
             }
            },
            "type": "scatter3d"
           }
          ],
          "scattercarpet": [
           {
            "marker": {
             "colorbar": {
              "outlinewidth": 0,
              "ticks": ""
             }
            },
            "type": "scattercarpet"
           }
          ],
          "scattergeo": [
           {
            "marker": {
             "colorbar": {
              "outlinewidth": 0,
              "ticks": ""
             }
            },
            "type": "scattergeo"
           }
          ],
          "scattergl": [
           {
            "marker": {
             "colorbar": {
              "outlinewidth": 0,
              "ticks": ""
             }
            },
            "type": "scattergl"
           }
          ],
          "scattermapbox": [
           {
            "marker": {
             "colorbar": {
              "outlinewidth": 0,
              "ticks": ""
             }
            },
            "type": "scattermapbox"
           }
          ],
          "scatterpolar": [
           {
            "marker": {
             "colorbar": {
              "outlinewidth": 0,
              "ticks": ""
             }
            },
            "type": "scatterpolar"
           }
          ],
          "scatterpolargl": [
           {
            "marker": {
             "colorbar": {
              "outlinewidth": 0,
              "ticks": ""
             }
            },
            "type": "scatterpolargl"
           }
          ],
          "scatterternary": [
           {
            "marker": {
             "colorbar": {
              "outlinewidth": 0,
              "ticks": ""
             }
            },
            "type": "scatterternary"
           }
          ],
          "surface": [
           {
            "colorbar": {
             "outlinewidth": 0,
             "ticks": ""
            },
            "colorscale": [
             [
              0,
              "#0d0887"
             ],
             [
              0.1111111111111111,
              "#46039f"
             ],
             [
              0.2222222222222222,
              "#7201a8"
             ],
             [
              0.3333333333333333,
              "#9c179e"
             ],
             [
              0.4444444444444444,
              "#bd3786"
             ],
             [
              0.5555555555555556,
              "#d8576b"
             ],
             [
              0.6666666666666666,
              "#ed7953"
             ],
             [
              0.7777777777777778,
              "#fb9f3a"
             ],
             [
              0.8888888888888888,
              "#fdca26"
             ],
             [
              1,
              "#f0f921"
             ]
            ],
            "type": "surface"
           }
          ],
          "table": [
           {
            "cells": {
             "fill": {
              "color": "#EBF0F8"
             },
             "line": {
              "color": "white"
             }
            },
            "header": {
             "fill": {
              "color": "#C8D4E3"
             },
             "line": {
              "color": "white"
             }
            },
            "type": "table"
           }
          ]
         },
         "layout": {
          "annotationdefaults": {
           "arrowcolor": "#2a3f5f",
           "arrowhead": 0,
           "arrowwidth": 1
          },
          "autotypenumbers": "strict",
          "coloraxis": {
           "colorbar": {
            "outlinewidth": 0,
            "ticks": ""
           }
          },
          "colorscale": {
           "diverging": [
            [
             0,
             "#8e0152"
            ],
            [
             0.1,
             "#c51b7d"
            ],
            [
             0.2,
             "#de77ae"
            ],
            [
             0.3,
             "#f1b6da"
            ],
            [
             0.4,
             "#fde0ef"
            ],
            [
             0.5,
             "#f7f7f7"
            ],
            [
             0.6,
             "#e6f5d0"
            ],
            [
             0.7,
             "#b8e186"
            ],
            [
             0.8,
             "#7fbc41"
            ],
            [
             0.9,
             "#4d9221"
            ],
            [
             1,
             "#276419"
            ]
           ],
           "sequential": [
            [
             0,
             "#0d0887"
            ],
            [
             0.1111111111111111,
             "#46039f"
            ],
            [
             0.2222222222222222,
             "#7201a8"
            ],
            [
             0.3333333333333333,
             "#9c179e"
            ],
            [
             0.4444444444444444,
             "#bd3786"
            ],
            [
             0.5555555555555556,
             "#d8576b"
            ],
            [
             0.6666666666666666,
             "#ed7953"
            ],
            [
             0.7777777777777778,
             "#fb9f3a"
            ],
            [
             0.8888888888888888,
             "#fdca26"
            ],
            [
             1,
             "#f0f921"
            ]
           ],
           "sequentialminus": [
            [
             0,
             "#0d0887"
            ],
            [
             0.1111111111111111,
             "#46039f"
            ],
            [
             0.2222222222222222,
             "#7201a8"
            ],
            [
             0.3333333333333333,
             "#9c179e"
            ],
            [
             0.4444444444444444,
             "#bd3786"
            ],
            [
             0.5555555555555556,
             "#d8576b"
            ],
            [
             0.6666666666666666,
             "#ed7953"
            ],
            [
             0.7777777777777778,
             "#fb9f3a"
            ],
            [
             0.8888888888888888,
             "#fdca26"
            ],
            [
             1,
             "#f0f921"
            ]
           ]
          },
          "colorway": [
           "#636efa",
           "#EF553B",
           "#00cc96",
           "#ab63fa",
           "#FFA15A",
           "#19d3f3",
           "#FF6692",
           "#B6E880",
           "#FF97FF",
           "#FECB52"
          ],
          "font": {
           "color": "#2a3f5f"
          },
          "geo": {
           "bgcolor": "white",
           "lakecolor": "white",
           "landcolor": "#E5ECF6",
           "showlakes": true,
           "showland": true,
           "subunitcolor": "white"
          },
          "hoverlabel": {
           "align": "left"
          },
          "hovermode": "closest",
          "mapbox": {
           "style": "light"
          },
          "paper_bgcolor": "white",
          "plot_bgcolor": "#E5ECF6",
          "polar": {
           "angularaxis": {
            "gridcolor": "white",
            "linecolor": "white",
            "ticks": ""
           },
           "bgcolor": "#E5ECF6",
           "radialaxis": {
            "gridcolor": "white",
            "linecolor": "white",
            "ticks": ""
           }
          },
          "scene": {
           "xaxis": {
            "backgroundcolor": "#E5ECF6",
            "gridcolor": "white",
            "gridwidth": 2,
            "linecolor": "white",
            "showbackground": true,
            "ticks": "",
            "zerolinecolor": "white"
           },
           "yaxis": {
            "backgroundcolor": "#E5ECF6",
            "gridcolor": "white",
            "gridwidth": 2,
            "linecolor": "white",
            "showbackground": true,
            "ticks": "",
            "zerolinecolor": "white"
           },
           "zaxis": {
            "backgroundcolor": "#E5ECF6",
            "gridcolor": "white",
            "gridwidth": 2,
            "linecolor": "white",
            "showbackground": true,
            "ticks": "",
            "zerolinecolor": "white"
           }
          },
          "shapedefaults": {
           "line": {
            "color": "#2a3f5f"
           }
          },
          "ternary": {
           "aaxis": {
            "gridcolor": "white",
            "linecolor": "white",
            "ticks": ""
           },
           "baxis": {
            "gridcolor": "white",
            "linecolor": "white",
            "ticks": ""
           },
           "bgcolor": "#E5ECF6",
           "caxis": {
            "gridcolor": "white",
            "linecolor": "white",
            "ticks": ""
           }
          },
          "title": {
           "x": 0.05
          },
          "xaxis": {
           "automargin": true,
           "gridcolor": "white",
           "linecolor": "white",
           "ticks": "",
           "title": {
            "standoff": 15
           },
           "zerolinecolor": "white",
           "zerolinewidth": 2
          },
          "yaxis": {
           "automargin": true,
           "gridcolor": "white",
           "linecolor": "white",
           "ticks": "",
           "title": {
            "standoff": 15
           },
           "zerolinecolor": "white",
           "zerolinewidth": 2
          }
         }
        },
        "title": {
         "font": {
          "color": "#4D5663"
         }
        },
        "xaxis": {
         "gridcolor": "#E1E5ED",
         "showgrid": true,
         "tickfont": {
          "color": "#4D5663"
         },
         "title": {
          "font": {
           "color": "#4D5663"
          },
          "text": ""
         },
         "zerolinecolor": "#E1E5ED"
        },
        "xaxis2": {
         "anchor": "y2",
         "gridcolor": "#E1E5ED",
         "showgrid": true,
         "showticklabels": false,
         "tickfont": {
          "color": "#4D5663"
         },
         "title": {
          "font": {
           "color": "#4D5663"
          },
          "text": ""
         },
         "zerolinecolor": "#E1E5ED"
        },
        "yaxis": {
         "domain": [
          0.3,
          1
         ],
         "gridcolor": "#E1E5ED",
         "showgrid": true,
         "tickfont": {
          "color": "#4D5663"
         },
         "title": {
          "font": {
           "color": "#4D5663"
          },
          "text": ""
         },
         "zerolinecolor": "#E1E5ED"
        },
        "yaxis2": {
         "domain": [
          0,
          0.25
         ],
         "gridcolor": "#E1E5ED",
         "showgrid": true,
         "tickfont": {
          "color": "#4D5663"
         },
         "title": {
          "font": {
           "color": "#4D5663"
          },
          "text": "Spread"
         },
         "zerolinecolor": "#E1E5ED"
        }
       }
      },
      "text/html": [
       "<div>                            <div id=\"ea0f025f-fc78-4980-a497-a58ac524c113\" class=\"plotly-graph-div\" style=\"height:525px; width:100%;\"></div>            <script type=\"text/javascript\">                require([\"plotly\"], function(Plotly) {                    window.PLOTLYENV=window.PLOTLYENV || {};\n",
       "                    window.PLOTLYENV.BASE_URL='https://plot.ly';                                    if (document.getElementById(\"ea0f025f-fc78-4980-a497-a58ac524c113\")) {                    Plotly.newPlot(                        \"ea0f025f-fc78-4980-a497-a58ac524c113\",                        [{\"line\":{\"color\":\"rgba(255, 153, 51, 1.0)\",\"dash\":\"solid\",\"shape\":\"linear\",\"width\":1.3},\"mode\":\"lines\",\"name\":\"A\",\"text\":\"\",\"x\":[0,1,2,3,4,5,6,7,8,9,10,11,12,13,14,15,16,17,18,19,20,21,22,23,24,25,26,27,28,29,30,31,32,33,34,35,36,37,38,39,40,41,42,43,44,45,46,47,48,49,50,51,52,53,54,55,56,57,58,59,60,61,62,63,64,65,66,67,68,69,70,71,72,73,74,75,76,77,78,79,80,81,82,83,84,85,86,87,88,89,90,91,92,93,94,95,96,97,98,99],\"y\":[0.11210520528287181,-1.2125651027444957,0.7409111312981095,0.885201543319391,0.6495720102447006,0.4497318430524437,-0.8227725625609245,-1.294165762002869,0.9855697981173399,-0.5377520046761172,-0.3031172198371253,-0.1500255993360721,-0.15110610248577538,-0.2090964311017719,-0.07585730009648514,-1.3996739953678186,-0.7808096785422856,0.7804823868457346,-0.4726179318216493,0.8075332916145921,0.8265765498071171,-0.40051686205745285,0.2461563372526162,1.642512774461098,0.8653929900395896,1.2025276873281612,0.29563577123790996,0.6699092364237134,-0.5452923695273253,-0.4642660511261456,1.2203389016594837,-0.6832499857349542,0.8492085633334253,0.23052258600709793,1.5445264866072617,-1.1329467423665456,-0.67232546831398,0.876560071944188,-0.27424172669120317,-0.07151448482552263,1.5063628674267997,1.2944560448535178,-1.0392861894092036,-0.5090093904636998,-0.7318138881133566,-0.46620502273403186,0.5228787071414007,1.23838969008501,-0.6297993877243587,-0.7479504258438041,-0.4495593740548306,0.7398152476833297,0.7255842573345948,0.003347148807160973,-0.4329333913030693,0.4586954881696664,0.036666042643426836,-0.1339361513503816,-0.6362684884385781,0.2146499988328602,-0.4655225437157507,0.1529032725538335,-0.3540066262700726,-0.4141644630330249,1.05343191356596,-0.677841097495419,0.19873599249106602,-0.20490582376094724,1.0222387046982089,-1.3989681544131,-1.2203626816923638,0.672749421487676,-0.501519404356596,2.139174899771941,-0.43515901640307103,-0.683545675539224,-1.0331252694832604,-0.07990366076929867,1.0958374389814922,-0.69702643893847,-0.7236655629149418,-0.9769212273077479,0.23059071690166782,1.55850667803002,-1.0206168953256678,-0.36320589787435276,2.077857583290241,0.24666320714680753,0.7042456517611484,-0.5840047538610852,2.3134196985855597,0.7827394356659747,-0.16747308355262033,2.2615019778134346,0.33822024810572665,-0.14314982279753402,-1.1387194880336158,0.8329827995371789,1.6834976572725173,-0.6138378805656016],\"type\":\"scatter\"},{\"line\":{\"color\":\"rgba(55, 128, 191, 1.0)\",\"dash\":\"solid\",\"shape\":\"linear\",\"width\":1.3},\"mode\":\"lines\",\"name\":\"B\",\"text\":\"\",\"x\":[0,1,2,3,4,5,6,7,8,9,10,11,12,13,14,15,16,17,18,19,20,21,22,23,24,25,26,27,28,29,30,31,32,33,34,35,36,37,38,39,40,41,42,43,44,45,46,47,48,49,50,51,52,53,54,55,56,57,58,59,60,61,62,63,64,65,66,67,68,69,70,71,72,73,74,75,76,77,78,79,80,81,82,83,84,85,86,87,88,89,90,91,92,93,94,95,96,97,98,99],\"y\":[0.34877639929304477,0.47765838860761517,-0.6263905875973632,0.1807027854947827,1.2594615767283213,2.061675068831658,-0.03731021947626286,1.7329781417734145,1.4333130813951505,0.9890506764267799,-1.1001617423787067,-1.8425241553298872,0.12647381880286843,-0.5667278395663506,1.0765047790528184,-0.072187928899968,-1.4939821526414747,1.2250226052736675,-0.5627956916404978,-1.6253699343440684,-0.37390199280900366,-0.6988185633546334,-1.1809630572804546,-0.5261183173161714,-0.08483998434967485,0.18397446574770657,-1.4020526622338747,-0.9872052448225611,-1.2602997742322197,1.4158630293339085,1.1127916502637767,-0.5066832717598071,-0.13284209176116912,-0.6061971921148425,-1.238221468967239,-0.5061225446605018,-0.4096323118303564,1.2167027519421492,-0.5102071701182289,0.28262182391342544,-0.3765981294368762,0.04718398099843374,0.05680342464168321,-0.6005266438272082,-1.8831852841927446,-0.1711241484689935,-1.5186505364155414,-2.337338947803129,-0.43173258591565306,0.39462380711175676,0.8427369707294584,1.508091700619213,0.2641263148842725,-0.42026973874239537,-0.07702487444973369,0.9439105595970312,0.2857049807385942,-0.14837882491603224,1.604875764248128,-0.4243919363715126,-0.8234329625172128,-0.1684256938792784,-0.2832599679287647,-0.44014972721508755,0.34387113719813567,1.4616498923500858,-1.2953836162942385,-1.4225765018916163,0.6740954409511553,0.5280663485164603,0.008574824129091541,-0.3936975898119114,-0.1656412725355856,1.060920834100708,0.5619611732578766,-0.32141143247707743,0.5204048885335,-0.2141654435103684,1.8096046094913567,0.8648679031283714,1.2335563328361652,1.487910251127614,0.5811363913129524,-0.4630649106528774,1.402913102256703,-0.724008863995739,-0.8271466432358756,1.8422943874063789,1.3184986675534738,0.4184235058743894,2.002491545005831,-0.5144366697315794,-1.2755498394658389,-1.0337236869460253,0.8715878530582845,0.7468346959663863,-0.4687072125790365,0.667070725780239,-0.9693651544841688,0.46823699499309474],\"type\":\"scatter\"},{\"connectgaps\":false,\"fill\":\"tozeroy\",\"line\":{\"color\":\"green\",\"dash\":\"solid\",\"shape\":\"linear\",\"width\":0.5},\"mode\":\"lines\",\"name\":\"Spread\",\"showlegend\":false,\"x\":[0,1,2,3,4,5,6,7,8,9,10,11,12,13,14,15,16,17,18,19,20,21,22,23,24,25,26,27,28,29,30,31,32,33,34,35,36,37,38,39,40,41,42,43,44,45,46,47,48,49,50,51,52,53,54,55,56,57,58,59,60,61,62,63,64,65,66,67,68,69,70,71,72,73,74,75,76,77,78,79,80,81,82,83,84,85,86,87,88,89,90,91,92,93,94,95,96,97,98,99],\"xaxis\":\"x2\",\"y\":[\"\",\"\",1.3673017188954728,0.7044987578246084,\"\",\"\",\"\",\"\",\"\",\"\",0.7970445225415814,1.692498555993815,\"\",0.35763140846457875,\"\",\"\",0.7131724740991892,\"\",0.09017775981884851,2.4329032259586603,1.2004785426161209,0.2983017012971806,1.427119394533071,2.1686310917772693,0.9502329743892645,1.0185532215804547,1.6976884334717846,1.6571144812462744,0.7150074047048944,\"\",0.10754725139570698,\"\",0.9820506550945944,0.8367197781219404,2.782747955574501,\"\",\"\",\"\",0.23596544342702575,\"\",1.8829609968636758,1.247272063855084,\"\",0.09151725336350847,1.151371396079388,\"\",2.0415292435569423,3.5757286378881386,\"\",\"\",\"\",\"\",0.46145794245032223,0.42361688754955634,\"\",\"\",\"\",0.014442673565650654,\"\",0.6390419352043728,0.35791041880146207,0.32132896643311193,\"\",0.02598526418206265,0.7095607763678243,\"\",1.4941196087853046,1.217670678130669,0.3481432637470536,\"\",\"\",1.0664470112995874,\"\",1.0782540656712332,\"\",\"\",\"\",0.13426178274106973,\"\",\"\",\"\",\"\",\"\",2.0215715886828973,\"\",0.3608029661213863,2.9050042265261165,\"\",\"\",\"\",0.3109281535797286,1.2971761053975541,1.1080767559132185,3.29522566475946,\"\",\"\",\"\",0.16591207375693995,2.652862811756686,\"\"],\"yaxis\":\"y2\",\"type\":\"scatter\"},{\"connectgaps\":false,\"fill\":\"tozeroy\",\"line\":{\"color\":\"red\",\"dash\":\"solid\",\"shape\":\"linear\",\"width\":0.5},\"mode\":\"lines\",\"name\":\"Spread\",\"showlegend\":false,\"x\":[0,1,2,3,4,5,6,7,8,9,10,11,12,13,14,15,16,17,18,19,20,21,22,23,24,25,26,27,28,29,30,31,32,33,34,35,36,37,38,39,40,41,42,43,44,45,46,47,48,49,50,51,52,53,54,55,56,57,58,59,60,61,62,63,64,65,66,67,68,69,70,71,72,73,74,75,76,77,78,79,80,81,82,83,84,85,86,87,88,89,90,91,92,93,94,95,96,97,98,99],\"xaxis\":\"x2\",\"y\":[-0.23667119401017295,-1.6902234913521108,\"\",\"\",-0.6098895664836207,-1.6119432257792141,-0.7854623430846616,-3.0271439037762837,-0.44774328327781054,-1.5268026811028972,\"\",\"\",-0.27757992128864384,\"\",-1.1523620791493034,-1.3274860664678505,\"\",-0.4445402184279329,\"\",\"\",\"\",\"\",\"\",\"\",\"\",\"\",\"\",\"\",\"\",-1.8801290804600541,\"\",-0.17656671397514712,\"\",\"\",\"\",-0.6268241977060438,-0.26269315648362357,-0.3401426799979612,\"\",-0.3541363087389481,\"\",\"\",-1.096089614050887,\"\",\"\",-0.2950808742650384,\"\",\"\",-0.19806680180870567,-1.1425742329555608,-1.292296344784289,-0.7682764529358832,\"\",\"\",-0.3559085168533356,-0.4852150714273648,-0.24903893809516736,\"\",-2.241144252686706,\"\",\"\",\"\",-0.07074665834130794,\"\",\"\",-2.1394909898455046,\"\",\"\",\"\",-1.9270345029295604,-1.2289375058214553,\"\",-0.33587813182101045,\"\",-0.9971201896609476,-0.36213424306214653,-1.5535301580167604,\"\",-0.7137671705098645,-1.5618943420668414,-1.957221895751107,-2.4648314784353618,-0.35054567441128454,\"\",-2.4235299975823708,\"\",\"\",-1.5956311802595713,-0.6142530157923254,-1.0024282597354746,\"\",\"\",\"\",\"\",-0.5333676049525578,-0.8899845187639204,-0.6700122754545792,\"\",\"\",-1.0820748755586964],\"yaxis\":\"y2\",\"type\":\"scatter\"}],                        {\"hovermode\":\"x\",\"legend\":{\"bgcolor\":\"#F5F6F9\",\"font\":{\"color\":\"#4D5663\"}},\"paper_bgcolor\":\"#F5F6F9\",\"plot_bgcolor\":\"#F5F6F9\",\"template\":{\"data\":{\"barpolar\":[{\"marker\":{\"line\":{\"color\":\"#E5ECF6\",\"width\":0.5},\"pattern\":{\"fillmode\":\"overlay\",\"size\":10,\"solidity\":0.2}},\"type\":\"barpolar\"}],\"bar\":[{\"error_x\":{\"color\":\"#2a3f5f\"},\"error_y\":{\"color\":\"#2a3f5f\"},\"marker\":{\"line\":{\"color\":\"#E5ECF6\",\"width\":0.5},\"pattern\":{\"fillmode\":\"overlay\",\"size\":10,\"solidity\":0.2}},\"type\":\"bar\"}],\"carpet\":[{\"aaxis\":{\"endlinecolor\":\"#2a3f5f\",\"gridcolor\":\"white\",\"linecolor\":\"white\",\"minorgridcolor\":\"white\",\"startlinecolor\":\"#2a3f5f\"},\"baxis\":{\"endlinecolor\":\"#2a3f5f\",\"gridcolor\":\"white\",\"linecolor\":\"white\",\"minorgridcolor\":\"white\",\"startlinecolor\":\"#2a3f5f\"},\"type\":\"carpet\"}],\"choropleth\":[{\"colorbar\":{\"outlinewidth\":0,\"ticks\":\"\"},\"type\":\"choropleth\"}],\"contourcarpet\":[{\"colorbar\":{\"outlinewidth\":0,\"ticks\":\"\"},\"type\":\"contourcarpet\"}],\"contour\":[{\"colorbar\":{\"outlinewidth\":0,\"ticks\":\"\"},\"colorscale\":[[0.0,\"#0d0887\"],[0.1111111111111111,\"#46039f\"],[0.2222222222222222,\"#7201a8\"],[0.3333333333333333,\"#9c179e\"],[0.4444444444444444,\"#bd3786\"],[0.5555555555555556,\"#d8576b\"],[0.6666666666666666,\"#ed7953\"],[0.7777777777777778,\"#fb9f3a\"],[0.8888888888888888,\"#fdca26\"],[1.0,\"#f0f921\"]],\"type\":\"contour\"}],\"heatmapgl\":[{\"colorbar\":{\"outlinewidth\":0,\"ticks\":\"\"},\"colorscale\":[[0.0,\"#0d0887\"],[0.1111111111111111,\"#46039f\"],[0.2222222222222222,\"#7201a8\"],[0.3333333333333333,\"#9c179e\"],[0.4444444444444444,\"#bd3786\"],[0.5555555555555556,\"#d8576b\"],[0.6666666666666666,\"#ed7953\"],[0.7777777777777778,\"#fb9f3a\"],[0.8888888888888888,\"#fdca26\"],[1.0,\"#f0f921\"]],\"type\":\"heatmapgl\"}],\"heatmap\":[{\"colorbar\":{\"outlinewidth\":0,\"ticks\":\"\"},\"colorscale\":[[0.0,\"#0d0887\"],[0.1111111111111111,\"#46039f\"],[0.2222222222222222,\"#7201a8\"],[0.3333333333333333,\"#9c179e\"],[0.4444444444444444,\"#bd3786\"],[0.5555555555555556,\"#d8576b\"],[0.6666666666666666,\"#ed7953\"],[0.7777777777777778,\"#fb9f3a\"],[0.8888888888888888,\"#fdca26\"],[1.0,\"#f0f921\"]],\"type\":\"heatmap\"}],\"histogram2dcontour\":[{\"colorbar\":{\"outlinewidth\":0,\"ticks\":\"\"},\"colorscale\":[[0.0,\"#0d0887\"],[0.1111111111111111,\"#46039f\"],[0.2222222222222222,\"#7201a8\"],[0.3333333333333333,\"#9c179e\"],[0.4444444444444444,\"#bd3786\"],[0.5555555555555556,\"#d8576b\"],[0.6666666666666666,\"#ed7953\"],[0.7777777777777778,\"#fb9f3a\"],[0.8888888888888888,\"#fdca26\"],[1.0,\"#f0f921\"]],\"type\":\"histogram2dcontour\"}],\"histogram2d\":[{\"colorbar\":{\"outlinewidth\":0,\"ticks\":\"\"},\"colorscale\":[[0.0,\"#0d0887\"],[0.1111111111111111,\"#46039f\"],[0.2222222222222222,\"#7201a8\"],[0.3333333333333333,\"#9c179e\"],[0.4444444444444444,\"#bd3786\"],[0.5555555555555556,\"#d8576b\"],[0.6666666666666666,\"#ed7953\"],[0.7777777777777778,\"#fb9f3a\"],[0.8888888888888888,\"#fdca26\"],[1.0,\"#f0f921\"]],\"type\":\"histogram2d\"}],\"histogram\":[{\"marker\":{\"pattern\":{\"fillmode\":\"overlay\",\"size\":10,\"solidity\":0.2}},\"type\":\"histogram\"}],\"mesh3d\":[{\"colorbar\":{\"outlinewidth\":0,\"ticks\":\"\"},\"type\":\"mesh3d\"}],\"parcoords\":[{\"line\":{\"colorbar\":{\"outlinewidth\":0,\"ticks\":\"\"}},\"type\":\"parcoords\"}],\"pie\":[{\"automargin\":true,\"type\":\"pie\"}],\"scatter3d\":[{\"line\":{\"colorbar\":{\"outlinewidth\":0,\"ticks\":\"\"}},\"marker\":{\"colorbar\":{\"outlinewidth\":0,\"ticks\":\"\"}},\"type\":\"scatter3d\"}],\"scattercarpet\":[{\"marker\":{\"colorbar\":{\"outlinewidth\":0,\"ticks\":\"\"}},\"type\":\"scattercarpet\"}],\"scattergeo\":[{\"marker\":{\"colorbar\":{\"outlinewidth\":0,\"ticks\":\"\"}},\"type\":\"scattergeo\"}],\"scattergl\":[{\"marker\":{\"colorbar\":{\"outlinewidth\":0,\"ticks\":\"\"}},\"type\":\"scattergl\"}],\"scattermapbox\":[{\"marker\":{\"colorbar\":{\"outlinewidth\":0,\"ticks\":\"\"}},\"type\":\"scattermapbox\"}],\"scatterpolargl\":[{\"marker\":{\"colorbar\":{\"outlinewidth\":0,\"ticks\":\"\"}},\"type\":\"scatterpolargl\"}],\"scatterpolar\":[{\"marker\":{\"colorbar\":{\"outlinewidth\":0,\"ticks\":\"\"}},\"type\":\"scatterpolar\"}],\"scatter\":[{\"fillpattern\":{\"fillmode\":\"overlay\",\"size\":10,\"solidity\":0.2},\"type\":\"scatter\"}],\"scatterternary\":[{\"marker\":{\"colorbar\":{\"outlinewidth\":0,\"ticks\":\"\"}},\"type\":\"scatterternary\"}],\"surface\":[{\"colorbar\":{\"outlinewidth\":0,\"ticks\":\"\"},\"colorscale\":[[0.0,\"#0d0887\"],[0.1111111111111111,\"#46039f\"],[0.2222222222222222,\"#7201a8\"],[0.3333333333333333,\"#9c179e\"],[0.4444444444444444,\"#bd3786\"],[0.5555555555555556,\"#d8576b\"],[0.6666666666666666,\"#ed7953\"],[0.7777777777777778,\"#fb9f3a\"],[0.8888888888888888,\"#fdca26\"],[1.0,\"#f0f921\"]],\"type\":\"surface\"}],\"table\":[{\"cells\":{\"fill\":{\"color\":\"#EBF0F8\"},\"line\":{\"color\":\"white\"}},\"header\":{\"fill\":{\"color\":\"#C8D4E3\"},\"line\":{\"color\":\"white\"}},\"type\":\"table\"}]},\"layout\":{\"annotationdefaults\":{\"arrowcolor\":\"#2a3f5f\",\"arrowhead\":0,\"arrowwidth\":1},\"autotypenumbers\":\"strict\",\"coloraxis\":{\"colorbar\":{\"outlinewidth\":0,\"ticks\":\"\"}},\"colorscale\":{\"diverging\":[[0,\"#8e0152\"],[0.1,\"#c51b7d\"],[0.2,\"#de77ae\"],[0.3,\"#f1b6da\"],[0.4,\"#fde0ef\"],[0.5,\"#f7f7f7\"],[0.6,\"#e6f5d0\"],[0.7,\"#b8e186\"],[0.8,\"#7fbc41\"],[0.9,\"#4d9221\"],[1,\"#276419\"]],\"sequential\":[[0.0,\"#0d0887\"],[0.1111111111111111,\"#46039f\"],[0.2222222222222222,\"#7201a8\"],[0.3333333333333333,\"#9c179e\"],[0.4444444444444444,\"#bd3786\"],[0.5555555555555556,\"#d8576b\"],[0.6666666666666666,\"#ed7953\"],[0.7777777777777778,\"#fb9f3a\"],[0.8888888888888888,\"#fdca26\"],[1.0,\"#f0f921\"]],\"sequentialminus\":[[0.0,\"#0d0887\"],[0.1111111111111111,\"#46039f\"],[0.2222222222222222,\"#7201a8\"],[0.3333333333333333,\"#9c179e\"],[0.4444444444444444,\"#bd3786\"],[0.5555555555555556,\"#d8576b\"],[0.6666666666666666,\"#ed7953\"],[0.7777777777777778,\"#fb9f3a\"],[0.8888888888888888,\"#fdca26\"],[1.0,\"#f0f921\"]]},\"colorway\":[\"#636efa\",\"#EF553B\",\"#00cc96\",\"#ab63fa\",\"#FFA15A\",\"#19d3f3\",\"#FF6692\",\"#B6E880\",\"#FF97FF\",\"#FECB52\"],\"font\":{\"color\":\"#2a3f5f\"},\"geo\":{\"bgcolor\":\"white\",\"lakecolor\":\"white\",\"landcolor\":\"#E5ECF6\",\"showlakes\":true,\"showland\":true,\"subunitcolor\":\"white\"},\"hoverlabel\":{\"align\":\"left\"},\"hovermode\":\"closest\",\"mapbox\":{\"style\":\"light\"},\"paper_bgcolor\":\"white\",\"plot_bgcolor\":\"#E5ECF6\",\"polar\":{\"angularaxis\":{\"gridcolor\":\"white\",\"linecolor\":\"white\",\"ticks\":\"\"},\"bgcolor\":\"#E5ECF6\",\"radialaxis\":{\"gridcolor\":\"white\",\"linecolor\":\"white\",\"ticks\":\"\"}},\"scene\":{\"xaxis\":{\"backgroundcolor\":\"#E5ECF6\",\"gridcolor\":\"white\",\"gridwidth\":2,\"linecolor\":\"white\",\"showbackground\":true,\"ticks\":\"\",\"zerolinecolor\":\"white\"},\"yaxis\":{\"backgroundcolor\":\"#E5ECF6\",\"gridcolor\":\"white\",\"gridwidth\":2,\"linecolor\":\"white\",\"showbackground\":true,\"ticks\":\"\",\"zerolinecolor\":\"white\"},\"zaxis\":{\"backgroundcolor\":\"#E5ECF6\",\"gridcolor\":\"white\",\"gridwidth\":2,\"linecolor\":\"white\",\"showbackground\":true,\"ticks\":\"\",\"zerolinecolor\":\"white\"}},\"shapedefaults\":{\"line\":{\"color\":\"#2a3f5f\"}},\"ternary\":{\"aaxis\":{\"gridcolor\":\"white\",\"linecolor\":\"white\",\"ticks\":\"\"},\"baxis\":{\"gridcolor\":\"white\",\"linecolor\":\"white\",\"ticks\":\"\"},\"bgcolor\":\"#E5ECF6\",\"caxis\":{\"gridcolor\":\"white\",\"linecolor\":\"white\",\"ticks\":\"\"}},\"title\":{\"x\":0.05},\"xaxis\":{\"automargin\":true,\"gridcolor\":\"white\",\"linecolor\":\"white\",\"ticks\":\"\",\"title\":{\"standoff\":15},\"zerolinecolor\":\"white\",\"zerolinewidth\":2},\"yaxis\":{\"automargin\":true,\"gridcolor\":\"white\",\"linecolor\":\"white\",\"ticks\":\"\",\"title\":{\"standoff\":15},\"zerolinecolor\":\"white\",\"zerolinewidth\":2}}},\"title\":{\"font\":{\"color\":\"#4D5663\"}},\"xaxis\":{\"gridcolor\":\"#E1E5ED\",\"showgrid\":true,\"tickfont\":{\"color\":\"#4D5663\"},\"title\":{\"font\":{\"color\":\"#4D5663\"},\"text\":\"\"},\"zerolinecolor\":\"#E1E5ED\"},\"yaxis\":{\"domain\":[0.3,1],\"gridcolor\":\"#E1E5ED\",\"showgrid\":true,\"tickfont\":{\"color\":\"#4D5663\"},\"title\":{\"font\":{\"color\":\"#4D5663\"},\"text\":\"\"},\"zerolinecolor\":\"#E1E5ED\"},\"yaxis2\":{\"domain\":[0,0.25],\"gridcolor\":\"#E1E5ED\",\"showgrid\":true,\"tickfont\":{\"color\":\"#4D5663\"},\"title\":{\"font\":{\"color\":\"#4D5663\"},\"text\":\"Spread\"},\"zerolinecolor\":\"#E1E5ED\"},\"xaxis2\":{\"anchor\":\"y2\",\"gridcolor\":\"#E1E5ED\",\"showgrid\":true,\"showticklabels\":false,\"tickfont\":{\"color\":\"#4D5663\"},\"title\":{\"font\":{\"color\":\"#4D5663\"},\"text\":\"\"},\"zerolinecolor\":\"#E1E5ED\"}},                        {\"showLink\": true, \"linkText\": \"Export to plot.ly\", \"plotlyServerURL\": \"https://plot.ly\", \"responsive\": true}                    ).then(function(){\n",
       "                            \n",
       "var gd = document.getElementById('ea0f025f-fc78-4980-a497-a58ac524c113');\n",
       "var x = new MutationObserver(function (mutations, observer) {{\n",
       "        var display = window.getComputedStyle(gd).display;\n",
       "        if (!display || display === 'none') {{\n",
       "            console.log([gd, 'removed!']);\n",
       "            Plotly.purge(gd);\n",
       "            observer.disconnect();\n",
       "        }}\n",
       "}});\n",
       "\n",
       "// Listen for the removal of the full notebook cells\n",
       "var notebookContainer = gd.closest('#notebook-container');\n",
       "if (notebookContainer) {{\n",
       "    x.observe(notebookContainer, {childList: true});\n",
       "}}\n",
       "\n",
       "// Listen for the clearing of the current output cell\n",
       "var outputEl = gd.closest('.output');\n",
       "if (outputEl) {{\n",
       "    x.observe(outputEl, {childList: true});\n",
       "}}\n",
       "\n",
       "                        })                };                });            </script>        </div>"
      ]
     },
     "metadata": {},
     "output_type": "display_data"
    }
   ],
   "source": [
    "df[['A','B']].iplot(kind='spread')"
   ]
  },
  {
   "cell_type": "markdown",
   "metadata": {},
   "source": [
    "## histogram"
   ]
  },
  {
   "cell_type": "code",
   "execution_count": 16,
   "metadata": {},
   "outputs": [
    {
     "data": {
      "application/vnd.plotly.v1+json": {
       "config": {
        "linkText": "Export to plot.ly",
        "plotlyServerURL": "https://plot.ly",
        "showLink": true
       },
       "data": [
        {
         "histfunc": "count",
         "histnorm": "",
         "marker": {
          "color": "rgba(255, 153, 51, 1.0)",
          "line": {
           "color": "#4D5663",
           "width": 1.3
          }
         },
         "name": "A",
         "nbinsx": 25,
         "opacity": 0.8,
         "orientation": "v",
         "type": "histogram",
         "x": [
          0.11210520528287181,
          -1.2125651027444957,
          0.7409111312981095,
          0.885201543319391,
          0.6495720102447006,
          0.4497318430524437,
          -0.8227725625609245,
          -1.294165762002869,
          0.9855697981173399,
          -0.5377520046761172,
          -0.3031172198371253,
          -0.1500255993360721,
          -0.15110610248577538,
          -0.2090964311017719,
          -0.07585730009648514,
          -1.3996739953678186,
          -0.7808096785422856,
          0.7804823868457346,
          -0.4726179318216493,
          0.8075332916145921,
          0.8265765498071171,
          -0.40051686205745285,
          0.2461563372526162,
          1.642512774461098,
          0.8653929900395896,
          1.2025276873281612,
          0.29563577123790996,
          0.6699092364237134,
          -0.5452923695273253,
          -0.4642660511261456,
          1.2203389016594837,
          -0.6832499857349542,
          0.8492085633334253,
          0.23052258600709793,
          1.5445264866072617,
          -1.1329467423665456,
          -0.67232546831398,
          0.876560071944188,
          -0.27424172669120317,
          -0.07151448482552263,
          1.5063628674267997,
          1.2944560448535178,
          -1.0392861894092036,
          -0.5090093904636998,
          -0.7318138881133566,
          -0.46620502273403186,
          0.5228787071414007,
          1.23838969008501,
          -0.6297993877243587,
          -0.7479504258438041,
          -0.4495593740548306,
          0.7398152476833297,
          0.7255842573345948,
          0.003347148807160973,
          -0.4329333913030693,
          0.4586954881696664,
          0.036666042643426836,
          -0.1339361513503816,
          -0.6362684884385781,
          0.2146499988328602,
          -0.4655225437157507,
          0.1529032725538335,
          -0.3540066262700726,
          -0.4141644630330249,
          1.05343191356596,
          -0.677841097495419,
          0.19873599249106602,
          -0.20490582376094724,
          1.0222387046982089,
          -1.3989681544131,
          -1.2203626816923638,
          0.672749421487676,
          -0.501519404356596,
          2.139174899771941,
          -0.43515901640307103,
          -0.683545675539224,
          -1.0331252694832604,
          -0.07990366076929867,
          1.0958374389814922,
          -0.69702643893847,
          -0.7236655629149418,
          -0.9769212273077479,
          0.23059071690166782,
          1.55850667803002,
          -1.0206168953256678,
          -0.36320589787435276,
          2.077857583290241,
          0.24666320714680753,
          0.7042456517611484,
          -0.5840047538610852,
          2.3134196985855597,
          0.7827394356659747,
          -0.16747308355262033,
          2.2615019778134346,
          0.33822024810572665,
          -0.14314982279753402,
          -1.1387194880336158,
          0.8329827995371789,
          1.6834976572725173,
          -0.6138378805656016
         ]
        }
       ],
       "layout": {
        "barmode": "overlay",
        "legend": {
         "bgcolor": "#F5F6F9",
         "font": {
          "color": "#4D5663"
         }
        },
        "paper_bgcolor": "#F5F6F9",
        "plot_bgcolor": "#F5F6F9",
        "template": {
         "data": {
          "bar": [
           {
            "error_x": {
             "color": "#2a3f5f"
            },
            "error_y": {
             "color": "#2a3f5f"
            },
            "marker": {
             "line": {
              "color": "#E5ECF6",
              "width": 0.5
             },
             "pattern": {
              "fillmode": "overlay",
              "size": 10,
              "solidity": 0.2
             }
            },
            "type": "bar"
           }
          ],
          "barpolar": [
           {
            "marker": {
             "line": {
              "color": "#E5ECF6",
              "width": 0.5
             },
             "pattern": {
              "fillmode": "overlay",
              "size": 10,
              "solidity": 0.2
             }
            },
            "type": "barpolar"
           }
          ],
          "carpet": [
           {
            "aaxis": {
             "endlinecolor": "#2a3f5f",
             "gridcolor": "white",
             "linecolor": "white",
             "minorgridcolor": "white",
             "startlinecolor": "#2a3f5f"
            },
            "baxis": {
             "endlinecolor": "#2a3f5f",
             "gridcolor": "white",
             "linecolor": "white",
             "minorgridcolor": "white",
             "startlinecolor": "#2a3f5f"
            },
            "type": "carpet"
           }
          ],
          "choropleth": [
           {
            "colorbar": {
             "outlinewidth": 0,
             "ticks": ""
            },
            "type": "choropleth"
           }
          ],
          "contour": [
           {
            "colorbar": {
             "outlinewidth": 0,
             "ticks": ""
            },
            "colorscale": [
             [
              0,
              "#0d0887"
             ],
             [
              0.1111111111111111,
              "#46039f"
             ],
             [
              0.2222222222222222,
              "#7201a8"
             ],
             [
              0.3333333333333333,
              "#9c179e"
             ],
             [
              0.4444444444444444,
              "#bd3786"
             ],
             [
              0.5555555555555556,
              "#d8576b"
             ],
             [
              0.6666666666666666,
              "#ed7953"
             ],
             [
              0.7777777777777778,
              "#fb9f3a"
             ],
             [
              0.8888888888888888,
              "#fdca26"
             ],
             [
              1,
              "#f0f921"
             ]
            ],
            "type": "contour"
           }
          ],
          "contourcarpet": [
           {
            "colorbar": {
             "outlinewidth": 0,
             "ticks": ""
            },
            "type": "contourcarpet"
           }
          ],
          "heatmap": [
           {
            "colorbar": {
             "outlinewidth": 0,
             "ticks": ""
            },
            "colorscale": [
             [
              0,
              "#0d0887"
             ],
             [
              0.1111111111111111,
              "#46039f"
             ],
             [
              0.2222222222222222,
              "#7201a8"
             ],
             [
              0.3333333333333333,
              "#9c179e"
             ],
             [
              0.4444444444444444,
              "#bd3786"
             ],
             [
              0.5555555555555556,
              "#d8576b"
             ],
             [
              0.6666666666666666,
              "#ed7953"
             ],
             [
              0.7777777777777778,
              "#fb9f3a"
             ],
             [
              0.8888888888888888,
              "#fdca26"
             ],
             [
              1,
              "#f0f921"
             ]
            ],
            "type": "heatmap"
           }
          ],
          "heatmapgl": [
           {
            "colorbar": {
             "outlinewidth": 0,
             "ticks": ""
            },
            "colorscale": [
             [
              0,
              "#0d0887"
             ],
             [
              0.1111111111111111,
              "#46039f"
             ],
             [
              0.2222222222222222,
              "#7201a8"
             ],
             [
              0.3333333333333333,
              "#9c179e"
             ],
             [
              0.4444444444444444,
              "#bd3786"
             ],
             [
              0.5555555555555556,
              "#d8576b"
             ],
             [
              0.6666666666666666,
              "#ed7953"
             ],
             [
              0.7777777777777778,
              "#fb9f3a"
             ],
             [
              0.8888888888888888,
              "#fdca26"
             ],
             [
              1,
              "#f0f921"
             ]
            ],
            "type": "heatmapgl"
           }
          ],
          "histogram": [
           {
            "marker": {
             "pattern": {
              "fillmode": "overlay",
              "size": 10,
              "solidity": 0.2
             }
            },
            "type": "histogram"
           }
          ],
          "histogram2d": [
           {
            "colorbar": {
             "outlinewidth": 0,
             "ticks": ""
            },
            "colorscale": [
             [
              0,
              "#0d0887"
             ],
             [
              0.1111111111111111,
              "#46039f"
             ],
             [
              0.2222222222222222,
              "#7201a8"
             ],
             [
              0.3333333333333333,
              "#9c179e"
             ],
             [
              0.4444444444444444,
              "#bd3786"
             ],
             [
              0.5555555555555556,
              "#d8576b"
             ],
             [
              0.6666666666666666,
              "#ed7953"
             ],
             [
              0.7777777777777778,
              "#fb9f3a"
             ],
             [
              0.8888888888888888,
              "#fdca26"
             ],
             [
              1,
              "#f0f921"
             ]
            ],
            "type": "histogram2d"
           }
          ],
          "histogram2dcontour": [
           {
            "colorbar": {
             "outlinewidth": 0,
             "ticks": ""
            },
            "colorscale": [
             [
              0,
              "#0d0887"
             ],
             [
              0.1111111111111111,
              "#46039f"
             ],
             [
              0.2222222222222222,
              "#7201a8"
             ],
             [
              0.3333333333333333,
              "#9c179e"
             ],
             [
              0.4444444444444444,
              "#bd3786"
             ],
             [
              0.5555555555555556,
              "#d8576b"
             ],
             [
              0.6666666666666666,
              "#ed7953"
             ],
             [
              0.7777777777777778,
              "#fb9f3a"
             ],
             [
              0.8888888888888888,
              "#fdca26"
             ],
             [
              1,
              "#f0f921"
             ]
            ],
            "type": "histogram2dcontour"
           }
          ],
          "mesh3d": [
           {
            "colorbar": {
             "outlinewidth": 0,
             "ticks": ""
            },
            "type": "mesh3d"
           }
          ],
          "parcoords": [
           {
            "line": {
             "colorbar": {
              "outlinewidth": 0,
              "ticks": ""
             }
            },
            "type": "parcoords"
           }
          ],
          "pie": [
           {
            "automargin": true,
            "type": "pie"
           }
          ],
          "scatter": [
           {
            "fillpattern": {
             "fillmode": "overlay",
             "size": 10,
             "solidity": 0.2
            },
            "type": "scatter"
           }
          ],
          "scatter3d": [
           {
            "line": {
             "colorbar": {
              "outlinewidth": 0,
              "ticks": ""
             }
            },
            "marker": {
             "colorbar": {
              "outlinewidth": 0,
              "ticks": ""
             }
            },
            "type": "scatter3d"
           }
          ],
          "scattercarpet": [
           {
            "marker": {
             "colorbar": {
              "outlinewidth": 0,
              "ticks": ""
             }
            },
            "type": "scattercarpet"
           }
          ],
          "scattergeo": [
           {
            "marker": {
             "colorbar": {
              "outlinewidth": 0,
              "ticks": ""
             }
            },
            "type": "scattergeo"
           }
          ],
          "scattergl": [
           {
            "marker": {
             "colorbar": {
              "outlinewidth": 0,
              "ticks": ""
             }
            },
            "type": "scattergl"
           }
          ],
          "scattermapbox": [
           {
            "marker": {
             "colorbar": {
              "outlinewidth": 0,
              "ticks": ""
             }
            },
            "type": "scattermapbox"
           }
          ],
          "scatterpolar": [
           {
            "marker": {
             "colorbar": {
              "outlinewidth": 0,
              "ticks": ""
             }
            },
            "type": "scatterpolar"
           }
          ],
          "scatterpolargl": [
           {
            "marker": {
             "colorbar": {
              "outlinewidth": 0,
              "ticks": ""
             }
            },
            "type": "scatterpolargl"
           }
          ],
          "scatterternary": [
           {
            "marker": {
             "colorbar": {
              "outlinewidth": 0,
              "ticks": ""
             }
            },
            "type": "scatterternary"
           }
          ],
          "surface": [
           {
            "colorbar": {
             "outlinewidth": 0,
             "ticks": ""
            },
            "colorscale": [
             [
              0,
              "#0d0887"
             ],
             [
              0.1111111111111111,
              "#46039f"
             ],
             [
              0.2222222222222222,
              "#7201a8"
             ],
             [
              0.3333333333333333,
              "#9c179e"
             ],
             [
              0.4444444444444444,
              "#bd3786"
             ],
             [
              0.5555555555555556,
              "#d8576b"
             ],
             [
              0.6666666666666666,
              "#ed7953"
             ],
             [
              0.7777777777777778,
              "#fb9f3a"
             ],
             [
              0.8888888888888888,
              "#fdca26"
             ],
             [
              1,
              "#f0f921"
             ]
            ],
            "type": "surface"
           }
          ],
          "table": [
           {
            "cells": {
             "fill": {
              "color": "#EBF0F8"
             },
             "line": {
              "color": "white"
             }
            },
            "header": {
             "fill": {
              "color": "#C8D4E3"
             },
             "line": {
              "color": "white"
             }
            },
            "type": "table"
           }
          ]
         },
         "layout": {
          "annotationdefaults": {
           "arrowcolor": "#2a3f5f",
           "arrowhead": 0,
           "arrowwidth": 1
          },
          "autotypenumbers": "strict",
          "coloraxis": {
           "colorbar": {
            "outlinewidth": 0,
            "ticks": ""
           }
          },
          "colorscale": {
           "diverging": [
            [
             0,
             "#8e0152"
            ],
            [
             0.1,
             "#c51b7d"
            ],
            [
             0.2,
             "#de77ae"
            ],
            [
             0.3,
             "#f1b6da"
            ],
            [
             0.4,
             "#fde0ef"
            ],
            [
             0.5,
             "#f7f7f7"
            ],
            [
             0.6,
             "#e6f5d0"
            ],
            [
             0.7,
             "#b8e186"
            ],
            [
             0.8,
             "#7fbc41"
            ],
            [
             0.9,
             "#4d9221"
            ],
            [
             1,
             "#276419"
            ]
           ],
           "sequential": [
            [
             0,
             "#0d0887"
            ],
            [
             0.1111111111111111,
             "#46039f"
            ],
            [
             0.2222222222222222,
             "#7201a8"
            ],
            [
             0.3333333333333333,
             "#9c179e"
            ],
            [
             0.4444444444444444,
             "#bd3786"
            ],
            [
             0.5555555555555556,
             "#d8576b"
            ],
            [
             0.6666666666666666,
             "#ed7953"
            ],
            [
             0.7777777777777778,
             "#fb9f3a"
            ],
            [
             0.8888888888888888,
             "#fdca26"
            ],
            [
             1,
             "#f0f921"
            ]
           ],
           "sequentialminus": [
            [
             0,
             "#0d0887"
            ],
            [
             0.1111111111111111,
             "#46039f"
            ],
            [
             0.2222222222222222,
             "#7201a8"
            ],
            [
             0.3333333333333333,
             "#9c179e"
            ],
            [
             0.4444444444444444,
             "#bd3786"
            ],
            [
             0.5555555555555556,
             "#d8576b"
            ],
            [
             0.6666666666666666,
             "#ed7953"
            ],
            [
             0.7777777777777778,
             "#fb9f3a"
            ],
            [
             0.8888888888888888,
             "#fdca26"
            ],
            [
             1,
             "#f0f921"
            ]
           ]
          },
          "colorway": [
           "#636efa",
           "#EF553B",
           "#00cc96",
           "#ab63fa",
           "#FFA15A",
           "#19d3f3",
           "#FF6692",
           "#B6E880",
           "#FF97FF",
           "#FECB52"
          ],
          "font": {
           "color": "#2a3f5f"
          },
          "geo": {
           "bgcolor": "white",
           "lakecolor": "white",
           "landcolor": "#E5ECF6",
           "showlakes": true,
           "showland": true,
           "subunitcolor": "white"
          },
          "hoverlabel": {
           "align": "left"
          },
          "hovermode": "closest",
          "mapbox": {
           "style": "light"
          },
          "paper_bgcolor": "white",
          "plot_bgcolor": "#E5ECF6",
          "polar": {
           "angularaxis": {
            "gridcolor": "white",
            "linecolor": "white",
            "ticks": ""
           },
           "bgcolor": "#E5ECF6",
           "radialaxis": {
            "gridcolor": "white",
            "linecolor": "white",
            "ticks": ""
           }
          },
          "scene": {
           "xaxis": {
            "backgroundcolor": "#E5ECF6",
            "gridcolor": "white",
            "gridwidth": 2,
            "linecolor": "white",
            "showbackground": true,
            "ticks": "",
            "zerolinecolor": "white"
           },
           "yaxis": {
            "backgroundcolor": "#E5ECF6",
            "gridcolor": "white",
            "gridwidth": 2,
            "linecolor": "white",
            "showbackground": true,
            "ticks": "",
            "zerolinecolor": "white"
           },
           "zaxis": {
            "backgroundcolor": "#E5ECF6",
            "gridcolor": "white",
            "gridwidth": 2,
            "linecolor": "white",
            "showbackground": true,
            "ticks": "",
            "zerolinecolor": "white"
           }
          },
          "shapedefaults": {
           "line": {
            "color": "#2a3f5f"
           }
          },
          "ternary": {
           "aaxis": {
            "gridcolor": "white",
            "linecolor": "white",
            "ticks": ""
           },
           "baxis": {
            "gridcolor": "white",
            "linecolor": "white",
            "ticks": ""
           },
           "bgcolor": "#E5ECF6",
           "caxis": {
            "gridcolor": "white",
            "linecolor": "white",
            "ticks": ""
           }
          },
          "title": {
           "x": 0.05
          },
          "xaxis": {
           "automargin": true,
           "gridcolor": "white",
           "linecolor": "white",
           "ticks": "",
           "title": {
            "standoff": 15
           },
           "zerolinecolor": "white",
           "zerolinewidth": 2
          },
          "yaxis": {
           "automargin": true,
           "gridcolor": "white",
           "linecolor": "white",
           "ticks": "",
           "title": {
            "standoff": 15
           },
           "zerolinecolor": "white",
           "zerolinewidth": 2
          }
         }
        },
        "title": {
         "font": {
          "color": "#4D5663"
         }
        },
        "xaxis": {
         "gridcolor": "#E1E5ED",
         "showgrid": true,
         "tickfont": {
          "color": "#4D5663"
         },
         "title": {
          "font": {
           "color": "#4D5663"
          },
          "text": ""
         },
         "zerolinecolor": "#E1E5ED"
        },
        "yaxis": {
         "gridcolor": "#E1E5ED",
         "showgrid": true,
         "tickfont": {
          "color": "#4D5663"
         },
         "title": {
          "font": {
           "color": "#4D5663"
          },
          "text": ""
         },
         "zerolinecolor": "#E1E5ED"
        }
       }
      },
      "text/html": [
       "<div>                            <div id=\"678499b9-67e1-44df-9713-1b64b81a12e2\" class=\"plotly-graph-div\" style=\"height:525px; width:100%;\"></div>            <script type=\"text/javascript\">                require([\"plotly\"], function(Plotly) {                    window.PLOTLYENV=window.PLOTLYENV || {};\n",
       "                    window.PLOTLYENV.BASE_URL='https://plot.ly';                                    if (document.getElementById(\"678499b9-67e1-44df-9713-1b64b81a12e2\")) {                    Plotly.newPlot(                        \"678499b9-67e1-44df-9713-1b64b81a12e2\",                        [{\"histfunc\":\"count\",\"histnorm\":\"\",\"marker\":{\"color\":\"rgba(255, 153, 51, 1.0)\",\"line\":{\"color\":\"#4D5663\",\"width\":1.3}},\"name\":\"A\",\"nbinsx\":25,\"opacity\":0.8,\"orientation\":\"v\",\"x\":[0.11210520528287181,-1.2125651027444957,0.7409111312981095,0.885201543319391,0.6495720102447006,0.4497318430524437,-0.8227725625609245,-1.294165762002869,0.9855697981173399,-0.5377520046761172,-0.3031172198371253,-0.1500255993360721,-0.15110610248577538,-0.2090964311017719,-0.07585730009648514,-1.3996739953678186,-0.7808096785422856,0.7804823868457346,-0.4726179318216493,0.8075332916145921,0.8265765498071171,-0.40051686205745285,0.2461563372526162,1.642512774461098,0.8653929900395896,1.2025276873281612,0.29563577123790996,0.6699092364237134,-0.5452923695273253,-0.4642660511261456,1.2203389016594837,-0.6832499857349542,0.8492085633334253,0.23052258600709793,1.5445264866072617,-1.1329467423665456,-0.67232546831398,0.876560071944188,-0.27424172669120317,-0.07151448482552263,1.5063628674267997,1.2944560448535178,-1.0392861894092036,-0.5090093904636998,-0.7318138881133566,-0.46620502273403186,0.5228787071414007,1.23838969008501,-0.6297993877243587,-0.7479504258438041,-0.4495593740548306,0.7398152476833297,0.7255842573345948,0.003347148807160973,-0.4329333913030693,0.4586954881696664,0.036666042643426836,-0.1339361513503816,-0.6362684884385781,0.2146499988328602,-0.4655225437157507,0.1529032725538335,-0.3540066262700726,-0.4141644630330249,1.05343191356596,-0.677841097495419,0.19873599249106602,-0.20490582376094724,1.0222387046982089,-1.3989681544131,-1.2203626816923638,0.672749421487676,-0.501519404356596,2.139174899771941,-0.43515901640307103,-0.683545675539224,-1.0331252694832604,-0.07990366076929867,1.0958374389814922,-0.69702643893847,-0.7236655629149418,-0.9769212273077479,0.23059071690166782,1.55850667803002,-1.0206168953256678,-0.36320589787435276,2.077857583290241,0.24666320714680753,0.7042456517611484,-0.5840047538610852,2.3134196985855597,0.7827394356659747,-0.16747308355262033,2.2615019778134346,0.33822024810572665,-0.14314982279753402,-1.1387194880336158,0.8329827995371789,1.6834976572725173,-0.6138378805656016],\"type\":\"histogram\"}],                        {\"barmode\":\"overlay\",\"legend\":{\"bgcolor\":\"#F5F6F9\",\"font\":{\"color\":\"#4D5663\"}},\"paper_bgcolor\":\"#F5F6F9\",\"plot_bgcolor\":\"#F5F6F9\",\"template\":{\"data\":{\"barpolar\":[{\"marker\":{\"line\":{\"color\":\"#E5ECF6\",\"width\":0.5},\"pattern\":{\"fillmode\":\"overlay\",\"size\":10,\"solidity\":0.2}},\"type\":\"barpolar\"}],\"bar\":[{\"error_x\":{\"color\":\"#2a3f5f\"},\"error_y\":{\"color\":\"#2a3f5f\"},\"marker\":{\"line\":{\"color\":\"#E5ECF6\",\"width\":0.5},\"pattern\":{\"fillmode\":\"overlay\",\"size\":10,\"solidity\":0.2}},\"type\":\"bar\"}],\"carpet\":[{\"aaxis\":{\"endlinecolor\":\"#2a3f5f\",\"gridcolor\":\"white\",\"linecolor\":\"white\",\"minorgridcolor\":\"white\",\"startlinecolor\":\"#2a3f5f\"},\"baxis\":{\"endlinecolor\":\"#2a3f5f\",\"gridcolor\":\"white\",\"linecolor\":\"white\",\"minorgridcolor\":\"white\",\"startlinecolor\":\"#2a3f5f\"},\"type\":\"carpet\"}],\"choropleth\":[{\"colorbar\":{\"outlinewidth\":0,\"ticks\":\"\"},\"type\":\"choropleth\"}],\"contourcarpet\":[{\"colorbar\":{\"outlinewidth\":0,\"ticks\":\"\"},\"type\":\"contourcarpet\"}],\"contour\":[{\"colorbar\":{\"outlinewidth\":0,\"ticks\":\"\"},\"colorscale\":[[0.0,\"#0d0887\"],[0.1111111111111111,\"#46039f\"],[0.2222222222222222,\"#7201a8\"],[0.3333333333333333,\"#9c179e\"],[0.4444444444444444,\"#bd3786\"],[0.5555555555555556,\"#d8576b\"],[0.6666666666666666,\"#ed7953\"],[0.7777777777777778,\"#fb9f3a\"],[0.8888888888888888,\"#fdca26\"],[1.0,\"#f0f921\"]],\"type\":\"contour\"}],\"heatmapgl\":[{\"colorbar\":{\"outlinewidth\":0,\"ticks\":\"\"},\"colorscale\":[[0.0,\"#0d0887\"],[0.1111111111111111,\"#46039f\"],[0.2222222222222222,\"#7201a8\"],[0.3333333333333333,\"#9c179e\"],[0.4444444444444444,\"#bd3786\"],[0.5555555555555556,\"#d8576b\"],[0.6666666666666666,\"#ed7953\"],[0.7777777777777778,\"#fb9f3a\"],[0.8888888888888888,\"#fdca26\"],[1.0,\"#f0f921\"]],\"type\":\"heatmapgl\"}],\"heatmap\":[{\"colorbar\":{\"outlinewidth\":0,\"ticks\":\"\"},\"colorscale\":[[0.0,\"#0d0887\"],[0.1111111111111111,\"#46039f\"],[0.2222222222222222,\"#7201a8\"],[0.3333333333333333,\"#9c179e\"],[0.4444444444444444,\"#bd3786\"],[0.5555555555555556,\"#d8576b\"],[0.6666666666666666,\"#ed7953\"],[0.7777777777777778,\"#fb9f3a\"],[0.8888888888888888,\"#fdca26\"],[1.0,\"#f0f921\"]],\"type\":\"heatmap\"}],\"histogram2dcontour\":[{\"colorbar\":{\"outlinewidth\":0,\"ticks\":\"\"},\"colorscale\":[[0.0,\"#0d0887\"],[0.1111111111111111,\"#46039f\"],[0.2222222222222222,\"#7201a8\"],[0.3333333333333333,\"#9c179e\"],[0.4444444444444444,\"#bd3786\"],[0.5555555555555556,\"#d8576b\"],[0.6666666666666666,\"#ed7953\"],[0.7777777777777778,\"#fb9f3a\"],[0.8888888888888888,\"#fdca26\"],[1.0,\"#f0f921\"]],\"type\":\"histogram2dcontour\"}],\"histogram2d\":[{\"colorbar\":{\"outlinewidth\":0,\"ticks\":\"\"},\"colorscale\":[[0.0,\"#0d0887\"],[0.1111111111111111,\"#46039f\"],[0.2222222222222222,\"#7201a8\"],[0.3333333333333333,\"#9c179e\"],[0.4444444444444444,\"#bd3786\"],[0.5555555555555556,\"#d8576b\"],[0.6666666666666666,\"#ed7953\"],[0.7777777777777778,\"#fb9f3a\"],[0.8888888888888888,\"#fdca26\"],[1.0,\"#f0f921\"]],\"type\":\"histogram2d\"}],\"histogram\":[{\"marker\":{\"pattern\":{\"fillmode\":\"overlay\",\"size\":10,\"solidity\":0.2}},\"type\":\"histogram\"}],\"mesh3d\":[{\"colorbar\":{\"outlinewidth\":0,\"ticks\":\"\"},\"type\":\"mesh3d\"}],\"parcoords\":[{\"line\":{\"colorbar\":{\"outlinewidth\":0,\"ticks\":\"\"}},\"type\":\"parcoords\"}],\"pie\":[{\"automargin\":true,\"type\":\"pie\"}],\"scatter3d\":[{\"line\":{\"colorbar\":{\"outlinewidth\":0,\"ticks\":\"\"}},\"marker\":{\"colorbar\":{\"outlinewidth\":0,\"ticks\":\"\"}},\"type\":\"scatter3d\"}],\"scattercarpet\":[{\"marker\":{\"colorbar\":{\"outlinewidth\":0,\"ticks\":\"\"}},\"type\":\"scattercarpet\"}],\"scattergeo\":[{\"marker\":{\"colorbar\":{\"outlinewidth\":0,\"ticks\":\"\"}},\"type\":\"scattergeo\"}],\"scattergl\":[{\"marker\":{\"colorbar\":{\"outlinewidth\":0,\"ticks\":\"\"}},\"type\":\"scattergl\"}],\"scattermapbox\":[{\"marker\":{\"colorbar\":{\"outlinewidth\":0,\"ticks\":\"\"}},\"type\":\"scattermapbox\"}],\"scatterpolargl\":[{\"marker\":{\"colorbar\":{\"outlinewidth\":0,\"ticks\":\"\"}},\"type\":\"scatterpolargl\"}],\"scatterpolar\":[{\"marker\":{\"colorbar\":{\"outlinewidth\":0,\"ticks\":\"\"}},\"type\":\"scatterpolar\"}],\"scatter\":[{\"fillpattern\":{\"fillmode\":\"overlay\",\"size\":10,\"solidity\":0.2},\"type\":\"scatter\"}],\"scatterternary\":[{\"marker\":{\"colorbar\":{\"outlinewidth\":0,\"ticks\":\"\"}},\"type\":\"scatterternary\"}],\"surface\":[{\"colorbar\":{\"outlinewidth\":0,\"ticks\":\"\"},\"colorscale\":[[0.0,\"#0d0887\"],[0.1111111111111111,\"#46039f\"],[0.2222222222222222,\"#7201a8\"],[0.3333333333333333,\"#9c179e\"],[0.4444444444444444,\"#bd3786\"],[0.5555555555555556,\"#d8576b\"],[0.6666666666666666,\"#ed7953\"],[0.7777777777777778,\"#fb9f3a\"],[0.8888888888888888,\"#fdca26\"],[1.0,\"#f0f921\"]],\"type\":\"surface\"}],\"table\":[{\"cells\":{\"fill\":{\"color\":\"#EBF0F8\"},\"line\":{\"color\":\"white\"}},\"header\":{\"fill\":{\"color\":\"#C8D4E3\"},\"line\":{\"color\":\"white\"}},\"type\":\"table\"}]},\"layout\":{\"annotationdefaults\":{\"arrowcolor\":\"#2a3f5f\",\"arrowhead\":0,\"arrowwidth\":1},\"autotypenumbers\":\"strict\",\"coloraxis\":{\"colorbar\":{\"outlinewidth\":0,\"ticks\":\"\"}},\"colorscale\":{\"diverging\":[[0,\"#8e0152\"],[0.1,\"#c51b7d\"],[0.2,\"#de77ae\"],[0.3,\"#f1b6da\"],[0.4,\"#fde0ef\"],[0.5,\"#f7f7f7\"],[0.6,\"#e6f5d0\"],[0.7,\"#b8e186\"],[0.8,\"#7fbc41\"],[0.9,\"#4d9221\"],[1,\"#276419\"]],\"sequential\":[[0.0,\"#0d0887\"],[0.1111111111111111,\"#46039f\"],[0.2222222222222222,\"#7201a8\"],[0.3333333333333333,\"#9c179e\"],[0.4444444444444444,\"#bd3786\"],[0.5555555555555556,\"#d8576b\"],[0.6666666666666666,\"#ed7953\"],[0.7777777777777778,\"#fb9f3a\"],[0.8888888888888888,\"#fdca26\"],[1.0,\"#f0f921\"]],\"sequentialminus\":[[0.0,\"#0d0887\"],[0.1111111111111111,\"#46039f\"],[0.2222222222222222,\"#7201a8\"],[0.3333333333333333,\"#9c179e\"],[0.4444444444444444,\"#bd3786\"],[0.5555555555555556,\"#d8576b\"],[0.6666666666666666,\"#ed7953\"],[0.7777777777777778,\"#fb9f3a\"],[0.8888888888888888,\"#fdca26\"],[1.0,\"#f0f921\"]]},\"colorway\":[\"#636efa\",\"#EF553B\",\"#00cc96\",\"#ab63fa\",\"#FFA15A\",\"#19d3f3\",\"#FF6692\",\"#B6E880\",\"#FF97FF\",\"#FECB52\"],\"font\":{\"color\":\"#2a3f5f\"},\"geo\":{\"bgcolor\":\"white\",\"lakecolor\":\"white\",\"landcolor\":\"#E5ECF6\",\"showlakes\":true,\"showland\":true,\"subunitcolor\":\"white\"},\"hoverlabel\":{\"align\":\"left\"},\"hovermode\":\"closest\",\"mapbox\":{\"style\":\"light\"},\"paper_bgcolor\":\"white\",\"plot_bgcolor\":\"#E5ECF6\",\"polar\":{\"angularaxis\":{\"gridcolor\":\"white\",\"linecolor\":\"white\",\"ticks\":\"\"},\"bgcolor\":\"#E5ECF6\",\"radialaxis\":{\"gridcolor\":\"white\",\"linecolor\":\"white\",\"ticks\":\"\"}},\"scene\":{\"xaxis\":{\"backgroundcolor\":\"#E5ECF6\",\"gridcolor\":\"white\",\"gridwidth\":2,\"linecolor\":\"white\",\"showbackground\":true,\"ticks\":\"\",\"zerolinecolor\":\"white\"},\"yaxis\":{\"backgroundcolor\":\"#E5ECF6\",\"gridcolor\":\"white\",\"gridwidth\":2,\"linecolor\":\"white\",\"showbackground\":true,\"ticks\":\"\",\"zerolinecolor\":\"white\"},\"zaxis\":{\"backgroundcolor\":\"#E5ECF6\",\"gridcolor\":\"white\",\"gridwidth\":2,\"linecolor\":\"white\",\"showbackground\":true,\"ticks\":\"\",\"zerolinecolor\":\"white\"}},\"shapedefaults\":{\"line\":{\"color\":\"#2a3f5f\"}},\"ternary\":{\"aaxis\":{\"gridcolor\":\"white\",\"linecolor\":\"white\",\"ticks\":\"\"},\"baxis\":{\"gridcolor\":\"white\",\"linecolor\":\"white\",\"ticks\":\"\"},\"bgcolor\":\"#E5ECF6\",\"caxis\":{\"gridcolor\":\"white\",\"linecolor\":\"white\",\"ticks\":\"\"}},\"title\":{\"x\":0.05},\"xaxis\":{\"automargin\":true,\"gridcolor\":\"white\",\"linecolor\":\"white\",\"ticks\":\"\",\"title\":{\"standoff\":15},\"zerolinecolor\":\"white\",\"zerolinewidth\":2},\"yaxis\":{\"automargin\":true,\"gridcolor\":\"white\",\"linecolor\":\"white\",\"ticks\":\"\",\"title\":{\"standoff\":15},\"zerolinecolor\":\"white\",\"zerolinewidth\":2}}},\"title\":{\"font\":{\"color\":\"#4D5663\"}},\"xaxis\":{\"gridcolor\":\"#E1E5ED\",\"showgrid\":true,\"tickfont\":{\"color\":\"#4D5663\"},\"title\":{\"font\":{\"color\":\"#4D5663\"},\"text\":\"\"},\"zerolinecolor\":\"#E1E5ED\"},\"yaxis\":{\"gridcolor\":\"#E1E5ED\",\"showgrid\":true,\"tickfont\":{\"color\":\"#4D5663\"},\"title\":{\"font\":{\"color\":\"#4D5663\"},\"text\":\"\"},\"zerolinecolor\":\"#E1E5ED\"}},                        {\"showLink\": true, \"linkText\": \"Export to plot.ly\", \"plotlyServerURL\": \"https://plot.ly\", \"responsive\": true}                    ).then(function(){\n",
       "                            \n",
       "var gd = document.getElementById('678499b9-67e1-44df-9713-1b64b81a12e2');\n",
       "var x = new MutationObserver(function (mutations, observer) {{\n",
       "        var display = window.getComputedStyle(gd).display;\n",
       "        if (!display || display === 'none') {{\n",
       "            console.log([gd, 'removed!']);\n",
       "            Plotly.purge(gd);\n",
       "            observer.disconnect();\n",
       "        }}\n",
       "}});\n",
       "\n",
       "// Listen for the removal of the full notebook cells\n",
       "var notebookContainer = gd.closest('#notebook-container');\n",
       "if (notebookContainer) {{\n",
       "    x.observe(notebookContainer, {childList: true});\n",
       "}}\n",
       "\n",
       "// Listen for the clearing of the current output cell\n",
       "var outputEl = gd.closest('.output');\n",
       "if (outputEl) {{\n",
       "    x.observe(outputEl, {childList: true});\n",
       "}}\n",
       "\n",
       "                        })                };                });            </script>        </div>"
      ]
     },
     "metadata": {},
     "output_type": "display_data"
    }
   ],
   "source": [
    "df['A'].iplot(kind='hist',bins=25)"
   ]
  },
  {
   "cell_type": "code",
   "execution_count": 17,
   "metadata": {},
   "outputs": [
    {
     "data": {
      "application/vnd.plotly.v1+json": {
       "config": {
        "linkText": "Export to plot.ly",
        "plotlyServerURL": "https://plot.ly",
        "showLink": true
       },
       "data": [
        {
         "marker": {
          "color": [
           "rgb(255, 153, 51)",
           "rgb(55, 128, 191)",
           "rgb(50, 171, 96)",
           "rgb(128, 0, 128)",
           "rgb(219, 64, 82)",
           "rgb(0, 128, 128)",
           "rgb(255, 255, 51)",
           "rgb(128, 128, 0)",
           "rgb(251, 128, 114)",
           "rgb(128, 177, 211)"
          ],
          "line": {
           "width": 1.3
          },
          "size": [
           31,
           40,
           28,
           42,
           12,
           76,
           33,
           87,
           53,
           40,
           63,
           33,
           60,
           56,
           93,
           37,
           67,
           29,
           41,
           28,
           51,
           66,
           80,
           93,
           87,
           34,
           51,
           52,
           57,
           81,
           63,
           57,
           60,
           80,
           64,
           47,
           49,
           70,
           32,
           75,
           85,
           40,
           38,
           65,
           84,
           77,
           30,
           43,
           82,
           70,
           77,
           50,
           23,
           71,
           56,
           45,
           75,
           77,
           112,
           71,
           22,
           29,
           48,
           61,
           54,
           66,
           62,
           74,
           31,
           51,
           25,
           79,
           62,
           24,
           76,
           65,
           39,
           55,
           44,
           42,
           61,
           107,
           69,
           49,
           91,
           85,
           57,
           64,
           66,
           79,
           27,
           42,
           62,
           74,
           57,
           64,
           44,
           60,
           85,
           36
          ],
          "symbol": "circle"
         },
         "mode": "markers",
         "text": "",
         "type": "scatter",
         "x": [
          0.11210520528287181,
          -1.2125651027444957,
          0.7409111312981095,
          0.885201543319391,
          0.6495720102447006,
          0.4497318430524437,
          -0.8227725625609245,
          -1.294165762002869,
          0.9855697981173399,
          -0.5377520046761172,
          -0.3031172198371253,
          -0.1500255993360721,
          -0.15110610248577538,
          -0.2090964311017719,
          -0.07585730009648514,
          -1.3996739953678186,
          -0.7808096785422856,
          0.7804823868457346,
          -0.4726179318216493,
          0.8075332916145921,
          0.8265765498071171,
          -0.40051686205745285,
          0.2461563372526162,
          1.642512774461098,
          0.8653929900395896,
          1.2025276873281612,
          0.29563577123790996,
          0.6699092364237134,
          -0.5452923695273253,
          -0.4642660511261456,
          1.2203389016594837,
          -0.6832499857349542,
          0.8492085633334253,
          0.23052258600709793,
          1.5445264866072617,
          -1.1329467423665456,
          -0.67232546831398,
          0.876560071944188,
          -0.27424172669120317,
          -0.07151448482552263,
          1.5063628674267997,
          1.2944560448535178,
          -1.0392861894092036,
          -0.5090093904636998,
          -0.7318138881133566,
          -0.46620502273403186,
          0.5228787071414007,
          1.23838969008501,
          -0.6297993877243587,
          -0.7479504258438041,
          -0.4495593740548306,
          0.7398152476833297,
          0.7255842573345948,
          0.003347148807160973,
          -0.4329333913030693,
          0.4586954881696664,
          0.036666042643426836,
          -0.1339361513503816,
          -0.6362684884385781,
          0.2146499988328602,
          -0.4655225437157507,
          0.1529032725538335,
          -0.3540066262700726,
          -0.4141644630330249,
          1.05343191356596,
          -0.677841097495419,
          0.19873599249106602,
          -0.20490582376094724,
          1.0222387046982089,
          -1.3989681544131,
          -1.2203626816923638,
          0.672749421487676,
          -0.501519404356596,
          2.139174899771941,
          -0.43515901640307103,
          -0.683545675539224,
          -1.0331252694832604,
          -0.07990366076929867,
          1.0958374389814922,
          -0.69702643893847,
          -0.7236655629149418,
          -0.9769212273077479,
          0.23059071690166782,
          1.55850667803002,
          -1.0206168953256678,
          -0.36320589787435276,
          2.077857583290241,
          0.24666320714680753,
          0.7042456517611484,
          -0.5840047538610852,
          2.3134196985855597,
          0.7827394356659747,
          -0.16747308355262033,
          2.2615019778134346,
          0.33822024810572665,
          -0.14314982279753402,
          -1.1387194880336158,
          0.8329827995371789,
          1.6834976572725173,
          -0.6138378805656016
         ],
         "y": [
          0.34877639929304477,
          0.47765838860761517,
          -0.6263905875973632,
          0.1807027854947827,
          1.2594615767283213,
          2.061675068831658,
          -0.03731021947626286,
          1.7329781417734145,
          1.4333130813951505,
          0.9890506764267799,
          -1.1001617423787067,
          -1.8425241553298872,
          0.12647381880286843,
          -0.5667278395663506,
          1.0765047790528184,
          -0.072187928899968,
          -1.4939821526414747,
          1.2250226052736675,
          -0.5627956916404978,
          -1.6253699343440684,
          -0.37390199280900366,
          -0.6988185633546334,
          -1.1809630572804546,
          -0.5261183173161714,
          -0.08483998434967485,
          0.18397446574770657,
          -1.4020526622338747,
          -0.9872052448225611,
          -1.2602997742322197,
          1.4158630293339085,
          1.1127916502637767,
          -0.5066832717598071,
          -0.13284209176116912,
          -0.6061971921148425,
          -1.238221468967239,
          -0.5061225446605018,
          -0.4096323118303564,
          1.2167027519421492,
          -0.5102071701182289,
          0.28262182391342544,
          -0.3765981294368762,
          0.04718398099843374,
          0.05680342464168321,
          -0.6005266438272082,
          -1.8831852841927446,
          -0.1711241484689935,
          -1.5186505364155414,
          -2.337338947803129,
          -0.43173258591565306,
          0.39462380711175676,
          0.8427369707294584,
          1.508091700619213,
          0.2641263148842725,
          -0.42026973874239537,
          -0.07702487444973369,
          0.9439105595970312,
          0.2857049807385942,
          -0.14837882491603224,
          1.604875764248128,
          -0.4243919363715126,
          -0.8234329625172128,
          -0.1684256938792784,
          -0.2832599679287647,
          -0.44014972721508755,
          0.34387113719813567,
          1.4616498923500858,
          -1.2953836162942385,
          -1.4225765018916163,
          0.6740954409511553,
          0.5280663485164603,
          0.008574824129091541,
          -0.3936975898119114,
          -0.1656412725355856,
          1.060920834100708,
          0.5619611732578766,
          -0.32141143247707743,
          0.5204048885335,
          -0.2141654435103684,
          1.8096046094913567,
          0.8648679031283714,
          1.2335563328361652,
          1.487910251127614,
          0.5811363913129524,
          -0.4630649106528774,
          1.402913102256703,
          -0.724008863995739,
          -0.8271466432358756,
          1.8422943874063789,
          1.3184986675534738,
          0.4184235058743894,
          2.002491545005831,
          -0.5144366697315794,
          -1.2755498394658389,
          -1.0337236869460253,
          0.8715878530582845,
          0.7468346959663863,
          -0.4687072125790365,
          0.667070725780239,
          -0.9693651544841688,
          0.46823699499309474
         ]
        }
       ],
       "layout": {
        "legend": {
         "bgcolor": "#F5F6F9",
         "font": {
          "color": "#4D5663"
         }
        },
        "paper_bgcolor": "#F5F6F9",
        "plot_bgcolor": "#F5F6F9",
        "template": {
         "data": {
          "bar": [
           {
            "error_x": {
             "color": "#2a3f5f"
            },
            "error_y": {
             "color": "#2a3f5f"
            },
            "marker": {
             "line": {
              "color": "#E5ECF6",
              "width": 0.5
             },
             "pattern": {
              "fillmode": "overlay",
              "size": 10,
              "solidity": 0.2
             }
            },
            "type": "bar"
           }
          ],
          "barpolar": [
           {
            "marker": {
             "line": {
              "color": "#E5ECF6",
              "width": 0.5
             },
             "pattern": {
              "fillmode": "overlay",
              "size": 10,
              "solidity": 0.2
             }
            },
            "type": "barpolar"
           }
          ],
          "carpet": [
           {
            "aaxis": {
             "endlinecolor": "#2a3f5f",
             "gridcolor": "white",
             "linecolor": "white",
             "minorgridcolor": "white",
             "startlinecolor": "#2a3f5f"
            },
            "baxis": {
             "endlinecolor": "#2a3f5f",
             "gridcolor": "white",
             "linecolor": "white",
             "minorgridcolor": "white",
             "startlinecolor": "#2a3f5f"
            },
            "type": "carpet"
           }
          ],
          "choropleth": [
           {
            "colorbar": {
             "outlinewidth": 0,
             "ticks": ""
            },
            "type": "choropleth"
           }
          ],
          "contour": [
           {
            "colorbar": {
             "outlinewidth": 0,
             "ticks": ""
            },
            "colorscale": [
             [
              0,
              "#0d0887"
             ],
             [
              0.1111111111111111,
              "#46039f"
             ],
             [
              0.2222222222222222,
              "#7201a8"
             ],
             [
              0.3333333333333333,
              "#9c179e"
             ],
             [
              0.4444444444444444,
              "#bd3786"
             ],
             [
              0.5555555555555556,
              "#d8576b"
             ],
             [
              0.6666666666666666,
              "#ed7953"
             ],
             [
              0.7777777777777778,
              "#fb9f3a"
             ],
             [
              0.8888888888888888,
              "#fdca26"
             ],
             [
              1,
              "#f0f921"
             ]
            ],
            "type": "contour"
           }
          ],
          "contourcarpet": [
           {
            "colorbar": {
             "outlinewidth": 0,
             "ticks": ""
            },
            "type": "contourcarpet"
           }
          ],
          "heatmap": [
           {
            "colorbar": {
             "outlinewidth": 0,
             "ticks": ""
            },
            "colorscale": [
             [
              0,
              "#0d0887"
             ],
             [
              0.1111111111111111,
              "#46039f"
             ],
             [
              0.2222222222222222,
              "#7201a8"
             ],
             [
              0.3333333333333333,
              "#9c179e"
             ],
             [
              0.4444444444444444,
              "#bd3786"
             ],
             [
              0.5555555555555556,
              "#d8576b"
             ],
             [
              0.6666666666666666,
              "#ed7953"
             ],
             [
              0.7777777777777778,
              "#fb9f3a"
             ],
             [
              0.8888888888888888,
              "#fdca26"
             ],
             [
              1,
              "#f0f921"
             ]
            ],
            "type": "heatmap"
           }
          ],
          "heatmapgl": [
           {
            "colorbar": {
             "outlinewidth": 0,
             "ticks": ""
            },
            "colorscale": [
             [
              0,
              "#0d0887"
             ],
             [
              0.1111111111111111,
              "#46039f"
             ],
             [
              0.2222222222222222,
              "#7201a8"
             ],
             [
              0.3333333333333333,
              "#9c179e"
             ],
             [
              0.4444444444444444,
              "#bd3786"
             ],
             [
              0.5555555555555556,
              "#d8576b"
             ],
             [
              0.6666666666666666,
              "#ed7953"
             ],
             [
              0.7777777777777778,
              "#fb9f3a"
             ],
             [
              0.8888888888888888,
              "#fdca26"
             ],
             [
              1,
              "#f0f921"
             ]
            ],
            "type": "heatmapgl"
           }
          ],
          "histogram": [
           {
            "marker": {
             "pattern": {
              "fillmode": "overlay",
              "size": 10,
              "solidity": 0.2
             }
            },
            "type": "histogram"
           }
          ],
          "histogram2d": [
           {
            "colorbar": {
             "outlinewidth": 0,
             "ticks": ""
            },
            "colorscale": [
             [
              0,
              "#0d0887"
             ],
             [
              0.1111111111111111,
              "#46039f"
             ],
             [
              0.2222222222222222,
              "#7201a8"
             ],
             [
              0.3333333333333333,
              "#9c179e"
             ],
             [
              0.4444444444444444,
              "#bd3786"
             ],
             [
              0.5555555555555556,
              "#d8576b"
             ],
             [
              0.6666666666666666,
              "#ed7953"
             ],
             [
              0.7777777777777778,
              "#fb9f3a"
             ],
             [
              0.8888888888888888,
              "#fdca26"
             ],
             [
              1,
              "#f0f921"
             ]
            ],
            "type": "histogram2d"
           }
          ],
          "histogram2dcontour": [
           {
            "colorbar": {
             "outlinewidth": 0,
             "ticks": ""
            },
            "colorscale": [
             [
              0,
              "#0d0887"
             ],
             [
              0.1111111111111111,
              "#46039f"
             ],
             [
              0.2222222222222222,
              "#7201a8"
             ],
             [
              0.3333333333333333,
              "#9c179e"
             ],
             [
              0.4444444444444444,
              "#bd3786"
             ],
             [
              0.5555555555555556,
              "#d8576b"
             ],
             [
              0.6666666666666666,
              "#ed7953"
             ],
             [
              0.7777777777777778,
              "#fb9f3a"
             ],
             [
              0.8888888888888888,
              "#fdca26"
             ],
             [
              1,
              "#f0f921"
             ]
            ],
            "type": "histogram2dcontour"
           }
          ],
          "mesh3d": [
           {
            "colorbar": {
             "outlinewidth": 0,
             "ticks": ""
            },
            "type": "mesh3d"
           }
          ],
          "parcoords": [
           {
            "line": {
             "colorbar": {
              "outlinewidth": 0,
              "ticks": ""
             }
            },
            "type": "parcoords"
           }
          ],
          "pie": [
           {
            "automargin": true,
            "type": "pie"
           }
          ],
          "scatter": [
           {
            "fillpattern": {
             "fillmode": "overlay",
             "size": 10,
             "solidity": 0.2
            },
            "type": "scatter"
           }
          ],
          "scatter3d": [
           {
            "line": {
             "colorbar": {
              "outlinewidth": 0,
              "ticks": ""
             }
            },
            "marker": {
             "colorbar": {
              "outlinewidth": 0,
              "ticks": ""
             }
            },
            "type": "scatter3d"
           }
          ],
          "scattercarpet": [
           {
            "marker": {
             "colorbar": {
              "outlinewidth": 0,
              "ticks": ""
             }
            },
            "type": "scattercarpet"
           }
          ],
          "scattergeo": [
           {
            "marker": {
             "colorbar": {
              "outlinewidth": 0,
              "ticks": ""
             }
            },
            "type": "scattergeo"
           }
          ],
          "scattergl": [
           {
            "marker": {
             "colorbar": {
              "outlinewidth": 0,
              "ticks": ""
             }
            },
            "type": "scattergl"
           }
          ],
          "scattermapbox": [
           {
            "marker": {
             "colorbar": {
              "outlinewidth": 0,
              "ticks": ""
             }
            },
            "type": "scattermapbox"
           }
          ],
          "scatterpolar": [
           {
            "marker": {
             "colorbar": {
              "outlinewidth": 0,
              "ticks": ""
             }
            },
            "type": "scatterpolar"
           }
          ],
          "scatterpolargl": [
           {
            "marker": {
             "colorbar": {
              "outlinewidth": 0,
              "ticks": ""
             }
            },
            "type": "scatterpolargl"
           }
          ],
          "scatterternary": [
           {
            "marker": {
             "colorbar": {
              "outlinewidth": 0,
              "ticks": ""
             }
            },
            "type": "scatterternary"
           }
          ],
          "surface": [
           {
            "colorbar": {
             "outlinewidth": 0,
             "ticks": ""
            },
            "colorscale": [
             [
              0,
              "#0d0887"
             ],
             [
              0.1111111111111111,
              "#46039f"
             ],
             [
              0.2222222222222222,
              "#7201a8"
             ],
             [
              0.3333333333333333,
              "#9c179e"
             ],
             [
              0.4444444444444444,
              "#bd3786"
             ],
             [
              0.5555555555555556,
              "#d8576b"
             ],
             [
              0.6666666666666666,
              "#ed7953"
             ],
             [
              0.7777777777777778,
              "#fb9f3a"
             ],
             [
              0.8888888888888888,
              "#fdca26"
             ],
             [
              1,
              "#f0f921"
             ]
            ],
            "type": "surface"
           }
          ],
          "table": [
           {
            "cells": {
             "fill": {
              "color": "#EBF0F8"
             },
             "line": {
              "color": "white"
             }
            },
            "header": {
             "fill": {
              "color": "#C8D4E3"
             },
             "line": {
              "color": "white"
             }
            },
            "type": "table"
           }
          ]
         },
         "layout": {
          "annotationdefaults": {
           "arrowcolor": "#2a3f5f",
           "arrowhead": 0,
           "arrowwidth": 1
          },
          "autotypenumbers": "strict",
          "coloraxis": {
           "colorbar": {
            "outlinewidth": 0,
            "ticks": ""
           }
          },
          "colorscale": {
           "diverging": [
            [
             0,
             "#8e0152"
            ],
            [
             0.1,
             "#c51b7d"
            ],
            [
             0.2,
             "#de77ae"
            ],
            [
             0.3,
             "#f1b6da"
            ],
            [
             0.4,
             "#fde0ef"
            ],
            [
             0.5,
             "#f7f7f7"
            ],
            [
             0.6,
             "#e6f5d0"
            ],
            [
             0.7,
             "#b8e186"
            ],
            [
             0.8,
             "#7fbc41"
            ],
            [
             0.9,
             "#4d9221"
            ],
            [
             1,
             "#276419"
            ]
           ],
           "sequential": [
            [
             0,
             "#0d0887"
            ],
            [
             0.1111111111111111,
             "#46039f"
            ],
            [
             0.2222222222222222,
             "#7201a8"
            ],
            [
             0.3333333333333333,
             "#9c179e"
            ],
            [
             0.4444444444444444,
             "#bd3786"
            ],
            [
             0.5555555555555556,
             "#d8576b"
            ],
            [
             0.6666666666666666,
             "#ed7953"
            ],
            [
             0.7777777777777778,
             "#fb9f3a"
            ],
            [
             0.8888888888888888,
             "#fdca26"
            ],
            [
             1,
             "#f0f921"
            ]
           ],
           "sequentialminus": [
            [
             0,
             "#0d0887"
            ],
            [
             0.1111111111111111,
             "#46039f"
            ],
            [
             0.2222222222222222,
             "#7201a8"
            ],
            [
             0.3333333333333333,
             "#9c179e"
            ],
            [
             0.4444444444444444,
             "#bd3786"
            ],
            [
             0.5555555555555556,
             "#d8576b"
            ],
            [
             0.6666666666666666,
             "#ed7953"
            ],
            [
             0.7777777777777778,
             "#fb9f3a"
            ],
            [
             0.8888888888888888,
             "#fdca26"
            ],
            [
             1,
             "#f0f921"
            ]
           ]
          },
          "colorway": [
           "#636efa",
           "#EF553B",
           "#00cc96",
           "#ab63fa",
           "#FFA15A",
           "#19d3f3",
           "#FF6692",
           "#B6E880",
           "#FF97FF",
           "#FECB52"
          ],
          "font": {
           "color": "#2a3f5f"
          },
          "geo": {
           "bgcolor": "white",
           "lakecolor": "white",
           "landcolor": "#E5ECF6",
           "showlakes": true,
           "showland": true,
           "subunitcolor": "white"
          },
          "hoverlabel": {
           "align": "left"
          },
          "hovermode": "closest",
          "mapbox": {
           "style": "light"
          },
          "paper_bgcolor": "white",
          "plot_bgcolor": "#E5ECF6",
          "polar": {
           "angularaxis": {
            "gridcolor": "white",
            "linecolor": "white",
            "ticks": ""
           },
           "bgcolor": "#E5ECF6",
           "radialaxis": {
            "gridcolor": "white",
            "linecolor": "white",
            "ticks": ""
           }
          },
          "scene": {
           "xaxis": {
            "backgroundcolor": "#E5ECF6",
            "gridcolor": "white",
            "gridwidth": 2,
            "linecolor": "white",
            "showbackground": true,
            "ticks": "",
            "zerolinecolor": "white"
           },
           "yaxis": {
            "backgroundcolor": "#E5ECF6",
            "gridcolor": "white",
            "gridwidth": 2,
            "linecolor": "white",
            "showbackground": true,
            "ticks": "",
            "zerolinecolor": "white"
           },
           "zaxis": {
            "backgroundcolor": "#E5ECF6",
            "gridcolor": "white",
            "gridwidth": 2,
            "linecolor": "white",
            "showbackground": true,
            "ticks": "",
            "zerolinecolor": "white"
           }
          },
          "shapedefaults": {
           "line": {
            "color": "#2a3f5f"
           }
          },
          "ternary": {
           "aaxis": {
            "gridcolor": "white",
            "linecolor": "white",
            "ticks": ""
           },
           "baxis": {
            "gridcolor": "white",
            "linecolor": "white",
            "ticks": ""
           },
           "bgcolor": "#E5ECF6",
           "caxis": {
            "gridcolor": "white",
            "linecolor": "white",
            "ticks": ""
           }
          },
          "title": {
           "x": 0.05
          },
          "xaxis": {
           "automargin": true,
           "gridcolor": "white",
           "linecolor": "white",
           "ticks": "",
           "title": {
            "standoff": 15
           },
           "zerolinecolor": "white",
           "zerolinewidth": 2
          },
          "yaxis": {
           "automargin": true,
           "gridcolor": "white",
           "linecolor": "white",
           "ticks": "",
           "title": {
            "standoff": 15
           },
           "zerolinecolor": "white",
           "zerolinewidth": 2
          }
         }
        },
        "title": {
         "font": {
          "color": "#4D5663"
         }
        },
        "xaxis": {
         "gridcolor": "#E1E5ED",
         "showgrid": true,
         "tickfont": {
          "color": "#4D5663"
         },
         "title": {
          "font": {
           "color": "#4D5663"
          },
          "text": ""
         },
         "zerolinecolor": "#E1E5ED"
        },
        "yaxis": {
         "gridcolor": "#E1E5ED",
         "showgrid": true,
         "tickfont": {
          "color": "#4D5663"
         },
         "title": {
          "font": {
           "color": "#4D5663"
          },
          "text": ""
         },
         "zerolinecolor": "#E1E5ED"
        }
       }
      },
      "text/html": [
       "<div>                            <div id=\"0c5fb173-de3d-42e1-941f-28dc0381821e\" class=\"plotly-graph-div\" style=\"height:525px; width:100%;\"></div>            <script type=\"text/javascript\">                require([\"plotly\"], function(Plotly) {                    window.PLOTLYENV=window.PLOTLYENV || {};\n",
       "                    window.PLOTLYENV.BASE_URL='https://plot.ly';                                    if (document.getElementById(\"0c5fb173-de3d-42e1-941f-28dc0381821e\")) {                    Plotly.newPlot(                        \"0c5fb173-de3d-42e1-941f-28dc0381821e\",                        [{\"marker\":{\"color\":[\"rgb(255, 153, 51)\",\"rgb(55, 128, 191)\",\"rgb(50, 171, 96)\",\"rgb(128, 0, 128)\",\"rgb(219, 64, 82)\",\"rgb(0, 128, 128)\",\"rgb(255, 255, 51)\",\"rgb(128, 128, 0)\",\"rgb(251, 128, 114)\",\"rgb(128, 177, 211)\"],\"line\":{\"width\":1.3},\"size\":[31,40,28,42,12,76,33,87,53,40,63,33,60,56,93,37,67,29,41,28,51,66,80,93,87,34,51,52,57,81,63,57,60,80,64,47,49,70,32,75,85,40,38,65,84,77,30,43,82,70,77,50,23,71,56,45,75,77,112,71,22,29,48,61,54,66,62,74,31,51,25,79,62,24,76,65,39,55,44,42,61,107,69,49,91,85,57,64,66,79,27,42,62,74,57,64,44,60,85,36],\"symbol\":\"circle\"},\"mode\":\"markers\",\"text\":\"\",\"x\":[0.11210520528287181,-1.2125651027444957,0.7409111312981095,0.885201543319391,0.6495720102447006,0.4497318430524437,-0.8227725625609245,-1.294165762002869,0.9855697981173399,-0.5377520046761172,-0.3031172198371253,-0.1500255993360721,-0.15110610248577538,-0.2090964311017719,-0.07585730009648514,-1.3996739953678186,-0.7808096785422856,0.7804823868457346,-0.4726179318216493,0.8075332916145921,0.8265765498071171,-0.40051686205745285,0.2461563372526162,1.642512774461098,0.8653929900395896,1.2025276873281612,0.29563577123790996,0.6699092364237134,-0.5452923695273253,-0.4642660511261456,1.2203389016594837,-0.6832499857349542,0.8492085633334253,0.23052258600709793,1.5445264866072617,-1.1329467423665456,-0.67232546831398,0.876560071944188,-0.27424172669120317,-0.07151448482552263,1.5063628674267997,1.2944560448535178,-1.0392861894092036,-0.5090093904636998,-0.7318138881133566,-0.46620502273403186,0.5228787071414007,1.23838969008501,-0.6297993877243587,-0.7479504258438041,-0.4495593740548306,0.7398152476833297,0.7255842573345948,0.003347148807160973,-0.4329333913030693,0.4586954881696664,0.036666042643426836,-0.1339361513503816,-0.6362684884385781,0.2146499988328602,-0.4655225437157507,0.1529032725538335,-0.3540066262700726,-0.4141644630330249,1.05343191356596,-0.677841097495419,0.19873599249106602,-0.20490582376094724,1.0222387046982089,-1.3989681544131,-1.2203626816923638,0.672749421487676,-0.501519404356596,2.139174899771941,-0.43515901640307103,-0.683545675539224,-1.0331252694832604,-0.07990366076929867,1.0958374389814922,-0.69702643893847,-0.7236655629149418,-0.9769212273077479,0.23059071690166782,1.55850667803002,-1.0206168953256678,-0.36320589787435276,2.077857583290241,0.24666320714680753,0.7042456517611484,-0.5840047538610852,2.3134196985855597,0.7827394356659747,-0.16747308355262033,2.2615019778134346,0.33822024810572665,-0.14314982279753402,-1.1387194880336158,0.8329827995371789,1.6834976572725173,-0.6138378805656016],\"y\":[0.34877639929304477,0.47765838860761517,-0.6263905875973632,0.1807027854947827,1.2594615767283213,2.061675068831658,-0.03731021947626286,1.7329781417734145,1.4333130813951505,0.9890506764267799,-1.1001617423787067,-1.8425241553298872,0.12647381880286843,-0.5667278395663506,1.0765047790528184,-0.072187928899968,-1.4939821526414747,1.2250226052736675,-0.5627956916404978,-1.6253699343440684,-0.37390199280900366,-0.6988185633546334,-1.1809630572804546,-0.5261183173161714,-0.08483998434967485,0.18397446574770657,-1.4020526622338747,-0.9872052448225611,-1.2602997742322197,1.4158630293339085,1.1127916502637767,-0.5066832717598071,-0.13284209176116912,-0.6061971921148425,-1.238221468967239,-0.5061225446605018,-0.4096323118303564,1.2167027519421492,-0.5102071701182289,0.28262182391342544,-0.3765981294368762,0.04718398099843374,0.05680342464168321,-0.6005266438272082,-1.8831852841927446,-0.1711241484689935,-1.5186505364155414,-2.337338947803129,-0.43173258591565306,0.39462380711175676,0.8427369707294584,1.508091700619213,0.2641263148842725,-0.42026973874239537,-0.07702487444973369,0.9439105595970312,0.2857049807385942,-0.14837882491603224,1.604875764248128,-0.4243919363715126,-0.8234329625172128,-0.1684256938792784,-0.2832599679287647,-0.44014972721508755,0.34387113719813567,1.4616498923500858,-1.2953836162942385,-1.4225765018916163,0.6740954409511553,0.5280663485164603,0.008574824129091541,-0.3936975898119114,-0.1656412725355856,1.060920834100708,0.5619611732578766,-0.32141143247707743,0.5204048885335,-0.2141654435103684,1.8096046094913567,0.8648679031283714,1.2335563328361652,1.487910251127614,0.5811363913129524,-0.4630649106528774,1.402913102256703,-0.724008863995739,-0.8271466432358756,1.8422943874063789,1.3184986675534738,0.4184235058743894,2.002491545005831,-0.5144366697315794,-1.2755498394658389,-1.0337236869460253,0.8715878530582845,0.7468346959663863,-0.4687072125790365,0.667070725780239,-0.9693651544841688,0.46823699499309474],\"type\":\"scatter\"}],                        {\"legend\":{\"bgcolor\":\"#F5F6F9\",\"font\":{\"color\":\"#4D5663\"}},\"paper_bgcolor\":\"#F5F6F9\",\"plot_bgcolor\":\"#F5F6F9\",\"template\":{\"data\":{\"barpolar\":[{\"marker\":{\"line\":{\"color\":\"#E5ECF6\",\"width\":0.5},\"pattern\":{\"fillmode\":\"overlay\",\"size\":10,\"solidity\":0.2}},\"type\":\"barpolar\"}],\"bar\":[{\"error_x\":{\"color\":\"#2a3f5f\"},\"error_y\":{\"color\":\"#2a3f5f\"},\"marker\":{\"line\":{\"color\":\"#E5ECF6\",\"width\":0.5},\"pattern\":{\"fillmode\":\"overlay\",\"size\":10,\"solidity\":0.2}},\"type\":\"bar\"}],\"carpet\":[{\"aaxis\":{\"endlinecolor\":\"#2a3f5f\",\"gridcolor\":\"white\",\"linecolor\":\"white\",\"minorgridcolor\":\"white\",\"startlinecolor\":\"#2a3f5f\"},\"baxis\":{\"endlinecolor\":\"#2a3f5f\",\"gridcolor\":\"white\",\"linecolor\":\"white\",\"minorgridcolor\":\"white\",\"startlinecolor\":\"#2a3f5f\"},\"type\":\"carpet\"}],\"choropleth\":[{\"colorbar\":{\"outlinewidth\":0,\"ticks\":\"\"},\"type\":\"choropleth\"}],\"contourcarpet\":[{\"colorbar\":{\"outlinewidth\":0,\"ticks\":\"\"},\"type\":\"contourcarpet\"}],\"contour\":[{\"colorbar\":{\"outlinewidth\":0,\"ticks\":\"\"},\"colorscale\":[[0.0,\"#0d0887\"],[0.1111111111111111,\"#46039f\"],[0.2222222222222222,\"#7201a8\"],[0.3333333333333333,\"#9c179e\"],[0.4444444444444444,\"#bd3786\"],[0.5555555555555556,\"#d8576b\"],[0.6666666666666666,\"#ed7953\"],[0.7777777777777778,\"#fb9f3a\"],[0.8888888888888888,\"#fdca26\"],[1.0,\"#f0f921\"]],\"type\":\"contour\"}],\"heatmapgl\":[{\"colorbar\":{\"outlinewidth\":0,\"ticks\":\"\"},\"colorscale\":[[0.0,\"#0d0887\"],[0.1111111111111111,\"#46039f\"],[0.2222222222222222,\"#7201a8\"],[0.3333333333333333,\"#9c179e\"],[0.4444444444444444,\"#bd3786\"],[0.5555555555555556,\"#d8576b\"],[0.6666666666666666,\"#ed7953\"],[0.7777777777777778,\"#fb9f3a\"],[0.8888888888888888,\"#fdca26\"],[1.0,\"#f0f921\"]],\"type\":\"heatmapgl\"}],\"heatmap\":[{\"colorbar\":{\"outlinewidth\":0,\"ticks\":\"\"},\"colorscale\":[[0.0,\"#0d0887\"],[0.1111111111111111,\"#46039f\"],[0.2222222222222222,\"#7201a8\"],[0.3333333333333333,\"#9c179e\"],[0.4444444444444444,\"#bd3786\"],[0.5555555555555556,\"#d8576b\"],[0.6666666666666666,\"#ed7953\"],[0.7777777777777778,\"#fb9f3a\"],[0.8888888888888888,\"#fdca26\"],[1.0,\"#f0f921\"]],\"type\":\"heatmap\"}],\"histogram2dcontour\":[{\"colorbar\":{\"outlinewidth\":0,\"ticks\":\"\"},\"colorscale\":[[0.0,\"#0d0887\"],[0.1111111111111111,\"#46039f\"],[0.2222222222222222,\"#7201a8\"],[0.3333333333333333,\"#9c179e\"],[0.4444444444444444,\"#bd3786\"],[0.5555555555555556,\"#d8576b\"],[0.6666666666666666,\"#ed7953\"],[0.7777777777777778,\"#fb9f3a\"],[0.8888888888888888,\"#fdca26\"],[1.0,\"#f0f921\"]],\"type\":\"histogram2dcontour\"}],\"histogram2d\":[{\"colorbar\":{\"outlinewidth\":0,\"ticks\":\"\"},\"colorscale\":[[0.0,\"#0d0887\"],[0.1111111111111111,\"#46039f\"],[0.2222222222222222,\"#7201a8\"],[0.3333333333333333,\"#9c179e\"],[0.4444444444444444,\"#bd3786\"],[0.5555555555555556,\"#d8576b\"],[0.6666666666666666,\"#ed7953\"],[0.7777777777777778,\"#fb9f3a\"],[0.8888888888888888,\"#fdca26\"],[1.0,\"#f0f921\"]],\"type\":\"histogram2d\"}],\"histogram\":[{\"marker\":{\"pattern\":{\"fillmode\":\"overlay\",\"size\":10,\"solidity\":0.2}},\"type\":\"histogram\"}],\"mesh3d\":[{\"colorbar\":{\"outlinewidth\":0,\"ticks\":\"\"},\"type\":\"mesh3d\"}],\"parcoords\":[{\"line\":{\"colorbar\":{\"outlinewidth\":0,\"ticks\":\"\"}},\"type\":\"parcoords\"}],\"pie\":[{\"automargin\":true,\"type\":\"pie\"}],\"scatter3d\":[{\"line\":{\"colorbar\":{\"outlinewidth\":0,\"ticks\":\"\"}},\"marker\":{\"colorbar\":{\"outlinewidth\":0,\"ticks\":\"\"}},\"type\":\"scatter3d\"}],\"scattercarpet\":[{\"marker\":{\"colorbar\":{\"outlinewidth\":0,\"ticks\":\"\"}},\"type\":\"scattercarpet\"}],\"scattergeo\":[{\"marker\":{\"colorbar\":{\"outlinewidth\":0,\"ticks\":\"\"}},\"type\":\"scattergeo\"}],\"scattergl\":[{\"marker\":{\"colorbar\":{\"outlinewidth\":0,\"ticks\":\"\"}},\"type\":\"scattergl\"}],\"scattermapbox\":[{\"marker\":{\"colorbar\":{\"outlinewidth\":0,\"ticks\":\"\"}},\"type\":\"scattermapbox\"}],\"scatterpolargl\":[{\"marker\":{\"colorbar\":{\"outlinewidth\":0,\"ticks\":\"\"}},\"type\":\"scatterpolargl\"}],\"scatterpolar\":[{\"marker\":{\"colorbar\":{\"outlinewidth\":0,\"ticks\":\"\"}},\"type\":\"scatterpolar\"}],\"scatter\":[{\"fillpattern\":{\"fillmode\":\"overlay\",\"size\":10,\"solidity\":0.2},\"type\":\"scatter\"}],\"scatterternary\":[{\"marker\":{\"colorbar\":{\"outlinewidth\":0,\"ticks\":\"\"}},\"type\":\"scatterternary\"}],\"surface\":[{\"colorbar\":{\"outlinewidth\":0,\"ticks\":\"\"},\"colorscale\":[[0.0,\"#0d0887\"],[0.1111111111111111,\"#46039f\"],[0.2222222222222222,\"#7201a8\"],[0.3333333333333333,\"#9c179e\"],[0.4444444444444444,\"#bd3786\"],[0.5555555555555556,\"#d8576b\"],[0.6666666666666666,\"#ed7953\"],[0.7777777777777778,\"#fb9f3a\"],[0.8888888888888888,\"#fdca26\"],[1.0,\"#f0f921\"]],\"type\":\"surface\"}],\"table\":[{\"cells\":{\"fill\":{\"color\":\"#EBF0F8\"},\"line\":{\"color\":\"white\"}},\"header\":{\"fill\":{\"color\":\"#C8D4E3\"},\"line\":{\"color\":\"white\"}},\"type\":\"table\"}]},\"layout\":{\"annotationdefaults\":{\"arrowcolor\":\"#2a3f5f\",\"arrowhead\":0,\"arrowwidth\":1},\"autotypenumbers\":\"strict\",\"coloraxis\":{\"colorbar\":{\"outlinewidth\":0,\"ticks\":\"\"}},\"colorscale\":{\"diverging\":[[0,\"#8e0152\"],[0.1,\"#c51b7d\"],[0.2,\"#de77ae\"],[0.3,\"#f1b6da\"],[0.4,\"#fde0ef\"],[0.5,\"#f7f7f7\"],[0.6,\"#e6f5d0\"],[0.7,\"#b8e186\"],[0.8,\"#7fbc41\"],[0.9,\"#4d9221\"],[1,\"#276419\"]],\"sequential\":[[0.0,\"#0d0887\"],[0.1111111111111111,\"#46039f\"],[0.2222222222222222,\"#7201a8\"],[0.3333333333333333,\"#9c179e\"],[0.4444444444444444,\"#bd3786\"],[0.5555555555555556,\"#d8576b\"],[0.6666666666666666,\"#ed7953\"],[0.7777777777777778,\"#fb9f3a\"],[0.8888888888888888,\"#fdca26\"],[1.0,\"#f0f921\"]],\"sequentialminus\":[[0.0,\"#0d0887\"],[0.1111111111111111,\"#46039f\"],[0.2222222222222222,\"#7201a8\"],[0.3333333333333333,\"#9c179e\"],[0.4444444444444444,\"#bd3786\"],[0.5555555555555556,\"#d8576b\"],[0.6666666666666666,\"#ed7953\"],[0.7777777777777778,\"#fb9f3a\"],[0.8888888888888888,\"#fdca26\"],[1.0,\"#f0f921\"]]},\"colorway\":[\"#636efa\",\"#EF553B\",\"#00cc96\",\"#ab63fa\",\"#FFA15A\",\"#19d3f3\",\"#FF6692\",\"#B6E880\",\"#FF97FF\",\"#FECB52\"],\"font\":{\"color\":\"#2a3f5f\"},\"geo\":{\"bgcolor\":\"white\",\"lakecolor\":\"white\",\"landcolor\":\"#E5ECF6\",\"showlakes\":true,\"showland\":true,\"subunitcolor\":\"white\"},\"hoverlabel\":{\"align\":\"left\"},\"hovermode\":\"closest\",\"mapbox\":{\"style\":\"light\"},\"paper_bgcolor\":\"white\",\"plot_bgcolor\":\"#E5ECF6\",\"polar\":{\"angularaxis\":{\"gridcolor\":\"white\",\"linecolor\":\"white\",\"ticks\":\"\"},\"bgcolor\":\"#E5ECF6\",\"radialaxis\":{\"gridcolor\":\"white\",\"linecolor\":\"white\",\"ticks\":\"\"}},\"scene\":{\"xaxis\":{\"backgroundcolor\":\"#E5ECF6\",\"gridcolor\":\"white\",\"gridwidth\":2,\"linecolor\":\"white\",\"showbackground\":true,\"ticks\":\"\",\"zerolinecolor\":\"white\"},\"yaxis\":{\"backgroundcolor\":\"#E5ECF6\",\"gridcolor\":\"white\",\"gridwidth\":2,\"linecolor\":\"white\",\"showbackground\":true,\"ticks\":\"\",\"zerolinecolor\":\"white\"},\"zaxis\":{\"backgroundcolor\":\"#E5ECF6\",\"gridcolor\":\"white\",\"gridwidth\":2,\"linecolor\":\"white\",\"showbackground\":true,\"ticks\":\"\",\"zerolinecolor\":\"white\"}},\"shapedefaults\":{\"line\":{\"color\":\"#2a3f5f\"}},\"ternary\":{\"aaxis\":{\"gridcolor\":\"white\",\"linecolor\":\"white\",\"ticks\":\"\"},\"baxis\":{\"gridcolor\":\"white\",\"linecolor\":\"white\",\"ticks\":\"\"},\"bgcolor\":\"#E5ECF6\",\"caxis\":{\"gridcolor\":\"white\",\"linecolor\":\"white\",\"ticks\":\"\"}},\"title\":{\"x\":0.05},\"xaxis\":{\"automargin\":true,\"gridcolor\":\"white\",\"linecolor\":\"white\",\"ticks\":\"\",\"title\":{\"standoff\":15},\"zerolinecolor\":\"white\",\"zerolinewidth\":2},\"yaxis\":{\"automargin\":true,\"gridcolor\":\"white\",\"linecolor\":\"white\",\"ticks\":\"\",\"title\":{\"standoff\":15},\"zerolinecolor\":\"white\",\"zerolinewidth\":2}}},\"title\":{\"font\":{\"color\":\"#4D5663\"}},\"xaxis\":{\"gridcolor\":\"#E1E5ED\",\"showgrid\":true,\"tickfont\":{\"color\":\"#4D5663\"},\"title\":{\"font\":{\"color\":\"#4D5663\"},\"text\":\"\"},\"zerolinecolor\":\"#E1E5ED\"},\"yaxis\":{\"gridcolor\":\"#E1E5ED\",\"showgrid\":true,\"tickfont\":{\"color\":\"#4D5663\"},\"title\":{\"font\":{\"color\":\"#4D5663\"},\"text\":\"\"},\"zerolinecolor\":\"#E1E5ED\"}},                        {\"showLink\": true, \"linkText\": \"Export to plot.ly\", \"plotlyServerURL\": \"https://plot.ly\", \"responsive\": true}                    ).then(function(){\n",
       "                            \n",
       "var gd = document.getElementById('0c5fb173-de3d-42e1-941f-28dc0381821e');\n",
       "var x = new MutationObserver(function (mutations, observer) {{\n",
       "        var display = window.getComputedStyle(gd).display;\n",
       "        if (!display || display === 'none') {{\n",
       "            console.log([gd, 'removed!']);\n",
       "            Plotly.purge(gd);\n",
       "            observer.disconnect();\n",
       "        }}\n",
       "}});\n",
       "\n",
       "// Listen for the removal of the full notebook cells\n",
       "var notebookContainer = gd.closest('#notebook-container');\n",
       "if (notebookContainer) {{\n",
       "    x.observe(notebookContainer, {childList: true});\n",
       "}}\n",
       "\n",
       "// Listen for the clearing of the current output cell\n",
       "var outputEl = gd.closest('.output');\n",
       "if (outputEl) {{\n",
       "    x.observe(outputEl, {childList: true});\n",
       "}}\n",
       "\n",
       "                        })                };                });            </script>        </div>"
      ]
     },
     "metadata": {},
     "output_type": "display_data"
    }
   ],
   "source": [
    "df.iplot(kind='bubble',x='A',y='B',size='C')"
   ]
  },
  {
   "cell_type": "markdown",
   "metadata": {},
   "source": [
    "## scatter_matrix()\n",
    "\n",
    "Similar to sns.pairplot()"
   ]
  },
  {
   "cell_type": "code",
   "execution_count": 18,
   "metadata": {},
   "outputs": [
    {
     "data": {
      "application/vnd.plotly.v1+json": {
       "config": {
        "linkText": "Export to plot.ly",
        "plotlyServerURL": "https://plot.ly",
        "showLink": true
       },
       "data": [
        {
         "histfunc": "count",
         "histnorm": "",
         "marker": {
          "color": "rgba(255, 153, 51, 1.0)",
          "line": {
           "color": "#4D5663",
           "width": 1.3
          }
         },
         "name": "A",
         "nbinsx": 10,
         "opacity": 0.8,
         "orientation": "v",
         "type": "histogram",
         "x": [
          0.11210520528287181,
          -1.2125651027444957,
          0.7409111312981095,
          0.885201543319391,
          0.6495720102447006,
          0.4497318430524437,
          -0.8227725625609245,
          -1.294165762002869,
          0.9855697981173399,
          -0.5377520046761172,
          -0.3031172198371253,
          -0.1500255993360721,
          -0.15110610248577538,
          -0.2090964311017719,
          -0.07585730009648514,
          -1.3996739953678186,
          -0.7808096785422856,
          0.7804823868457346,
          -0.4726179318216493,
          0.8075332916145921,
          0.8265765498071171,
          -0.40051686205745285,
          0.2461563372526162,
          1.642512774461098,
          0.8653929900395896,
          1.2025276873281612,
          0.29563577123790996,
          0.6699092364237134,
          -0.5452923695273253,
          -0.4642660511261456,
          1.2203389016594837,
          -0.6832499857349542,
          0.8492085633334253,
          0.23052258600709793,
          1.5445264866072617,
          -1.1329467423665456,
          -0.67232546831398,
          0.876560071944188,
          -0.27424172669120317,
          -0.07151448482552263,
          1.5063628674267997,
          1.2944560448535178,
          -1.0392861894092036,
          -0.5090093904636998,
          -0.7318138881133566,
          -0.46620502273403186,
          0.5228787071414007,
          1.23838969008501,
          -0.6297993877243587,
          -0.7479504258438041,
          -0.4495593740548306,
          0.7398152476833297,
          0.7255842573345948,
          0.003347148807160973,
          -0.4329333913030693,
          0.4586954881696664,
          0.036666042643426836,
          -0.1339361513503816,
          -0.6362684884385781,
          0.2146499988328602,
          -0.4655225437157507,
          0.1529032725538335,
          -0.3540066262700726,
          -0.4141644630330249,
          1.05343191356596,
          -0.677841097495419,
          0.19873599249106602,
          -0.20490582376094724,
          1.0222387046982089,
          -1.3989681544131,
          -1.2203626816923638,
          0.672749421487676,
          -0.501519404356596,
          2.139174899771941,
          -0.43515901640307103,
          -0.683545675539224,
          -1.0331252694832604,
          -0.07990366076929867,
          1.0958374389814922,
          -0.69702643893847,
          -0.7236655629149418,
          -0.9769212273077479,
          0.23059071690166782,
          1.55850667803002,
          -1.0206168953256678,
          -0.36320589787435276,
          2.077857583290241,
          0.24666320714680753,
          0.7042456517611484,
          -0.5840047538610852,
          2.3134196985855597,
          0.7827394356659747,
          -0.16747308355262033,
          2.2615019778134346,
          0.33822024810572665,
          -0.14314982279753402,
          -1.1387194880336158,
          0.8329827995371789,
          1.6834976572725173,
          -0.6138378805656016
         ],
         "xaxis": "x",
         "yaxis": "y"
        },
        {
         "line": {
          "color": "rgba(128, 128, 128, 1.0)",
          "dash": "solid",
          "shape": "linear",
          "width": 1.3
         },
         "marker": {
          "size": 2,
          "symbol": "circle"
         },
         "mode": "markers",
         "name": "A",
         "text": "",
         "type": "scatter",
         "x": [
          0.34877639929304477,
          0.47765838860761517,
          -0.6263905875973632,
          0.1807027854947827,
          1.2594615767283213,
          2.061675068831658,
          -0.03731021947626286,
          1.7329781417734145,
          1.4333130813951505,
          0.9890506764267799,
          -1.1001617423787067,
          -1.8425241553298872,
          0.12647381880286843,
          -0.5667278395663506,
          1.0765047790528184,
          -0.072187928899968,
          -1.4939821526414747,
          1.2250226052736675,
          -0.5627956916404978,
          -1.6253699343440684,
          -0.37390199280900366,
          -0.6988185633546334,
          -1.1809630572804546,
          -0.5261183173161714,
          -0.08483998434967485,
          0.18397446574770657,
          -1.4020526622338747,
          -0.9872052448225611,
          -1.2602997742322197,
          1.4158630293339085,
          1.1127916502637767,
          -0.5066832717598071,
          -0.13284209176116912,
          -0.6061971921148425,
          -1.238221468967239,
          -0.5061225446605018,
          -0.4096323118303564,
          1.2167027519421492,
          -0.5102071701182289,
          0.28262182391342544,
          -0.3765981294368762,
          0.04718398099843374,
          0.05680342464168321,
          -0.6005266438272082,
          -1.8831852841927446,
          -0.1711241484689935,
          -1.5186505364155414,
          -2.337338947803129,
          -0.43173258591565306,
          0.39462380711175676,
          0.8427369707294584,
          1.508091700619213,
          0.2641263148842725,
          -0.42026973874239537,
          -0.07702487444973369,
          0.9439105595970312,
          0.2857049807385942,
          -0.14837882491603224,
          1.604875764248128,
          -0.4243919363715126,
          -0.8234329625172128,
          -0.1684256938792784,
          -0.2832599679287647,
          -0.44014972721508755,
          0.34387113719813567,
          1.4616498923500858,
          -1.2953836162942385,
          -1.4225765018916163,
          0.6740954409511553,
          0.5280663485164603,
          0.008574824129091541,
          -0.3936975898119114,
          -0.1656412725355856,
          1.060920834100708,
          0.5619611732578766,
          -0.32141143247707743,
          0.5204048885335,
          -0.2141654435103684,
          1.8096046094913567,
          0.8648679031283714,
          1.2335563328361652,
          1.487910251127614,
          0.5811363913129524,
          -0.4630649106528774,
          1.402913102256703,
          -0.724008863995739,
          -0.8271466432358756,
          1.8422943874063789,
          1.3184986675534738,
          0.4184235058743894,
          2.002491545005831,
          -0.5144366697315794,
          -1.2755498394658389,
          -1.0337236869460253,
          0.8715878530582845,
          0.7468346959663863,
          -0.4687072125790365,
          0.667070725780239,
          -0.9693651544841688,
          0.46823699499309474
         ],
         "xaxis": "x2",
         "y": [
          0.11210520528287181,
          -1.2125651027444957,
          0.7409111312981095,
          0.885201543319391,
          0.6495720102447006,
          0.4497318430524437,
          -0.8227725625609245,
          -1.294165762002869,
          0.9855697981173399,
          -0.5377520046761172,
          -0.3031172198371253,
          -0.1500255993360721,
          -0.15110610248577538,
          -0.2090964311017719,
          -0.07585730009648514,
          -1.3996739953678186,
          -0.7808096785422856,
          0.7804823868457346,
          -0.4726179318216493,
          0.8075332916145921,
          0.8265765498071171,
          -0.40051686205745285,
          0.2461563372526162,
          1.642512774461098,
          0.8653929900395896,
          1.2025276873281612,
          0.29563577123790996,
          0.6699092364237134,
          -0.5452923695273253,
          -0.4642660511261456,
          1.2203389016594837,
          -0.6832499857349542,
          0.8492085633334253,
          0.23052258600709793,
          1.5445264866072617,
          -1.1329467423665456,
          -0.67232546831398,
          0.876560071944188,
          -0.27424172669120317,
          -0.07151448482552263,
          1.5063628674267997,
          1.2944560448535178,
          -1.0392861894092036,
          -0.5090093904636998,
          -0.7318138881133566,
          -0.46620502273403186,
          0.5228787071414007,
          1.23838969008501,
          -0.6297993877243587,
          -0.7479504258438041,
          -0.4495593740548306,
          0.7398152476833297,
          0.7255842573345948,
          0.003347148807160973,
          -0.4329333913030693,
          0.4586954881696664,
          0.036666042643426836,
          -0.1339361513503816,
          -0.6362684884385781,
          0.2146499988328602,
          -0.4655225437157507,
          0.1529032725538335,
          -0.3540066262700726,
          -0.4141644630330249,
          1.05343191356596,
          -0.677841097495419,
          0.19873599249106602,
          -0.20490582376094724,
          1.0222387046982089,
          -1.3989681544131,
          -1.2203626816923638,
          0.672749421487676,
          -0.501519404356596,
          2.139174899771941,
          -0.43515901640307103,
          -0.683545675539224,
          -1.0331252694832604,
          -0.07990366076929867,
          1.0958374389814922,
          -0.69702643893847,
          -0.7236655629149418,
          -0.9769212273077479,
          0.23059071690166782,
          1.55850667803002,
          -1.0206168953256678,
          -0.36320589787435276,
          2.077857583290241,
          0.24666320714680753,
          0.7042456517611484,
          -0.5840047538610852,
          2.3134196985855597,
          0.7827394356659747,
          -0.16747308355262033,
          2.2615019778134346,
          0.33822024810572665,
          -0.14314982279753402,
          -1.1387194880336158,
          0.8329827995371789,
          1.6834976572725173,
          -0.6138378805656016
         ],
         "yaxis": "y2"
        },
        {
         "line": {
          "color": "rgba(128, 128, 128, 1.0)",
          "dash": "solid",
          "shape": "linear",
          "width": 1.3
         },
         "marker": {
          "size": 2,
          "symbol": "circle"
         },
         "mode": "markers",
         "name": "A",
         "text": "",
         "type": "scatter",
         "x": [
          -1.1211331025175668,
          -0.7261762388252994,
          -1.2438085323718588,
          -0.6190321616326958,
          -1.9438488507496778,
          0.832562470750774,
          -1.0170613764003906,
          1.2873824039505335,
          -0.1482711888413955,
          -0.7266035459129176,
          0.27200960572773253,
          -1.0255850046160957,
          0.11772888238898713,
          -0.02231609837412165,
          1.554251011828754,
          -0.8592817381016843,
          0.4176194934055473,
          -1.1881377957979329,
          -0.697129146713574,
          -1.245637958270208,
          -0.23836913771397847,
          0.3791928530912932,
          0.9938098483355025,
          1.547488835689764,
          1.2732304242359873,
          -0.9968286361062502,
          -0.26972758190073537,
          -0.20976385454083696,
          -0.01579307930739997,
          1.050169318138185,
          0.2402759013315607,
          0.007394744425599799,
          0.13609258886305312,
          0.9976250944965989,
          0.3226802229815181,
          -0.41730270368941813,
          -0.3292086361870174,
          0.5427285803407195,
          -1.0507569634304434,
          0.7919028868869887,
          1.219598692220043,
          -0.7411779250443291,
          -0.7942910635446948,
          0.33392202140758553,
          1.1691376867722687,
          0.879253657761465,
          -1.1369197800014754,
          -0.5941563679217342,
          1.0594510376155917,
          0.5706328163008199,
          0.8490610231806268,
          -0.29218180241556335,
          -1.4342244086892253,
          0.6133840053399411,
          -0.05475678253185107,
          -0.5143146733073986,
          0.7574339549789404,
          0.8717732160922348,
          2.3384599548717957,
          0.5927168682368055,
          -1.5027726466070535,
          -1.1844405249507508,
          -0.3650321215956685,
          0.17168934363041033,
          -0.12764624092108845,
          0.37755645992308523,
          0.20821583460213083,
          0.7491393591136202,
          -1.107178191229706,
          -0.2447329542638256,
          -1.345995945434097,
          0.9623088045033491,
          0.2301913131792505,
          -1.3986623919713788,
          0.8088355463716537,
          0.3434734580150389,
          -0.7511800570674204,
          -0.06097009960590071,
          -0.5374066968472037,
          -0.6438759288601867,
          0.17925875563887067,
          2.1515336845805058,
          0.5121097030568134,
          -0.3179743347441989,
          1.4556731915128707,
          1.1845669886385128,
          0.01546990615056539,
          0.3237910425363089,
          0.3968360445393282,
          0.9416027576052989,
          -1.290447163047456,
          -0.6205125275646477,
          0.21452875086814324,
          0.7457696284687445,
          -0.00851458514332476,
          0.31434109804891813,
          -0.5729165292757157,
          0.13023011474506455,
          1.2163290208755997,
          -0.8945876363498282
         ],
         "xaxis": "x3",
         "y": [
          0.11210520528287181,
          -1.2125651027444957,
          0.7409111312981095,
          0.885201543319391,
          0.6495720102447006,
          0.4497318430524437,
          -0.8227725625609245,
          -1.294165762002869,
          0.9855697981173399,
          -0.5377520046761172,
          -0.3031172198371253,
          -0.1500255993360721,
          -0.15110610248577538,
          -0.2090964311017719,
          -0.07585730009648514,
          -1.3996739953678186,
          -0.7808096785422856,
          0.7804823868457346,
          -0.4726179318216493,
          0.8075332916145921,
          0.8265765498071171,
          -0.40051686205745285,
          0.2461563372526162,
          1.642512774461098,
          0.8653929900395896,
          1.2025276873281612,
          0.29563577123790996,
          0.6699092364237134,
          -0.5452923695273253,
          -0.4642660511261456,
          1.2203389016594837,
          -0.6832499857349542,
          0.8492085633334253,
          0.23052258600709793,
          1.5445264866072617,
          -1.1329467423665456,
          -0.67232546831398,
          0.876560071944188,
          -0.27424172669120317,
          -0.07151448482552263,
          1.5063628674267997,
          1.2944560448535178,
          -1.0392861894092036,
          -0.5090093904636998,
          -0.7318138881133566,
          -0.46620502273403186,
          0.5228787071414007,
          1.23838969008501,
          -0.6297993877243587,
          -0.7479504258438041,
          -0.4495593740548306,
          0.7398152476833297,
          0.7255842573345948,
          0.003347148807160973,
          -0.4329333913030693,
          0.4586954881696664,
          0.036666042643426836,
          -0.1339361513503816,
          -0.6362684884385781,
          0.2146499988328602,
          -0.4655225437157507,
          0.1529032725538335,
          -0.3540066262700726,
          -0.4141644630330249,
          1.05343191356596,
          -0.677841097495419,
          0.19873599249106602,
          -0.20490582376094724,
          1.0222387046982089,
          -1.3989681544131,
          -1.2203626816923638,
          0.672749421487676,
          -0.501519404356596,
          2.139174899771941,
          -0.43515901640307103,
          -0.683545675539224,
          -1.0331252694832604,
          -0.07990366076929867,
          1.0958374389814922,
          -0.69702643893847,
          -0.7236655629149418,
          -0.9769212273077479,
          0.23059071690166782,
          1.55850667803002,
          -1.0206168953256678,
          -0.36320589787435276,
          2.077857583290241,
          0.24666320714680753,
          0.7042456517611484,
          -0.5840047538610852,
          2.3134196985855597,
          0.7827394356659747,
          -0.16747308355262033,
          2.2615019778134346,
          0.33822024810572665,
          -0.14314982279753402,
          -1.1387194880336158,
          0.8329827995371789,
          1.6834976572725173,
          -0.6138378805656016
         ],
         "yaxis": "y3"
        },
        {
         "line": {
          "color": "rgba(128, 128, 128, 1.0)",
          "dash": "solid",
          "shape": "linear",
          "width": 1.3
         },
         "marker": {
          "size": 2,
          "symbol": "circle"
         },
         "mode": "markers",
         "name": "A",
         "text": "",
         "type": "scatter",
         "x": [
          2.156950813602235,
          0.11378645616820725,
          0.7037921761475658,
          0.042225867130420265,
          1.4400669874552414,
          -0.31897721511155447,
          -0.831390509247544,
          0.4494721838126546,
          0.7474434740901021,
          1.6030071615403456,
          -1.557541654630139,
          -0.44345005109650865,
          -0.2771640666867262,
          0.8238429887923545,
          0.7348930590532228,
          -0.9578339660875196,
          2.097840729691086,
          0.6264957038776572,
          -0.7052031997376692,
          0.00572170439209791,
          -0.939677030404423,
          0.9691285599363695,
          -0.3235186972548601,
          0.5688476689965231,
          -0.473797963597531,
          0.37326501668982803,
          0.7938014330054607,
          -0.007574678895425695,
          -0.25592482076449125,
          -0.5567657605486981,
          0.6151917258381199,
          1.5502758310747535,
          1.2087981434297093,
          0.5305234314458622,
          0.9775520154862789,
          -0.5014218419641729,
          -1.3834681058020304,
          -0.19612876373145385,
          -0.00024411970205643802,
          -0.15888407032471244,
          -0.2711551838022481,
          0.3965956888007911,
          -0.9402156938489229,
          0.8731192034005153,
          0.9524445999351169,
          -1.331818386061884,
          -0.15452586127733342,
          -1.2986069531814386,
          0.28185919251712527,
          -0.15876616072929536,
          1.6280441602610007,
          -1.0931129887689939,
          -0.9299535608994248,
          1.0542560493971744,
          -0.7919080144806729,
          -0.06890805259918124,
          -1.347554240611548,
          0.0537671277458208,
          0.14594298113481366,
          0.34072095083261067,
          1.431317729194986,
          1.0038789522292986,
          0.07277961988271907,
          3.1404897651077954,
          -0.765925404973094,
          0.7522455351534968,
          -0.1513929843945055,
          1.0190564098220085,
          0.11883469366750704,
          0.6247916774135364,
          -1.390359946444874,
          1.1427926094326617,
          0.49871016681860175,
          -1.3545545411569602,
          -0.056169053138795444,
          -1.6133086357452207,
          -0.5364460138217012,
          -0.4186483998075414,
          -0.23274018481473174,
          3.187229996232726,
          -1.084322428595103,
          2.2200757629063657,
          1.6940353038669425,
          1.9514123800069385,
          0.5884598217039522,
          -0.1705398192674961,
          0.09609244023082661,
          -1.0595090373348741,
          1.5197386654256932,
          0.4377827077963493,
          0.5383014544046524,
          -0.47045746748025574,
          -1.6105233646816908,
          -0.44069268650121796,
          2.3899559875095684,
          0.7592961299427361,
          -0.4215752896824788,
          -0.9209612450433411,
          -0.8715047999946479,
          -0.5112144418994965
         ],
         "xaxis": "x4",
         "y": [
          0.11210520528287181,
          -1.2125651027444957,
          0.7409111312981095,
          0.885201543319391,
          0.6495720102447006,
          0.4497318430524437,
          -0.8227725625609245,
          -1.294165762002869,
          0.9855697981173399,
          -0.5377520046761172,
          -0.3031172198371253,
          -0.1500255993360721,
          -0.15110610248577538,
          -0.2090964311017719,
          -0.07585730009648514,
          -1.3996739953678186,
          -0.7808096785422856,
          0.7804823868457346,
          -0.4726179318216493,
          0.8075332916145921,
          0.8265765498071171,
          -0.40051686205745285,
          0.2461563372526162,
          1.642512774461098,
          0.8653929900395896,
          1.2025276873281612,
          0.29563577123790996,
          0.6699092364237134,
          -0.5452923695273253,
          -0.4642660511261456,
          1.2203389016594837,
          -0.6832499857349542,
          0.8492085633334253,
          0.23052258600709793,
          1.5445264866072617,
          -1.1329467423665456,
          -0.67232546831398,
          0.876560071944188,
          -0.27424172669120317,
          -0.07151448482552263,
          1.5063628674267997,
          1.2944560448535178,
          -1.0392861894092036,
          -0.5090093904636998,
          -0.7318138881133566,
          -0.46620502273403186,
          0.5228787071414007,
          1.23838969008501,
          -0.6297993877243587,
          -0.7479504258438041,
          -0.4495593740548306,
          0.7398152476833297,
          0.7255842573345948,
          0.003347148807160973,
          -0.4329333913030693,
          0.4586954881696664,
          0.036666042643426836,
          -0.1339361513503816,
          -0.6362684884385781,
          0.2146499988328602,
          -0.4655225437157507,
          0.1529032725538335,
          -0.3540066262700726,
          -0.4141644630330249,
          1.05343191356596,
          -0.677841097495419,
          0.19873599249106602,
          -0.20490582376094724,
          1.0222387046982089,
          -1.3989681544131,
          -1.2203626816923638,
          0.672749421487676,
          -0.501519404356596,
          2.139174899771941,
          -0.43515901640307103,
          -0.683545675539224,
          -1.0331252694832604,
          -0.07990366076929867,
          1.0958374389814922,
          -0.69702643893847,
          -0.7236655629149418,
          -0.9769212273077479,
          0.23059071690166782,
          1.55850667803002,
          -1.0206168953256678,
          -0.36320589787435276,
          2.077857583290241,
          0.24666320714680753,
          0.7042456517611484,
          -0.5840047538610852,
          2.3134196985855597,
          0.7827394356659747,
          -0.16747308355262033,
          2.2615019778134346,
          0.33822024810572665,
          -0.14314982279753402,
          -1.1387194880336158,
          0.8329827995371789,
          1.6834976572725173,
          -0.6138378805656016
         ],
         "yaxis": "y4"
        },
        {
         "line": {
          "color": "rgba(128, 128, 128, 1.0)",
          "dash": "solid",
          "shape": "linear",
          "width": 1.3
         },
         "marker": {
          "size": 2,
          "symbol": "circle"
         },
         "mode": "markers",
         "name": "B",
         "text": "",
         "type": "scatter",
         "x": [
          0.11210520528287181,
          -1.2125651027444957,
          0.7409111312981095,
          0.885201543319391,
          0.6495720102447006,
          0.4497318430524437,
          -0.8227725625609245,
          -1.294165762002869,
          0.9855697981173399,
          -0.5377520046761172,
          -0.3031172198371253,
          -0.1500255993360721,
          -0.15110610248577538,
          -0.2090964311017719,
          -0.07585730009648514,
          -1.3996739953678186,
          -0.7808096785422856,
          0.7804823868457346,
          -0.4726179318216493,
          0.8075332916145921,
          0.8265765498071171,
          -0.40051686205745285,
          0.2461563372526162,
          1.642512774461098,
          0.8653929900395896,
          1.2025276873281612,
          0.29563577123790996,
          0.6699092364237134,
          -0.5452923695273253,
          -0.4642660511261456,
          1.2203389016594837,
          -0.6832499857349542,
          0.8492085633334253,
          0.23052258600709793,
          1.5445264866072617,
          -1.1329467423665456,
          -0.67232546831398,
          0.876560071944188,
          -0.27424172669120317,
          -0.07151448482552263,
          1.5063628674267997,
          1.2944560448535178,
          -1.0392861894092036,
          -0.5090093904636998,
          -0.7318138881133566,
          -0.46620502273403186,
          0.5228787071414007,
          1.23838969008501,
          -0.6297993877243587,
          -0.7479504258438041,
          -0.4495593740548306,
          0.7398152476833297,
          0.7255842573345948,
          0.003347148807160973,
          -0.4329333913030693,
          0.4586954881696664,
          0.036666042643426836,
          -0.1339361513503816,
          -0.6362684884385781,
          0.2146499988328602,
          -0.4655225437157507,
          0.1529032725538335,
          -0.3540066262700726,
          -0.4141644630330249,
          1.05343191356596,
          -0.677841097495419,
          0.19873599249106602,
          -0.20490582376094724,
          1.0222387046982089,
          -1.3989681544131,
          -1.2203626816923638,
          0.672749421487676,
          -0.501519404356596,
          2.139174899771941,
          -0.43515901640307103,
          -0.683545675539224,
          -1.0331252694832604,
          -0.07990366076929867,
          1.0958374389814922,
          -0.69702643893847,
          -0.7236655629149418,
          -0.9769212273077479,
          0.23059071690166782,
          1.55850667803002,
          -1.0206168953256678,
          -0.36320589787435276,
          2.077857583290241,
          0.24666320714680753,
          0.7042456517611484,
          -0.5840047538610852,
          2.3134196985855597,
          0.7827394356659747,
          -0.16747308355262033,
          2.2615019778134346,
          0.33822024810572665,
          -0.14314982279753402,
          -1.1387194880336158,
          0.8329827995371789,
          1.6834976572725173,
          -0.6138378805656016
         ],
         "xaxis": "x5",
         "y": [
          0.34877639929304477,
          0.47765838860761517,
          -0.6263905875973632,
          0.1807027854947827,
          1.2594615767283213,
          2.061675068831658,
          -0.03731021947626286,
          1.7329781417734145,
          1.4333130813951505,
          0.9890506764267799,
          -1.1001617423787067,
          -1.8425241553298872,
          0.12647381880286843,
          -0.5667278395663506,
          1.0765047790528184,
          -0.072187928899968,
          -1.4939821526414747,
          1.2250226052736675,
          -0.5627956916404978,
          -1.6253699343440684,
          -0.37390199280900366,
          -0.6988185633546334,
          -1.1809630572804546,
          -0.5261183173161714,
          -0.08483998434967485,
          0.18397446574770657,
          -1.4020526622338747,
          -0.9872052448225611,
          -1.2602997742322197,
          1.4158630293339085,
          1.1127916502637767,
          -0.5066832717598071,
          -0.13284209176116912,
          -0.6061971921148425,
          -1.238221468967239,
          -0.5061225446605018,
          -0.4096323118303564,
          1.2167027519421492,
          -0.5102071701182289,
          0.28262182391342544,
          -0.3765981294368762,
          0.04718398099843374,
          0.05680342464168321,
          -0.6005266438272082,
          -1.8831852841927446,
          -0.1711241484689935,
          -1.5186505364155414,
          -2.337338947803129,
          -0.43173258591565306,
          0.39462380711175676,
          0.8427369707294584,
          1.508091700619213,
          0.2641263148842725,
          -0.42026973874239537,
          -0.07702487444973369,
          0.9439105595970312,
          0.2857049807385942,
          -0.14837882491603224,
          1.604875764248128,
          -0.4243919363715126,
          -0.8234329625172128,
          -0.1684256938792784,
          -0.2832599679287647,
          -0.44014972721508755,
          0.34387113719813567,
          1.4616498923500858,
          -1.2953836162942385,
          -1.4225765018916163,
          0.6740954409511553,
          0.5280663485164603,
          0.008574824129091541,
          -0.3936975898119114,
          -0.1656412725355856,
          1.060920834100708,
          0.5619611732578766,
          -0.32141143247707743,
          0.5204048885335,
          -0.2141654435103684,
          1.8096046094913567,
          0.8648679031283714,
          1.2335563328361652,
          1.487910251127614,
          0.5811363913129524,
          -0.4630649106528774,
          1.402913102256703,
          -0.724008863995739,
          -0.8271466432358756,
          1.8422943874063789,
          1.3184986675534738,
          0.4184235058743894,
          2.002491545005831,
          -0.5144366697315794,
          -1.2755498394658389,
          -1.0337236869460253,
          0.8715878530582845,
          0.7468346959663863,
          -0.4687072125790365,
          0.667070725780239,
          -0.9693651544841688,
          0.46823699499309474
         ],
         "yaxis": "y5"
        },
        {
         "histfunc": "count",
         "histnorm": "",
         "marker": {
          "color": "rgba(55, 128, 191, 1.0)",
          "line": {
           "color": "#4D5663",
           "width": 1.3
          }
         },
         "name": "B",
         "nbinsx": 10,
         "opacity": 0.8,
         "orientation": "v",
         "type": "histogram",
         "x": [
          0.34877639929304477,
          0.47765838860761517,
          -0.6263905875973632,
          0.1807027854947827,
          1.2594615767283213,
          2.061675068831658,
          -0.03731021947626286,
          1.7329781417734145,
          1.4333130813951505,
          0.9890506764267799,
          -1.1001617423787067,
          -1.8425241553298872,
          0.12647381880286843,
          -0.5667278395663506,
          1.0765047790528184,
          -0.072187928899968,
          -1.4939821526414747,
          1.2250226052736675,
          -0.5627956916404978,
          -1.6253699343440684,
          -0.37390199280900366,
          -0.6988185633546334,
          -1.1809630572804546,
          -0.5261183173161714,
          -0.08483998434967485,
          0.18397446574770657,
          -1.4020526622338747,
          -0.9872052448225611,
          -1.2602997742322197,
          1.4158630293339085,
          1.1127916502637767,
          -0.5066832717598071,
          -0.13284209176116912,
          -0.6061971921148425,
          -1.238221468967239,
          -0.5061225446605018,
          -0.4096323118303564,
          1.2167027519421492,
          -0.5102071701182289,
          0.28262182391342544,
          -0.3765981294368762,
          0.04718398099843374,
          0.05680342464168321,
          -0.6005266438272082,
          -1.8831852841927446,
          -0.1711241484689935,
          -1.5186505364155414,
          -2.337338947803129,
          -0.43173258591565306,
          0.39462380711175676,
          0.8427369707294584,
          1.508091700619213,
          0.2641263148842725,
          -0.42026973874239537,
          -0.07702487444973369,
          0.9439105595970312,
          0.2857049807385942,
          -0.14837882491603224,
          1.604875764248128,
          -0.4243919363715126,
          -0.8234329625172128,
          -0.1684256938792784,
          -0.2832599679287647,
          -0.44014972721508755,
          0.34387113719813567,
          1.4616498923500858,
          -1.2953836162942385,
          -1.4225765018916163,
          0.6740954409511553,
          0.5280663485164603,
          0.008574824129091541,
          -0.3936975898119114,
          -0.1656412725355856,
          1.060920834100708,
          0.5619611732578766,
          -0.32141143247707743,
          0.5204048885335,
          -0.2141654435103684,
          1.8096046094913567,
          0.8648679031283714,
          1.2335563328361652,
          1.487910251127614,
          0.5811363913129524,
          -0.4630649106528774,
          1.402913102256703,
          -0.724008863995739,
          -0.8271466432358756,
          1.8422943874063789,
          1.3184986675534738,
          0.4184235058743894,
          2.002491545005831,
          -0.5144366697315794,
          -1.2755498394658389,
          -1.0337236869460253,
          0.8715878530582845,
          0.7468346959663863,
          -0.4687072125790365,
          0.667070725780239,
          -0.9693651544841688,
          0.46823699499309474
         ],
         "xaxis": "x6",
         "yaxis": "y6"
        },
        {
         "line": {
          "color": "rgba(128, 128, 128, 1.0)",
          "dash": "solid",
          "shape": "linear",
          "width": 1.3
         },
         "marker": {
          "size": 2,
          "symbol": "circle"
         },
         "mode": "markers",
         "name": "B",
         "text": "",
         "type": "scatter",
         "x": [
          -1.1211331025175668,
          -0.7261762388252994,
          -1.2438085323718588,
          -0.6190321616326958,
          -1.9438488507496778,
          0.832562470750774,
          -1.0170613764003906,
          1.2873824039505335,
          -0.1482711888413955,
          -0.7266035459129176,
          0.27200960572773253,
          -1.0255850046160957,
          0.11772888238898713,
          -0.02231609837412165,
          1.554251011828754,
          -0.8592817381016843,
          0.4176194934055473,
          -1.1881377957979329,
          -0.697129146713574,
          -1.245637958270208,
          -0.23836913771397847,
          0.3791928530912932,
          0.9938098483355025,
          1.547488835689764,
          1.2732304242359873,
          -0.9968286361062502,
          -0.26972758190073537,
          -0.20976385454083696,
          -0.01579307930739997,
          1.050169318138185,
          0.2402759013315607,
          0.007394744425599799,
          0.13609258886305312,
          0.9976250944965989,
          0.3226802229815181,
          -0.41730270368941813,
          -0.3292086361870174,
          0.5427285803407195,
          -1.0507569634304434,
          0.7919028868869887,
          1.219598692220043,
          -0.7411779250443291,
          -0.7942910635446948,
          0.33392202140758553,
          1.1691376867722687,
          0.879253657761465,
          -1.1369197800014754,
          -0.5941563679217342,
          1.0594510376155917,
          0.5706328163008199,
          0.8490610231806268,
          -0.29218180241556335,
          -1.4342244086892253,
          0.6133840053399411,
          -0.05475678253185107,
          -0.5143146733073986,
          0.7574339549789404,
          0.8717732160922348,
          2.3384599548717957,
          0.5927168682368055,
          -1.5027726466070535,
          -1.1844405249507508,
          -0.3650321215956685,
          0.17168934363041033,
          -0.12764624092108845,
          0.37755645992308523,
          0.20821583460213083,
          0.7491393591136202,
          -1.107178191229706,
          -0.2447329542638256,
          -1.345995945434097,
          0.9623088045033491,
          0.2301913131792505,
          -1.3986623919713788,
          0.8088355463716537,
          0.3434734580150389,
          -0.7511800570674204,
          -0.06097009960590071,
          -0.5374066968472037,
          -0.6438759288601867,
          0.17925875563887067,
          2.1515336845805058,
          0.5121097030568134,
          -0.3179743347441989,
          1.4556731915128707,
          1.1845669886385128,
          0.01546990615056539,
          0.3237910425363089,
          0.3968360445393282,
          0.9416027576052989,
          -1.290447163047456,
          -0.6205125275646477,
          0.21452875086814324,
          0.7457696284687445,
          -0.00851458514332476,
          0.31434109804891813,
          -0.5729165292757157,
          0.13023011474506455,
          1.2163290208755997,
          -0.8945876363498282
         ],
         "xaxis": "x7",
         "y": [
          0.34877639929304477,
          0.47765838860761517,
          -0.6263905875973632,
          0.1807027854947827,
          1.2594615767283213,
          2.061675068831658,
          -0.03731021947626286,
          1.7329781417734145,
          1.4333130813951505,
          0.9890506764267799,
          -1.1001617423787067,
          -1.8425241553298872,
          0.12647381880286843,
          -0.5667278395663506,
          1.0765047790528184,
          -0.072187928899968,
          -1.4939821526414747,
          1.2250226052736675,
          -0.5627956916404978,
          -1.6253699343440684,
          -0.37390199280900366,
          -0.6988185633546334,
          -1.1809630572804546,
          -0.5261183173161714,
          -0.08483998434967485,
          0.18397446574770657,
          -1.4020526622338747,
          -0.9872052448225611,
          -1.2602997742322197,
          1.4158630293339085,
          1.1127916502637767,
          -0.5066832717598071,
          -0.13284209176116912,
          -0.6061971921148425,
          -1.238221468967239,
          -0.5061225446605018,
          -0.4096323118303564,
          1.2167027519421492,
          -0.5102071701182289,
          0.28262182391342544,
          -0.3765981294368762,
          0.04718398099843374,
          0.05680342464168321,
          -0.6005266438272082,
          -1.8831852841927446,
          -0.1711241484689935,
          -1.5186505364155414,
          -2.337338947803129,
          -0.43173258591565306,
          0.39462380711175676,
          0.8427369707294584,
          1.508091700619213,
          0.2641263148842725,
          -0.42026973874239537,
          -0.07702487444973369,
          0.9439105595970312,
          0.2857049807385942,
          -0.14837882491603224,
          1.604875764248128,
          -0.4243919363715126,
          -0.8234329625172128,
          -0.1684256938792784,
          -0.2832599679287647,
          -0.44014972721508755,
          0.34387113719813567,
          1.4616498923500858,
          -1.2953836162942385,
          -1.4225765018916163,
          0.6740954409511553,
          0.5280663485164603,
          0.008574824129091541,
          -0.3936975898119114,
          -0.1656412725355856,
          1.060920834100708,
          0.5619611732578766,
          -0.32141143247707743,
          0.5204048885335,
          -0.2141654435103684,
          1.8096046094913567,
          0.8648679031283714,
          1.2335563328361652,
          1.487910251127614,
          0.5811363913129524,
          -0.4630649106528774,
          1.402913102256703,
          -0.724008863995739,
          -0.8271466432358756,
          1.8422943874063789,
          1.3184986675534738,
          0.4184235058743894,
          2.002491545005831,
          -0.5144366697315794,
          -1.2755498394658389,
          -1.0337236869460253,
          0.8715878530582845,
          0.7468346959663863,
          -0.4687072125790365,
          0.667070725780239,
          -0.9693651544841688,
          0.46823699499309474
         ],
         "yaxis": "y7"
        },
        {
         "line": {
          "color": "rgba(128, 128, 128, 1.0)",
          "dash": "solid",
          "shape": "linear",
          "width": 1.3
         },
         "marker": {
          "size": 2,
          "symbol": "circle"
         },
         "mode": "markers",
         "name": "B",
         "text": "",
         "type": "scatter",
         "x": [
          2.156950813602235,
          0.11378645616820725,
          0.7037921761475658,
          0.042225867130420265,
          1.4400669874552414,
          -0.31897721511155447,
          -0.831390509247544,
          0.4494721838126546,
          0.7474434740901021,
          1.6030071615403456,
          -1.557541654630139,
          -0.44345005109650865,
          -0.2771640666867262,
          0.8238429887923545,
          0.7348930590532228,
          -0.9578339660875196,
          2.097840729691086,
          0.6264957038776572,
          -0.7052031997376692,
          0.00572170439209791,
          -0.939677030404423,
          0.9691285599363695,
          -0.3235186972548601,
          0.5688476689965231,
          -0.473797963597531,
          0.37326501668982803,
          0.7938014330054607,
          -0.007574678895425695,
          -0.25592482076449125,
          -0.5567657605486981,
          0.6151917258381199,
          1.5502758310747535,
          1.2087981434297093,
          0.5305234314458622,
          0.9775520154862789,
          -0.5014218419641729,
          -1.3834681058020304,
          -0.19612876373145385,
          -0.00024411970205643802,
          -0.15888407032471244,
          -0.2711551838022481,
          0.3965956888007911,
          -0.9402156938489229,
          0.8731192034005153,
          0.9524445999351169,
          -1.331818386061884,
          -0.15452586127733342,
          -1.2986069531814386,
          0.28185919251712527,
          -0.15876616072929536,
          1.6280441602610007,
          -1.0931129887689939,
          -0.9299535608994248,
          1.0542560493971744,
          -0.7919080144806729,
          -0.06890805259918124,
          -1.347554240611548,
          0.0537671277458208,
          0.14594298113481366,
          0.34072095083261067,
          1.431317729194986,
          1.0038789522292986,
          0.07277961988271907,
          3.1404897651077954,
          -0.765925404973094,
          0.7522455351534968,
          -0.1513929843945055,
          1.0190564098220085,
          0.11883469366750704,
          0.6247916774135364,
          -1.390359946444874,
          1.1427926094326617,
          0.49871016681860175,
          -1.3545545411569602,
          -0.056169053138795444,
          -1.6133086357452207,
          -0.5364460138217012,
          -0.4186483998075414,
          -0.23274018481473174,
          3.187229996232726,
          -1.084322428595103,
          2.2200757629063657,
          1.6940353038669425,
          1.9514123800069385,
          0.5884598217039522,
          -0.1705398192674961,
          0.09609244023082661,
          -1.0595090373348741,
          1.5197386654256932,
          0.4377827077963493,
          0.5383014544046524,
          -0.47045746748025574,
          -1.6105233646816908,
          -0.44069268650121796,
          2.3899559875095684,
          0.7592961299427361,
          -0.4215752896824788,
          -0.9209612450433411,
          -0.8715047999946479,
          -0.5112144418994965
         ],
         "xaxis": "x8",
         "y": [
          0.34877639929304477,
          0.47765838860761517,
          -0.6263905875973632,
          0.1807027854947827,
          1.2594615767283213,
          2.061675068831658,
          -0.03731021947626286,
          1.7329781417734145,
          1.4333130813951505,
          0.9890506764267799,
          -1.1001617423787067,
          -1.8425241553298872,
          0.12647381880286843,
          -0.5667278395663506,
          1.0765047790528184,
          -0.072187928899968,
          -1.4939821526414747,
          1.2250226052736675,
          -0.5627956916404978,
          -1.6253699343440684,
          -0.37390199280900366,
          -0.6988185633546334,
          -1.1809630572804546,
          -0.5261183173161714,
          -0.08483998434967485,
          0.18397446574770657,
          -1.4020526622338747,
          -0.9872052448225611,
          -1.2602997742322197,
          1.4158630293339085,
          1.1127916502637767,
          -0.5066832717598071,
          -0.13284209176116912,
          -0.6061971921148425,
          -1.238221468967239,
          -0.5061225446605018,
          -0.4096323118303564,
          1.2167027519421492,
          -0.5102071701182289,
          0.28262182391342544,
          -0.3765981294368762,
          0.04718398099843374,
          0.05680342464168321,
          -0.6005266438272082,
          -1.8831852841927446,
          -0.1711241484689935,
          -1.5186505364155414,
          -2.337338947803129,
          -0.43173258591565306,
          0.39462380711175676,
          0.8427369707294584,
          1.508091700619213,
          0.2641263148842725,
          -0.42026973874239537,
          -0.07702487444973369,
          0.9439105595970312,
          0.2857049807385942,
          -0.14837882491603224,
          1.604875764248128,
          -0.4243919363715126,
          -0.8234329625172128,
          -0.1684256938792784,
          -0.2832599679287647,
          -0.44014972721508755,
          0.34387113719813567,
          1.4616498923500858,
          -1.2953836162942385,
          -1.4225765018916163,
          0.6740954409511553,
          0.5280663485164603,
          0.008574824129091541,
          -0.3936975898119114,
          -0.1656412725355856,
          1.060920834100708,
          0.5619611732578766,
          -0.32141143247707743,
          0.5204048885335,
          -0.2141654435103684,
          1.8096046094913567,
          0.8648679031283714,
          1.2335563328361652,
          1.487910251127614,
          0.5811363913129524,
          -0.4630649106528774,
          1.402913102256703,
          -0.724008863995739,
          -0.8271466432358756,
          1.8422943874063789,
          1.3184986675534738,
          0.4184235058743894,
          2.002491545005831,
          -0.5144366697315794,
          -1.2755498394658389,
          -1.0337236869460253,
          0.8715878530582845,
          0.7468346959663863,
          -0.4687072125790365,
          0.667070725780239,
          -0.9693651544841688,
          0.46823699499309474
         ],
         "yaxis": "y8"
        },
        {
         "line": {
          "color": "rgba(128, 128, 128, 1.0)",
          "dash": "solid",
          "shape": "linear",
          "width": 1.3
         },
         "marker": {
          "size": 2,
          "symbol": "circle"
         },
         "mode": "markers",
         "name": "C",
         "text": "",
         "type": "scatter",
         "x": [
          0.11210520528287181,
          -1.2125651027444957,
          0.7409111312981095,
          0.885201543319391,
          0.6495720102447006,
          0.4497318430524437,
          -0.8227725625609245,
          -1.294165762002869,
          0.9855697981173399,
          -0.5377520046761172,
          -0.3031172198371253,
          -0.1500255993360721,
          -0.15110610248577538,
          -0.2090964311017719,
          -0.07585730009648514,
          -1.3996739953678186,
          -0.7808096785422856,
          0.7804823868457346,
          -0.4726179318216493,
          0.8075332916145921,
          0.8265765498071171,
          -0.40051686205745285,
          0.2461563372526162,
          1.642512774461098,
          0.8653929900395896,
          1.2025276873281612,
          0.29563577123790996,
          0.6699092364237134,
          -0.5452923695273253,
          -0.4642660511261456,
          1.2203389016594837,
          -0.6832499857349542,
          0.8492085633334253,
          0.23052258600709793,
          1.5445264866072617,
          -1.1329467423665456,
          -0.67232546831398,
          0.876560071944188,
          -0.27424172669120317,
          -0.07151448482552263,
          1.5063628674267997,
          1.2944560448535178,
          -1.0392861894092036,
          -0.5090093904636998,
          -0.7318138881133566,
          -0.46620502273403186,
          0.5228787071414007,
          1.23838969008501,
          -0.6297993877243587,
          -0.7479504258438041,
          -0.4495593740548306,
          0.7398152476833297,
          0.7255842573345948,
          0.003347148807160973,
          -0.4329333913030693,
          0.4586954881696664,
          0.036666042643426836,
          -0.1339361513503816,
          -0.6362684884385781,
          0.2146499988328602,
          -0.4655225437157507,
          0.1529032725538335,
          -0.3540066262700726,
          -0.4141644630330249,
          1.05343191356596,
          -0.677841097495419,
          0.19873599249106602,
          -0.20490582376094724,
          1.0222387046982089,
          -1.3989681544131,
          -1.2203626816923638,
          0.672749421487676,
          -0.501519404356596,
          2.139174899771941,
          -0.43515901640307103,
          -0.683545675539224,
          -1.0331252694832604,
          -0.07990366076929867,
          1.0958374389814922,
          -0.69702643893847,
          -0.7236655629149418,
          -0.9769212273077479,
          0.23059071690166782,
          1.55850667803002,
          -1.0206168953256678,
          -0.36320589787435276,
          2.077857583290241,
          0.24666320714680753,
          0.7042456517611484,
          -0.5840047538610852,
          2.3134196985855597,
          0.7827394356659747,
          -0.16747308355262033,
          2.2615019778134346,
          0.33822024810572665,
          -0.14314982279753402,
          -1.1387194880336158,
          0.8329827995371789,
          1.6834976572725173,
          -0.6138378805656016
         ],
         "xaxis": "x9",
         "y": [
          -1.1211331025175668,
          -0.7261762388252994,
          -1.2438085323718588,
          -0.6190321616326958,
          -1.9438488507496778,
          0.832562470750774,
          -1.0170613764003906,
          1.2873824039505335,
          -0.1482711888413955,
          -0.7266035459129176,
          0.27200960572773253,
          -1.0255850046160957,
          0.11772888238898713,
          -0.02231609837412165,
          1.554251011828754,
          -0.8592817381016843,
          0.4176194934055473,
          -1.1881377957979329,
          -0.697129146713574,
          -1.245637958270208,
          -0.23836913771397847,
          0.3791928530912932,
          0.9938098483355025,
          1.547488835689764,
          1.2732304242359873,
          -0.9968286361062502,
          -0.26972758190073537,
          -0.20976385454083696,
          -0.01579307930739997,
          1.050169318138185,
          0.2402759013315607,
          0.007394744425599799,
          0.13609258886305312,
          0.9976250944965989,
          0.3226802229815181,
          -0.41730270368941813,
          -0.3292086361870174,
          0.5427285803407195,
          -1.0507569634304434,
          0.7919028868869887,
          1.219598692220043,
          -0.7411779250443291,
          -0.7942910635446948,
          0.33392202140758553,
          1.1691376867722687,
          0.879253657761465,
          -1.1369197800014754,
          -0.5941563679217342,
          1.0594510376155917,
          0.5706328163008199,
          0.8490610231806268,
          -0.29218180241556335,
          -1.4342244086892253,
          0.6133840053399411,
          -0.05475678253185107,
          -0.5143146733073986,
          0.7574339549789404,
          0.8717732160922348,
          2.3384599548717957,
          0.5927168682368055,
          -1.5027726466070535,
          -1.1844405249507508,
          -0.3650321215956685,
          0.17168934363041033,
          -0.12764624092108845,
          0.37755645992308523,
          0.20821583460213083,
          0.7491393591136202,
          -1.107178191229706,
          -0.2447329542638256,
          -1.345995945434097,
          0.9623088045033491,
          0.2301913131792505,
          -1.3986623919713788,
          0.8088355463716537,
          0.3434734580150389,
          -0.7511800570674204,
          -0.06097009960590071,
          -0.5374066968472037,
          -0.6438759288601867,
          0.17925875563887067,
          2.1515336845805058,
          0.5121097030568134,
          -0.3179743347441989,
          1.4556731915128707,
          1.1845669886385128,
          0.01546990615056539,
          0.3237910425363089,
          0.3968360445393282,
          0.9416027576052989,
          -1.290447163047456,
          -0.6205125275646477,
          0.21452875086814324,
          0.7457696284687445,
          -0.00851458514332476,
          0.31434109804891813,
          -0.5729165292757157,
          0.13023011474506455,
          1.2163290208755997,
          -0.8945876363498282
         ],
         "yaxis": "y9"
        },
        {
         "line": {
          "color": "rgba(128, 128, 128, 1.0)",
          "dash": "solid",
          "shape": "linear",
          "width": 1.3
         },
         "marker": {
          "size": 2,
          "symbol": "circle"
         },
         "mode": "markers",
         "name": "C",
         "text": "",
         "type": "scatter",
         "x": [
          0.34877639929304477,
          0.47765838860761517,
          -0.6263905875973632,
          0.1807027854947827,
          1.2594615767283213,
          2.061675068831658,
          -0.03731021947626286,
          1.7329781417734145,
          1.4333130813951505,
          0.9890506764267799,
          -1.1001617423787067,
          -1.8425241553298872,
          0.12647381880286843,
          -0.5667278395663506,
          1.0765047790528184,
          -0.072187928899968,
          -1.4939821526414747,
          1.2250226052736675,
          -0.5627956916404978,
          -1.6253699343440684,
          -0.37390199280900366,
          -0.6988185633546334,
          -1.1809630572804546,
          -0.5261183173161714,
          -0.08483998434967485,
          0.18397446574770657,
          -1.4020526622338747,
          -0.9872052448225611,
          -1.2602997742322197,
          1.4158630293339085,
          1.1127916502637767,
          -0.5066832717598071,
          -0.13284209176116912,
          -0.6061971921148425,
          -1.238221468967239,
          -0.5061225446605018,
          -0.4096323118303564,
          1.2167027519421492,
          -0.5102071701182289,
          0.28262182391342544,
          -0.3765981294368762,
          0.04718398099843374,
          0.05680342464168321,
          -0.6005266438272082,
          -1.8831852841927446,
          -0.1711241484689935,
          -1.5186505364155414,
          -2.337338947803129,
          -0.43173258591565306,
          0.39462380711175676,
          0.8427369707294584,
          1.508091700619213,
          0.2641263148842725,
          -0.42026973874239537,
          -0.07702487444973369,
          0.9439105595970312,
          0.2857049807385942,
          -0.14837882491603224,
          1.604875764248128,
          -0.4243919363715126,
          -0.8234329625172128,
          -0.1684256938792784,
          -0.2832599679287647,
          -0.44014972721508755,
          0.34387113719813567,
          1.4616498923500858,
          -1.2953836162942385,
          -1.4225765018916163,
          0.6740954409511553,
          0.5280663485164603,
          0.008574824129091541,
          -0.3936975898119114,
          -0.1656412725355856,
          1.060920834100708,
          0.5619611732578766,
          -0.32141143247707743,
          0.5204048885335,
          -0.2141654435103684,
          1.8096046094913567,
          0.8648679031283714,
          1.2335563328361652,
          1.487910251127614,
          0.5811363913129524,
          -0.4630649106528774,
          1.402913102256703,
          -0.724008863995739,
          -0.8271466432358756,
          1.8422943874063789,
          1.3184986675534738,
          0.4184235058743894,
          2.002491545005831,
          -0.5144366697315794,
          -1.2755498394658389,
          -1.0337236869460253,
          0.8715878530582845,
          0.7468346959663863,
          -0.4687072125790365,
          0.667070725780239,
          -0.9693651544841688,
          0.46823699499309474
         ],
         "xaxis": "x10",
         "y": [
          -1.1211331025175668,
          -0.7261762388252994,
          -1.2438085323718588,
          -0.6190321616326958,
          -1.9438488507496778,
          0.832562470750774,
          -1.0170613764003906,
          1.2873824039505335,
          -0.1482711888413955,
          -0.7266035459129176,
          0.27200960572773253,
          -1.0255850046160957,
          0.11772888238898713,
          -0.02231609837412165,
          1.554251011828754,
          -0.8592817381016843,
          0.4176194934055473,
          -1.1881377957979329,
          -0.697129146713574,
          -1.245637958270208,
          -0.23836913771397847,
          0.3791928530912932,
          0.9938098483355025,
          1.547488835689764,
          1.2732304242359873,
          -0.9968286361062502,
          -0.26972758190073537,
          -0.20976385454083696,
          -0.01579307930739997,
          1.050169318138185,
          0.2402759013315607,
          0.007394744425599799,
          0.13609258886305312,
          0.9976250944965989,
          0.3226802229815181,
          -0.41730270368941813,
          -0.3292086361870174,
          0.5427285803407195,
          -1.0507569634304434,
          0.7919028868869887,
          1.219598692220043,
          -0.7411779250443291,
          -0.7942910635446948,
          0.33392202140758553,
          1.1691376867722687,
          0.879253657761465,
          -1.1369197800014754,
          -0.5941563679217342,
          1.0594510376155917,
          0.5706328163008199,
          0.8490610231806268,
          -0.29218180241556335,
          -1.4342244086892253,
          0.6133840053399411,
          -0.05475678253185107,
          -0.5143146733073986,
          0.7574339549789404,
          0.8717732160922348,
          2.3384599548717957,
          0.5927168682368055,
          -1.5027726466070535,
          -1.1844405249507508,
          -0.3650321215956685,
          0.17168934363041033,
          -0.12764624092108845,
          0.37755645992308523,
          0.20821583460213083,
          0.7491393591136202,
          -1.107178191229706,
          -0.2447329542638256,
          -1.345995945434097,
          0.9623088045033491,
          0.2301913131792505,
          -1.3986623919713788,
          0.8088355463716537,
          0.3434734580150389,
          -0.7511800570674204,
          -0.06097009960590071,
          -0.5374066968472037,
          -0.6438759288601867,
          0.17925875563887067,
          2.1515336845805058,
          0.5121097030568134,
          -0.3179743347441989,
          1.4556731915128707,
          1.1845669886385128,
          0.01546990615056539,
          0.3237910425363089,
          0.3968360445393282,
          0.9416027576052989,
          -1.290447163047456,
          -0.6205125275646477,
          0.21452875086814324,
          0.7457696284687445,
          -0.00851458514332476,
          0.31434109804891813,
          -0.5729165292757157,
          0.13023011474506455,
          1.2163290208755997,
          -0.8945876363498282
         ],
         "yaxis": "y10"
        },
        {
         "histfunc": "count",
         "histnorm": "",
         "marker": {
          "color": "rgba(50, 171, 96, 1.0)",
          "line": {
           "color": "#4D5663",
           "width": 1.3
          }
         },
         "name": "C",
         "nbinsx": 10,
         "opacity": 0.8,
         "orientation": "v",
         "type": "histogram",
         "x": [
          -1.1211331025175668,
          -0.7261762388252994,
          -1.2438085323718588,
          -0.6190321616326958,
          -1.9438488507496778,
          0.832562470750774,
          -1.0170613764003906,
          1.2873824039505335,
          -0.1482711888413955,
          -0.7266035459129176,
          0.27200960572773253,
          -1.0255850046160957,
          0.11772888238898713,
          -0.02231609837412165,
          1.554251011828754,
          -0.8592817381016843,
          0.4176194934055473,
          -1.1881377957979329,
          -0.697129146713574,
          -1.245637958270208,
          -0.23836913771397847,
          0.3791928530912932,
          0.9938098483355025,
          1.547488835689764,
          1.2732304242359873,
          -0.9968286361062502,
          -0.26972758190073537,
          -0.20976385454083696,
          -0.01579307930739997,
          1.050169318138185,
          0.2402759013315607,
          0.007394744425599799,
          0.13609258886305312,
          0.9976250944965989,
          0.3226802229815181,
          -0.41730270368941813,
          -0.3292086361870174,
          0.5427285803407195,
          -1.0507569634304434,
          0.7919028868869887,
          1.219598692220043,
          -0.7411779250443291,
          -0.7942910635446948,
          0.33392202140758553,
          1.1691376867722687,
          0.879253657761465,
          -1.1369197800014754,
          -0.5941563679217342,
          1.0594510376155917,
          0.5706328163008199,
          0.8490610231806268,
          -0.29218180241556335,
          -1.4342244086892253,
          0.6133840053399411,
          -0.05475678253185107,
          -0.5143146733073986,
          0.7574339549789404,
          0.8717732160922348,
          2.3384599548717957,
          0.5927168682368055,
          -1.5027726466070535,
          -1.1844405249507508,
          -0.3650321215956685,
          0.17168934363041033,
          -0.12764624092108845,
          0.37755645992308523,
          0.20821583460213083,
          0.7491393591136202,
          -1.107178191229706,
          -0.2447329542638256,
          -1.345995945434097,
          0.9623088045033491,
          0.2301913131792505,
          -1.3986623919713788,
          0.8088355463716537,
          0.3434734580150389,
          -0.7511800570674204,
          -0.06097009960590071,
          -0.5374066968472037,
          -0.6438759288601867,
          0.17925875563887067,
          2.1515336845805058,
          0.5121097030568134,
          -0.3179743347441989,
          1.4556731915128707,
          1.1845669886385128,
          0.01546990615056539,
          0.3237910425363089,
          0.3968360445393282,
          0.9416027576052989,
          -1.290447163047456,
          -0.6205125275646477,
          0.21452875086814324,
          0.7457696284687445,
          -0.00851458514332476,
          0.31434109804891813,
          -0.5729165292757157,
          0.13023011474506455,
          1.2163290208755997,
          -0.8945876363498282
         ],
         "xaxis": "x11",
         "yaxis": "y11"
        },
        {
         "line": {
          "color": "rgba(128, 128, 128, 1.0)",
          "dash": "solid",
          "shape": "linear",
          "width": 1.3
         },
         "marker": {
          "size": 2,
          "symbol": "circle"
         },
         "mode": "markers",
         "name": "C",
         "text": "",
         "type": "scatter",
         "x": [
          2.156950813602235,
          0.11378645616820725,
          0.7037921761475658,
          0.042225867130420265,
          1.4400669874552414,
          -0.31897721511155447,
          -0.831390509247544,
          0.4494721838126546,
          0.7474434740901021,
          1.6030071615403456,
          -1.557541654630139,
          -0.44345005109650865,
          -0.2771640666867262,
          0.8238429887923545,
          0.7348930590532228,
          -0.9578339660875196,
          2.097840729691086,
          0.6264957038776572,
          -0.7052031997376692,
          0.00572170439209791,
          -0.939677030404423,
          0.9691285599363695,
          -0.3235186972548601,
          0.5688476689965231,
          -0.473797963597531,
          0.37326501668982803,
          0.7938014330054607,
          -0.007574678895425695,
          -0.25592482076449125,
          -0.5567657605486981,
          0.6151917258381199,
          1.5502758310747535,
          1.2087981434297093,
          0.5305234314458622,
          0.9775520154862789,
          -0.5014218419641729,
          -1.3834681058020304,
          -0.19612876373145385,
          -0.00024411970205643802,
          -0.15888407032471244,
          -0.2711551838022481,
          0.3965956888007911,
          -0.9402156938489229,
          0.8731192034005153,
          0.9524445999351169,
          -1.331818386061884,
          -0.15452586127733342,
          -1.2986069531814386,
          0.28185919251712527,
          -0.15876616072929536,
          1.6280441602610007,
          -1.0931129887689939,
          -0.9299535608994248,
          1.0542560493971744,
          -0.7919080144806729,
          -0.06890805259918124,
          -1.347554240611548,
          0.0537671277458208,
          0.14594298113481366,
          0.34072095083261067,
          1.431317729194986,
          1.0038789522292986,
          0.07277961988271907,
          3.1404897651077954,
          -0.765925404973094,
          0.7522455351534968,
          -0.1513929843945055,
          1.0190564098220085,
          0.11883469366750704,
          0.6247916774135364,
          -1.390359946444874,
          1.1427926094326617,
          0.49871016681860175,
          -1.3545545411569602,
          -0.056169053138795444,
          -1.6133086357452207,
          -0.5364460138217012,
          -0.4186483998075414,
          -0.23274018481473174,
          3.187229996232726,
          -1.084322428595103,
          2.2200757629063657,
          1.6940353038669425,
          1.9514123800069385,
          0.5884598217039522,
          -0.1705398192674961,
          0.09609244023082661,
          -1.0595090373348741,
          1.5197386654256932,
          0.4377827077963493,
          0.5383014544046524,
          -0.47045746748025574,
          -1.6105233646816908,
          -0.44069268650121796,
          2.3899559875095684,
          0.7592961299427361,
          -0.4215752896824788,
          -0.9209612450433411,
          -0.8715047999946479,
          -0.5112144418994965
         ],
         "xaxis": "x12",
         "y": [
          -1.1211331025175668,
          -0.7261762388252994,
          -1.2438085323718588,
          -0.6190321616326958,
          -1.9438488507496778,
          0.832562470750774,
          -1.0170613764003906,
          1.2873824039505335,
          -0.1482711888413955,
          -0.7266035459129176,
          0.27200960572773253,
          -1.0255850046160957,
          0.11772888238898713,
          -0.02231609837412165,
          1.554251011828754,
          -0.8592817381016843,
          0.4176194934055473,
          -1.1881377957979329,
          -0.697129146713574,
          -1.245637958270208,
          -0.23836913771397847,
          0.3791928530912932,
          0.9938098483355025,
          1.547488835689764,
          1.2732304242359873,
          -0.9968286361062502,
          -0.26972758190073537,
          -0.20976385454083696,
          -0.01579307930739997,
          1.050169318138185,
          0.2402759013315607,
          0.007394744425599799,
          0.13609258886305312,
          0.9976250944965989,
          0.3226802229815181,
          -0.41730270368941813,
          -0.3292086361870174,
          0.5427285803407195,
          -1.0507569634304434,
          0.7919028868869887,
          1.219598692220043,
          -0.7411779250443291,
          -0.7942910635446948,
          0.33392202140758553,
          1.1691376867722687,
          0.879253657761465,
          -1.1369197800014754,
          -0.5941563679217342,
          1.0594510376155917,
          0.5706328163008199,
          0.8490610231806268,
          -0.29218180241556335,
          -1.4342244086892253,
          0.6133840053399411,
          -0.05475678253185107,
          -0.5143146733073986,
          0.7574339549789404,
          0.8717732160922348,
          2.3384599548717957,
          0.5927168682368055,
          -1.5027726466070535,
          -1.1844405249507508,
          -0.3650321215956685,
          0.17168934363041033,
          -0.12764624092108845,
          0.37755645992308523,
          0.20821583460213083,
          0.7491393591136202,
          -1.107178191229706,
          -0.2447329542638256,
          -1.345995945434097,
          0.9623088045033491,
          0.2301913131792505,
          -1.3986623919713788,
          0.8088355463716537,
          0.3434734580150389,
          -0.7511800570674204,
          -0.06097009960590071,
          -0.5374066968472037,
          -0.6438759288601867,
          0.17925875563887067,
          2.1515336845805058,
          0.5121097030568134,
          -0.3179743347441989,
          1.4556731915128707,
          1.1845669886385128,
          0.01546990615056539,
          0.3237910425363089,
          0.3968360445393282,
          0.9416027576052989,
          -1.290447163047456,
          -0.6205125275646477,
          0.21452875086814324,
          0.7457696284687445,
          -0.00851458514332476,
          0.31434109804891813,
          -0.5729165292757157,
          0.13023011474506455,
          1.2163290208755997,
          -0.8945876363498282
         ],
         "yaxis": "y12"
        },
        {
         "line": {
          "color": "rgba(128, 128, 128, 1.0)",
          "dash": "solid",
          "shape": "linear",
          "width": 1.3
         },
         "marker": {
          "size": 2,
          "symbol": "circle"
         },
         "mode": "markers",
         "name": "D",
         "text": "",
         "type": "scatter",
         "x": [
          0.11210520528287181,
          -1.2125651027444957,
          0.7409111312981095,
          0.885201543319391,
          0.6495720102447006,
          0.4497318430524437,
          -0.8227725625609245,
          -1.294165762002869,
          0.9855697981173399,
          -0.5377520046761172,
          -0.3031172198371253,
          -0.1500255993360721,
          -0.15110610248577538,
          -0.2090964311017719,
          -0.07585730009648514,
          -1.3996739953678186,
          -0.7808096785422856,
          0.7804823868457346,
          -0.4726179318216493,
          0.8075332916145921,
          0.8265765498071171,
          -0.40051686205745285,
          0.2461563372526162,
          1.642512774461098,
          0.8653929900395896,
          1.2025276873281612,
          0.29563577123790996,
          0.6699092364237134,
          -0.5452923695273253,
          -0.4642660511261456,
          1.2203389016594837,
          -0.6832499857349542,
          0.8492085633334253,
          0.23052258600709793,
          1.5445264866072617,
          -1.1329467423665456,
          -0.67232546831398,
          0.876560071944188,
          -0.27424172669120317,
          -0.07151448482552263,
          1.5063628674267997,
          1.2944560448535178,
          -1.0392861894092036,
          -0.5090093904636998,
          -0.7318138881133566,
          -0.46620502273403186,
          0.5228787071414007,
          1.23838969008501,
          -0.6297993877243587,
          -0.7479504258438041,
          -0.4495593740548306,
          0.7398152476833297,
          0.7255842573345948,
          0.003347148807160973,
          -0.4329333913030693,
          0.4586954881696664,
          0.036666042643426836,
          -0.1339361513503816,
          -0.6362684884385781,
          0.2146499988328602,
          -0.4655225437157507,
          0.1529032725538335,
          -0.3540066262700726,
          -0.4141644630330249,
          1.05343191356596,
          -0.677841097495419,
          0.19873599249106602,
          -0.20490582376094724,
          1.0222387046982089,
          -1.3989681544131,
          -1.2203626816923638,
          0.672749421487676,
          -0.501519404356596,
          2.139174899771941,
          -0.43515901640307103,
          -0.683545675539224,
          -1.0331252694832604,
          -0.07990366076929867,
          1.0958374389814922,
          -0.69702643893847,
          -0.7236655629149418,
          -0.9769212273077479,
          0.23059071690166782,
          1.55850667803002,
          -1.0206168953256678,
          -0.36320589787435276,
          2.077857583290241,
          0.24666320714680753,
          0.7042456517611484,
          -0.5840047538610852,
          2.3134196985855597,
          0.7827394356659747,
          -0.16747308355262033,
          2.2615019778134346,
          0.33822024810572665,
          -0.14314982279753402,
          -1.1387194880336158,
          0.8329827995371789,
          1.6834976572725173,
          -0.6138378805656016
         ],
         "xaxis": "x13",
         "y": [
          2.156950813602235,
          0.11378645616820725,
          0.7037921761475658,
          0.042225867130420265,
          1.4400669874552414,
          -0.31897721511155447,
          -0.831390509247544,
          0.4494721838126546,
          0.7474434740901021,
          1.6030071615403456,
          -1.557541654630139,
          -0.44345005109650865,
          -0.2771640666867262,
          0.8238429887923545,
          0.7348930590532228,
          -0.9578339660875196,
          2.097840729691086,
          0.6264957038776572,
          -0.7052031997376692,
          0.00572170439209791,
          -0.939677030404423,
          0.9691285599363695,
          -0.3235186972548601,
          0.5688476689965231,
          -0.473797963597531,
          0.37326501668982803,
          0.7938014330054607,
          -0.007574678895425695,
          -0.25592482076449125,
          -0.5567657605486981,
          0.6151917258381199,
          1.5502758310747535,
          1.2087981434297093,
          0.5305234314458622,
          0.9775520154862789,
          -0.5014218419641729,
          -1.3834681058020304,
          -0.19612876373145385,
          -0.00024411970205643802,
          -0.15888407032471244,
          -0.2711551838022481,
          0.3965956888007911,
          -0.9402156938489229,
          0.8731192034005153,
          0.9524445999351169,
          -1.331818386061884,
          -0.15452586127733342,
          -1.2986069531814386,
          0.28185919251712527,
          -0.15876616072929536,
          1.6280441602610007,
          -1.0931129887689939,
          -0.9299535608994248,
          1.0542560493971744,
          -0.7919080144806729,
          -0.06890805259918124,
          -1.347554240611548,
          0.0537671277458208,
          0.14594298113481366,
          0.34072095083261067,
          1.431317729194986,
          1.0038789522292986,
          0.07277961988271907,
          3.1404897651077954,
          -0.765925404973094,
          0.7522455351534968,
          -0.1513929843945055,
          1.0190564098220085,
          0.11883469366750704,
          0.6247916774135364,
          -1.390359946444874,
          1.1427926094326617,
          0.49871016681860175,
          -1.3545545411569602,
          -0.056169053138795444,
          -1.6133086357452207,
          -0.5364460138217012,
          -0.4186483998075414,
          -0.23274018481473174,
          3.187229996232726,
          -1.084322428595103,
          2.2200757629063657,
          1.6940353038669425,
          1.9514123800069385,
          0.5884598217039522,
          -0.1705398192674961,
          0.09609244023082661,
          -1.0595090373348741,
          1.5197386654256932,
          0.4377827077963493,
          0.5383014544046524,
          -0.47045746748025574,
          -1.6105233646816908,
          -0.44069268650121796,
          2.3899559875095684,
          0.7592961299427361,
          -0.4215752896824788,
          -0.9209612450433411,
          -0.8715047999946479,
          -0.5112144418994965
         ],
         "yaxis": "y13"
        },
        {
         "line": {
          "color": "rgba(128, 128, 128, 1.0)",
          "dash": "solid",
          "shape": "linear",
          "width": 1.3
         },
         "marker": {
          "size": 2,
          "symbol": "circle"
         },
         "mode": "markers",
         "name": "D",
         "text": "",
         "type": "scatter",
         "x": [
          0.34877639929304477,
          0.47765838860761517,
          -0.6263905875973632,
          0.1807027854947827,
          1.2594615767283213,
          2.061675068831658,
          -0.03731021947626286,
          1.7329781417734145,
          1.4333130813951505,
          0.9890506764267799,
          -1.1001617423787067,
          -1.8425241553298872,
          0.12647381880286843,
          -0.5667278395663506,
          1.0765047790528184,
          -0.072187928899968,
          -1.4939821526414747,
          1.2250226052736675,
          -0.5627956916404978,
          -1.6253699343440684,
          -0.37390199280900366,
          -0.6988185633546334,
          -1.1809630572804546,
          -0.5261183173161714,
          -0.08483998434967485,
          0.18397446574770657,
          -1.4020526622338747,
          -0.9872052448225611,
          -1.2602997742322197,
          1.4158630293339085,
          1.1127916502637767,
          -0.5066832717598071,
          -0.13284209176116912,
          -0.6061971921148425,
          -1.238221468967239,
          -0.5061225446605018,
          -0.4096323118303564,
          1.2167027519421492,
          -0.5102071701182289,
          0.28262182391342544,
          -0.3765981294368762,
          0.04718398099843374,
          0.05680342464168321,
          -0.6005266438272082,
          -1.8831852841927446,
          -0.1711241484689935,
          -1.5186505364155414,
          -2.337338947803129,
          -0.43173258591565306,
          0.39462380711175676,
          0.8427369707294584,
          1.508091700619213,
          0.2641263148842725,
          -0.42026973874239537,
          -0.07702487444973369,
          0.9439105595970312,
          0.2857049807385942,
          -0.14837882491603224,
          1.604875764248128,
          -0.4243919363715126,
          -0.8234329625172128,
          -0.1684256938792784,
          -0.2832599679287647,
          -0.44014972721508755,
          0.34387113719813567,
          1.4616498923500858,
          -1.2953836162942385,
          -1.4225765018916163,
          0.6740954409511553,
          0.5280663485164603,
          0.008574824129091541,
          -0.3936975898119114,
          -0.1656412725355856,
          1.060920834100708,
          0.5619611732578766,
          -0.32141143247707743,
          0.5204048885335,
          -0.2141654435103684,
          1.8096046094913567,
          0.8648679031283714,
          1.2335563328361652,
          1.487910251127614,
          0.5811363913129524,
          -0.4630649106528774,
          1.402913102256703,
          -0.724008863995739,
          -0.8271466432358756,
          1.8422943874063789,
          1.3184986675534738,
          0.4184235058743894,
          2.002491545005831,
          -0.5144366697315794,
          -1.2755498394658389,
          -1.0337236869460253,
          0.8715878530582845,
          0.7468346959663863,
          -0.4687072125790365,
          0.667070725780239,
          -0.9693651544841688,
          0.46823699499309474
         ],
         "xaxis": "x14",
         "y": [
          2.156950813602235,
          0.11378645616820725,
          0.7037921761475658,
          0.042225867130420265,
          1.4400669874552414,
          -0.31897721511155447,
          -0.831390509247544,
          0.4494721838126546,
          0.7474434740901021,
          1.6030071615403456,
          -1.557541654630139,
          -0.44345005109650865,
          -0.2771640666867262,
          0.8238429887923545,
          0.7348930590532228,
          -0.9578339660875196,
          2.097840729691086,
          0.6264957038776572,
          -0.7052031997376692,
          0.00572170439209791,
          -0.939677030404423,
          0.9691285599363695,
          -0.3235186972548601,
          0.5688476689965231,
          -0.473797963597531,
          0.37326501668982803,
          0.7938014330054607,
          -0.007574678895425695,
          -0.25592482076449125,
          -0.5567657605486981,
          0.6151917258381199,
          1.5502758310747535,
          1.2087981434297093,
          0.5305234314458622,
          0.9775520154862789,
          -0.5014218419641729,
          -1.3834681058020304,
          -0.19612876373145385,
          -0.00024411970205643802,
          -0.15888407032471244,
          -0.2711551838022481,
          0.3965956888007911,
          -0.9402156938489229,
          0.8731192034005153,
          0.9524445999351169,
          -1.331818386061884,
          -0.15452586127733342,
          -1.2986069531814386,
          0.28185919251712527,
          -0.15876616072929536,
          1.6280441602610007,
          -1.0931129887689939,
          -0.9299535608994248,
          1.0542560493971744,
          -0.7919080144806729,
          -0.06890805259918124,
          -1.347554240611548,
          0.0537671277458208,
          0.14594298113481366,
          0.34072095083261067,
          1.431317729194986,
          1.0038789522292986,
          0.07277961988271907,
          3.1404897651077954,
          -0.765925404973094,
          0.7522455351534968,
          -0.1513929843945055,
          1.0190564098220085,
          0.11883469366750704,
          0.6247916774135364,
          -1.390359946444874,
          1.1427926094326617,
          0.49871016681860175,
          -1.3545545411569602,
          -0.056169053138795444,
          -1.6133086357452207,
          -0.5364460138217012,
          -0.4186483998075414,
          -0.23274018481473174,
          3.187229996232726,
          -1.084322428595103,
          2.2200757629063657,
          1.6940353038669425,
          1.9514123800069385,
          0.5884598217039522,
          -0.1705398192674961,
          0.09609244023082661,
          -1.0595090373348741,
          1.5197386654256932,
          0.4377827077963493,
          0.5383014544046524,
          -0.47045746748025574,
          -1.6105233646816908,
          -0.44069268650121796,
          2.3899559875095684,
          0.7592961299427361,
          -0.4215752896824788,
          -0.9209612450433411,
          -0.8715047999946479,
          -0.5112144418994965
         ],
         "yaxis": "y14"
        },
        {
         "line": {
          "color": "rgba(128, 128, 128, 1.0)",
          "dash": "solid",
          "shape": "linear",
          "width": 1.3
         },
         "marker": {
          "size": 2,
          "symbol": "circle"
         },
         "mode": "markers",
         "name": "D",
         "text": "",
         "type": "scatter",
         "x": [
          -1.1211331025175668,
          -0.7261762388252994,
          -1.2438085323718588,
          -0.6190321616326958,
          -1.9438488507496778,
          0.832562470750774,
          -1.0170613764003906,
          1.2873824039505335,
          -0.1482711888413955,
          -0.7266035459129176,
          0.27200960572773253,
          -1.0255850046160957,
          0.11772888238898713,
          -0.02231609837412165,
          1.554251011828754,
          -0.8592817381016843,
          0.4176194934055473,
          -1.1881377957979329,
          -0.697129146713574,
          -1.245637958270208,
          -0.23836913771397847,
          0.3791928530912932,
          0.9938098483355025,
          1.547488835689764,
          1.2732304242359873,
          -0.9968286361062502,
          -0.26972758190073537,
          -0.20976385454083696,
          -0.01579307930739997,
          1.050169318138185,
          0.2402759013315607,
          0.007394744425599799,
          0.13609258886305312,
          0.9976250944965989,
          0.3226802229815181,
          -0.41730270368941813,
          -0.3292086361870174,
          0.5427285803407195,
          -1.0507569634304434,
          0.7919028868869887,
          1.219598692220043,
          -0.7411779250443291,
          -0.7942910635446948,
          0.33392202140758553,
          1.1691376867722687,
          0.879253657761465,
          -1.1369197800014754,
          -0.5941563679217342,
          1.0594510376155917,
          0.5706328163008199,
          0.8490610231806268,
          -0.29218180241556335,
          -1.4342244086892253,
          0.6133840053399411,
          -0.05475678253185107,
          -0.5143146733073986,
          0.7574339549789404,
          0.8717732160922348,
          2.3384599548717957,
          0.5927168682368055,
          -1.5027726466070535,
          -1.1844405249507508,
          -0.3650321215956685,
          0.17168934363041033,
          -0.12764624092108845,
          0.37755645992308523,
          0.20821583460213083,
          0.7491393591136202,
          -1.107178191229706,
          -0.2447329542638256,
          -1.345995945434097,
          0.9623088045033491,
          0.2301913131792505,
          -1.3986623919713788,
          0.8088355463716537,
          0.3434734580150389,
          -0.7511800570674204,
          -0.06097009960590071,
          -0.5374066968472037,
          -0.6438759288601867,
          0.17925875563887067,
          2.1515336845805058,
          0.5121097030568134,
          -0.3179743347441989,
          1.4556731915128707,
          1.1845669886385128,
          0.01546990615056539,
          0.3237910425363089,
          0.3968360445393282,
          0.9416027576052989,
          -1.290447163047456,
          -0.6205125275646477,
          0.21452875086814324,
          0.7457696284687445,
          -0.00851458514332476,
          0.31434109804891813,
          -0.5729165292757157,
          0.13023011474506455,
          1.2163290208755997,
          -0.8945876363498282
         ],
         "xaxis": "x15",
         "y": [
          2.156950813602235,
          0.11378645616820725,
          0.7037921761475658,
          0.042225867130420265,
          1.4400669874552414,
          -0.31897721511155447,
          -0.831390509247544,
          0.4494721838126546,
          0.7474434740901021,
          1.6030071615403456,
          -1.557541654630139,
          -0.44345005109650865,
          -0.2771640666867262,
          0.8238429887923545,
          0.7348930590532228,
          -0.9578339660875196,
          2.097840729691086,
          0.6264957038776572,
          -0.7052031997376692,
          0.00572170439209791,
          -0.939677030404423,
          0.9691285599363695,
          -0.3235186972548601,
          0.5688476689965231,
          -0.473797963597531,
          0.37326501668982803,
          0.7938014330054607,
          -0.007574678895425695,
          -0.25592482076449125,
          -0.5567657605486981,
          0.6151917258381199,
          1.5502758310747535,
          1.2087981434297093,
          0.5305234314458622,
          0.9775520154862789,
          -0.5014218419641729,
          -1.3834681058020304,
          -0.19612876373145385,
          -0.00024411970205643802,
          -0.15888407032471244,
          -0.2711551838022481,
          0.3965956888007911,
          -0.9402156938489229,
          0.8731192034005153,
          0.9524445999351169,
          -1.331818386061884,
          -0.15452586127733342,
          -1.2986069531814386,
          0.28185919251712527,
          -0.15876616072929536,
          1.6280441602610007,
          -1.0931129887689939,
          -0.9299535608994248,
          1.0542560493971744,
          -0.7919080144806729,
          -0.06890805259918124,
          -1.347554240611548,
          0.0537671277458208,
          0.14594298113481366,
          0.34072095083261067,
          1.431317729194986,
          1.0038789522292986,
          0.07277961988271907,
          3.1404897651077954,
          -0.765925404973094,
          0.7522455351534968,
          -0.1513929843945055,
          1.0190564098220085,
          0.11883469366750704,
          0.6247916774135364,
          -1.390359946444874,
          1.1427926094326617,
          0.49871016681860175,
          -1.3545545411569602,
          -0.056169053138795444,
          -1.6133086357452207,
          -0.5364460138217012,
          -0.4186483998075414,
          -0.23274018481473174,
          3.187229996232726,
          -1.084322428595103,
          2.2200757629063657,
          1.6940353038669425,
          1.9514123800069385,
          0.5884598217039522,
          -0.1705398192674961,
          0.09609244023082661,
          -1.0595090373348741,
          1.5197386654256932,
          0.4377827077963493,
          0.5383014544046524,
          -0.47045746748025574,
          -1.6105233646816908,
          -0.44069268650121796,
          2.3899559875095684,
          0.7592961299427361,
          -0.4215752896824788,
          -0.9209612450433411,
          -0.8715047999946479,
          -0.5112144418994965
         ],
         "yaxis": "y15"
        },
        {
         "histfunc": "count",
         "histnorm": "",
         "marker": {
          "color": "rgba(128, 0, 128, 1.0)",
          "line": {
           "color": "#4D5663",
           "width": 1.3
          }
         },
         "name": "D",
         "nbinsx": 10,
         "opacity": 0.8,
         "orientation": "v",
         "type": "histogram",
         "x": [
          2.156950813602235,
          0.11378645616820725,
          0.7037921761475658,
          0.042225867130420265,
          1.4400669874552414,
          -0.31897721511155447,
          -0.831390509247544,
          0.4494721838126546,
          0.7474434740901021,
          1.6030071615403456,
          -1.557541654630139,
          -0.44345005109650865,
          -0.2771640666867262,
          0.8238429887923545,
          0.7348930590532228,
          -0.9578339660875196,
          2.097840729691086,
          0.6264957038776572,
          -0.7052031997376692,
          0.00572170439209791,
          -0.939677030404423,
          0.9691285599363695,
          -0.3235186972548601,
          0.5688476689965231,
          -0.473797963597531,
          0.37326501668982803,
          0.7938014330054607,
          -0.007574678895425695,
          -0.25592482076449125,
          -0.5567657605486981,
          0.6151917258381199,
          1.5502758310747535,
          1.2087981434297093,
          0.5305234314458622,
          0.9775520154862789,
          -0.5014218419641729,
          -1.3834681058020304,
          -0.19612876373145385,
          -0.00024411970205643802,
          -0.15888407032471244,
          -0.2711551838022481,
          0.3965956888007911,
          -0.9402156938489229,
          0.8731192034005153,
          0.9524445999351169,
          -1.331818386061884,
          -0.15452586127733342,
          -1.2986069531814386,
          0.28185919251712527,
          -0.15876616072929536,
          1.6280441602610007,
          -1.0931129887689939,
          -0.9299535608994248,
          1.0542560493971744,
          -0.7919080144806729,
          -0.06890805259918124,
          -1.347554240611548,
          0.0537671277458208,
          0.14594298113481366,
          0.34072095083261067,
          1.431317729194986,
          1.0038789522292986,
          0.07277961988271907,
          3.1404897651077954,
          -0.765925404973094,
          0.7522455351534968,
          -0.1513929843945055,
          1.0190564098220085,
          0.11883469366750704,
          0.6247916774135364,
          -1.390359946444874,
          1.1427926094326617,
          0.49871016681860175,
          -1.3545545411569602,
          -0.056169053138795444,
          -1.6133086357452207,
          -0.5364460138217012,
          -0.4186483998075414,
          -0.23274018481473174,
          3.187229996232726,
          -1.084322428595103,
          2.2200757629063657,
          1.6940353038669425,
          1.9514123800069385,
          0.5884598217039522,
          -0.1705398192674961,
          0.09609244023082661,
          -1.0595090373348741,
          1.5197386654256932,
          0.4377827077963493,
          0.5383014544046524,
          -0.47045746748025574,
          -1.6105233646816908,
          -0.44069268650121796,
          2.3899559875095684,
          0.7592961299427361,
          -0.4215752896824788,
          -0.9209612450433411,
          -0.8715047999946479,
          -0.5112144418994965
         ],
         "xaxis": "x16",
         "yaxis": "y16"
        }
       ],
       "layout": {
        "bargap": 0.02,
        "legend": {
         "bgcolor": "#F5F6F9",
         "font": {
          "color": "#4D5663"
         }
        },
        "paper_bgcolor": "#F5F6F9",
        "plot_bgcolor": "#F5F6F9",
        "showlegend": false,
        "template": {
         "data": {
          "bar": [
           {
            "error_x": {
             "color": "#2a3f5f"
            },
            "error_y": {
             "color": "#2a3f5f"
            },
            "marker": {
             "line": {
              "color": "#E5ECF6",
              "width": 0.5
             },
             "pattern": {
              "fillmode": "overlay",
              "size": 10,
              "solidity": 0.2
             }
            },
            "type": "bar"
           }
          ],
          "barpolar": [
           {
            "marker": {
             "line": {
              "color": "#E5ECF6",
              "width": 0.5
             },
             "pattern": {
              "fillmode": "overlay",
              "size": 10,
              "solidity": 0.2
             }
            },
            "type": "barpolar"
           }
          ],
          "carpet": [
           {
            "aaxis": {
             "endlinecolor": "#2a3f5f",
             "gridcolor": "white",
             "linecolor": "white",
             "minorgridcolor": "white",
             "startlinecolor": "#2a3f5f"
            },
            "baxis": {
             "endlinecolor": "#2a3f5f",
             "gridcolor": "white",
             "linecolor": "white",
             "minorgridcolor": "white",
             "startlinecolor": "#2a3f5f"
            },
            "type": "carpet"
           }
          ],
          "choropleth": [
           {
            "colorbar": {
             "outlinewidth": 0,
             "ticks": ""
            },
            "type": "choropleth"
           }
          ],
          "contour": [
           {
            "colorbar": {
             "outlinewidth": 0,
             "ticks": ""
            },
            "colorscale": [
             [
              0,
              "#0d0887"
             ],
             [
              0.1111111111111111,
              "#46039f"
             ],
             [
              0.2222222222222222,
              "#7201a8"
             ],
             [
              0.3333333333333333,
              "#9c179e"
             ],
             [
              0.4444444444444444,
              "#bd3786"
             ],
             [
              0.5555555555555556,
              "#d8576b"
             ],
             [
              0.6666666666666666,
              "#ed7953"
             ],
             [
              0.7777777777777778,
              "#fb9f3a"
             ],
             [
              0.8888888888888888,
              "#fdca26"
             ],
             [
              1,
              "#f0f921"
             ]
            ],
            "type": "contour"
           }
          ],
          "contourcarpet": [
           {
            "colorbar": {
             "outlinewidth": 0,
             "ticks": ""
            },
            "type": "contourcarpet"
           }
          ],
          "heatmap": [
           {
            "colorbar": {
             "outlinewidth": 0,
             "ticks": ""
            },
            "colorscale": [
             [
              0,
              "#0d0887"
             ],
             [
              0.1111111111111111,
              "#46039f"
             ],
             [
              0.2222222222222222,
              "#7201a8"
             ],
             [
              0.3333333333333333,
              "#9c179e"
             ],
             [
              0.4444444444444444,
              "#bd3786"
             ],
             [
              0.5555555555555556,
              "#d8576b"
             ],
             [
              0.6666666666666666,
              "#ed7953"
             ],
             [
              0.7777777777777778,
              "#fb9f3a"
             ],
             [
              0.8888888888888888,
              "#fdca26"
             ],
             [
              1,
              "#f0f921"
             ]
            ],
            "type": "heatmap"
           }
          ],
          "heatmapgl": [
           {
            "colorbar": {
             "outlinewidth": 0,
             "ticks": ""
            },
            "colorscale": [
             [
              0,
              "#0d0887"
             ],
             [
              0.1111111111111111,
              "#46039f"
             ],
             [
              0.2222222222222222,
              "#7201a8"
             ],
             [
              0.3333333333333333,
              "#9c179e"
             ],
             [
              0.4444444444444444,
              "#bd3786"
             ],
             [
              0.5555555555555556,
              "#d8576b"
             ],
             [
              0.6666666666666666,
              "#ed7953"
             ],
             [
              0.7777777777777778,
              "#fb9f3a"
             ],
             [
              0.8888888888888888,
              "#fdca26"
             ],
             [
              1,
              "#f0f921"
             ]
            ],
            "type": "heatmapgl"
           }
          ],
          "histogram": [
           {
            "marker": {
             "pattern": {
              "fillmode": "overlay",
              "size": 10,
              "solidity": 0.2
             }
            },
            "type": "histogram"
           }
          ],
          "histogram2d": [
           {
            "colorbar": {
             "outlinewidth": 0,
             "ticks": ""
            },
            "colorscale": [
             [
              0,
              "#0d0887"
             ],
             [
              0.1111111111111111,
              "#46039f"
             ],
             [
              0.2222222222222222,
              "#7201a8"
             ],
             [
              0.3333333333333333,
              "#9c179e"
             ],
             [
              0.4444444444444444,
              "#bd3786"
             ],
             [
              0.5555555555555556,
              "#d8576b"
             ],
             [
              0.6666666666666666,
              "#ed7953"
             ],
             [
              0.7777777777777778,
              "#fb9f3a"
             ],
             [
              0.8888888888888888,
              "#fdca26"
             ],
             [
              1,
              "#f0f921"
             ]
            ],
            "type": "histogram2d"
           }
          ],
          "histogram2dcontour": [
           {
            "colorbar": {
             "outlinewidth": 0,
             "ticks": ""
            },
            "colorscale": [
             [
              0,
              "#0d0887"
             ],
             [
              0.1111111111111111,
              "#46039f"
             ],
             [
              0.2222222222222222,
              "#7201a8"
             ],
             [
              0.3333333333333333,
              "#9c179e"
             ],
             [
              0.4444444444444444,
              "#bd3786"
             ],
             [
              0.5555555555555556,
              "#d8576b"
             ],
             [
              0.6666666666666666,
              "#ed7953"
             ],
             [
              0.7777777777777778,
              "#fb9f3a"
             ],
             [
              0.8888888888888888,
              "#fdca26"
             ],
             [
              1,
              "#f0f921"
             ]
            ],
            "type": "histogram2dcontour"
           }
          ],
          "mesh3d": [
           {
            "colorbar": {
             "outlinewidth": 0,
             "ticks": ""
            },
            "type": "mesh3d"
           }
          ],
          "parcoords": [
           {
            "line": {
             "colorbar": {
              "outlinewidth": 0,
              "ticks": ""
             }
            },
            "type": "parcoords"
           }
          ],
          "pie": [
           {
            "automargin": true,
            "type": "pie"
           }
          ],
          "scatter": [
           {
            "fillpattern": {
             "fillmode": "overlay",
             "size": 10,
             "solidity": 0.2
            },
            "type": "scatter"
           }
          ],
          "scatter3d": [
           {
            "line": {
             "colorbar": {
              "outlinewidth": 0,
              "ticks": ""
             }
            },
            "marker": {
             "colorbar": {
              "outlinewidth": 0,
              "ticks": ""
             }
            },
            "type": "scatter3d"
           }
          ],
          "scattercarpet": [
           {
            "marker": {
             "colorbar": {
              "outlinewidth": 0,
              "ticks": ""
             }
            },
            "type": "scattercarpet"
           }
          ],
          "scattergeo": [
           {
            "marker": {
             "colorbar": {
              "outlinewidth": 0,
              "ticks": ""
             }
            },
            "type": "scattergeo"
           }
          ],
          "scattergl": [
           {
            "marker": {
             "colorbar": {
              "outlinewidth": 0,
              "ticks": ""
             }
            },
            "type": "scattergl"
           }
          ],
          "scattermapbox": [
           {
            "marker": {
             "colorbar": {
              "outlinewidth": 0,
              "ticks": ""
             }
            },
            "type": "scattermapbox"
           }
          ],
          "scatterpolar": [
           {
            "marker": {
             "colorbar": {
              "outlinewidth": 0,
              "ticks": ""
             }
            },
            "type": "scatterpolar"
           }
          ],
          "scatterpolargl": [
           {
            "marker": {
             "colorbar": {
              "outlinewidth": 0,
              "ticks": ""
             }
            },
            "type": "scatterpolargl"
           }
          ],
          "scatterternary": [
           {
            "marker": {
             "colorbar": {
              "outlinewidth": 0,
              "ticks": ""
             }
            },
            "type": "scatterternary"
           }
          ],
          "surface": [
           {
            "colorbar": {
             "outlinewidth": 0,
             "ticks": ""
            },
            "colorscale": [
             [
              0,
              "#0d0887"
             ],
             [
              0.1111111111111111,
              "#46039f"
             ],
             [
              0.2222222222222222,
              "#7201a8"
             ],
             [
              0.3333333333333333,
              "#9c179e"
             ],
             [
              0.4444444444444444,
              "#bd3786"
             ],
             [
              0.5555555555555556,
              "#d8576b"
             ],
             [
              0.6666666666666666,
              "#ed7953"
             ],
             [
              0.7777777777777778,
              "#fb9f3a"
             ],
             [
              0.8888888888888888,
              "#fdca26"
             ],
             [
              1,
              "#f0f921"
             ]
            ],
            "type": "surface"
           }
          ],
          "table": [
           {
            "cells": {
             "fill": {
              "color": "#EBF0F8"
             },
             "line": {
              "color": "white"
             }
            },
            "header": {
             "fill": {
              "color": "#C8D4E3"
             },
             "line": {
              "color": "white"
             }
            },
            "type": "table"
           }
          ]
         },
         "layout": {
          "annotationdefaults": {
           "arrowcolor": "#2a3f5f",
           "arrowhead": 0,
           "arrowwidth": 1
          },
          "autotypenumbers": "strict",
          "coloraxis": {
           "colorbar": {
            "outlinewidth": 0,
            "ticks": ""
           }
          },
          "colorscale": {
           "diverging": [
            [
             0,
             "#8e0152"
            ],
            [
             0.1,
             "#c51b7d"
            ],
            [
             0.2,
             "#de77ae"
            ],
            [
             0.3,
             "#f1b6da"
            ],
            [
             0.4,
             "#fde0ef"
            ],
            [
             0.5,
             "#f7f7f7"
            ],
            [
             0.6,
             "#e6f5d0"
            ],
            [
             0.7,
             "#b8e186"
            ],
            [
             0.8,
             "#7fbc41"
            ],
            [
             0.9,
             "#4d9221"
            ],
            [
             1,
             "#276419"
            ]
           ],
           "sequential": [
            [
             0,
             "#0d0887"
            ],
            [
             0.1111111111111111,
             "#46039f"
            ],
            [
             0.2222222222222222,
             "#7201a8"
            ],
            [
             0.3333333333333333,
             "#9c179e"
            ],
            [
             0.4444444444444444,
             "#bd3786"
            ],
            [
             0.5555555555555556,
             "#d8576b"
            ],
            [
             0.6666666666666666,
             "#ed7953"
            ],
            [
             0.7777777777777778,
             "#fb9f3a"
            ],
            [
             0.8888888888888888,
             "#fdca26"
            ],
            [
             1,
             "#f0f921"
            ]
           ],
           "sequentialminus": [
            [
             0,
             "#0d0887"
            ],
            [
             0.1111111111111111,
             "#46039f"
            ],
            [
             0.2222222222222222,
             "#7201a8"
            ],
            [
             0.3333333333333333,
             "#9c179e"
            ],
            [
             0.4444444444444444,
             "#bd3786"
            ],
            [
             0.5555555555555556,
             "#d8576b"
            ],
            [
             0.6666666666666666,
             "#ed7953"
            ],
            [
             0.7777777777777778,
             "#fb9f3a"
            ],
            [
             0.8888888888888888,
             "#fdca26"
            ],
            [
             1,
             "#f0f921"
            ]
           ]
          },
          "colorway": [
           "#636efa",
           "#EF553B",
           "#00cc96",
           "#ab63fa",
           "#FFA15A",
           "#19d3f3",
           "#FF6692",
           "#B6E880",
           "#FF97FF",
           "#FECB52"
          ],
          "font": {
           "color": "#2a3f5f"
          },
          "geo": {
           "bgcolor": "white",
           "lakecolor": "white",
           "landcolor": "#E5ECF6",
           "showlakes": true,
           "showland": true,
           "subunitcolor": "white"
          },
          "hoverlabel": {
           "align": "left"
          },
          "hovermode": "closest",
          "mapbox": {
           "style": "light"
          },
          "paper_bgcolor": "white",
          "plot_bgcolor": "#E5ECF6",
          "polar": {
           "angularaxis": {
            "gridcolor": "white",
            "linecolor": "white",
            "ticks": ""
           },
           "bgcolor": "#E5ECF6",
           "radialaxis": {
            "gridcolor": "white",
            "linecolor": "white",
            "ticks": ""
           }
          },
          "scene": {
           "xaxis": {
            "backgroundcolor": "#E5ECF6",
            "gridcolor": "white",
            "gridwidth": 2,
            "linecolor": "white",
            "showbackground": true,
            "ticks": "",
            "zerolinecolor": "white"
           },
           "yaxis": {
            "backgroundcolor": "#E5ECF6",
            "gridcolor": "white",
            "gridwidth": 2,
            "linecolor": "white",
            "showbackground": true,
            "ticks": "",
            "zerolinecolor": "white"
           },
           "zaxis": {
            "backgroundcolor": "#E5ECF6",
            "gridcolor": "white",
            "gridwidth": 2,
            "linecolor": "white",
            "showbackground": true,
            "ticks": "",
            "zerolinecolor": "white"
           }
          },
          "shapedefaults": {
           "line": {
            "color": "#2a3f5f"
           }
          },
          "ternary": {
           "aaxis": {
            "gridcolor": "white",
            "linecolor": "white",
            "ticks": ""
           },
           "baxis": {
            "gridcolor": "white",
            "linecolor": "white",
            "ticks": ""
           },
           "bgcolor": "#E5ECF6",
           "caxis": {
            "gridcolor": "white",
            "linecolor": "white",
            "ticks": ""
           }
          },
          "title": {
           "x": 0.05
          },
          "xaxis": {
           "automargin": true,
           "gridcolor": "white",
           "linecolor": "white",
           "ticks": "",
           "title": {
            "standoff": 15
           },
           "zerolinecolor": "white",
           "zerolinewidth": 2
          },
          "yaxis": {
           "automargin": true,
           "gridcolor": "white",
           "linecolor": "white",
           "ticks": "",
           "title": {
            "standoff": 15
           },
           "zerolinecolor": "white",
           "zerolinewidth": 2
          }
         }
        },
        "title": {
         "font": {
          "color": "#4D5663"
         }
        },
        "xaxis": {
         "anchor": "y",
         "domain": [
          0,
          0.2125
         ],
         "gridcolor": "#E1E5ED",
         "showgrid": false,
         "tickfont": {
          "color": "#4D5663"
         },
         "title": {
          "font": {
           "color": "#4D5663"
          },
          "text": ""
         },
         "zerolinecolor": "#E1E5ED"
        },
        "xaxis10": {
         "anchor": "y10",
         "domain": [
          0.2625,
          0.475
         ],
         "gridcolor": "#E1E5ED",
         "showgrid": false,
         "tickfont": {
          "color": "#4D5663"
         },
         "title": {
          "font": {
           "color": "#4D5663"
          },
          "text": ""
         },
         "zerolinecolor": "#E1E5ED"
        },
        "xaxis11": {
         "anchor": "y11",
         "domain": [
          0.525,
          0.7375
         ],
         "gridcolor": "#E1E5ED",
         "showgrid": false,
         "tickfont": {
          "color": "#4D5663"
         },
         "title": {
          "font": {
           "color": "#4D5663"
          },
          "text": ""
         },
         "zerolinecolor": "#E1E5ED"
        },
        "xaxis12": {
         "anchor": "y12",
         "domain": [
          0.7875,
          1
         ],
         "gridcolor": "#E1E5ED",
         "showgrid": false,
         "tickfont": {
          "color": "#4D5663"
         },
         "title": {
          "font": {
           "color": "#4D5663"
          },
          "text": ""
         },
         "zerolinecolor": "#E1E5ED"
        },
        "xaxis13": {
         "anchor": "y13",
         "domain": [
          0,
          0.2125
         ],
         "gridcolor": "#E1E5ED",
         "showgrid": false,
         "tickfont": {
          "color": "#4D5663"
         },
         "title": {
          "font": {
           "color": "#4D5663"
          },
          "text": ""
         },
         "zerolinecolor": "#E1E5ED"
        },
        "xaxis14": {
         "anchor": "y14",
         "domain": [
          0.2625,
          0.475
         ],
         "gridcolor": "#E1E5ED",
         "showgrid": false,
         "tickfont": {
          "color": "#4D5663"
         },
         "title": {
          "font": {
           "color": "#4D5663"
          },
          "text": ""
         },
         "zerolinecolor": "#E1E5ED"
        },
        "xaxis15": {
         "anchor": "y15",
         "domain": [
          0.525,
          0.7375
         ],
         "gridcolor": "#E1E5ED",
         "showgrid": false,
         "tickfont": {
          "color": "#4D5663"
         },
         "title": {
          "font": {
           "color": "#4D5663"
          },
          "text": ""
         },
         "zerolinecolor": "#E1E5ED"
        },
        "xaxis16": {
         "anchor": "y16",
         "domain": [
          0.7875,
          1
         ],
         "gridcolor": "#E1E5ED",
         "showgrid": false,
         "tickfont": {
          "color": "#4D5663"
         },
         "title": {
          "font": {
           "color": "#4D5663"
          },
          "text": ""
         },
         "zerolinecolor": "#E1E5ED"
        },
        "xaxis2": {
         "anchor": "y2",
         "domain": [
          0.2625,
          0.475
         ],
         "gridcolor": "#E1E5ED",
         "showgrid": false,
         "tickfont": {
          "color": "#4D5663"
         },
         "title": {
          "font": {
           "color": "#4D5663"
          },
          "text": ""
         },
         "zerolinecolor": "#E1E5ED"
        },
        "xaxis3": {
         "anchor": "y3",
         "domain": [
          0.525,
          0.7375
         ],
         "gridcolor": "#E1E5ED",
         "showgrid": false,
         "tickfont": {
          "color": "#4D5663"
         },
         "title": {
          "font": {
           "color": "#4D5663"
          },
          "text": ""
         },
         "zerolinecolor": "#E1E5ED"
        },
        "xaxis4": {
         "anchor": "y4",
         "domain": [
          0.7875,
          1
         ],
         "gridcolor": "#E1E5ED",
         "showgrid": false,
         "tickfont": {
          "color": "#4D5663"
         },
         "title": {
          "font": {
           "color": "#4D5663"
          },
          "text": ""
         },
         "zerolinecolor": "#E1E5ED"
        },
        "xaxis5": {
         "anchor": "y5",
         "domain": [
          0,
          0.2125
         ],
         "gridcolor": "#E1E5ED",
         "showgrid": false,
         "tickfont": {
          "color": "#4D5663"
         },
         "title": {
          "font": {
           "color": "#4D5663"
          },
          "text": ""
         },
         "zerolinecolor": "#E1E5ED"
        },
        "xaxis6": {
         "anchor": "y6",
         "domain": [
          0.2625,
          0.475
         ],
         "gridcolor": "#E1E5ED",
         "showgrid": false,
         "tickfont": {
          "color": "#4D5663"
         },
         "title": {
          "font": {
           "color": "#4D5663"
          },
          "text": ""
         },
         "zerolinecolor": "#E1E5ED"
        },
        "xaxis7": {
         "anchor": "y7",
         "domain": [
          0.525,
          0.7375
         ],
         "gridcolor": "#E1E5ED",
         "showgrid": false,
         "tickfont": {
          "color": "#4D5663"
         },
         "title": {
          "font": {
           "color": "#4D5663"
          },
          "text": ""
         },
         "zerolinecolor": "#E1E5ED"
        },
        "xaxis8": {
         "anchor": "y8",
         "domain": [
          0.7875,
          1
         ],
         "gridcolor": "#E1E5ED",
         "showgrid": false,
         "tickfont": {
          "color": "#4D5663"
         },
         "title": {
          "font": {
           "color": "#4D5663"
          },
          "text": ""
         },
         "zerolinecolor": "#E1E5ED"
        },
        "xaxis9": {
         "anchor": "y9",
         "domain": [
          0,
          0.2125
         ],
         "gridcolor": "#E1E5ED",
         "showgrid": false,
         "tickfont": {
          "color": "#4D5663"
         },
         "title": {
          "font": {
           "color": "#4D5663"
          },
          "text": ""
         },
         "zerolinecolor": "#E1E5ED"
        },
        "yaxis": {
         "anchor": "x",
         "domain": [
          0.8025,
          1
         ],
         "gridcolor": "#E1E5ED",
         "showgrid": false,
         "tickfont": {
          "color": "#4D5663"
         },
         "title": {
          "font": {
           "color": "#4D5663"
          },
          "text": ""
         },
         "zerolinecolor": "#E1E5ED"
        },
        "yaxis10": {
         "anchor": "x10",
         "domain": [
          0.2675,
          0.465
         ],
         "gridcolor": "#E1E5ED",
         "showgrid": false,
         "tickfont": {
          "color": "#4D5663"
         },
         "title": {
          "font": {
           "color": "#4D5663"
          },
          "text": ""
         },
         "zerolinecolor": "#E1E5ED"
        },
        "yaxis11": {
         "anchor": "x11",
         "domain": [
          0.2675,
          0.465
         ],
         "gridcolor": "#E1E5ED",
         "showgrid": false,
         "tickfont": {
          "color": "#4D5663"
         },
         "title": {
          "font": {
           "color": "#4D5663"
          },
          "text": ""
         },
         "zerolinecolor": "#E1E5ED"
        },
        "yaxis12": {
         "anchor": "x12",
         "domain": [
          0.2675,
          0.465
         ],
         "gridcolor": "#E1E5ED",
         "showgrid": false,
         "tickfont": {
          "color": "#4D5663"
         },
         "title": {
          "font": {
           "color": "#4D5663"
          },
          "text": ""
         },
         "zerolinecolor": "#E1E5ED"
        },
        "yaxis13": {
         "anchor": "x13",
         "domain": [
          0,
          0.1975
         ],
         "gridcolor": "#E1E5ED",
         "showgrid": false,
         "tickfont": {
          "color": "#4D5663"
         },
         "title": {
          "font": {
           "color": "#4D5663"
          },
          "text": ""
         },
         "zerolinecolor": "#E1E5ED"
        },
        "yaxis14": {
         "anchor": "x14",
         "domain": [
          0,
          0.1975
         ],
         "gridcolor": "#E1E5ED",
         "showgrid": false,
         "tickfont": {
          "color": "#4D5663"
         },
         "title": {
          "font": {
           "color": "#4D5663"
          },
          "text": ""
         },
         "zerolinecolor": "#E1E5ED"
        },
        "yaxis15": {
         "anchor": "x15",
         "domain": [
          0,
          0.1975
         ],
         "gridcolor": "#E1E5ED",
         "showgrid": false,
         "tickfont": {
          "color": "#4D5663"
         },
         "title": {
          "font": {
           "color": "#4D5663"
          },
          "text": ""
         },
         "zerolinecolor": "#E1E5ED"
        },
        "yaxis16": {
         "anchor": "x16",
         "domain": [
          0,
          0.1975
         ],
         "gridcolor": "#E1E5ED",
         "showgrid": false,
         "tickfont": {
          "color": "#4D5663"
         },
         "title": {
          "font": {
           "color": "#4D5663"
          },
          "text": ""
         },
         "zerolinecolor": "#E1E5ED"
        },
        "yaxis2": {
         "anchor": "x2",
         "domain": [
          0.8025,
          1
         ],
         "gridcolor": "#E1E5ED",
         "showgrid": false,
         "tickfont": {
          "color": "#4D5663"
         },
         "title": {
          "font": {
           "color": "#4D5663"
          },
          "text": ""
         },
         "zerolinecolor": "#E1E5ED"
        },
        "yaxis3": {
         "anchor": "x3",
         "domain": [
          0.8025,
          1
         ],
         "gridcolor": "#E1E5ED",
         "showgrid": false,
         "tickfont": {
          "color": "#4D5663"
         },
         "title": {
          "font": {
           "color": "#4D5663"
          },
          "text": ""
         },
         "zerolinecolor": "#E1E5ED"
        },
        "yaxis4": {
         "anchor": "x4",
         "domain": [
          0.8025,
          1
         ],
         "gridcolor": "#E1E5ED",
         "showgrid": false,
         "tickfont": {
          "color": "#4D5663"
         },
         "title": {
          "font": {
           "color": "#4D5663"
          },
          "text": ""
         },
         "zerolinecolor": "#E1E5ED"
        },
        "yaxis5": {
         "anchor": "x5",
         "domain": [
          0.535,
          0.7325
         ],
         "gridcolor": "#E1E5ED",
         "showgrid": false,
         "tickfont": {
          "color": "#4D5663"
         },
         "title": {
          "font": {
           "color": "#4D5663"
          },
          "text": ""
         },
         "zerolinecolor": "#E1E5ED"
        },
        "yaxis6": {
         "anchor": "x6",
         "domain": [
          0.535,
          0.7325
         ],
         "gridcolor": "#E1E5ED",
         "showgrid": false,
         "tickfont": {
          "color": "#4D5663"
         },
         "title": {
          "font": {
           "color": "#4D5663"
          },
          "text": ""
         },
         "zerolinecolor": "#E1E5ED"
        },
        "yaxis7": {
         "anchor": "x7",
         "domain": [
          0.535,
          0.7325
         ],
         "gridcolor": "#E1E5ED",
         "showgrid": false,
         "tickfont": {
          "color": "#4D5663"
         },
         "title": {
          "font": {
           "color": "#4D5663"
          },
          "text": ""
         },
         "zerolinecolor": "#E1E5ED"
        },
        "yaxis8": {
         "anchor": "x8",
         "domain": [
          0.535,
          0.7325
         ],
         "gridcolor": "#E1E5ED",
         "showgrid": false,
         "tickfont": {
          "color": "#4D5663"
         },
         "title": {
          "font": {
           "color": "#4D5663"
          },
          "text": ""
         },
         "zerolinecolor": "#E1E5ED"
        },
        "yaxis9": {
         "anchor": "x9",
         "domain": [
          0.2675,
          0.465
         ],
         "gridcolor": "#E1E5ED",
         "showgrid": false,
         "tickfont": {
          "color": "#4D5663"
         },
         "title": {
          "font": {
           "color": "#4D5663"
          },
          "text": ""
         },
         "zerolinecolor": "#E1E5ED"
        }
       }
      },
      "text/html": [
       "<div>                            <div id=\"6e7b6b6b-37ca-4fe5-b4c7-ac96e4ef4dbe\" class=\"plotly-graph-div\" style=\"height:525px; width:100%;\"></div>            <script type=\"text/javascript\">                require([\"plotly\"], function(Plotly) {                    window.PLOTLYENV=window.PLOTLYENV || {};\n",
       "                    window.PLOTLYENV.BASE_URL='https://plot.ly';                                    if (document.getElementById(\"6e7b6b6b-37ca-4fe5-b4c7-ac96e4ef4dbe\")) {                    Plotly.newPlot(                        \"6e7b6b6b-37ca-4fe5-b4c7-ac96e4ef4dbe\",                        [{\"histfunc\":\"count\",\"histnorm\":\"\",\"marker\":{\"color\":\"rgba(255, 153, 51, 1.0)\",\"line\":{\"color\":\"#4D5663\",\"width\":1.3}},\"name\":\"A\",\"nbinsx\":10,\"opacity\":0.8,\"orientation\":\"v\",\"x\":[0.11210520528287181,-1.2125651027444957,0.7409111312981095,0.885201543319391,0.6495720102447006,0.4497318430524437,-0.8227725625609245,-1.294165762002869,0.9855697981173399,-0.5377520046761172,-0.3031172198371253,-0.1500255993360721,-0.15110610248577538,-0.2090964311017719,-0.07585730009648514,-1.3996739953678186,-0.7808096785422856,0.7804823868457346,-0.4726179318216493,0.8075332916145921,0.8265765498071171,-0.40051686205745285,0.2461563372526162,1.642512774461098,0.8653929900395896,1.2025276873281612,0.29563577123790996,0.6699092364237134,-0.5452923695273253,-0.4642660511261456,1.2203389016594837,-0.6832499857349542,0.8492085633334253,0.23052258600709793,1.5445264866072617,-1.1329467423665456,-0.67232546831398,0.876560071944188,-0.27424172669120317,-0.07151448482552263,1.5063628674267997,1.2944560448535178,-1.0392861894092036,-0.5090093904636998,-0.7318138881133566,-0.46620502273403186,0.5228787071414007,1.23838969008501,-0.6297993877243587,-0.7479504258438041,-0.4495593740548306,0.7398152476833297,0.7255842573345948,0.003347148807160973,-0.4329333913030693,0.4586954881696664,0.036666042643426836,-0.1339361513503816,-0.6362684884385781,0.2146499988328602,-0.4655225437157507,0.1529032725538335,-0.3540066262700726,-0.4141644630330249,1.05343191356596,-0.677841097495419,0.19873599249106602,-0.20490582376094724,1.0222387046982089,-1.3989681544131,-1.2203626816923638,0.672749421487676,-0.501519404356596,2.139174899771941,-0.43515901640307103,-0.683545675539224,-1.0331252694832604,-0.07990366076929867,1.0958374389814922,-0.69702643893847,-0.7236655629149418,-0.9769212273077479,0.23059071690166782,1.55850667803002,-1.0206168953256678,-0.36320589787435276,2.077857583290241,0.24666320714680753,0.7042456517611484,-0.5840047538610852,2.3134196985855597,0.7827394356659747,-0.16747308355262033,2.2615019778134346,0.33822024810572665,-0.14314982279753402,-1.1387194880336158,0.8329827995371789,1.6834976572725173,-0.6138378805656016],\"xaxis\":\"x\",\"yaxis\":\"y\",\"type\":\"histogram\"},{\"line\":{\"color\":\"rgba(128, 128, 128, 1.0)\",\"dash\":\"solid\",\"shape\":\"linear\",\"width\":1.3},\"marker\":{\"size\":2,\"symbol\":\"circle\"},\"mode\":\"markers\",\"name\":\"A\",\"text\":\"\",\"x\":[0.34877639929304477,0.47765838860761517,-0.6263905875973632,0.1807027854947827,1.2594615767283213,2.061675068831658,-0.03731021947626286,1.7329781417734145,1.4333130813951505,0.9890506764267799,-1.1001617423787067,-1.8425241553298872,0.12647381880286843,-0.5667278395663506,1.0765047790528184,-0.072187928899968,-1.4939821526414747,1.2250226052736675,-0.5627956916404978,-1.6253699343440684,-0.37390199280900366,-0.6988185633546334,-1.1809630572804546,-0.5261183173161714,-0.08483998434967485,0.18397446574770657,-1.4020526622338747,-0.9872052448225611,-1.2602997742322197,1.4158630293339085,1.1127916502637767,-0.5066832717598071,-0.13284209176116912,-0.6061971921148425,-1.238221468967239,-0.5061225446605018,-0.4096323118303564,1.2167027519421492,-0.5102071701182289,0.28262182391342544,-0.3765981294368762,0.04718398099843374,0.05680342464168321,-0.6005266438272082,-1.8831852841927446,-0.1711241484689935,-1.5186505364155414,-2.337338947803129,-0.43173258591565306,0.39462380711175676,0.8427369707294584,1.508091700619213,0.2641263148842725,-0.42026973874239537,-0.07702487444973369,0.9439105595970312,0.2857049807385942,-0.14837882491603224,1.604875764248128,-0.4243919363715126,-0.8234329625172128,-0.1684256938792784,-0.2832599679287647,-0.44014972721508755,0.34387113719813567,1.4616498923500858,-1.2953836162942385,-1.4225765018916163,0.6740954409511553,0.5280663485164603,0.008574824129091541,-0.3936975898119114,-0.1656412725355856,1.060920834100708,0.5619611732578766,-0.32141143247707743,0.5204048885335,-0.2141654435103684,1.8096046094913567,0.8648679031283714,1.2335563328361652,1.487910251127614,0.5811363913129524,-0.4630649106528774,1.402913102256703,-0.724008863995739,-0.8271466432358756,1.8422943874063789,1.3184986675534738,0.4184235058743894,2.002491545005831,-0.5144366697315794,-1.2755498394658389,-1.0337236869460253,0.8715878530582845,0.7468346959663863,-0.4687072125790365,0.667070725780239,-0.9693651544841688,0.46823699499309474],\"xaxis\":\"x2\",\"y\":[0.11210520528287181,-1.2125651027444957,0.7409111312981095,0.885201543319391,0.6495720102447006,0.4497318430524437,-0.8227725625609245,-1.294165762002869,0.9855697981173399,-0.5377520046761172,-0.3031172198371253,-0.1500255993360721,-0.15110610248577538,-0.2090964311017719,-0.07585730009648514,-1.3996739953678186,-0.7808096785422856,0.7804823868457346,-0.4726179318216493,0.8075332916145921,0.8265765498071171,-0.40051686205745285,0.2461563372526162,1.642512774461098,0.8653929900395896,1.2025276873281612,0.29563577123790996,0.6699092364237134,-0.5452923695273253,-0.4642660511261456,1.2203389016594837,-0.6832499857349542,0.8492085633334253,0.23052258600709793,1.5445264866072617,-1.1329467423665456,-0.67232546831398,0.876560071944188,-0.27424172669120317,-0.07151448482552263,1.5063628674267997,1.2944560448535178,-1.0392861894092036,-0.5090093904636998,-0.7318138881133566,-0.46620502273403186,0.5228787071414007,1.23838969008501,-0.6297993877243587,-0.7479504258438041,-0.4495593740548306,0.7398152476833297,0.7255842573345948,0.003347148807160973,-0.4329333913030693,0.4586954881696664,0.036666042643426836,-0.1339361513503816,-0.6362684884385781,0.2146499988328602,-0.4655225437157507,0.1529032725538335,-0.3540066262700726,-0.4141644630330249,1.05343191356596,-0.677841097495419,0.19873599249106602,-0.20490582376094724,1.0222387046982089,-1.3989681544131,-1.2203626816923638,0.672749421487676,-0.501519404356596,2.139174899771941,-0.43515901640307103,-0.683545675539224,-1.0331252694832604,-0.07990366076929867,1.0958374389814922,-0.69702643893847,-0.7236655629149418,-0.9769212273077479,0.23059071690166782,1.55850667803002,-1.0206168953256678,-0.36320589787435276,2.077857583290241,0.24666320714680753,0.7042456517611484,-0.5840047538610852,2.3134196985855597,0.7827394356659747,-0.16747308355262033,2.2615019778134346,0.33822024810572665,-0.14314982279753402,-1.1387194880336158,0.8329827995371789,1.6834976572725173,-0.6138378805656016],\"yaxis\":\"y2\",\"type\":\"scatter\"},{\"line\":{\"color\":\"rgba(128, 128, 128, 1.0)\",\"dash\":\"solid\",\"shape\":\"linear\",\"width\":1.3},\"marker\":{\"size\":2,\"symbol\":\"circle\"},\"mode\":\"markers\",\"name\":\"A\",\"text\":\"\",\"x\":[-1.1211331025175668,-0.7261762388252994,-1.2438085323718588,-0.6190321616326958,-1.9438488507496778,0.832562470750774,-1.0170613764003906,1.2873824039505335,-0.1482711888413955,-0.7266035459129176,0.27200960572773253,-1.0255850046160957,0.11772888238898713,-0.02231609837412165,1.554251011828754,-0.8592817381016843,0.4176194934055473,-1.1881377957979329,-0.697129146713574,-1.245637958270208,-0.23836913771397847,0.3791928530912932,0.9938098483355025,1.547488835689764,1.2732304242359873,-0.9968286361062502,-0.26972758190073537,-0.20976385454083696,-0.01579307930739997,1.050169318138185,0.2402759013315607,0.007394744425599799,0.13609258886305312,0.9976250944965989,0.3226802229815181,-0.41730270368941813,-0.3292086361870174,0.5427285803407195,-1.0507569634304434,0.7919028868869887,1.219598692220043,-0.7411779250443291,-0.7942910635446948,0.33392202140758553,1.1691376867722687,0.879253657761465,-1.1369197800014754,-0.5941563679217342,1.0594510376155917,0.5706328163008199,0.8490610231806268,-0.29218180241556335,-1.4342244086892253,0.6133840053399411,-0.05475678253185107,-0.5143146733073986,0.7574339549789404,0.8717732160922348,2.3384599548717957,0.5927168682368055,-1.5027726466070535,-1.1844405249507508,-0.3650321215956685,0.17168934363041033,-0.12764624092108845,0.37755645992308523,0.20821583460213083,0.7491393591136202,-1.107178191229706,-0.2447329542638256,-1.345995945434097,0.9623088045033491,0.2301913131792505,-1.3986623919713788,0.8088355463716537,0.3434734580150389,-0.7511800570674204,-0.06097009960590071,-0.5374066968472037,-0.6438759288601867,0.17925875563887067,2.1515336845805058,0.5121097030568134,-0.3179743347441989,1.4556731915128707,1.1845669886385128,0.01546990615056539,0.3237910425363089,0.3968360445393282,0.9416027576052989,-1.290447163047456,-0.6205125275646477,0.21452875086814324,0.7457696284687445,-0.00851458514332476,0.31434109804891813,-0.5729165292757157,0.13023011474506455,1.2163290208755997,-0.8945876363498282],\"xaxis\":\"x3\",\"y\":[0.11210520528287181,-1.2125651027444957,0.7409111312981095,0.885201543319391,0.6495720102447006,0.4497318430524437,-0.8227725625609245,-1.294165762002869,0.9855697981173399,-0.5377520046761172,-0.3031172198371253,-0.1500255993360721,-0.15110610248577538,-0.2090964311017719,-0.07585730009648514,-1.3996739953678186,-0.7808096785422856,0.7804823868457346,-0.4726179318216493,0.8075332916145921,0.8265765498071171,-0.40051686205745285,0.2461563372526162,1.642512774461098,0.8653929900395896,1.2025276873281612,0.29563577123790996,0.6699092364237134,-0.5452923695273253,-0.4642660511261456,1.2203389016594837,-0.6832499857349542,0.8492085633334253,0.23052258600709793,1.5445264866072617,-1.1329467423665456,-0.67232546831398,0.876560071944188,-0.27424172669120317,-0.07151448482552263,1.5063628674267997,1.2944560448535178,-1.0392861894092036,-0.5090093904636998,-0.7318138881133566,-0.46620502273403186,0.5228787071414007,1.23838969008501,-0.6297993877243587,-0.7479504258438041,-0.4495593740548306,0.7398152476833297,0.7255842573345948,0.003347148807160973,-0.4329333913030693,0.4586954881696664,0.036666042643426836,-0.1339361513503816,-0.6362684884385781,0.2146499988328602,-0.4655225437157507,0.1529032725538335,-0.3540066262700726,-0.4141644630330249,1.05343191356596,-0.677841097495419,0.19873599249106602,-0.20490582376094724,1.0222387046982089,-1.3989681544131,-1.2203626816923638,0.672749421487676,-0.501519404356596,2.139174899771941,-0.43515901640307103,-0.683545675539224,-1.0331252694832604,-0.07990366076929867,1.0958374389814922,-0.69702643893847,-0.7236655629149418,-0.9769212273077479,0.23059071690166782,1.55850667803002,-1.0206168953256678,-0.36320589787435276,2.077857583290241,0.24666320714680753,0.7042456517611484,-0.5840047538610852,2.3134196985855597,0.7827394356659747,-0.16747308355262033,2.2615019778134346,0.33822024810572665,-0.14314982279753402,-1.1387194880336158,0.8329827995371789,1.6834976572725173,-0.6138378805656016],\"yaxis\":\"y3\",\"type\":\"scatter\"},{\"line\":{\"color\":\"rgba(128, 128, 128, 1.0)\",\"dash\":\"solid\",\"shape\":\"linear\",\"width\":1.3},\"marker\":{\"size\":2,\"symbol\":\"circle\"},\"mode\":\"markers\",\"name\":\"A\",\"text\":\"\",\"x\":[2.156950813602235,0.11378645616820725,0.7037921761475658,0.042225867130420265,1.4400669874552414,-0.31897721511155447,-0.831390509247544,0.4494721838126546,0.7474434740901021,1.6030071615403456,-1.557541654630139,-0.44345005109650865,-0.2771640666867262,0.8238429887923545,0.7348930590532228,-0.9578339660875196,2.097840729691086,0.6264957038776572,-0.7052031997376692,0.00572170439209791,-0.939677030404423,0.9691285599363695,-0.3235186972548601,0.5688476689965231,-0.473797963597531,0.37326501668982803,0.7938014330054607,-0.007574678895425695,-0.25592482076449125,-0.5567657605486981,0.6151917258381199,1.5502758310747535,1.2087981434297093,0.5305234314458622,0.9775520154862789,-0.5014218419641729,-1.3834681058020304,-0.19612876373145385,-0.00024411970205643802,-0.15888407032471244,-0.2711551838022481,0.3965956888007911,-0.9402156938489229,0.8731192034005153,0.9524445999351169,-1.331818386061884,-0.15452586127733342,-1.2986069531814386,0.28185919251712527,-0.15876616072929536,1.6280441602610007,-1.0931129887689939,-0.9299535608994248,1.0542560493971744,-0.7919080144806729,-0.06890805259918124,-1.347554240611548,0.0537671277458208,0.14594298113481366,0.34072095083261067,1.431317729194986,1.0038789522292986,0.07277961988271907,3.1404897651077954,-0.765925404973094,0.7522455351534968,-0.1513929843945055,1.0190564098220085,0.11883469366750704,0.6247916774135364,-1.390359946444874,1.1427926094326617,0.49871016681860175,-1.3545545411569602,-0.056169053138795444,-1.6133086357452207,-0.5364460138217012,-0.4186483998075414,-0.23274018481473174,3.187229996232726,-1.084322428595103,2.2200757629063657,1.6940353038669425,1.9514123800069385,0.5884598217039522,-0.1705398192674961,0.09609244023082661,-1.0595090373348741,1.5197386654256932,0.4377827077963493,0.5383014544046524,-0.47045746748025574,-1.6105233646816908,-0.44069268650121796,2.3899559875095684,0.7592961299427361,-0.4215752896824788,-0.9209612450433411,-0.8715047999946479,-0.5112144418994965],\"xaxis\":\"x4\",\"y\":[0.11210520528287181,-1.2125651027444957,0.7409111312981095,0.885201543319391,0.6495720102447006,0.4497318430524437,-0.8227725625609245,-1.294165762002869,0.9855697981173399,-0.5377520046761172,-0.3031172198371253,-0.1500255993360721,-0.15110610248577538,-0.2090964311017719,-0.07585730009648514,-1.3996739953678186,-0.7808096785422856,0.7804823868457346,-0.4726179318216493,0.8075332916145921,0.8265765498071171,-0.40051686205745285,0.2461563372526162,1.642512774461098,0.8653929900395896,1.2025276873281612,0.29563577123790996,0.6699092364237134,-0.5452923695273253,-0.4642660511261456,1.2203389016594837,-0.6832499857349542,0.8492085633334253,0.23052258600709793,1.5445264866072617,-1.1329467423665456,-0.67232546831398,0.876560071944188,-0.27424172669120317,-0.07151448482552263,1.5063628674267997,1.2944560448535178,-1.0392861894092036,-0.5090093904636998,-0.7318138881133566,-0.46620502273403186,0.5228787071414007,1.23838969008501,-0.6297993877243587,-0.7479504258438041,-0.4495593740548306,0.7398152476833297,0.7255842573345948,0.003347148807160973,-0.4329333913030693,0.4586954881696664,0.036666042643426836,-0.1339361513503816,-0.6362684884385781,0.2146499988328602,-0.4655225437157507,0.1529032725538335,-0.3540066262700726,-0.4141644630330249,1.05343191356596,-0.677841097495419,0.19873599249106602,-0.20490582376094724,1.0222387046982089,-1.3989681544131,-1.2203626816923638,0.672749421487676,-0.501519404356596,2.139174899771941,-0.43515901640307103,-0.683545675539224,-1.0331252694832604,-0.07990366076929867,1.0958374389814922,-0.69702643893847,-0.7236655629149418,-0.9769212273077479,0.23059071690166782,1.55850667803002,-1.0206168953256678,-0.36320589787435276,2.077857583290241,0.24666320714680753,0.7042456517611484,-0.5840047538610852,2.3134196985855597,0.7827394356659747,-0.16747308355262033,2.2615019778134346,0.33822024810572665,-0.14314982279753402,-1.1387194880336158,0.8329827995371789,1.6834976572725173,-0.6138378805656016],\"yaxis\":\"y4\",\"type\":\"scatter\"},{\"line\":{\"color\":\"rgba(128, 128, 128, 1.0)\",\"dash\":\"solid\",\"shape\":\"linear\",\"width\":1.3},\"marker\":{\"size\":2,\"symbol\":\"circle\"},\"mode\":\"markers\",\"name\":\"B\",\"text\":\"\",\"x\":[0.11210520528287181,-1.2125651027444957,0.7409111312981095,0.885201543319391,0.6495720102447006,0.4497318430524437,-0.8227725625609245,-1.294165762002869,0.9855697981173399,-0.5377520046761172,-0.3031172198371253,-0.1500255993360721,-0.15110610248577538,-0.2090964311017719,-0.07585730009648514,-1.3996739953678186,-0.7808096785422856,0.7804823868457346,-0.4726179318216493,0.8075332916145921,0.8265765498071171,-0.40051686205745285,0.2461563372526162,1.642512774461098,0.8653929900395896,1.2025276873281612,0.29563577123790996,0.6699092364237134,-0.5452923695273253,-0.4642660511261456,1.2203389016594837,-0.6832499857349542,0.8492085633334253,0.23052258600709793,1.5445264866072617,-1.1329467423665456,-0.67232546831398,0.876560071944188,-0.27424172669120317,-0.07151448482552263,1.5063628674267997,1.2944560448535178,-1.0392861894092036,-0.5090093904636998,-0.7318138881133566,-0.46620502273403186,0.5228787071414007,1.23838969008501,-0.6297993877243587,-0.7479504258438041,-0.4495593740548306,0.7398152476833297,0.7255842573345948,0.003347148807160973,-0.4329333913030693,0.4586954881696664,0.036666042643426836,-0.1339361513503816,-0.6362684884385781,0.2146499988328602,-0.4655225437157507,0.1529032725538335,-0.3540066262700726,-0.4141644630330249,1.05343191356596,-0.677841097495419,0.19873599249106602,-0.20490582376094724,1.0222387046982089,-1.3989681544131,-1.2203626816923638,0.672749421487676,-0.501519404356596,2.139174899771941,-0.43515901640307103,-0.683545675539224,-1.0331252694832604,-0.07990366076929867,1.0958374389814922,-0.69702643893847,-0.7236655629149418,-0.9769212273077479,0.23059071690166782,1.55850667803002,-1.0206168953256678,-0.36320589787435276,2.077857583290241,0.24666320714680753,0.7042456517611484,-0.5840047538610852,2.3134196985855597,0.7827394356659747,-0.16747308355262033,2.2615019778134346,0.33822024810572665,-0.14314982279753402,-1.1387194880336158,0.8329827995371789,1.6834976572725173,-0.6138378805656016],\"xaxis\":\"x5\",\"y\":[0.34877639929304477,0.47765838860761517,-0.6263905875973632,0.1807027854947827,1.2594615767283213,2.061675068831658,-0.03731021947626286,1.7329781417734145,1.4333130813951505,0.9890506764267799,-1.1001617423787067,-1.8425241553298872,0.12647381880286843,-0.5667278395663506,1.0765047790528184,-0.072187928899968,-1.4939821526414747,1.2250226052736675,-0.5627956916404978,-1.6253699343440684,-0.37390199280900366,-0.6988185633546334,-1.1809630572804546,-0.5261183173161714,-0.08483998434967485,0.18397446574770657,-1.4020526622338747,-0.9872052448225611,-1.2602997742322197,1.4158630293339085,1.1127916502637767,-0.5066832717598071,-0.13284209176116912,-0.6061971921148425,-1.238221468967239,-0.5061225446605018,-0.4096323118303564,1.2167027519421492,-0.5102071701182289,0.28262182391342544,-0.3765981294368762,0.04718398099843374,0.05680342464168321,-0.6005266438272082,-1.8831852841927446,-0.1711241484689935,-1.5186505364155414,-2.337338947803129,-0.43173258591565306,0.39462380711175676,0.8427369707294584,1.508091700619213,0.2641263148842725,-0.42026973874239537,-0.07702487444973369,0.9439105595970312,0.2857049807385942,-0.14837882491603224,1.604875764248128,-0.4243919363715126,-0.8234329625172128,-0.1684256938792784,-0.2832599679287647,-0.44014972721508755,0.34387113719813567,1.4616498923500858,-1.2953836162942385,-1.4225765018916163,0.6740954409511553,0.5280663485164603,0.008574824129091541,-0.3936975898119114,-0.1656412725355856,1.060920834100708,0.5619611732578766,-0.32141143247707743,0.5204048885335,-0.2141654435103684,1.8096046094913567,0.8648679031283714,1.2335563328361652,1.487910251127614,0.5811363913129524,-0.4630649106528774,1.402913102256703,-0.724008863995739,-0.8271466432358756,1.8422943874063789,1.3184986675534738,0.4184235058743894,2.002491545005831,-0.5144366697315794,-1.2755498394658389,-1.0337236869460253,0.8715878530582845,0.7468346959663863,-0.4687072125790365,0.667070725780239,-0.9693651544841688,0.46823699499309474],\"yaxis\":\"y5\",\"type\":\"scatter\"},{\"histfunc\":\"count\",\"histnorm\":\"\",\"marker\":{\"color\":\"rgba(55, 128, 191, 1.0)\",\"line\":{\"color\":\"#4D5663\",\"width\":1.3}},\"name\":\"B\",\"nbinsx\":10,\"opacity\":0.8,\"orientation\":\"v\",\"x\":[0.34877639929304477,0.47765838860761517,-0.6263905875973632,0.1807027854947827,1.2594615767283213,2.061675068831658,-0.03731021947626286,1.7329781417734145,1.4333130813951505,0.9890506764267799,-1.1001617423787067,-1.8425241553298872,0.12647381880286843,-0.5667278395663506,1.0765047790528184,-0.072187928899968,-1.4939821526414747,1.2250226052736675,-0.5627956916404978,-1.6253699343440684,-0.37390199280900366,-0.6988185633546334,-1.1809630572804546,-0.5261183173161714,-0.08483998434967485,0.18397446574770657,-1.4020526622338747,-0.9872052448225611,-1.2602997742322197,1.4158630293339085,1.1127916502637767,-0.5066832717598071,-0.13284209176116912,-0.6061971921148425,-1.238221468967239,-0.5061225446605018,-0.4096323118303564,1.2167027519421492,-0.5102071701182289,0.28262182391342544,-0.3765981294368762,0.04718398099843374,0.05680342464168321,-0.6005266438272082,-1.8831852841927446,-0.1711241484689935,-1.5186505364155414,-2.337338947803129,-0.43173258591565306,0.39462380711175676,0.8427369707294584,1.508091700619213,0.2641263148842725,-0.42026973874239537,-0.07702487444973369,0.9439105595970312,0.2857049807385942,-0.14837882491603224,1.604875764248128,-0.4243919363715126,-0.8234329625172128,-0.1684256938792784,-0.2832599679287647,-0.44014972721508755,0.34387113719813567,1.4616498923500858,-1.2953836162942385,-1.4225765018916163,0.6740954409511553,0.5280663485164603,0.008574824129091541,-0.3936975898119114,-0.1656412725355856,1.060920834100708,0.5619611732578766,-0.32141143247707743,0.5204048885335,-0.2141654435103684,1.8096046094913567,0.8648679031283714,1.2335563328361652,1.487910251127614,0.5811363913129524,-0.4630649106528774,1.402913102256703,-0.724008863995739,-0.8271466432358756,1.8422943874063789,1.3184986675534738,0.4184235058743894,2.002491545005831,-0.5144366697315794,-1.2755498394658389,-1.0337236869460253,0.8715878530582845,0.7468346959663863,-0.4687072125790365,0.667070725780239,-0.9693651544841688,0.46823699499309474],\"xaxis\":\"x6\",\"yaxis\":\"y6\",\"type\":\"histogram\"},{\"line\":{\"color\":\"rgba(128, 128, 128, 1.0)\",\"dash\":\"solid\",\"shape\":\"linear\",\"width\":1.3},\"marker\":{\"size\":2,\"symbol\":\"circle\"},\"mode\":\"markers\",\"name\":\"B\",\"text\":\"\",\"x\":[-1.1211331025175668,-0.7261762388252994,-1.2438085323718588,-0.6190321616326958,-1.9438488507496778,0.832562470750774,-1.0170613764003906,1.2873824039505335,-0.1482711888413955,-0.7266035459129176,0.27200960572773253,-1.0255850046160957,0.11772888238898713,-0.02231609837412165,1.554251011828754,-0.8592817381016843,0.4176194934055473,-1.1881377957979329,-0.697129146713574,-1.245637958270208,-0.23836913771397847,0.3791928530912932,0.9938098483355025,1.547488835689764,1.2732304242359873,-0.9968286361062502,-0.26972758190073537,-0.20976385454083696,-0.01579307930739997,1.050169318138185,0.2402759013315607,0.007394744425599799,0.13609258886305312,0.9976250944965989,0.3226802229815181,-0.41730270368941813,-0.3292086361870174,0.5427285803407195,-1.0507569634304434,0.7919028868869887,1.219598692220043,-0.7411779250443291,-0.7942910635446948,0.33392202140758553,1.1691376867722687,0.879253657761465,-1.1369197800014754,-0.5941563679217342,1.0594510376155917,0.5706328163008199,0.8490610231806268,-0.29218180241556335,-1.4342244086892253,0.6133840053399411,-0.05475678253185107,-0.5143146733073986,0.7574339549789404,0.8717732160922348,2.3384599548717957,0.5927168682368055,-1.5027726466070535,-1.1844405249507508,-0.3650321215956685,0.17168934363041033,-0.12764624092108845,0.37755645992308523,0.20821583460213083,0.7491393591136202,-1.107178191229706,-0.2447329542638256,-1.345995945434097,0.9623088045033491,0.2301913131792505,-1.3986623919713788,0.8088355463716537,0.3434734580150389,-0.7511800570674204,-0.06097009960590071,-0.5374066968472037,-0.6438759288601867,0.17925875563887067,2.1515336845805058,0.5121097030568134,-0.3179743347441989,1.4556731915128707,1.1845669886385128,0.01546990615056539,0.3237910425363089,0.3968360445393282,0.9416027576052989,-1.290447163047456,-0.6205125275646477,0.21452875086814324,0.7457696284687445,-0.00851458514332476,0.31434109804891813,-0.5729165292757157,0.13023011474506455,1.2163290208755997,-0.8945876363498282],\"xaxis\":\"x7\",\"y\":[0.34877639929304477,0.47765838860761517,-0.6263905875973632,0.1807027854947827,1.2594615767283213,2.061675068831658,-0.03731021947626286,1.7329781417734145,1.4333130813951505,0.9890506764267799,-1.1001617423787067,-1.8425241553298872,0.12647381880286843,-0.5667278395663506,1.0765047790528184,-0.072187928899968,-1.4939821526414747,1.2250226052736675,-0.5627956916404978,-1.6253699343440684,-0.37390199280900366,-0.6988185633546334,-1.1809630572804546,-0.5261183173161714,-0.08483998434967485,0.18397446574770657,-1.4020526622338747,-0.9872052448225611,-1.2602997742322197,1.4158630293339085,1.1127916502637767,-0.5066832717598071,-0.13284209176116912,-0.6061971921148425,-1.238221468967239,-0.5061225446605018,-0.4096323118303564,1.2167027519421492,-0.5102071701182289,0.28262182391342544,-0.3765981294368762,0.04718398099843374,0.05680342464168321,-0.6005266438272082,-1.8831852841927446,-0.1711241484689935,-1.5186505364155414,-2.337338947803129,-0.43173258591565306,0.39462380711175676,0.8427369707294584,1.508091700619213,0.2641263148842725,-0.42026973874239537,-0.07702487444973369,0.9439105595970312,0.2857049807385942,-0.14837882491603224,1.604875764248128,-0.4243919363715126,-0.8234329625172128,-0.1684256938792784,-0.2832599679287647,-0.44014972721508755,0.34387113719813567,1.4616498923500858,-1.2953836162942385,-1.4225765018916163,0.6740954409511553,0.5280663485164603,0.008574824129091541,-0.3936975898119114,-0.1656412725355856,1.060920834100708,0.5619611732578766,-0.32141143247707743,0.5204048885335,-0.2141654435103684,1.8096046094913567,0.8648679031283714,1.2335563328361652,1.487910251127614,0.5811363913129524,-0.4630649106528774,1.402913102256703,-0.724008863995739,-0.8271466432358756,1.8422943874063789,1.3184986675534738,0.4184235058743894,2.002491545005831,-0.5144366697315794,-1.2755498394658389,-1.0337236869460253,0.8715878530582845,0.7468346959663863,-0.4687072125790365,0.667070725780239,-0.9693651544841688,0.46823699499309474],\"yaxis\":\"y7\",\"type\":\"scatter\"},{\"line\":{\"color\":\"rgba(128, 128, 128, 1.0)\",\"dash\":\"solid\",\"shape\":\"linear\",\"width\":1.3},\"marker\":{\"size\":2,\"symbol\":\"circle\"},\"mode\":\"markers\",\"name\":\"B\",\"text\":\"\",\"x\":[2.156950813602235,0.11378645616820725,0.7037921761475658,0.042225867130420265,1.4400669874552414,-0.31897721511155447,-0.831390509247544,0.4494721838126546,0.7474434740901021,1.6030071615403456,-1.557541654630139,-0.44345005109650865,-0.2771640666867262,0.8238429887923545,0.7348930590532228,-0.9578339660875196,2.097840729691086,0.6264957038776572,-0.7052031997376692,0.00572170439209791,-0.939677030404423,0.9691285599363695,-0.3235186972548601,0.5688476689965231,-0.473797963597531,0.37326501668982803,0.7938014330054607,-0.007574678895425695,-0.25592482076449125,-0.5567657605486981,0.6151917258381199,1.5502758310747535,1.2087981434297093,0.5305234314458622,0.9775520154862789,-0.5014218419641729,-1.3834681058020304,-0.19612876373145385,-0.00024411970205643802,-0.15888407032471244,-0.2711551838022481,0.3965956888007911,-0.9402156938489229,0.8731192034005153,0.9524445999351169,-1.331818386061884,-0.15452586127733342,-1.2986069531814386,0.28185919251712527,-0.15876616072929536,1.6280441602610007,-1.0931129887689939,-0.9299535608994248,1.0542560493971744,-0.7919080144806729,-0.06890805259918124,-1.347554240611548,0.0537671277458208,0.14594298113481366,0.34072095083261067,1.431317729194986,1.0038789522292986,0.07277961988271907,3.1404897651077954,-0.765925404973094,0.7522455351534968,-0.1513929843945055,1.0190564098220085,0.11883469366750704,0.6247916774135364,-1.390359946444874,1.1427926094326617,0.49871016681860175,-1.3545545411569602,-0.056169053138795444,-1.6133086357452207,-0.5364460138217012,-0.4186483998075414,-0.23274018481473174,3.187229996232726,-1.084322428595103,2.2200757629063657,1.6940353038669425,1.9514123800069385,0.5884598217039522,-0.1705398192674961,0.09609244023082661,-1.0595090373348741,1.5197386654256932,0.4377827077963493,0.5383014544046524,-0.47045746748025574,-1.6105233646816908,-0.44069268650121796,2.3899559875095684,0.7592961299427361,-0.4215752896824788,-0.9209612450433411,-0.8715047999946479,-0.5112144418994965],\"xaxis\":\"x8\",\"y\":[0.34877639929304477,0.47765838860761517,-0.6263905875973632,0.1807027854947827,1.2594615767283213,2.061675068831658,-0.03731021947626286,1.7329781417734145,1.4333130813951505,0.9890506764267799,-1.1001617423787067,-1.8425241553298872,0.12647381880286843,-0.5667278395663506,1.0765047790528184,-0.072187928899968,-1.4939821526414747,1.2250226052736675,-0.5627956916404978,-1.6253699343440684,-0.37390199280900366,-0.6988185633546334,-1.1809630572804546,-0.5261183173161714,-0.08483998434967485,0.18397446574770657,-1.4020526622338747,-0.9872052448225611,-1.2602997742322197,1.4158630293339085,1.1127916502637767,-0.5066832717598071,-0.13284209176116912,-0.6061971921148425,-1.238221468967239,-0.5061225446605018,-0.4096323118303564,1.2167027519421492,-0.5102071701182289,0.28262182391342544,-0.3765981294368762,0.04718398099843374,0.05680342464168321,-0.6005266438272082,-1.8831852841927446,-0.1711241484689935,-1.5186505364155414,-2.337338947803129,-0.43173258591565306,0.39462380711175676,0.8427369707294584,1.508091700619213,0.2641263148842725,-0.42026973874239537,-0.07702487444973369,0.9439105595970312,0.2857049807385942,-0.14837882491603224,1.604875764248128,-0.4243919363715126,-0.8234329625172128,-0.1684256938792784,-0.2832599679287647,-0.44014972721508755,0.34387113719813567,1.4616498923500858,-1.2953836162942385,-1.4225765018916163,0.6740954409511553,0.5280663485164603,0.008574824129091541,-0.3936975898119114,-0.1656412725355856,1.060920834100708,0.5619611732578766,-0.32141143247707743,0.5204048885335,-0.2141654435103684,1.8096046094913567,0.8648679031283714,1.2335563328361652,1.487910251127614,0.5811363913129524,-0.4630649106528774,1.402913102256703,-0.724008863995739,-0.8271466432358756,1.8422943874063789,1.3184986675534738,0.4184235058743894,2.002491545005831,-0.5144366697315794,-1.2755498394658389,-1.0337236869460253,0.8715878530582845,0.7468346959663863,-0.4687072125790365,0.667070725780239,-0.9693651544841688,0.46823699499309474],\"yaxis\":\"y8\",\"type\":\"scatter\"},{\"line\":{\"color\":\"rgba(128, 128, 128, 1.0)\",\"dash\":\"solid\",\"shape\":\"linear\",\"width\":1.3},\"marker\":{\"size\":2,\"symbol\":\"circle\"},\"mode\":\"markers\",\"name\":\"C\",\"text\":\"\",\"x\":[0.11210520528287181,-1.2125651027444957,0.7409111312981095,0.885201543319391,0.6495720102447006,0.4497318430524437,-0.8227725625609245,-1.294165762002869,0.9855697981173399,-0.5377520046761172,-0.3031172198371253,-0.1500255993360721,-0.15110610248577538,-0.2090964311017719,-0.07585730009648514,-1.3996739953678186,-0.7808096785422856,0.7804823868457346,-0.4726179318216493,0.8075332916145921,0.8265765498071171,-0.40051686205745285,0.2461563372526162,1.642512774461098,0.8653929900395896,1.2025276873281612,0.29563577123790996,0.6699092364237134,-0.5452923695273253,-0.4642660511261456,1.2203389016594837,-0.6832499857349542,0.8492085633334253,0.23052258600709793,1.5445264866072617,-1.1329467423665456,-0.67232546831398,0.876560071944188,-0.27424172669120317,-0.07151448482552263,1.5063628674267997,1.2944560448535178,-1.0392861894092036,-0.5090093904636998,-0.7318138881133566,-0.46620502273403186,0.5228787071414007,1.23838969008501,-0.6297993877243587,-0.7479504258438041,-0.4495593740548306,0.7398152476833297,0.7255842573345948,0.003347148807160973,-0.4329333913030693,0.4586954881696664,0.036666042643426836,-0.1339361513503816,-0.6362684884385781,0.2146499988328602,-0.4655225437157507,0.1529032725538335,-0.3540066262700726,-0.4141644630330249,1.05343191356596,-0.677841097495419,0.19873599249106602,-0.20490582376094724,1.0222387046982089,-1.3989681544131,-1.2203626816923638,0.672749421487676,-0.501519404356596,2.139174899771941,-0.43515901640307103,-0.683545675539224,-1.0331252694832604,-0.07990366076929867,1.0958374389814922,-0.69702643893847,-0.7236655629149418,-0.9769212273077479,0.23059071690166782,1.55850667803002,-1.0206168953256678,-0.36320589787435276,2.077857583290241,0.24666320714680753,0.7042456517611484,-0.5840047538610852,2.3134196985855597,0.7827394356659747,-0.16747308355262033,2.2615019778134346,0.33822024810572665,-0.14314982279753402,-1.1387194880336158,0.8329827995371789,1.6834976572725173,-0.6138378805656016],\"xaxis\":\"x9\",\"y\":[-1.1211331025175668,-0.7261762388252994,-1.2438085323718588,-0.6190321616326958,-1.9438488507496778,0.832562470750774,-1.0170613764003906,1.2873824039505335,-0.1482711888413955,-0.7266035459129176,0.27200960572773253,-1.0255850046160957,0.11772888238898713,-0.02231609837412165,1.554251011828754,-0.8592817381016843,0.4176194934055473,-1.1881377957979329,-0.697129146713574,-1.245637958270208,-0.23836913771397847,0.3791928530912932,0.9938098483355025,1.547488835689764,1.2732304242359873,-0.9968286361062502,-0.26972758190073537,-0.20976385454083696,-0.01579307930739997,1.050169318138185,0.2402759013315607,0.007394744425599799,0.13609258886305312,0.9976250944965989,0.3226802229815181,-0.41730270368941813,-0.3292086361870174,0.5427285803407195,-1.0507569634304434,0.7919028868869887,1.219598692220043,-0.7411779250443291,-0.7942910635446948,0.33392202140758553,1.1691376867722687,0.879253657761465,-1.1369197800014754,-0.5941563679217342,1.0594510376155917,0.5706328163008199,0.8490610231806268,-0.29218180241556335,-1.4342244086892253,0.6133840053399411,-0.05475678253185107,-0.5143146733073986,0.7574339549789404,0.8717732160922348,2.3384599548717957,0.5927168682368055,-1.5027726466070535,-1.1844405249507508,-0.3650321215956685,0.17168934363041033,-0.12764624092108845,0.37755645992308523,0.20821583460213083,0.7491393591136202,-1.107178191229706,-0.2447329542638256,-1.345995945434097,0.9623088045033491,0.2301913131792505,-1.3986623919713788,0.8088355463716537,0.3434734580150389,-0.7511800570674204,-0.06097009960590071,-0.5374066968472037,-0.6438759288601867,0.17925875563887067,2.1515336845805058,0.5121097030568134,-0.3179743347441989,1.4556731915128707,1.1845669886385128,0.01546990615056539,0.3237910425363089,0.3968360445393282,0.9416027576052989,-1.290447163047456,-0.6205125275646477,0.21452875086814324,0.7457696284687445,-0.00851458514332476,0.31434109804891813,-0.5729165292757157,0.13023011474506455,1.2163290208755997,-0.8945876363498282],\"yaxis\":\"y9\",\"type\":\"scatter\"},{\"line\":{\"color\":\"rgba(128, 128, 128, 1.0)\",\"dash\":\"solid\",\"shape\":\"linear\",\"width\":1.3},\"marker\":{\"size\":2,\"symbol\":\"circle\"},\"mode\":\"markers\",\"name\":\"C\",\"text\":\"\",\"x\":[0.34877639929304477,0.47765838860761517,-0.6263905875973632,0.1807027854947827,1.2594615767283213,2.061675068831658,-0.03731021947626286,1.7329781417734145,1.4333130813951505,0.9890506764267799,-1.1001617423787067,-1.8425241553298872,0.12647381880286843,-0.5667278395663506,1.0765047790528184,-0.072187928899968,-1.4939821526414747,1.2250226052736675,-0.5627956916404978,-1.6253699343440684,-0.37390199280900366,-0.6988185633546334,-1.1809630572804546,-0.5261183173161714,-0.08483998434967485,0.18397446574770657,-1.4020526622338747,-0.9872052448225611,-1.2602997742322197,1.4158630293339085,1.1127916502637767,-0.5066832717598071,-0.13284209176116912,-0.6061971921148425,-1.238221468967239,-0.5061225446605018,-0.4096323118303564,1.2167027519421492,-0.5102071701182289,0.28262182391342544,-0.3765981294368762,0.04718398099843374,0.05680342464168321,-0.6005266438272082,-1.8831852841927446,-0.1711241484689935,-1.5186505364155414,-2.337338947803129,-0.43173258591565306,0.39462380711175676,0.8427369707294584,1.508091700619213,0.2641263148842725,-0.42026973874239537,-0.07702487444973369,0.9439105595970312,0.2857049807385942,-0.14837882491603224,1.604875764248128,-0.4243919363715126,-0.8234329625172128,-0.1684256938792784,-0.2832599679287647,-0.44014972721508755,0.34387113719813567,1.4616498923500858,-1.2953836162942385,-1.4225765018916163,0.6740954409511553,0.5280663485164603,0.008574824129091541,-0.3936975898119114,-0.1656412725355856,1.060920834100708,0.5619611732578766,-0.32141143247707743,0.5204048885335,-0.2141654435103684,1.8096046094913567,0.8648679031283714,1.2335563328361652,1.487910251127614,0.5811363913129524,-0.4630649106528774,1.402913102256703,-0.724008863995739,-0.8271466432358756,1.8422943874063789,1.3184986675534738,0.4184235058743894,2.002491545005831,-0.5144366697315794,-1.2755498394658389,-1.0337236869460253,0.8715878530582845,0.7468346959663863,-0.4687072125790365,0.667070725780239,-0.9693651544841688,0.46823699499309474],\"xaxis\":\"x10\",\"y\":[-1.1211331025175668,-0.7261762388252994,-1.2438085323718588,-0.6190321616326958,-1.9438488507496778,0.832562470750774,-1.0170613764003906,1.2873824039505335,-0.1482711888413955,-0.7266035459129176,0.27200960572773253,-1.0255850046160957,0.11772888238898713,-0.02231609837412165,1.554251011828754,-0.8592817381016843,0.4176194934055473,-1.1881377957979329,-0.697129146713574,-1.245637958270208,-0.23836913771397847,0.3791928530912932,0.9938098483355025,1.547488835689764,1.2732304242359873,-0.9968286361062502,-0.26972758190073537,-0.20976385454083696,-0.01579307930739997,1.050169318138185,0.2402759013315607,0.007394744425599799,0.13609258886305312,0.9976250944965989,0.3226802229815181,-0.41730270368941813,-0.3292086361870174,0.5427285803407195,-1.0507569634304434,0.7919028868869887,1.219598692220043,-0.7411779250443291,-0.7942910635446948,0.33392202140758553,1.1691376867722687,0.879253657761465,-1.1369197800014754,-0.5941563679217342,1.0594510376155917,0.5706328163008199,0.8490610231806268,-0.29218180241556335,-1.4342244086892253,0.6133840053399411,-0.05475678253185107,-0.5143146733073986,0.7574339549789404,0.8717732160922348,2.3384599548717957,0.5927168682368055,-1.5027726466070535,-1.1844405249507508,-0.3650321215956685,0.17168934363041033,-0.12764624092108845,0.37755645992308523,0.20821583460213083,0.7491393591136202,-1.107178191229706,-0.2447329542638256,-1.345995945434097,0.9623088045033491,0.2301913131792505,-1.3986623919713788,0.8088355463716537,0.3434734580150389,-0.7511800570674204,-0.06097009960590071,-0.5374066968472037,-0.6438759288601867,0.17925875563887067,2.1515336845805058,0.5121097030568134,-0.3179743347441989,1.4556731915128707,1.1845669886385128,0.01546990615056539,0.3237910425363089,0.3968360445393282,0.9416027576052989,-1.290447163047456,-0.6205125275646477,0.21452875086814324,0.7457696284687445,-0.00851458514332476,0.31434109804891813,-0.5729165292757157,0.13023011474506455,1.2163290208755997,-0.8945876363498282],\"yaxis\":\"y10\",\"type\":\"scatter\"},{\"histfunc\":\"count\",\"histnorm\":\"\",\"marker\":{\"color\":\"rgba(50, 171, 96, 1.0)\",\"line\":{\"color\":\"#4D5663\",\"width\":1.3}},\"name\":\"C\",\"nbinsx\":10,\"opacity\":0.8,\"orientation\":\"v\",\"x\":[-1.1211331025175668,-0.7261762388252994,-1.2438085323718588,-0.6190321616326958,-1.9438488507496778,0.832562470750774,-1.0170613764003906,1.2873824039505335,-0.1482711888413955,-0.7266035459129176,0.27200960572773253,-1.0255850046160957,0.11772888238898713,-0.02231609837412165,1.554251011828754,-0.8592817381016843,0.4176194934055473,-1.1881377957979329,-0.697129146713574,-1.245637958270208,-0.23836913771397847,0.3791928530912932,0.9938098483355025,1.547488835689764,1.2732304242359873,-0.9968286361062502,-0.26972758190073537,-0.20976385454083696,-0.01579307930739997,1.050169318138185,0.2402759013315607,0.007394744425599799,0.13609258886305312,0.9976250944965989,0.3226802229815181,-0.41730270368941813,-0.3292086361870174,0.5427285803407195,-1.0507569634304434,0.7919028868869887,1.219598692220043,-0.7411779250443291,-0.7942910635446948,0.33392202140758553,1.1691376867722687,0.879253657761465,-1.1369197800014754,-0.5941563679217342,1.0594510376155917,0.5706328163008199,0.8490610231806268,-0.29218180241556335,-1.4342244086892253,0.6133840053399411,-0.05475678253185107,-0.5143146733073986,0.7574339549789404,0.8717732160922348,2.3384599548717957,0.5927168682368055,-1.5027726466070535,-1.1844405249507508,-0.3650321215956685,0.17168934363041033,-0.12764624092108845,0.37755645992308523,0.20821583460213083,0.7491393591136202,-1.107178191229706,-0.2447329542638256,-1.345995945434097,0.9623088045033491,0.2301913131792505,-1.3986623919713788,0.8088355463716537,0.3434734580150389,-0.7511800570674204,-0.06097009960590071,-0.5374066968472037,-0.6438759288601867,0.17925875563887067,2.1515336845805058,0.5121097030568134,-0.3179743347441989,1.4556731915128707,1.1845669886385128,0.01546990615056539,0.3237910425363089,0.3968360445393282,0.9416027576052989,-1.290447163047456,-0.6205125275646477,0.21452875086814324,0.7457696284687445,-0.00851458514332476,0.31434109804891813,-0.5729165292757157,0.13023011474506455,1.2163290208755997,-0.8945876363498282],\"xaxis\":\"x11\",\"yaxis\":\"y11\",\"type\":\"histogram\"},{\"line\":{\"color\":\"rgba(128, 128, 128, 1.0)\",\"dash\":\"solid\",\"shape\":\"linear\",\"width\":1.3},\"marker\":{\"size\":2,\"symbol\":\"circle\"},\"mode\":\"markers\",\"name\":\"C\",\"text\":\"\",\"x\":[2.156950813602235,0.11378645616820725,0.7037921761475658,0.042225867130420265,1.4400669874552414,-0.31897721511155447,-0.831390509247544,0.4494721838126546,0.7474434740901021,1.6030071615403456,-1.557541654630139,-0.44345005109650865,-0.2771640666867262,0.8238429887923545,0.7348930590532228,-0.9578339660875196,2.097840729691086,0.6264957038776572,-0.7052031997376692,0.00572170439209791,-0.939677030404423,0.9691285599363695,-0.3235186972548601,0.5688476689965231,-0.473797963597531,0.37326501668982803,0.7938014330054607,-0.007574678895425695,-0.25592482076449125,-0.5567657605486981,0.6151917258381199,1.5502758310747535,1.2087981434297093,0.5305234314458622,0.9775520154862789,-0.5014218419641729,-1.3834681058020304,-0.19612876373145385,-0.00024411970205643802,-0.15888407032471244,-0.2711551838022481,0.3965956888007911,-0.9402156938489229,0.8731192034005153,0.9524445999351169,-1.331818386061884,-0.15452586127733342,-1.2986069531814386,0.28185919251712527,-0.15876616072929536,1.6280441602610007,-1.0931129887689939,-0.9299535608994248,1.0542560493971744,-0.7919080144806729,-0.06890805259918124,-1.347554240611548,0.0537671277458208,0.14594298113481366,0.34072095083261067,1.431317729194986,1.0038789522292986,0.07277961988271907,3.1404897651077954,-0.765925404973094,0.7522455351534968,-0.1513929843945055,1.0190564098220085,0.11883469366750704,0.6247916774135364,-1.390359946444874,1.1427926094326617,0.49871016681860175,-1.3545545411569602,-0.056169053138795444,-1.6133086357452207,-0.5364460138217012,-0.4186483998075414,-0.23274018481473174,3.187229996232726,-1.084322428595103,2.2200757629063657,1.6940353038669425,1.9514123800069385,0.5884598217039522,-0.1705398192674961,0.09609244023082661,-1.0595090373348741,1.5197386654256932,0.4377827077963493,0.5383014544046524,-0.47045746748025574,-1.6105233646816908,-0.44069268650121796,2.3899559875095684,0.7592961299427361,-0.4215752896824788,-0.9209612450433411,-0.8715047999946479,-0.5112144418994965],\"xaxis\":\"x12\",\"y\":[-1.1211331025175668,-0.7261762388252994,-1.2438085323718588,-0.6190321616326958,-1.9438488507496778,0.832562470750774,-1.0170613764003906,1.2873824039505335,-0.1482711888413955,-0.7266035459129176,0.27200960572773253,-1.0255850046160957,0.11772888238898713,-0.02231609837412165,1.554251011828754,-0.8592817381016843,0.4176194934055473,-1.1881377957979329,-0.697129146713574,-1.245637958270208,-0.23836913771397847,0.3791928530912932,0.9938098483355025,1.547488835689764,1.2732304242359873,-0.9968286361062502,-0.26972758190073537,-0.20976385454083696,-0.01579307930739997,1.050169318138185,0.2402759013315607,0.007394744425599799,0.13609258886305312,0.9976250944965989,0.3226802229815181,-0.41730270368941813,-0.3292086361870174,0.5427285803407195,-1.0507569634304434,0.7919028868869887,1.219598692220043,-0.7411779250443291,-0.7942910635446948,0.33392202140758553,1.1691376867722687,0.879253657761465,-1.1369197800014754,-0.5941563679217342,1.0594510376155917,0.5706328163008199,0.8490610231806268,-0.29218180241556335,-1.4342244086892253,0.6133840053399411,-0.05475678253185107,-0.5143146733073986,0.7574339549789404,0.8717732160922348,2.3384599548717957,0.5927168682368055,-1.5027726466070535,-1.1844405249507508,-0.3650321215956685,0.17168934363041033,-0.12764624092108845,0.37755645992308523,0.20821583460213083,0.7491393591136202,-1.107178191229706,-0.2447329542638256,-1.345995945434097,0.9623088045033491,0.2301913131792505,-1.3986623919713788,0.8088355463716537,0.3434734580150389,-0.7511800570674204,-0.06097009960590071,-0.5374066968472037,-0.6438759288601867,0.17925875563887067,2.1515336845805058,0.5121097030568134,-0.3179743347441989,1.4556731915128707,1.1845669886385128,0.01546990615056539,0.3237910425363089,0.3968360445393282,0.9416027576052989,-1.290447163047456,-0.6205125275646477,0.21452875086814324,0.7457696284687445,-0.00851458514332476,0.31434109804891813,-0.5729165292757157,0.13023011474506455,1.2163290208755997,-0.8945876363498282],\"yaxis\":\"y12\",\"type\":\"scatter\"},{\"line\":{\"color\":\"rgba(128, 128, 128, 1.0)\",\"dash\":\"solid\",\"shape\":\"linear\",\"width\":1.3},\"marker\":{\"size\":2,\"symbol\":\"circle\"},\"mode\":\"markers\",\"name\":\"D\",\"text\":\"\",\"x\":[0.11210520528287181,-1.2125651027444957,0.7409111312981095,0.885201543319391,0.6495720102447006,0.4497318430524437,-0.8227725625609245,-1.294165762002869,0.9855697981173399,-0.5377520046761172,-0.3031172198371253,-0.1500255993360721,-0.15110610248577538,-0.2090964311017719,-0.07585730009648514,-1.3996739953678186,-0.7808096785422856,0.7804823868457346,-0.4726179318216493,0.8075332916145921,0.8265765498071171,-0.40051686205745285,0.2461563372526162,1.642512774461098,0.8653929900395896,1.2025276873281612,0.29563577123790996,0.6699092364237134,-0.5452923695273253,-0.4642660511261456,1.2203389016594837,-0.6832499857349542,0.8492085633334253,0.23052258600709793,1.5445264866072617,-1.1329467423665456,-0.67232546831398,0.876560071944188,-0.27424172669120317,-0.07151448482552263,1.5063628674267997,1.2944560448535178,-1.0392861894092036,-0.5090093904636998,-0.7318138881133566,-0.46620502273403186,0.5228787071414007,1.23838969008501,-0.6297993877243587,-0.7479504258438041,-0.4495593740548306,0.7398152476833297,0.7255842573345948,0.003347148807160973,-0.4329333913030693,0.4586954881696664,0.036666042643426836,-0.1339361513503816,-0.6362684884385781,0.2146499988328602,-0.4655225437157507,0.1529032725538335,-0.3540066262700726,-0.4141644630330249,1.05343191356596,-0.677841097495419,0.19873599249106602,-0.20490582376094724,1.0222387046982089,-1.3989681544131,-1.2203626816923638,0.672749421487676,-0.501519404356596,2.139174899771941,-0.43515901640307103,-0.683545675539224,-1.0331252694832604,-0.07990366076929867,1.0958374389814922,-0.69702643893847,-0.7236655629149418,-0.9769212273077479,0.23059071690166782,1.55850667803002,-1.0206168953256678,-0.36320589787435276,2.077857583290241,0.24666320714680753,0.7042456517611484,-0.5840047538610852,2.3134196985855597,0.7827394356659747,-0.16747308355262033,2.2615019778134346,0.33822024810572665,-0.14314982279753402,-1.1387194880336158,0.8329827995371789,1.6834976572725173,-0.6138378805656016],\"xaxis\":\"x13\",\"y\":[2.156950813602235,0.11378645616820725,0.7037921761475658,0.042225867130420265,1.4400669874552414,-0.31897721511155447,-0.831390509247544,0.4494721838126546,0.7474434740901021,1.6030071615403456,-1.557541654630139,-0.44345005109650865,-0.2771640666867262,0.8238429887923545,0.7348930590532228,-0.9578339660875196,2.097840729691086,0.6264957038776572,-0.7052031997376692,0.00572170439209791,-0.939677030404423,0.9691285599363695,-0.3235186972548601,0.5688476689965231,-0.473797963597531,0.37326501668982803,0.7938014330054607,-0.007574678895425695,-0.25592482076449125,-0.5567657605486981,0.6151917258381199,1.5502758310747535,1.2087981434297093,0.5305234314458622,0.9775520154862789,-0.5014218419641729,-1.3834681058020304,-0.19612876373145385,-0.00024411970205643802,-0.15888407032471244,-0.2711551838022481,0.3965956888007911,-0.9402156938489229,0.8731192034005153,0.9524445999351169,-1.331818386061884,-0.15452586127733342,-1.2986069531814386,0.28185919251712527,-0.15876616072929536,1.6280441602610007,-1.0931129887689939,-0.9299535608994248,1.0542560493971744,-0.7919080144806729,-0.06890805259918124,-1.347554240611548,0.0537671277458208,0.14594298113481366,0.34072095083261067,1.431317729194986,1.0038789522292986,0.07277961988271907,3.1404897651077954,-0.765925404973094,0.7522455351534968,-0.1513929843945055,1.0190564098220085,0.11883469366750704,0.6247916774135364,-1.390359946444874,1.1427926094326617,0.49871016681860175,-1.3545545411569602,-0.056169053138795444,-1.6133086357452207,-0.5364460138217012,-0.4186483998075414,-0.23274018481473174,3.187229996232726,-1.084322428595103,2.2200757629063657,1.6940353038669425,1.9514123800069385,0.5884598217039522,-0.1705398192674961,0.09609244023082661,-1.0595090373348741,1.5197386654256932,0.4377827077963493,0.5383014544046524,-0.47045746748025574,-1.6105233646816908,-0.44069268650121796,2.3899559875095684,0.7592961299427361,-0.4215752896824788,-0.9209612450433411,-0.8715047999946479,-0.5112144418994965],\"yaxis\":\"y13\",\"type\":\"scatter\"},{\"line\":{\"color\":\"rgba(128, 128, 128, 1.0)\",\"dash\":\"solid\",\"shape\":\"linear\",\"width\":1.3},\"marker\":{\"size\":2,\"symbol\":\"circle\"},\"mode\":\"markers\",\"name\":\"D\",\"text\":\"\",\"x\":[0.34877639929304477,0.47765838860761517,-0.6263905875973632,0.1807027854947827,1.2594615767283213,2.061675068831658,-0.03731021947626286,1.7329781417734145,1.4333130813951505,0.9890506764267799,-1.1001617423787067,-1.8425241553298872,0.12647381880286843,-0.5667278395663506,1.0765047790528184,-0.072187928899968,-1.4939821526414747,1.2250226052736675,-0.5627956916404978,-1.6253699343440684,-0.37390199280900366,-0.6988185633546334,-1.1809630572804546,-0.5261183173161714,-0.08483998434967485,0.18397446574770657,-1.4020526622338747,-0.9872052448225611,-1.2602997742322197,1.4158630293339085,1.1127916502637767,-0.5066832717598071,-0.13284209176116912,-0.6061971921148425,-1.238221468967239,-0.5061225446605018,-0.4096323118303564,1.2167027519421492,-0.5102071701182289,0.28262182391342544,-0.3765981294368762,0.04718398099843374,0.05680342464168321,-0.6005266438272082,-1.8831852841927446,-0.1711241484689935,-1.5186505364155414,-2.337338947803129,-0.43173258591565306,0.39462380711175676,0.8427369707294584,1.508091700619213,0.2641263148842725,-0.42026973874239537,-0.07702487444973369,0.9439105595970312,0.2857049807385942,-0.14837882491603224,1.604875764248128,-0.4243919363715126,-0.8234329625172128,-0.1684256938792784,-0.2832599679287647,-0.44014972721508755,0.34387113719813567,1.4616498923500858,-1.2953836162942385,-1.4225765018916163,0.6740954409511553,0.5280663485164603,0.008574824129091541,-0.3936975898119114,-0.1656412725355856,1.060920834100708,0.5619611732578766,-0.32141143247707743,0.5204048885335,-0.2141654435103684,1.8096046094913567,0.8648679031283714,1.2335563328361652,1.487910251127614,0.5811363913129524,-0.4630649106528774,1.402913102256703,-0.724008863995739,-0.8271466432358756,1.8422943874063789,1.3184986675534738,0.4184235058743894,2.002491545005831,-0.5144366697315794,-1.2755498394658389,-1.0337236869460253,0.8715878530582845,0.7468346959663863,-0.4687072125790365,0.667070725780239,-0.9693651544841688,0.46823699499309474],\"xaxis\":\"x14\",\"y\":[2.156950813602235,0.11378645616820725,0.7037921761475658,0.042225867130420265,1.4400669874552414,-0.31897721511155447,-0.831390509247544,0.4494721838126546,0.7474434740901021,1.6030071615403456,-1.557541654630139,-0.44345005109650865,-0.2771640666867262,0.8238429887923545,0.7348930590532228,-0.9578339660875196,2.097840729691086,0.6264957038776572,-0.7052031997376692,0.00572170439209791,-0.939677030404423,0.9691285599363695,-0.3235186972548601,0.5688476689965231,-0.473797963597531,0.37326501668982803,0.7938014330054607,-0.007574678895425695,-0.25592482076449125,-0.5567657605486981,0.6151917258381199,1.5502758310747535,1.2087981434297093,0.5305234314458622,0.9775520154862789,-0.5014218419641729,-1.3834681058020304,-0.19612876373145385,-0.00024411970205643802,-0.15888407032471244,-0.2711551838022481,0.3965956888007911,-0.9402156938489229,0.8731192034005153,0.9524445999351169,-1.331818386061884,-0.15452586127733342,-1.2986069531814386,0.28185919251712527,-0.15876616072929536,1.6280441602610007,-1.0931129887689939,-0.9299535608994248,1.0542560493971744,-0.7919080144806729,-0.06890805259918124,-1.347554240611548,0.0537671277458208,0.14594298113481366,0.34072095083261067,1.431317729194986,1.0038789522292986,0.07277961988271907,3.1404897651077954,-0.765925404973094,0.7522455351534968,-0.1513929843945055,1.0190564098220085,0.11883469366750704,0.6247916774135364,-1.390359946444874,1.1427926094326617,0.49871016681860175,-1.3545545411569602,-0.056169053138795444,-1.6133086357452207,-0.5364460138217012,-0.4186483998075414,-0.23274018481473174,3.187229996232726,-1.084322428595103,2.2200757629063657,1.6940353038669425,1.9514123800069385,0.5884598217039522,-0.1705398192674961,0.09609244023082661,-1.0595090373348741,1.5197386654256932,0.4377827077963493,0.5383014544046524,-0.47045746748025574,-1.6105233646816908,-0.44069268650121796,2.3899559875095684,0.7592961299427361,-0.4215752896824788,-0.9209612450433411,-0.8715047999946479,-0.5112144418994965],\"yaxis\":\"y14\",\"type\":\"scatter\"},{\"line\":{\"color\":\"rgba(128, 128, 128, 1.0)\",\"dash\":\"solid\",\"shape\":\"linear\",\"width\":1.3},\"marker\":{\"size\":2,\"symbol\":\"circle\"},\"mode\":\"markers\",\"name\":\"D\",\"text\":\"\",\"x\":[-1.1211331025175668,-0.7261762388252994,-1.2438085323718588,-0.6190321616326958,-1.9438488507496778,0.832562470750774,-1.0170613764003906,1.2873824039505335,-0.1482711888413955,-0.7266035459129176,0.27200960572773253,-1.0255850046160957,0.11772888238898713,-0.02231609837412165,1.554251011828754,-0.8592817381016843,0.4176194934055473,-1.1881377957979329,-0.697129146713574,-1.245637958270208,-0.23836913771397847,0.3791928530912932,0.9938098483355025,1.547488835689764,1.2732304242359873,-0.9968286361062502,-0.26972758190073537,-0.20976385454083696,-0.01579307930739997,1.050169318138185,0.2402759013315607,0.007394744425599799,0.13609258886305312,0.9976250944965989,0.3226802229815181,-0.41730270368941813,-0.3292086361870174,0.5427285803407195,-1.0507569634304434,0.7919028868869887,1.219598692220043,-0.7411779250443291,-0.7942910635446948,0.33392202140758553,1.1691376867722687,0.879253657761465,-1.1369197800014754,-0.5941563679217342,1.0594510376155917,0.5706328163008199,0.8490610231806268,-0.29218180241556335,-1.4342244086892253,0.6133840053399411,-0.05475678253185107,-0.5143146733073986,0.7574339549789404,0.8717732160922348,2.3384599548717957,0.5927168682368055,-1.5027726466070535,-1.1844405249507508,-0.3650321215956685,0.17168934363041033,-0.12764624092108845,0.37755645992308523,0.20821583460213083,0.7491393591136202,-1.107178191229706,-0.2447329542638256,-1.345995945434097,0.9623088045033491,0.2301913131792505,-1.3986623919713788,0.8088355463716537,0.3434734580150389,-0.7511800570674204,-0.06097009960590071,-0.5374066968472037,-0.6438759288601867,0.17925875563887067,2.1515336845805058,0.5121097030568134,-0.3179743347441989,1.4556731915128707,1.1845669886385128,0.01546990615056539,0.3237910425363089,0.3968360445393282,0.9416027576052989,-1.290447163047456,-0.6205125275646477,0.21452875086814324,0.7457696284687445,-0.00851458514332476,0.31434109804891813,-0.5729165292757157,0.13023011474506455,1.2163290208755997,-0.8945876363498282],\"xaxis\":\"x15\",\"y\":[2.156950813602235,0.11378645616820725,0.7037921761475658,0.042225867130420265,1.4400669874552414,-0.31897721511155447,-0.831390509247544,0.4494721838126546,0.7474434740901021,1.6030071615403456,-1.557541654630139,-0.44345005109650865,-0.2771640666867262,0.8238429887923545,0.7348930590532228,-0.9578339660875196,2.097840729691086,0.6264957038776572,-0.7052031997376692,0.00572170439209791,-0.939677030404423,0.9691285599363695,-0.3235186972548601,0.5688476689965231,-0.473797963597531,0.37326501668982803,0.7938014330054607,-0.007574678895425695,-0.25592482076449125,-0.5567657605486981,0.6151917258381199,1.5502758310747535,1.2087981434297093,0.5305234314458622,0.9775520154862789,-0.5014218419641729,-1.3834681058020304,-0.19612876373145385,-0.00024411970205643802,-0.15888407032471244,-0.2711551838022481,0.3965956888007911,-0.9402156938489229,0.8731192034005153,0.9524445999351169,-1.331818386061884,-0.15452586127733342,-1.2986069531814386,0.28185919251712527,-0.15876616072929536,1.6280441602610007,-1.0931129887689939,-0.9299535608994248,1.0542560493971744,-0.7919080144806729,-0.06890805259918124,-1.347554240611548,0.0537671277458208,0.14594298113481366,0.34072095083261067,1.431317729194986,1.0038789522292986,0.07277961988271907,3.1404897651077954,-0.765925404973094,0.7522455351534968,-0.1513929843945055,1.0190564098220085,0.11883469366750704,0.6247916774135364,-1.390359946444874,1.1427926094326617,0.49871016681860175,-1.3545545411569602,-0.056169053138795444,-1.6133086357452207,-0.5364460138217012,-0.4186483998075414,-0.23274018481473174,3.187229996232726,-1.084322428595103,2.2200757629063657,1.6940353038669425,1.9514123800069385,0.5884598217039522,-0.1705398192674961,0.09609244023082661,-1.0595090373348741,1.5197386654256932,0.4377827077963493,0.5383014544046524,-0.47045746748025574,-1.6105233646816908,-0.44069268650121796,2.3899559875095684,0.7592961299427361,-0.4215752896824788,-0.9209612450433411,-0.8715047999946479,-0.5112144418994965],\"yaxis\":\"y15\",\"type\":\"scatter\"},{\"histfunc\":\"count\",\"histnorm\":\"\",\"marker\":{\"color\":\"rgba(128, 0, 128, 1.0)\",\"line\":{\"color\":\"#4D5663\",\"width\":1.3}},\"name\":\"D\",\"nbinsx\":10,\"opacity\":0.8,\"orientation\":\"v\",\"x\":[2.156950813602235,0.11378645616820725,0.7037921761475658,0.042225867130420265,1.4400669874552414,-0.31897721511155447,-0.831390509247544,0.4494721838126546,0.7474434740901021,1.6030071615403456,-1.557541654630139,-0.44345005109650865,-0.2771640666867262,0.8238429887923545,0.7348930590532228,-0.9578339660875196,2.097840729691086,0.6264957038776572,-0.7052031997376692,0.00572170439209791,-0.939677030404423,0.9691285599363695,-0.3235186972548601,0.5688476689965231,-0.473797963597531,0.37326501668982803,0.7938014330054607,-0.007574678895425695,-0.25592482076449125,-0.5567657605486981,0.6151917258381199,1.5502758310747535,1.2087981434297093,0.5305234314458622,0.9775520154862789,-0.5014218419641729,-1.3834681058020304,-0.19612876373145385,-0.00024411970205643802,-0.15888407032471244,-0.2711551838022481,0.3965956888007911,-0.9402156938489229,0.8731192034005153,0.9524445999351169,-1.331818386061884,-0.15452586127733342,-1.2986069531814386,0.28185919251712527,-0.15876616072929536,1.6280441602610007,-1.0931129887689939,-0.9299535608994248,1.0542560493971744,-0.7919080144806729,-0.06890805259918124,-1.347554240611548,0.0537671277458208,0.14594298113481366,0.34072095083261067,1.431317729194986,1.0038789522292986,0.07277961988271907,3.1404897651077954,-0.765925404973094,0.7522455351534968,-0.1513929843945055,1.0190564098220085,0.11883469366750704,0.6247916774135364,-1.390359946444874,1.1427926094326617,0.49871016681860175,-1.3545545411569602,-0.056169053138795444,-1.6133086357452207,-0.5364460138217012,-0.4186483998075414,-0.23274018481473174,3.187229996232726,-1.084322428595103,2.2200757629063657,1.6940353038669425,1.9514123800069385,0.5884598217039522,-0.1705398192674961,0.09609244023082661,-1.0595090373348741,1.5197386654256932,0.4377827077963493,0.5383014544046524,-0.47045746748025574,-1.6105233646816908,-0.44069268650121796,2.3899559875095684,0.7592961299427361,-0.4215752896824788,-0.9209612450433411,-0.8715047999946479,-0.5112144418994965],\"xaxis\":\"x16\",\"yaxis\":\"y16\",\"type\":\"histogram\"}],                        {\"bargap\":0.02,\"legend\":{\"bgcolor\":\"#F5F6F9\",\"font\":{\"color\":\"#4D5663\"}},\"paper_bgcolor\":\"#F5F6F9\",\"plot_bgcolor\":\"#F5F6F9\",\"showlegend\":false,\"template\":{\"data\":{\"barpolar\":[{\"marker\":{\"line\":{\"color\":\"#E5ECF6\",\"width\":0.5},\"pattern\":{\"fillmode\":\"overlay\",\"size\":10,\"solidity\":0.2}},\"type\":\"barpolar\"}],\"bar\":[{\"error_x\":{\"color\":\"#2a3f5f\"},\"error_y\":{\"color\":\"#2a3f5f\"},\"marker\":{\"line\":{\"color\":\"#E5ECF6\",\"width\":0.5},\"pattern\":{\"fillmode\":\"overlay\",\"size\":10,\"solidity\":0.2}},\"type\":\"bar\"}],\"carpet\":[{\"aaxis\":{\"endlinecolor\":\"#2a3f5f\",\"gridcolor\":\"white\",\"linecolor\":\"white\",\"minorgridcolor\":\"white\",\"startlinecolor\":\"#2a3f5f\"},\"baxis\":{\"endlinecolor\":\"#2a3f5f\",\"gridcolor\":\"white\",\"linecolor\":\"white\",\"minorgridcolor\":\"white\",\"startlinecolor\":\"#2a3f5f\"},\"type\":\"carpet\"}],\"choropleth\":[{\"colorbar\":{\"outlinewidth\":0,\"ticks\":\"\"},\"type\":\"choropleth\"}],\"contourcarpet\":[{\"colorbar\":{\"outlinewidth\":0,\"ticks\":\"\"},\"type\":\"contourcarpet\"}],\"contour\":[{\"colorbar\":{\"outlinewidth\":0,\"ticks\":\"\"},\"colorscale\":[[0.0,\"#0d0887\"],[0.1111111111111111,\"#46039f\"],[0.2222222222222222,\"#7201a8\"],[0.3333333333333333,\"#9c179e\"],[0.4444444444444444,\"#bd3786\"],[0.5555555555555556,\"#d8576b\"],[0.6666666666666666,\"#ed7953\"],[0.7777777777777778,\"#fb9f3a\"],[0.8888888888888888,\"#fdca26\"],[1.0,\"#f0f921\"]],\"type\":\"contour\"}],\"heatmapgl\":[{\"colorbar\":{\"outlinewidth\":0,\"ticks\":\"\"},\"colorscale\":[[0.0,\"#0d0887\"],[0.1111111111111111,\"#46039f\"],[0.2222222222222222,\"#7201a8\"],[0.3333333333333333,\"#9c179e\"],[0.4444444444444444,\"#bd3786\"],[0.5555555555555556,\"#d8576b\"],[0.6666666666666666,\"#ed7953\"],[0.7777777777777778,\"#fb9f3a\"],[0.8888888888888888,\"#fdca26\"],[1.0,\"#f0f921\"]],\"type\":\"heatmapgl\"}],\"heatmap\":[{\"colorbar\":{\"outlinewidth\":0,\"ticks\":\"\"},\"colorscale\":[[0.0,\"#0d0887\"],[0.1111111111111111,\"#46039f\"],[0.2222222222222222,\"#7201a8\"],[0.3333333333333333,\"#9c179e\"],[0.4444444444444444,\"#bd3786\"],[0.5555555555555556,\"#d8576b\"],[0.6666666666666666,\"#ed7953\"],[0.7777777777777778,\"#fb9f3a\"],[0.8888888888888888,\"#fdca26\"],[1.0,\"#f0f921\"]],\"type\":\"heatmap\"}],\"histogram2dcontour\":[{\"colorbar\":{\"outlinewidth\":0,\"ticks\":\"\"},\"colorscale\":[[0.0,\"#0d0887\"],[0.1111111111111111,\"#46039f\"],[0.2222222222222222,\"#7201a8\"],[0.3333333333333333,\"#9c179e\"],[0.4444444444444444,\"#bd3786\"],[0.5555555555555556,\"#d8576b\"],[0.6666666666666666,\"#ed7953\"],[0.7777777777777778,\"#fb9f3a\"],[0.8888888888888888,\"#fdca26\"],[1.0,\"#f0f921\"]],\"type\":\"histogram2dcontour\"}],\"histogram2d\":[{\"colorbar\":{\"outlinewidth\":0,\"ticks\":\"\"},\"colorscale\":[[0.0,\"#0d0887\"],[0.1111111111111111,\"#46039f\"],[0.2222222222222222,\"#7201a8\"],[0.3333333333333333,\"#9c179e\"],[0.4444444444444444,\"#bd3786\"],[0.5555555555555556,\"#d8576b\"],[0.6666666666666666,\"#ed7953\"],[0.7777777777777778,\"#fb9f3a\"],[0.8888888888888888,\"#fdca26\"],[1.0,\"#f0f921\"]],\"type\":\"histogram2d\"}],\"histogram\":[{\"marker\":{\"pattern\":{\"fillmode\":\"overlay\",\"size\":10,\"solidity\":0.2}},\"type\":\"histogram\"}],\"mesh3d\":[{\"colorbar\":{\"outlinewidth\":0,\"ticks\":\"\"},\"type\":\"mesh3d\"}],\"parcoords\":[{\"line\":{\"colorbar\":{\"outlinewidth\":0,\"ticks\":\"\"}},\"type\":\"parcoords\"}],\"pie\":[{\"automargin\":true,\"type\":\"pie\"}],\"scatter3d\":[{\"line\":{\"colorbar\":{\"outlinewidth\":0,\"ticks\":\"\"}},\"marker\":{\"colorbar\":{\"outlinewidth\":0,\"ticks\":\"\"}},\"type\":\"scatter3d\"}],\"scattercarpet\":[{\"marker\":{\"colorbar\":{\"outlinewidth\":0,\"ticks\":\"\"}},\"type\":\"scattercarpet\"}],\"scattergeo\":[{\"marker\":{\"colorbar\":{\"outlinewidth\":0,\"ticks\":\"\"}},\"type\":\"scattergeo\"}],\"scattergl\":[{\"marker\":{\"colorbar\":{\"outlinewidth\":0,\"ticks\":\"\"}},\"type\":\"scattergl\"}],\"scattermapbox\":[{\"marker\":{\"colorbar\":{\"outlinewidth\":0,\"ticks\":\"\"}},\"type\":\"scattermapbox\"}],\"scatterpolargl\":[{\"marker\":{\"colorbar\":{\"outlinewidth\":0,\"ticks\":\"\"}},\"type\":\"scatterpolargl\"}],\"scatterpolar\":[{\"marker\":{\"colorbar\":{\"outlinewidth\":0,\"ticks\":\"\"}},\"type\":\"scatterpolar\"}],\"scatter\":[{\"fillpattern\":{\"fillmode\":\"overlay\",\"size\":10,\"solidity\":0.2},\"type\":\"scatter\"}],\"scatterternary\":[{\"marker\":{\"colorbar\":{\"outlinewidth\":0,\"ticks\":\"\"}},\"type\":\"scatterternary\"}],\"surface\":[{\"colorbar\":{\"outlinewidth\":0,\"ticks\":\"\"},\"colorscale\":[[0.0,\"#0d0887\"],[0.1111111111111111,\"#46039f\"],[0.2222222222222222,\"#7201a8\"],[0.3333333333333333,\"#9c179e\"],[0.4444444444444444,\"#bd3786\"],[0.5555555555555556,\"#d8576b\"],[0.6666666666666666,\"#ed7953\"],[0.7777777777777778,\"#fb9f3a\"],[0.8888888888888888,\"#fdca26\"],[1.0,\"#f0f921\"]],\"type\":\"surface\"}],\"table\":[{\"cells\":{\"fill\":{\"color\":\"#EBF0F8\"},\"line\":{\"color\":\"white\"}},\"header\":{\"fill\":{\"color\":\"#C8D4E3\"},\"line\":{\"color\":\"white\"}},\"type\":\"table\"}]},\"layout\":{\"annotationdefaults\":{\"arrowcolor\":\"#2a3f5f\",\"arrowhead\":0,\"arrowwidth\":1},\"autotypenumbers\":\"strict\",\"coloraxis\":{\"colorbar\":{\"outlinewidth\":0,\"ticks\":\"\"}},\"colorscale\":{\"diverging\":[[0,\"#8e0152\"],[0.1,\"#c51b7d\"],[0.2,\"#de77ae\"],[0.3,\"#f1b6da\"],[0.4,\"#fde0ef\"],[0.5,\"#f7f7f7\"],[0.6,\"#e6f5d0\"],[0.7,\"#b8e186\"],[0.8,\"#7fbc41\"],[0.9,\"#4d9221\"],[1,\"#276419\"]],\"sequential\":[[0.0,\"#0d0887\"],[0.1111111111111111,\"#46039f\"],[0.2222222222222222,\"#7201a8\"],[0.3333333333333333,\"#9c179e\"],[0.4444444444444444,\"#bd3786\"],[0.5555555555555556,\"#d8576b\"],[0.6666666666666666,\"#ed7953\"],[0.7777777777777778,\"#fb9f3a\"],[0.8888888888888888,\"#fdca26\"],[1.0,\"#f0f921\"]],\"sequentialminus\":[[0.0,\"#0d0887\"],[0.1111111111111111,\"#46039f\"],[0.2222222222222222,\"#7201a8\"],[0.3333333333333333,\"#9c179e\"],[0.4444444444444444,\"#bd3786\"],[0.5555555555555556,\"#d8576b\"],[0.6666666666666666,\"#ed7953\"],[0.7777777777777778,\"#fb9f3a\"],[0.8888888888888888,\"#fdca26\"],[1.0,\"#f0f921\"]]},\"colorway\":[\"#636efa\",\"#EF553B\",\"#00cc96\",\"#ab63fa\",\"#FFA15A\",\"#19d3f3\",\"#FF6692\",\"#B6E880\",\"#FF97FF\",\"#FECB52\"],\"font\":{\"color\":\"#2a3f5f\"},\"geo\":{\"bgcolor\":\"white\",\"lakecolor\":\"white\",\"landcolor\":\"#E5ECF6\",\"showlakes\":true,\"showland\":true,\"subunitcolor\":\"white\"},\"hoverlabel\":{\"align\":\"left\"},\"hovermode\":\"closest\",\"mapbox\":{\"style\":\"light\"},\"paper_bgcolor\":\"white\",\"plot_bgcolor\":\"#E5ECF6\",\"polar\":{\"angularaxis\":{\"gridcolor\":\"white\",\"linecolor\":\"white\",\"ticks\":\"\"},\"bgcolor\":\"#E5ECF6\",\"radialaxis\":{\"gridcolor\":\"white\",\"linecolor\":\"white\",\"ticks\":\"\"}},\"scene\":{\"xaxis\":{\"backgroundcolor\":\"#E5ECF6\",\"gridcolor\":\"white\",\"gridwidth\":2,\"linecolor\":\"white\",\"showbackground\":true,\"ticks\":\"\",\"zerolinecolor\":\"white\"},\"yaxis\":{\"backgroundcolor\":\"#E5ECF6\",\"gridcolor\":\"white\",\"gridwidth\":2,\"linecolor\":\"white\",\"showbackground\":true,\"ticks\":\"\",\"zerolinecolor\":\"white\"},\"zaxis\":{\"backgroundcolor\":\"#E5ECF6\",\"gridcolor\":\"white\",\"gridwidth\":2,\"linecolor\":\"white\",\"showbackground\":true,\"ticks\":\"\",\"zerolinecolor\":\"white\"}},\"shapedefaults\":{\"line\":{\"color\":\"#2a3f5f\"}},\"ternary\":{\"aaxis\":{\"gridcolor\":\"white\",\"linecolor\":\"white\",\"ticks\":\"\"},\"baxis\":{\"gridcolor\":\"white\",\"linecolor\":\"white\",\"ticks\":\"\"},\"bgcolor\":\"#E5ECF6\",\"caxis\":{\"gridcolor\":\"white\",\"linecolor\":\"white\",\"ticks\":\"\"}},\"title\":{\"x\":0.05},\"xaxis\":{\"automargin\":true,\"gridcolor\":\"white\",\"linecolor\":\"white\",\"ticks\":\"\",\"title\":{\"standoff\":15},\"zerolinecolor\":\"white\",\"zerolinewidth\":2},\"yaxis\":{\"automargin\":true,\"gridcolor\":\"white\",\"linecolor\":\"white\",\"ticks\":\"\",\"title\":{\"standoff\":15},\"zerolinecolor\":\"white\",\"zerolinewidth\":2}}},\"title\":{\"font\":{\"color\":\"#4D5663\"}},\"xaxis\":{\"anchor\":\"y\",\"domain\":[0.0,0.2125],\"gridcolor\":\"#E1E5ED\",\"showgrid\":false,\"tickfont\":{\"color\":\"#4D5663\"},\"title\":{\"font\":{\"color\":\"#4D5663\"},\"text\":\"\"},\"zerolinecolor\":\"#E1E5ED\"},\"yaxis\":{\"anchor\":\"x\",\"domain\":[0.8025,1.0],\"gridcolor\":\"#E1E5ED\",\"showgrid\":false,\"tickfont\":{\"color\":\"#4D5663\"},\"title\":{\"font\":{\"color\":\"#4D5663\"},\"text\":\"\"},\"zerolinecolor\":\"#E1E5ED\"},\"xaxis2\":{\"anchor\":\"y2\",\"domain\":[0.2625,0.475],\"gridcolor\":\"#E1E5ED\",\"showgrid\":false,\"tickfont\":{\"color\":\"#4D5663\"},\"title\":{\"font\":{\"color\":\"#4D5663\"},\"text\":\"\"},\"zerolinecolor\":\"#E1E5ED\"},\"yaxis2\":{\"anchor\":\"x2\",\"domain\":[0.8025,1.0],\"gridcolor\":\"#E1E5ED\",\"showgrid\":false,\"tickfont\":{\"color\":\"#4D5663\"},\"title\":{\"font\":{\"color\":\"#4D5663\"},\"text\":\"\"},\"zerolinecolor\":\"#E1E5ED\"},\"xaxis3\":{\"anchor\":\"y3\",\"domain\":[0.525,0.7375],\"gridcolor\":\"#E1E5ED\",\"showgrid\":false,\"tickfont\":{\"color\":\"#4D5663\"},\"title\":{\"font\":{\"color\":\"#4D5663\"},\"text\":\"\"},\"zerolinecolor\":\"#E1E5ED\"},\"yaxis3\":{\"anchor\":\"x3\",\"domain\":[0.8025,1.0],\"gridcolor\":\"#E1E5ED\",\"showgrid\":false,\"tickfont\":{\"color\":\"#4D5663\"},\"title\":{\"font\":{\"color\":\"#4D5663\"},\"text\":\"\"},\"zerolinecolor\":\"#E1E5ED\"},\"xaxis4\":{\"anchor\":\"y4\",\"domain\":[0.7875,1.0],\"gridcolor\":\"#E1E5ED\",\"showgrid\":false,\"tickfont\":{\"color\":\"#4D5663\"},\"title\":{\"font\":{\"color\":\"#4D5663\"},\"text\":\"\"},\"zerolinecolor\":\"#E1E5ED\"},\"yaxis4\":{\"anchor\":\"x4\",\"domain\":[0.8025,1.0],\"gridcolor\":\"#E1E5ED\",\"showgrid\":false,\"tickfont\":{\"color\":\"#4D5663\"},\"title\":{\"font\":{\"color\":\"#4D5663\"},\"text\":\"\"},\"zerolinecolor\":\"#E1E5ED\"},\"xaxis5\":{\"anchor\":\"y5\",\"domain\":[0.0,0.2125],\"gridcolor\":\"#E1E5ED\",\"showgrid\":false,\"tickfont\":{\"color\":\"#4D5663\"},\"title\":{\"font\":{\"color\":\"#4D5663\"},\"text\":\"\"},\"zerolinecolor\":\"#E1E5ED\"},\"yaxis5\":{\"anchor\":\"x5\",\"domain\":[0.535,0.7325],\"gridcolor\":\"#E1E5ED\",\"showgrid\":false,\"tickfont\":{\"color\":\"#4D5663\"},\"title\":{\"font\":{\"color\":\"#4D5663\"},\"text\":\"\"},\"zerolinecolor\":\"#E1E5ED\"},\"xaxis6\":{\"anchor\":\"y6\",\"domain\":[0.2625,0.475],\"gridcolor\":\"#E1E5ED\",\"showgrid\":false,\"tickfont\":{\"color\":\"#4D5663\"},\"title\":{\"font\":{\"color\":\"#4D5663\"},\"text\":\"\"},\"zerolinecolor\":\"#E1E5ED\"},\"yaxis6\":{\"anchor\":\"x6\",\"domain\":[0.535,0.7325],\"gridcolor\":\"#E1E5ED\",\"showgrid\":false,\"tickfont\":{\"color\":\"#4D5663\"},\"title\":{\"font\":{\"color\":\"#4D5663\"},\"text\":\"\"},\"zerolinecolor\":\"#E1E5ED\"},\"xaxis7\":{\"anchor\":\"y7\",\"domain\":[0.525,0.7375],\"gridcolor\":\"#E1E5ED\",\"showgrid\":false,\"tickfont\":{\"color\":\"#4D5663\"},\"title\":{\"font\":{\"color\":\"#4D5663\"},\"text\":\"\"},\"zerolinecolor\":\"#E1E5ED\"},\"yaxis7\":{\"anchor\":\"x7\",\"domain\":[0.535,0.7325],\"gridcolor\":\"#E1E5ED\",\"showgrid\":false,\"tickfont\":{\"color\":\"#4D5663\"},\"title\":{\"font\":{\"color\":\"#4D5663\"},\"text\":\"\"},\"zerolinecolor\":\"#E1E5ED\"},\"xaxis8\":{\"anchor\":\"y8\",\"domain\":[0.7875,1.0],\"gridcolor\":\"#E1E5ED\",\"showgrid\":false,\"tickfont\":{\"color\":\"#4D5663\"},\"title\":{\"font\":{\"color\":\"#4D5663\"},\"text\":\"\"},\"zerolinecolor\":\"#E1E5ED\"},\"yaxis8\":{\"anchor\":\"x8\",\"domain\":[0.535,0.7325],\"gridcolor\":\"#E1E5ED\",\"showgrid\":false,\"tickfont\":{\"color\":\"#4D5663\"},\"title\":{\"font\":{\"color\":\"#4D5663\"},\"text\":\"\"},\"zerolinecolor\":\"#E1E5ED\"},\"xaxis9\":{\"anchor\":\"y9\",\"domain\":[0.0,0.2125],\"gridcolor\":\"#E1E5ED\",\"showgrid\":false,\"tickfont\":{\"color\":\"#4D5663\"},\"title\":{\"font\":{\"color\":\"#4D5663\"},\"text\":\"\"},\"zerolinecolor\":\"#E1E5ED\"},\"yaxis9\":{\"anchor\":\"x9\",\"domain\":[0.2675,0.465],\"gridcolor\":\"#E1E5ED\",\"showgrid\":false,\"tickfont\":{\"color\":\"#4D5663\"},\"title\":{\"font\":{\"color\":\"#4D5663\"},\"text\":\"\"},\"zerolinecolor\":\"#E1E5ED\"},\"xaxis10\":{\"anchor\":\"y10\",\"domain\":[0.2625,0.475],\"gridcolor\":\"#E1E5ED\",\"showgrid\":false,\"tickfont\":{\"color\":\"#4D5663\"},\"title\":{\"font\":{\"color\":\"#4D5663\"},\"text\":\"\"},\"zerolinecolor\":\"#E1E5ED\"},\"yaxis10\":{\"anchor\":\"x10\",\"domain\":[0.2675,0.465],\"gridcolor\":\"#E1E5ED\",\"showgrid\":false,\"tickfont\":{\"color\":\"#4D5663\"},\"title\":{\"font\":{\"color\":\"#4D5663\"},\"text\":\"\"},\"zerolinecolor\":\"#E1E5ED\"},\"xaxis11\":{\"anchor\":\"y11\",\"domain\":[0.525,0.7375],\"gridcolor\":\"#E1E5ED\",\"showgrid\":false,\"tickfont\":{\"color\":\"#4D5663\"},\"title\":{\"font\":{\"color\":\"#4D5663\"},\"text\":\"\"},\"zerolinecolor\":\"#E1E5ED\"},\"yaxis11\":{\"anchor\":\"x11\",\"domain\":[0.2675,0.465],\"gridcolor\":\"#E1E5ED\",\"showgrid\":false,\"tickfont\":{\"color\":\"#4D5663\"},\"title\":{\"font\":{\"color\":\"#4D5663\"},\"text\":\"\"},\"zerolinecolor\":\"#E1E5ED\"},\"xaxis12\":{\"anchor\":\"y12\",\"domain\":[0.7875,1.0],\"gridcolor\":\"#E1E5ED\",\"showgrid\":false,\"tickfont\":{\"color\":\"#4D5663\"},\"title\":{\"font\":{\"color\":\"#4D5663\"},\"text\":\"\"},\"zerolinecolor\":\"#E1E5ED\"},\"yaxis12\":{\"anchor\":\"x12\",\"domain\":[0.2675,0.465],\"gridcolor\":\"#E1E5ED\",\"showgrid\":false,\"tickfont\":{\"color\":\"#4D5663\"},\"title\":{\"font\":{\"color\":\"#4D5663\"},\"text\":\"\"},\"zerolinecolor\":\"#E1E5ED\"},\"xaxis13\":{\"anchor\":\"y13\",\"domain\":[0.0,0.2125],\"gridcolor\":\"#E1E5ED\",\"showgrid\":false,\"tickfont\":{\"color\":\"#4D5663\"},\"title\":{\"font\":{\"color\":\"#4D5663\"},\"text\":\"\"},\"zerolinecolor\":\"#E1E5ED\"},\"yaxis13\":{\"anchor\":\"x13\",\"domain\":[0.0,0.1975],\"gridcolor\":\"#E1E5ED\",\"showgrid\":false,\"tickfont\":{\"color\":\"#4D5663\"},\"title\":{\"font\":{\"color\":\"#4D5663\"},\"text\":\"\"},\"zerolinecolor\":\"#E1E5ED\"},\"xaxis14\":{\"anchor\":\"y14\",\"domain\":[0.2625,0.475],\"gridcolor\":\"#E1E5ED\",\"showgrid\":false,\"tickfont\":{\"color\":\"#4D5663\"},\"title\":{\"font\":{\"color\":\"#4D5663\"},\"text\":\"\"},\"zerolinecolor\":\"#E1E5ED\"},\"yaxis14\":{\"anchor\":\"x14\",\"domain\":[0.0,0.1975],\"gridcolor\":\"#E1E5ED\",\"showgrid\":false,\"tickfont\":{\"color\":\"#4D5663\"},\"title\":{\"font\":{\"color\":\"#4D5663\"},\"text\":\"\"},\"zerolinecolor\":\"#E1E5ED\"},\"xaxis15\":{\"anchor\":\"y15\",\"domain\":[0.525,0.7375],\"gridcolor\":\"#E1E5ED\",\"showgrid\":false,\"tickfont\":{\"color\":\"#4D5663\"},\"title\":{\"font\":{\"color\":\"#4D5663\"},\"text\":\"\"},\"zerolinecolor\":\"#E1E5ED\"},\"yaxis15\":{\"anchor\":\"x15\",\"domain\":[0.0,0.1975],\"gridcolor\":\"#E1E5ED\",\"showgrid\":false,\"tickfont\":{\"color\":\"#4D5663\"},\"title\":{\"font\":{\"color\":\"#4D5663\"},\"text\":\"\"},\"zerolinecolor\":\"#E1E5ED\"},\"xaxis16\":{\"anchor\":\"y16\",\"domain\":[0.7875,1.0],\"gridcolor\":\"#E1E5ED\",\"showgrid\":false,\"tickfont\":{\"color\":\"#4D5663\"},\"title\":{\"font\":{\"color\":\"#4D5663\"},\"text\":\"\"},\"zerolinecolor\":\"#E1E5ED\"},\"yaxis16\":{\"anchor\":\"x16\",\"domain\":[0.0,0.1975],\"gridcolor\":\"#E1E5ED\",\"showgrid\":false,\"tickfont\":{\"color\":\"#4D5663\"},\"title\":{\"font\":{\"color\":\"#4D5663\"},\"text\":\"\"},\"zerolinecolor\":\"#E1E5ED\"}},                        {\"showLink\": true, \"linkText\": \"Export to plot.ly\", \"plotlyServerURL\": \"https://plot.ly\", \"responsive\": true}                    ).then(function(){\n",
       "                            \n",
       "var gd = document.getElementById('6e7b6b6b-37ca-4fe5-b4c7-ac96e4ef4dbe');\n",
       "var x = new MutationObserver(function (mutations, observer) {{\n",
       "        var display = window.getComputedStyle(gd).display;\n",
       "        if (!display || display === 'none') {{\n",
       "            console.log([gd, 'removed!']);\n",
       "            Plotly.purge(gd);\n",
       "            observer.disconnect();\n",
       "        }}\n",
       "}});\n",
       "\n",
       "// Listen for the removal of the full notebook cells\n",
       "var notebookContainer = gd.closest('#notebook-container');\n",
       "if (notebookContainer) {{\n",
       "    x.observe(notebookContainer, {childList: true});\n",
       "}}\n",
       "\n",
       "// Listen for the clearing of the current output cell\n",
       "var outputEl = gd.closest('.output');\n",
       "if (outputEl) {{\n",
       "    x.observe(outputEl, {childList: true});\n",
       "}}\n",
       "\n",
       "                        })                };                });            </script>        </div>"
      ]
     },
     "metadata": {},
     "output_type": "display_data"
    }
   ],
   "source": [
    "df.scatter_matrix()"
   ]
  },
  {
   "cell_type": "markdown",
   "metadata": {
    "collapsed": true
   },
   "source": [
    "# Great Job!"
   ]
  }
 ],
 "metadata": {
  "kernelspec": {
   "display_name": "Python 3 (ipykernel)",
   "language": "python",
   "name": "python3"
  },
  "language_info": {
   "codemirror_mode": {
    "name": "ipython",
    "version": 3
   },
   "file_extension": ".py",
   "mimetype": "text/x-python",
   "name": "python",
   "nbconvert_exporter": "python",
   "pygments_lexer": "ipython3",
   "version": "3.8.10"
  }
 },
 "nbformat": 4,
 "nbformat_minor": 1
}
