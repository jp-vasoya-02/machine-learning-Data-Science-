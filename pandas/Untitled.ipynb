{
 "cells": [
  {
   "cell_type": "code",
   "execution_count": 30,
   "id": "75bef794",
   "metadata": {},
   "outputs": [],
   "source": [
    "import pandas as pd\n",
    "import numpy as np"
   ]
  },
  {
   "cell_type": "code",
   "execution_count": 2,
   "id": "2c191189",
   "metadata": {},
   "outputs": [],
   "source": [
    "array=[[1,2,3,4,5,6],[\"one\",\"two\",\"three\",\"four\",\"five\",\"six\"]]"
   ]
  },
  {
   "cell_type": "code",
   "execution_count": 19,
   "id": "014d444d",
   "metadata": {},
   "outputs": [
    {
     "data": {
      "text/plain": [
       "[(1, 'one'), (2, 'two'), (3, 'three'), (4, 'four'), (5, 'five'), (6, 'six')]"
      ]
     },
     "execution_count": 19,
     "metadata": {},
     "output_type": "execute_result"
    }
   ],
   "source": [
    "tuples=list(zip(*array))\n",
    "tuples\n"
   ]
  },
  {
   "cell_type": "code",
   "execution_count": 26,
   "id": "e9e48f0b",
   "metadata": {},
   "outputs": [],
   "source": [
    "index=pd.MultiIndex.from_tuples(tuples,names=[\"num\",\"word\"])"
   ]
  },
  {
   "cell_type": "code",
   "execution_count": 28,
   "id": "d04fb871",
   "metadata": {},
   "outputs": [
    {
     "data": {
      "text/plain": [
       "MultiIndex([(1,   'one'),\n",
       "            (2,   'two'),\n",
       "            (3, 'three'),\n",
       "            (4,  'four'),\n",
       "            (5,  'five'),\n",
       "            (6,   'six')],\n",
       "           names=['num', 'word'])"
      ]
     },
     "execution_count": 28,
     "metadata": {},
     "output_type": "execute_result"
    }
   ],
   "source": [
    "index"
   ]
  },
  {
   "cell_type": "code",
   "execution_count": 35,
   "id": "18eb84ff",
   "metadata": {},
   "outputs": [
    {
     "data": {
      "text/plain": [
       "num  word \n",
       "1    one     -0.538134\n",
       "2    two      1.733760\n",
       "3    three    0.132774\n",
       "4    four    -1.313065\n",
       "5    five    -0.103992\n",
       "6    six      1.321427\n",
       "dtype: float64"
      ]
     },
     "execution_count": 35,
     "metadata": {},
     "output_type": "execute_result"
    }
   ],
   "source": [
    "s = pd.Series(np.random.randn(6), index=index)\n",
    "s"
   ]
  },
  {
   "cell_type": "code",
   "execution_count": null,
   "id": "3e14ee26",
   "metadata": {},
   "outputs": [],
   "source": []
  }
 ],
 "metadata": {
  "kernelspec": {
   "display_name": "Python 3 (ipykernel)",
   "language": "python",
   "name": "python3"
  },
  "language_info": {
   "codemirror_mode": {
    "name": "ipython",
    "version": 3
   },
   "file_extension": ".py",
   "mimetype": "text/x-python",
   "name": "python",
   "nbconvert_exporter": "python",
   "pygments_lexer": "ipython3",
   "version": "3.8.10"
  }
 },
 "nbformat": 4,
 "nbformat_minor": 5
}
